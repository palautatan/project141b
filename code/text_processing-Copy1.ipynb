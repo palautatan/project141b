{
 "cells": [
  {
   "cell_type": "markdown",
   "metadata": {},
   "source": [
    "<font color=\"navy\">\n",
    "\n",
    "1) explanation for where we got our data, why it's interesting, and what we plan on looking for {basic data import/cleaning}\n",
    "<br>\n",
    "2) explanation about patricks model for predicting petition success {models} - model result\n",
    "<br>\n",
    "3) basic rundown of words used in petitions, liberal/conservative etc. {barplots}\n",
    "<br>\n",
    "4) more in depth explanation of what we're trying to do in predicting political affiliation overall.\n",
    "<ul>\n",
    "<li>model 1 explanation {model} results</li>\n",
    "<li>model 2 explanation {model} resutls</li>\n",
    "<li>model 3 explanation {model} results</li>\n",
    "<li>model 4 explanation {model} results</li>\n",
    "</ul>\n",
    "<br>\n",
    "5) is seeing if political affiliation predicts petition success\n",
    "<br>\n",
    "6) is a conclusion explaining all the cool things we could theoretically do with these models as regards to trying to determain hidden political bias in the real world. for example, see if we can train the model on pro-russian english language propoganda websites\n",
    "\n",
    "\n",
    "## An Analysis of Political Bias and the Success of White House Petitions\n",
    "###### STA 141b Final Project, Winter 2015\n",
    "###### EDIE ESPEJO {} | GRAHAM SMITH {912355584} | PATRICK VACEK {}\n",
    "\n",
    "\n"
   ]
  },
  {
   "cell_type": "markdown",
   "metadata": {},
   "source": [
    "<font color='sienna'>\n",
    "\n",
    "It's unlikely to be a controversial sentiment to suggest that we live in an age of perpetual information overload. The days where most Americans would get their news from large, monolithic television networks and print outlets is long past. As of 2016, adults under the age of 50 get roughly half of their news from the internet - the single largest source being facebook<sup><a href=\"#fn1\">[1]</a></sup>. One would have believed that the democritization of information would cause people to regress towards some mean consesnus, which would in an ideal world resemble the truth.\n",
    "<br><br>\n",
    "Sadly, this has not been the case. The post-truth, 'alternative facts' ethos of our new Executive branch aside the American public has never been as divided as it is now. While not a perfect proxy, we can look at data involving political polarization and see that more than 60% of people find they have less in common with members of the opposite party after talking to them about politics, and 87% say that their opponents policies are actively dangerous<sup>[2]</sup>. These are not numbers you's see from people simply differeing with each other on values. These are numbers you'd expect to see from people who fundamentally disagreed on what reality they were all living in.\n",
    "<br><br>\n",
    "This being said, it is even more critical that everyone become both involved in the political process and active consumers of information - a word here which means to be aware of the source, thoroughness, and intent behind theinformation they're getting. To this end our group created a two part algorithm to represent both of these goals. The first part was the construction of a logistic regression model to predict whether or not a white house petition would hit the 100k threshold necessary for the president to be legally required to respond, based on the rate at which it recieves signatures. Second was to create a classifier for determaining the probability that a particular petition is 'Liberal' or 'Conservative' based on word choice. Finally we brought all three of these together in a generalized algorithm that looks at both signature rate over time and vocabulary to detrmain how likely it is that a petition will succeed.\n",
    "<br><br>\n",
    "We believe that it might be possible to generalize our algorithm and use it to, for example, track viral twitter tags and see how likely they are to read a critical mass of popularity. Or alternatively use the political leanings aspect to try and uncover unstated bias in news articles."
   ]
  },
  {
   "cell_type": "markdown",
   "metadata": {},
   "source": [
    "<font color='sienna'>\n",
    "## Part (1)\n",
    "<br>\n",
    "explanation about patricks model for predicting petition success {models} - model result "
   ]
  },
  {
   "cell_type": "code",
   "execution_count": 66,
   "metadata": {
    "collapsed": true
   },
   "outputs": [],
   "source": [
    "#PATRICKS CODE"
   ]
  },
  {
   "cell_type": "markdown",
   "metadata": {},
   "source": [
    "<font color='sienna'>\n",
    "## Part (2)\n",
    "<br>\n",
    "Our goal in this section is to determine how Liberal and Conservative petitions differ in their vocabularies, and then build a model classifying petitions based on those words. \n",
    "<br><br>\n",
    "First, we used basic text processing to examine which words are Conservative, and which are Liberal."
   ]
  },
  {
   "cell_type": "code",
   "execution_count": 1,
   "metadata": {
    "collapsed": true
   },
   "outputs": [],
   "source": [
    "# LIBRARIES\n",
    "# TEXT PROCESSING\n",
    "import nltk\n",
    "from nltk.corpus import stopwords\n",
    "import string\n",
    "import re\n",
    "from sklearn.feature_extraction.text import TfidfVectorizer\n",
    "\n",
    "# DATA SCIENCE\n",
    "import pandas as pd\n",
    "import numpy as np\n",
    "\n",
    "# VISUALIZATION\n",
    "from wordcloud import WordCloud\n",
    "from matplotlib import pyplot as plt\n",
    "%matplotlib inline\n",
    "plt.style.use(\"ggplot\")\n",
    "\n",
    "# ELSE\n",
    "from collections import Counter\n",
    "import os\n",
    "from sklearn.feature_extraction.text import CountVectorizer\n",
    "from sklearn.ensemble import RandomForestClassifier"
   ]
  },
  {
   "cell_type": "code",
   "execution_count": 4,
   "metadata": {
    "collapsed": true
   },
   "outputs": [],
   "source": [
    "os.chdir(\"C:\\Users\\Graham\\Documents\\STA 141B\")"
   ]
  },
  {
   "cell_type": "code",
   "execution_count": 5,
   "metadata": {
    "collapsed": false
   },
   "outputs": [],
   "source": [
    "# READ IN DATA\n",
    "petnlp = pd.DataFrame.from_csv(\"petnlp.csv\")"
   ]
  },
  {
   "cell_type": "markdown",
   "metadata": {},
   "source": [
    "<font color='sienna'>\n",
    "Clean up the body text, and tokenize it."
   ]
  },
  {
   "cell_type": "code",
   "execution_count": 9,
   "metadata": {
    "collapsed": false
   },
   "outputs": [],
   "source": [
    "# FUNCTION TO CLEAN UP BODY TEXT AND TOKENIZE\n",
    "def cleanUpText(text, additional_stopwords=[]):\n",
    "    # REMOVE MARK UP\n",
    "    new_text = text.replace(\"\\r\", \"\").replace(\"\\n\", \"\")\n",
    "    \n",
    "    # REMOVE URLS\n",
    "    new_text = re.sub(r\"\\w+:\\/{2}[\\d\\w-]+(\\.[\\d\\w-]+)*(?:(?:\\/[^\\s/]*))*\", \"\", new_text).strip()\n",
    "    \n",
    "    # REMOVE PUNCTUATION\n",
    "    new_text = new_text.translate(None, string.punctuation)\n",
    "    \n",
    "    # REMOVE NUMBERS\n",
    "    new_text = re.sub(r\"\\d+\", \"\", new_text)\n",
    "    \n",
    "    # LOWERCASE\n",
    "    new_text = new_text.lower()\n",
    "    \n",
    "    #SPLIT\n",
    "    new_text = new_text.split()\n",
    "    \n",
    "    # REMOVE STOPWORDS\n",
    "    stops = stopwords.words(\"english\") + additional_stopwords\n",
    "    \n",
    "    return [word for word in new_text if word not in stops]"
   ]
  },
  {
   "cell_type": "code",
   "execution_count": 10,
   "metadata": {
    "collapsed": false
   },
   "outputs": [
    {
     "name": "stderr",
     "output_type": "stream",
     "text": [
      "C:\\Users\\Graham\\Anaconda2\\lib\\site-packages\\ipykernel\\__main__.py:24: UnicodeWarning: Unicode equal comparison failed to convert both arguments to Unicode - interpreting them as being unequal\n"
     ]
    }
   ],
   "source": [
    "stopwords.words(\"english\")\n",
    "\n",
    "new_stops = \"President, president, people, without, needs, since, used, get, would, us, united, states, people, american, americans, national, government, petition, make, also, many, must, need, change, ask, use, every, trump, white, house, america, America, executive, Executive\"\n",
    "new_stops = new_stops.split(\", \")\n",
    "tokens = [cleanUpText(x) for x in petnlp[\"body\"]]"
   ]
  },
  {
   "cell_type": "markdown",
   "metadata": {},
   "source": [
    "<font color='sienna'>\n",
    "Clean up the titles."
   ]
  },
  {
   "cell_type": "code",
   "execution_count": 11,
   "metadata": {
    "collapsed": true
   },
   "outputs": [],
   "source": [
    "# FUNCTION TO CLEAN UP BODY TEXT\n",
    "def cleanUpTitle(text):\n",
    "    # REMOVE MARK UP\n",
    "    new_text = text.replace(\"\\r\", \"\").replace(\"\\n\", \"\")\n",
    "    \n",
    "    # REMOVE NUMBERS\n",
    "    new_text = re.sub(r\"\\d+\", \"\", new_text)\n",
    "    \n",
    "    # LOWERCASE\n",
    "    new_text = new_text.lower()\n",
    "    \n",
    "    return(new_text)"
   ]
  },
  {
   "cell_type": "code",
   "execution_count": 12,
   "metadata": {
    "collapsed": false
   },
   "outputs": [],
   "source": [
    "cleaned_titles = [cleanUpTitle(x) for x in petnlp[\"title\"]]\n",
    "cleaned_text = [unicode(\" \".join(x), errors=\"replace\") for x in tokens]\n",
    "cleaned_text = [x.encode(\"ascii\", \"replace\") for x in cleaned_text]"
   ]
  },
  {
   "cell_type": "markdown",
   "metadata": {},
   "source": [
    "<font color=\"sienna\">\n",
    "Create a data frame with out newly classified words."
   ]
  },
  {
   "cell_type": "code",
   "execution_count": 43,
   "metadata": {
    "collapsed": false
   },
   "outputs": [
    {
     "data": {
      "text/html": [
       "<div>\n",
       "<table border=\"1\" class=\"dataframe\">\n",
       "  <thead>\n",
       "    <tr style=\"text-align: right;\">\n",
       "      <th></th>\n",
       "      <th>Article Title</th>\n",
       "      <th>Cleaned Text</th>\n",
       "      <th>Ideology</th>\n",
       "    </tr>\n",
       "  </thead>\n",
       "  <tbody>\n",
       "    <tr>\n",
       "      <th>0</th>\n",
       "      <td>legalize marijuana and bring jobs to millions ...</td>\n",
       "      <td>effects every american way also keep americans...</td>\n",
       "      <td>Liberal</td>\n",
       "    </tr>\n",
       "    <tr>\n",
       "      <th>1</th>\n",
       "      <td>officially recognize the armenian genocide of</td>\n",
       "      <td>dying days ottoman empire cover world war youn...</td>\n",
       "      <td>Neutral</td>\n",
       "    </tr>\n",
       "    <tr>\n",
       "      <th>2</th>\n",
       "      <td>eliminate mille lacs lake treaty management</td>\n",
       "      <td>walleye political pawns mille lacs lakewhile n...</td>\n",
       "      <td>Neutral</td>\n",
       "    </tr>\n",
       "    <tr>\n",
       "      <th>3</th>\n",
       "      <td>take action to end the autism epidemic and imp...</td>\n",
       "      <td>cannot make america great many disabled autist...</td>\n",
       "      <td>Conservative</td>\n",
       "    </tr>\n",
       "    <tr>\n",
       "      <th>4</th>\n",
       "      <td>release kevin trudeau</td>\n",
       "      <td>locked us government years prison exercising c...</td>\n",
       "      <td>Neutral</td>\n",
       "    </tr>\n",
       "  </tbody>\n",
       "</table>\n",
       "</div>"
      ],
      "text/plain": [
       "                                       Article Title  \\\n",
       "0  legalize marijuana and bring jobs to millions ...   \n",
       "1     officially recognize the armenian genocide of    \n",
       "2        eliminate mille lacs lake treaty management   \n",
       "3  take action to end the autism epidemic and imp...   \n",
       "4                              release kevin trudeau   \n",
       "\n",
       "                                        Cleaned Text      Ideology  \n",
       "0  effects every american way also keep americans...       Liberal  \n",
       "1  dying days ottoman empire cover world war youn...       Neutral  \n",
       "2  walleye political pawns mille lacs lakewhile n...       Neutral  \n",
       "3  cannot make america great many disabled autist...  Conservative  \n",
       "4  locked us government years prison exercising c...       Neutral  "
      ]
     },
     "execution_count": 43,
     "metadata": {},
     "output_type": "execute_result"
    }
   ],
   "source": [
    "cleaned_text_df = pd.DataFrame({\"Article Title\":cleaned_titles, \"Cleaned Text\":cleaned_text, \"Ideology\":petnlp[\"ideology\"]})"
   ]
  },
  {
   "cell_type": "markdown",
   "metadata": {},
   "source": [
    "<font color=\"sienna\">\n",
    "Next we looked at the absolute frequency of words based on ideology. Noticably, we chose to ignore petitions with Neutral ideology as it drammatically increased the error rate of our model."
   ]
  },
  {
   "cell_type": "code",
   "execution_count": 18,
   "metadata": {
    "collapsed": false
   },
   "outputs": [],
   "source": [
    "liberal_text = \" \".join([x for x in cleaned_text_df[cleaned_text_df[\"Ideology\"] == \"Liberal\"][\"Cleaned Text\"]])\n",
    "liberal_counts = Counter(liberal_text.split())"
   ]
  },
  {
   "cell_type": "markdown",
   "metadata": {},
   "source": [
    "<font color='sienna'>\n",
    "Now, we do the same for conservatives."
   ]
  },
  {
   "cell_type": "code",
   "execution_count": 21,
   "metadata": {
    "collapsed": false
   },
   "outputs": [],
   "source": [
    "conservative_text = \" \".join([x for x in cleaned_text_df[cleaned_text_df[\"Ideology\"] == \"Conservative\"][\"Cleaned Text\"]])\n",
    "conservative_counts = Counter(conservative_text.split())"
   ]
  },
  {
   "cell_type": "markdown",
   "metadata": {},
   "source": [
    "<font color=\"sienna\">\n",
    "It's important to remove the common words to prevent significant overlap and undue noise. In addition to the standard ones included in the nltk package, we also added some of our own based on the data that we felt wouldn't lead to any productive analysis. "
   ]
  },
  {
   "cell_type": "code",
   "execution_count": 22,
   "metadata": {
    "collapsed": false
   },
   "outputs": [],
   "source": [
    "all_text = \" \".join([x for x in cleaned_text_df[\"Cleaned Text\"]])\n",
    "all_counts = Counter(all_text.split())\n",
    "# all_counts.most_common()[0:50]"
   ]
  },
  {
   "cell_type": "code",
   "execution_count": 24,
   "metadata": {
    "collapsed": true
   },
   "outputs": [],
   "source": [
    "#WE ADDED THE FOLLOWING STOPWORDS\n",
    "new_stops = '''\n",
    "            President, president, since, used, get, would,united, states, \n",
    "            people, national, government, petition, make, also, \n",
    "            many, use, every, trump, white, house, america, America,\n",
    "            executive, Executive\n",
    "            '''\n",
    "new_stops = new_stops.split(\", \")"
   ]
  },
  {
   "cell_type": "code",
   "execution_count": 25,
   "metadata": {
    "collapsed": true
   },
   "outputs": [],
   "source": [
    "def removeStopWords(text):\n",
    "    return [word for word in text.split() if word not in new_stops]"
   ]
  },
  {
   "cell_type": "code",
   "execution_count": 26,
   "metadata": {
    "collapsed": false
   },
   "outputs": [],
   "source": [
    "new_text = [\" \".join(removeStopWords(x)) for x in cleaned_text_df[\"Cleaned Text\"]]"
   ]
  },
  {
   "cell_type": "code",
   "execution_count": 55,
   "metadata": {
    "collapsed": false
   },
   "outputs": [
    {
     "data": {
      "text/html": [
       "<div>\n",
       "<table border=\"1\" class=\"dataframe\">\n",
       "  <thead>\n",
       "    <tr style=\"text-align: right;\">\n",
       "      <th></th>\n",
       "      <th>Article Title</th>\n",
       "      <th>Cleaned Text</th>\n",
       "      <th>Ideology</th>\n",
       "      <th>New Text</th>\n",
       "    </tr>\n",
       "  </thead>\n",
       "  <tbody>\n",
       "    <tr>\n",
       "      <th>0</th>\n",
       "      <td>legalize marijuana and bring jobs to millions ...</td>\n",
       "      <td>effects every american way also keep americans...</td>\n",
       "      <td>Liberal</td>\n",
       "      <td>effects american way keep americans funding te...</td>\n",
       "    </tr>\n",
       "    <tr>\n",
       "      <th>1</th>\n",
       "      <td>officially recognize the armenian genocide of</td>\n",
       "      <td>dying days ottoman empire cover world war youn...</td>\n",
       "      <td>Neutral</td>\n",
       "      <td>dying days ottoman empire cover world war youn...</td>\n",
       "    </tr>\n",
       "    <tr>\n",
       "      <th>2</th>\n",
       "      <td>eliminate mille lacs lake treaty management</td>\n",
       "      <td>walleye political pawns mille lacs lakewhile n...</td>\n",
       "      <td>Neutral</td>\n",
       "      <td>walleye political pawns mille lacs lakewhile n...</td>\n",
       "    </tr>\n",
       "    <tr>\n",
       "      <th>3</th>\n",
       "      <td>take action to end the autism epidemic and imp...</td>\n",
       "      <td>cannot make america great many disabled autist...</td>\n",
       "      <td>Conservative</td>\n",
       "      <td>cannot great many disabled autistic children m...</td>\n",
       "    </tr>\n",
       "    <tr>\n",
       "      <th>4</th>\n",
       "      <td>release kevin trudeau</td>\n",
       "      <td>locked us government years prison exercising c...</td>\n",
       "      <td>Neutral</td>\n",
       "      <td>locked us years prison exercising constitution...</td>\n",
       "    </tr>\n",
       "  </tbody>\n",
       "</table>\n",
       "</div>"
      ],
      "text/plain": [
       "                                       Article Title  \\\n",
       "0  legalize marijuana and bring jobs to millions ...   \n",
       "1     officially recognize the armenian genocide of    \n",
       "2        eliminate mille lacs lake treaty management   \n",
       "3  take action to end the autism epidemic and imp...   \n",
       "4                              release kevin trudeau   \n",
       "\n",
       "                                        Cleaned Text      Ideology  \\\n",
       "0  effects every american way also keep americans...       Liberal   \n",
       "1  dying days ottoman empire cover world war youn...       Neutral   \n",
       "2  walleye political pawns mille lacs lakewhile n...       Neutral   \n",
       "3  cannot make america great many disabled autist...  Conservative   \n",
       "4  locked us government years prison exercising c...       Neutral   \n",
       "\n",
       "                                            New Text  \n",
       "0  effects american way keep americans funding te...  \n",
       "1  dying days ottoman empire cover world war youn...  \n",
       "2  walleye political pawns mille lacs lakewhile n...  \n",
       "3  cannot great many disabled autistic children m...  \n",
       "4  locked us years prison exercising constitution...  "
      ]
     },
     "execution_count": 55,
     "metadata": {},
     "output_type": "execute_result"
    }
   ],
   "source": [
    "cleaned_text_df[\"New Text\"] = new_text\n",
    "cleaned_text_df.head()"
   ]
  },
  {
   "cell_type": "markdown",
   "metadata": {},
   "source": [
    "<font color='sienna'>\n",
    "Now we can make some simple histograms to see what the most common words are."
   ]
  },
  {
   "cell_type": "code",
   "execution_count": 30,
   "metadata": {
    "collapsed": false
   },
   "outputs": [
    {
     "data": {
      "image/png": "[encoded data removed]",
      "text/plain": [
       "<matplotlib.figure.Figure at 0xd34bb70>"
      ]
     },
     "metadata": {},
     "output_type": "display_data"
    }
   ],
   "source": [
    "# LIBERAL WORDS\n",
    "liberal_text2 = \" \".join([x for x in cleaned_text_df[cleaned_text_df[\"Ideology\"] == \"Liberal\"][\"New Text\"]])\n",
    "liberal_counts2 = Counter(liberal_text2.split())\n",
    "liberal_counts2.most_common()[0:20]\n",
    "\n",
    "df = pd.DataFrame.from_dict(liberal_counts2, orient='index').reset_index()\n",
    "df = df.sort_values(by=0, ascending=False)\n",
    "\n",
    "word = list(df.ix[:,0])[0:20]\n",
    "count = list(df.ix[:,1])[0:20]\n",
    "\n",
    "word_indices = np.arange(20) # ORDERED INDICES\n",
    "\n",
    "# PLOTTING\n",
    "plt.figure(figsize=(20,10))\n",
    "plt.bar(word_indices, count, color=\"royalblue\")\n",
    "plt.xticks(word_indices, word, rotation=70)\n",
    "plt.ylabel(\"Absolute Frequency\")\n",
    "plt.title(\"Absolute Frequency of Words in Liberal Petitions\")\n",
    "    \n",
    "plt.show()"
   ]
  },
  {
   "cell_type": "code",
   "execution_count": 32,
   "metadata": {
    "collapsed": false,
    "scrolled": true
   },
   "outputs": [
    {
     "data": {
      "image/png": "[encoded data removed]",
      "text/plain": [
       "<matplotlib.figure.Figure at 0xd95db00>"
      ]
     },
     "metadata": {},
     "output_type": "display_data"
    }
   ],
   "source": [
    "# CONSERVATIVE\n",
    "conservative_text2 = \" \".join([x for x in cleaned_text_df[cleaned_text_df[\"Ideology\"] == \"Conservative\"][\"New Text\"]])\n",
    "conservative_counts2 = Counter(conservative_text2.split())\n",
    "conservative_counts2.most_common()[0:20]\n",
    "\n",
    "df = pd.DataFrame.from_dict(conservative_counts2, orient='index').reset_index()\n",
    "df = df.sort_values(by=0, ascending=False)\n",
    "\n",
    "word = list(df.ix[:,0])[0:20]\n",
    "count = list(df.ix[:,1])[0:20]\n",
    "\n",
    "word_indices = np.arange(20) # ORDERED INDICES\n",
    "\n",
    "# PLOTTING\n",
    "plt.figure(figsize=(20,10))\n",
    "plt.bar(word_indices, count, color=\"darkred\")\n",
    "plt.xticks(word_indices, word, rotation=70)\n",
    "plt.ylabel(\"Absolute Frequency\")\n",
    "plt.title(\"Absolute Frequency of Words in Conservative Petitions\")\n",
    "    \n",
    "plt.show()"
   ]
  },
  {
   "cell_type": "markdown",
   "metadata": {},
   "source": [
    "<font color='sienna'>\n",
    "From a cursory examination of the data, there doesn't appear to be anything especially 'liberal' about the Liberal words or 'conservative' about the Conservative ones. With the exceptions a couple standouts ('guns' and 'climate', what's unusual is that most of these are fairly common words, and yet there is little overlap between opposite ends of the political spectrum. This lead us to think that there's likely a lot of value to be had in creating an ideology classifier, since there might be a lot of obvious signs a computer would catch that simply go over the head of humans. We used a Random Forest model to attempt that classification."
   ]
  },
  {
   "cell_type": "markdown",
   "metadata": {},
   "source": [
    "<font color='sienna'>\n",
    "#### Model 1: Random Forests\n",
    "<br>\n",
    "Our first model used a random forest, because it's a very general approach and they are straightforward to run and exmplain. We chose it over bagging because we assumed that many words are likely to consistently appear in the same order, and thus there's probably going to be a lot of correlation between predictors. A possible modification of this model might be to use boosting instead, if we planned on running it many times sequentially since that method uses fewer trees and thus might theoretically run faster (along with aiding in interpretability since the models will be smaller).\n",
    "#Source: https://www.youtube.com/watch?v=AJVP96tAWxw"
   ]
  },
  {
   "cell_type": "code",
   "execution_count": 57,
   "metadata": {
    "collapsed": false
   },
   "outputs": [],
   "source": [
    "import random\n",
    "# RANDOMLY SELECT 80% OF OUR DATA\n",
    "pseudo_rando_nums = random.sample(range(0, len(cleaned_text_df)), 210)\n",
    "train = pseudo_rando_nums"
   ]
  },
  {
   "cell_type": "code",
   "execution_count": 63,
   "metadata": {
    "collapsed": false
   },
   "outputs": [],
   "source": [
    "# VECTORIZE TRAINING DATA\n",
    "vectorizer = CountVectorizer(analyzer= \"word\",\n",
    "                            tokenizer = None,\n",
    "                            preprocessor = None,\n",
    "                            stop_words = None,\n",
    "                            max_features = 5000)\n",
    "train_data_features = vectorizer.fit_transform(cleaned_text_df[\"New Text\"][train])\n",
    "train_data_features = train_data_features.toarray()"
   ]
  },
  {
   "cell_type": "code",
   "execution_count": 59,
   "metadata": {
    "collapsed": false
   },
   "outputs": [],
   "source": [
    "# GENERATE OUR FOREST\n",
    "forest = RandomForestClassifier(n_estimators = 100)\n",
    "our_forest = forest.fit(train_data_features, cleaned_text_df[\"Ideology\"][train])"
   ]
  },
  {
   "cell_type": "code",
   "execution_count": 60,
   "metadata": {
    "collapsed": false
   },
   "outputs": [],
   "source": [
    "# GET INDICES OF TEST DATA\n",
    "test = set(range(len(cleaned_text_df))) - set(train)\n",
    "test = list(test)"
   ]
  },
  {
   "cell_type": "code",
   "execution_count": 61,
   "metadata": {
    "collapsed": false
   },
   "outputs": [],
   "source": [
    "# VECTORIZING TEST DATA\n",
    "test_data_features = vectorizer.transform(cleaned_text_df[\"New Text\"][test])\n",
    "test_data_features = test_data_features.toarray()"
   ]
  },
  {
   "cell_type": "code",
   "execution_count": 44,
   "metadata": {
    "collapsed": false
   },
   "outputs": [],
   "source": [
    "# PREDICT\n",
    "result = forest.predict(test_data_features)\n",
    "pred_df = pd.DataFrame({\"petition\":cleaned_text_df[\"Article Title\"][test], \"true_ideol\":cleaned_text_df[\"Ideology\"][test], \"pred_ideol\":result})\n",
    "pred_df = pred_df.reindex()\n",
    "pred_df[\"correct\"] = (pred_df[\"pred_ideol\"] == pred_df[\"true_ideol\"])"
   ]
  },
  {
   "cell_type": "code",
   "execution_count": 46,
   "metadata": {
    "collapsed": false
   },
   "outputs": [],
   "source": [
    "# GROUP INTO CONSERVATIVE, LIBERAL, NEUTRAL\n",
    "predicted_probs = forest.predict_proba(test_data_features)\n",
    "conservative = [predicted_probs[x][0] for x in range(len(predicted_probs))]\n",
    "liberal = [predicted_probs[x][1] for x in range(len(predicted_probs))]\n",
    "neutral = [predicted_probs[x][2] for x in range(len(predicted_probs))]"
   ]
  },
  {
   "cell_type": "code",
   "execution_count": 47,
   "metadata": {
    "collapsed": false,
    "scrolled": true
   },
   "outputs": [
    {
     "data": {
      "text/html": [
       "<div>\n",
       "<table border=\"1\" class=\"dataframe\">\n",
       "  <thead>\n",
       "    <tr style=\"text-align: right;\">\n",
       "      <th></th>\n",
       "      <th>petition</th>\n",
       "      <th>pred_ideol</th>\n",
       "      <th>true_ideol</th>\n",
       "      <th>correct</th>\n",
       "      <th>conservative</th>\n",
       "      <th>liberal</th>\n",
       "      <th>neutral</th>\n",
       "    </tr>\n",
       "  </thead>\n",
       "  <tbody>\n",
       "    <tr>\n",
       "      <th>129</th>\n",
       "      <td>donald trump's anti-immigration executive order.</td>\n",
       "      <td>Liberal</td>\n",
       "      <td>Liberal</td>\n",
       "      <td>True</td>\n",
       "      <td>0.00</td>\n",
       "      <td>0.01</td>\n",
       "      <td>0.99</td>\n",
       "    </tr>\n",
       "    <tr>\n",
       "      <th>259</th>\n",
       "      <td>repeal the nfa</td>\n",
       "      <td>Liberal</td>\n",
       "      <td>Conservative</td>\n",
       "      <td>False</td>\n",
       "      <td>0.00</td>\n",
       "      <td>0.26</td>\n",
       "      <td>0.73</td>\n",
       "    </tr>\n",
       "    <tr>\n",
       "      <th>4</th>\n",
       "      <td>release kevin trudeau</td>\n",
       "      <td>Liberal</td>\n",
       "      <td>Neutral</td>\n",
       "      <td>False</td>\n",
       "      <td>0.00</td>\n",
       "      <td>0.39</td>\n",
       "      <td>0.41</td>\n",
       "    </tr>\n",
       "    <tr>\n",
       "      <th>7</th>\n",
       "      <td>take action to improve screening for mental il...</td>\n",
       "      <td>Liberal</td>\n",
       "      <td>Liberal</td>\n",
       "      <td>True</td>\n",
       "      <td>0.00</td>\n",
       "      <td>0.14</td>\n",
       "      <td>0.71</td>\n",
       "    </tr>\n",
       "    <tr>\n",
       "      <th>137</th>\n",
       "      <td>repeal the executive order that bans refugees ...</td>\n",
       "      <td>Liberal</td>\n",
       "      <td>Liberal</td>\n",
       "      <td>True</td>\n",
       "      <td>0.00</td>\n",
       "      <td>0.19</td>\n",
       "      <td>0.79</td>\n",
       "    </tr>\n",
       "    <tr>\n",
       "      <th>139</th>\n",
       "      <td>remove the immigration ban</td>\n",
       "      <td>Liberal</td>\n",
       "      <td>Liberal</td>\n",
       "      <td>True</td>\n",
       "      <td>0.00</td>\n",
       "      <td>0.11</td>\n",
       "      <td>0.86</td>\n",
       "    </tr>\n",
       "    <tr>\n",
       "      <th>140</th>\n",
       "      <td>immediately rescind january  executive order s...</td>\n",
       "      <td>Liberal</td>\n",
       "      <td>Liberal</td>\n",
       "      <td>True</td>\n",
       "      <td>0.01</td>\n",
       "      <td>0.12</td>\n",
       "      <td>0.84</td>\n",
       "    </tr>\n",
       "    <tr>\n",
       "      <th>15</th>\n",
       "      <td>need a statement from president trump, on the ...</td>\n",
       "      <td>Liberal</td>\n",
       "      <td>Liberal</td>\n",
       "      <td>True</td>\n",
       "      <td>0.00</td>\n",
       "      <td>0.22</td>\n",
       "      <td>0.73</td>\n",
       "    </tr>\n",
       "    <tr>\n",
       "      <th>16</th>\n",
       "      <td>brand the incident in olathe-kansas, where  pe...</td>\n",
       "      <td>Conservative</td>\n",
       "      <td>Liberal</td>\n",
       "      <td>False</td>\n",
       "      <td>0.00</td>\n",
       "      <td>0.58</td>\n",
       "      <td>0.33</td>\n",
       "    </tr>\n",
       "    <tr>\n",
       "      <th>19</th>\n",
       "      <td>pastor raymond koh was abducted on // in kuala...</td>\n",
       "      <td>Liberal</td>\n",
       "      <td>Neutral</td>\n",
       "      <td>False</td>\n",
       "      <td>0.00</td>\n",
       "      <td>0.31</td>\n",
       "      <td>0.55</td>\n",
       "    </tr>\n",
       "    <tr>\n",
       "      <th>151</th>\n",
       "      <td>we the people ask president trump to proclaim ...</td>\n",
       "      <td>Liberal</td>\n",
       "      <td>Conservative</td>\n",
       "      <td>False</td>\n",
       "      <td>0.00</td>\n",
       "      <td>0.37</td>\n",
       "      <td>0.45</td>\n",
       "    </tr>\n",
       "    <tr>\n",
       "      <th>152</th>\n",
       "      <td>truth in government</td>\n",
       "      <td>Liberal</td>\n",
       "      <td>Liberal</td>\n",
       "      <td>True</td>\n",
       "      <td>0.01</td>\n",
       "      <td>0.12</td>\n",
       "      <td>0.79</td>\n",
       "    </tr>\n",
       "    <tr>\n",
       "      <th>27</th>\n",
       "      <td>level the playing field, and return standard b...</td>\n",
       "      <td>Liberal</td>\n",
       "      <td>Liberal</td>\n",
       "      <td>True</td>\n",
       "      <td>0.00</td>\n",
       "      <td>0.12</td>\n",
       "      <td>0.83</td>\n",
       "    </tr>\n",
       "    <tr>\n",
       "      <th>29</th>\n",
       "      <td>fight for transgender rights</td>\n",
       "      <td>Liberal</td>\n",
       "      <td>Liberal</td>\n",
       "      <td>True</td>\n",
       "      <td>0.00</td>\n",
       "      <td>0.17</td>\n",
       "      <td>0.81</td>\n",
       "    </tr>\n",
       "    <tr>\n",
       "      <th>33</th>\n",
       "      <td>move the us embassy in israel from tel aviv to...</td>\n",
       "      <td>Liberal</td>\n",
       "      <td>Conservative</td>\n",
       "      <td>False</td>\n",
       "      <td>0.00</td>\n",
       "      <td>0.10</td>\n",
       "      <td>0.85</td>\n",
       "    </tr>\n",
       "    <tr>\n",
       "      <th>155</th>\n",
       "      <td>bring niki mossafer rahmati, a current mit stu...</td>\n",
       "      <td>Liberal</td>\n",
       "      <td>Liberal</td>\n",
       "      <td>True</td>\n",
       "      <td>0.00</td>\n",
       "      <td>0.16</td>\n",
       "      <td>0.73</td>\n",
       "    </tr>\n",
       "    <tr>\n",
       "      <th>164</th>\n",
       "      <td>we the people want to see constitutional carry...</td>\n",
       "      <td>Liberal</td>\n",
       "      <td>Conservative</td>\n",
       "      <td>False</td>\n",
       "      <td>0.00</td>\n",
       "      <td>0.27</td>\n",
       "      <td>0.68</td>\n",
       "    </tr>\n",
       "    <tr>\n",
       "      <th>169</th>\n",
       "      <td>remove steve bannon from the people's white house</td>\n",
       "      <td>Liberal</td>\n",
       "      <td>Liberal</td>\n",
       "      <td>True</td>\n",
       "      <td>0.00</td>\n",
       "      <td>0.05</td>\n",
       "      <td>0.95</td>\n",
       "    </tr>\n",
       "    <tr>\n",
       "      <th>170</th>\n",
       "      <td>repeal the gag bans on the epa, fda, usda, nas...</td>\n",
       "      <td>Liberal</td>\n",
       "      <td>Liberal</td>\n",
       "      <td>True</td>\n",
       "      <td>0.00</td>\n",
       "      <td>0.21</td>\n",
       "      <td>0.70</td>\n",
       "    </tr>\n",
       "    <tr>\n",
       "      <th>171</th>\n",
       "      <td>fulfill you campaign promise to repeal daca (d...</td>\n",
       "      <td>Liberal</td>\n",
       "      <td>Conservative</td>\n",
       "      <td>False</td>\n",
       "      <td>0.00</td>\n",
       "      <td>0.13</td>\n",
       "      <td>0.77</td>\n",
       "    </tr>\n",
       "    <tr>\n",
       "      <th>45</th>\n",
       "      <td>reinstate the spanish links on whitehouse.gov</td>\n",
       "      <td>Liberal</td>\n",
       "      <td>Liberal</td>\n",
       "      <td>True</td>\n",
       "      <td>0.01</td>\n",
       "      <td>0.11</td>\n",
       "      <td>0.84</td>\n",
       "    </tr>\n",
       "    <tr>\n",
       "      <th>46</th>\n",
       "      <td>we call for a  joint select committee to inves...</td>\n",
       "      <td>Liberal</td>\n",
       "      <td>Liberal</td>\n",
       "      <td>True</td>\n",
       "      <td>0.00</td>\n",
       "      <td>0.25</td>\n",
       "      <td>0.67</td>\n",
       "    </tr>\n",
       "    <tr>\n",
       "      <th>175</th>\n",
       "      <td>stop the dakota access pipeline</td>\n",
       "      <td>Liberal</td>\n",
       "      <td>Liberal</td>\n",
       "      <td>True</td>\n",
       "      <td>0.00</td>\n",
       "      <td>0.14</td>\n",
       "      <td>0.84</td>\n",
       "    </tr>\n",
       "    <tr>\n",
       "      <th>50</th>\n",
       "      <td>road traffic enforcement has been carried out ...</td>\n",
       "      <td>Liberal</td>\n",
       "      <td>Liberal</td>\n",
       "      <td>True</td>\n",
       "      <td>0.11</td>\n",
       "      <td>0.28</td>\n",
       "      <td>0.55</td>\n",
       "    </tr>\n",
       "    <tr>\n",
       "      <th>236</th>\n",
       "      <td>a proposal to continue funding the national en...</td>\n",
       "      <td>Liberal</td>\n",
       "      <td>Liberal</td>\n",
       "      <td>True</td>\n",
       "      <td>0.00</td>\n",
       "      <td>0.29</td>\n",
       "      <td>0.52</td>\n",
       "    </tr>\n",
       "    <tr>\n",
       "      <th>56</th>\n",
       "      <td>congress needs to act on congressman alcee has...</td>\n",
       "      <td>Liberal</td>\n",
       "      <td>Neutral</td>\n",
       "      <td>False</td>\n",
       "      <td>0.01</td>\n",
       "      <td>0.32</td>\n",
       "      <td>0.48</td>\n",
       "    </tr>\n",
       "    <tr>\n",
       "      <th>58</th>\n",
       "      <td>impeach: the president violates the title of n...</td>\n",
       "      <td>Liberal</td>\n",
       "      <td>Liberal</td>\n",
       "      <td>True</td>\n",
       "      <td>0.00</td>\n",
       "      <td>0.08</td>\n",
       "      <td>0.89</td>\n",
       "    </tr>\n",
       "    <tr>\n",
       "      <th>67</th>\n",
       "      <td>to recognize puerto ricoxs sovereign nationhoo...</td>\n",
       "      <td>Liberal</td>\n",
       "      <td>Neutral</td>\n",
       "      <td>False</td>\n",
       "      <td>0.01</td>\n",
       "      <td>0.28</td>\n",
       "      <td>0.61</td>\n",
       "    </tr>\n",
       "    <tr>\n",
       "      <th>68</th>\n",
       "      <td>repeal the russian arms importation ban (execu...</td>\n",
       "      <td>Liberal</td>\n",
       "      <td>Conservative</td>\n",
       "      <td>False</td>\n",
       "      <td>0.00</td>\n",
       "      <td>0.09</td>\n",
       "      <td>0.91</td>\n",
       "    </tr>\n",
       "    <tr>\n",
       "      <th>70</th>\n",
       "      <td>repeal the unconstitutional  \"assault rifle\" b...</td>\n",
       "      <td>Conservative</td>\n",
       "      <td>Conservative</td>\n",
       "      <td>True</td>\n",
       "      <td>0.00</td>\n",
       "      <td>0.53</td>\n",
       "      <td>0.36</td>\n",
       "    </tr>\n",
       "    <tr>\n",
       "      <th>74</th>\n",
       "      <td>kellyanne conway should be fired and replaced ...</td>\n",
       "      <td>Liberal</td>\n",
       "      <td>Liberal</td>\n",
       "      <td>True</td>\n",
       "      <td>0.00</td>\n",
       "      <td>0.21</td>\n",
       "      <td>0.76</td>\n",
       "    </tr>\n",
       "    <tr>\n",
       "      <th>77</th>\n",
       "      <td>end civil asset forfeiture - a form of state s...</td>\n",
       "      <td>Liberal</td>\n",
       "      <td>Neutral</td>\n",
       "      <td>False</td>\n",
       "      <td>0.00</td>\n",
       "      <td>0.39</td>\n",
       "      <td>0.50</td>\n",
       "    </tr>\n",
       "    <tr>\n",
       "      <th>207</th>\n",
       "      <td>maintain the stay to reroute the dakota access...</td>\n",
       "      <td>Liberal</td>\n",
       "      <td>Liberal</td>\n",
       "      <td>True</td>\n",
       "      <td>0.00</td>\n",
       "      <td>0.12</td>\n",
       "      <td>0.82</td>\n",
       "    </tr>\n",
       "    <tr>\n",
       "      <th>208</th>\n",
       "      <td>free raven</td>\n",
       "      <td>Liberal</td>\n",
       "      <td>Neutral</td>\n",
       "      <td>False</td>\n",
       "      <td>0.00</td>\n",
       "      <td>0.31</td>\n",
       "      <td>0.61</td>\n",
       "    </tr>\n",
       "    <tr>\n",
       "      <th>184</th>\n",
       "      <td>stop the keystone xl and dakota access oil pip...</td>\n",
       "      <td>Liberal</td>\n",
       "      <td>Liberal</td>\n",
       "      <td>True</td>\n",
       "      <td>0.00</td>\n",
       "      <td>0.05</td>\n",
       "      <td>0.88</td>\n",
       "    </tr>\n",
       "    <tr>\n",
       "      <th>82</th>\n",
       "      <td>diaoyutai  islands have belonged to china, not...</td>\n",
       "      <td>Conservative</td>\n",
       "      <td>Neutral</td>\n",
       "      <td>False</td>\n",
       "      <td>0.00</td>\n",
       "      <td>0.40</td>\n",
       "      <td>0.40</td>\n",
       "    </tr>\n",
       "    <tr>\n",
       "      <th>84</th>\n",
       "      <td>annual titer tests required in lieu of re-vacc...</td>\n",
       "      <td>Liberal</td>\n",
       "      <td>Neutral</td>\n",
       "      <td>False</td>\n",
       "      <td>0.01</td>\n",
       "      <td>0.19</td>\n",
       "      <td>0.62</td>\n",
       "    </tr>\n",
       "    <tr>\n",
       "      <th>147</th>\n",
       "      <td>immediately rescind the executive order on imm...</td>\n",
       "      <td>Liberal</td>\n",
       "      <td>Liberal</td>\n",
       "      <td>True</td>\n",
       "      <td>0.00</td>\n",
       "      <td>0.26</td>\n",
       "      <td>0.57</td>\n",
       "    </tr>\n",
       "    <tr>\n",
       "      <th>215</th>\n",
       "      <td>charge singer madonna with a class e felony un...</td>\n",
       "      <td>Liberal</td>\n",
       "      <td>Conservative</td>\n",
       "      <td>False</td>\n",
       "      <td>0.02</td>\n",
       "      <td>0.18</td>\n",
       "      <td>0.72</td>\n",
       "    </tr>\n",
       "    <tr>\n",
       "      <th>218</th>\n",
       "      <td>donald trump: rescind the global gag rule</td>\n",
       "      <td>Liberal</td>\n",
       "      <td>Liberal</td>\n",
       "      <td>True</td>\n",
       "      <td>0.00</td>\n",
       "      <td>0.29</td>\n",
       "      <td>0.54</td>\n",
       "    </tr>\n",
       "    <tr>\n",
       "      <th>91</th>\n",
       "      <td>our kids are not for sale - cancel all adoptio...</td>\n",
       "      <td>Liberal</td>\n",
       "      <td>Neutral</td>\n",
       "      <td>False</td>\n",
       "      <td>0.00</td>\n",
       "      <td>0.30</td>\n",
       "      <td>0.60</td>\n",
       "    </tr>\n",
       "    <tr>\n",
       "      <th>186</th>\n",
       "      <td>make the u.s. the world's leader in combating ...</td>\n",
       "      <td>Liberal</td>\n",
       "      <td>Liberal</td>\n",
       "      <td>True</td>\n",
       "      <td>0.00</td>\n",
       "      <td>0.18</td>\n",
       "      <td>0.71</td>\n",
       "    </tr>\n",
       "    <tr>\n",
       "      <th>94</th>\n",
       "      <td>create a civilian national readiness force</td>\n",
       "      <td>Liberal</td>\n",
       "      <td>Conservative</td>\n",
       "      <td>False</td>\n",
       "      <td>0.00</td>\n",
       "      <td>0.19</td>\n",
       "      <td>0.73</td>\n",
       "    </tr>\n",
       "    <tr>\n",
       "      <th>95</th>\n",
       "      <td>protect medical freedom &amp;amp; remove vaccines ...</td>\n",
       "      <td>Liberal</td>\n",
       "      <td>Conservative</td>\n",
       "      <td>False</td>\n",
       "      <td>0.00</td>\n",
       "      <td>0.35</td>\n",
       "      <td>0.38</td>\n",
       "    </tr>\n",
       "    <tr>\n",
       "      <th>195</th>\n",
       "      <td>deschedule marijuana</td>\n",
       "      <td>Liberal</td>\n",
       "      <td>Liberal</td>\n",
       "      <td>True</td>\n",
       "      <td>0.00</td>\n",
       "      <td>0.31</td>\n",
       "      <td>0.47</td>\n",
       "    </tr>\n",
       "    <tr>\n",
       "      <th>232</th>\n",
       "      <td>immediately investigate the pedophile code lan...</td>\n",
       "      <td>Liberal</td>\n",
       "      <td>Conservative</td>\n",
       "      <td>False</td>\n",
       "      <td>0.02</td>\n",
       "      <td>0.26</td>\n",
       "      <td>0.62</td>\n",
       "    </tr>\n",
       "    <tr>\n",
       "      <th>108</th>\n",
       "      <td>allow -month-old fatemah to travel to the u.s....</td>\n",
       "      <td>Liberal</td>\n",
       "      <td>Liberal</td>\n",
       "      <td>True</td>\n",
       "      <td>0.00</td>\n",
       "      <td>0.20</td>\n",
       "      <td>0.62</td>\n",
       "    </tr>\n",
       "    <tr>\n",
       "      <th>240</th>\n",
       "      <td>preserve the national endowment for the arts a...</td>\n",
       "      <td>Liberal</td>\n",
       "      <td>Liberal</td>\n",
       "      <td>True</td>\n",
       "      <td>0.00</td>\n",
       "      <td>0.33</td>\n",
       "      <td>0.59</td>\n",
       "    </tr>\n",
       "    <tr>\n",
       "      <th>241</th>\n",
       "      <td>reinstate lt. col. terry lakin into the u.s. a...</td>\n",
       "      <td>Liberal</td>\n",
       "      <td>Conservative</td>\n",
       "      <td>False</td>\n",
       "      <td>0.00</td>\n",
       "      <td>0.20</td>\n",
       "      <td>0.64</td>\n",
       "    </tr>\n",
       "    <tr>\n",
       "      <th>221</th>\n",
       "      <td>establish an office of men's health at the u.s...</td>\n",
       "      <td>Liberal</td>\n",
       "      <td>Conservative</td>\n",
       "      <td>False</td>\n",
       "      <td>0.00</td>\n",
       "      <td>0.28</td>\n",
       "      <td>0.46</td>\n",
       "    </tr>\n",
       "    <tr>\n",
       "      <th>115</th>\n",
       "      <td>fire steve bannon</td>\n",
       "      <td>Liberal</td>\n",
       "      <td>Liberal</td>\n",
       "      <td>True</td>\n",
       "      <td>0.00</td>\n",
       "      <td>0.06</td>\n",
       "      <td>0.90</td>\n",
       "    </tr>\n",
       "    <tr>\n",
       "      <th>245</th>\n",
       "      <td>restore education as a constitutional right &amp;a...</td>\n",
       "      <td>Liberal</td>\n",
       "      <td>Liberal</td>\n",
       "      <td>True</td>\n",
       "      <td>0.00</td>\n",
       "      <td>0.32</td>\n",
       "      <td>0.63</td>\n",
       "    </tr>\n",
       "    <tr>\n",
       "      <th>124</th>\n",
       "      <td>put donald trump on mount rushmore</td>\n",
       "      <td>Liberal</td>\n",
       "      <td>Conservative</td>\n",
       "      <td>False</td>\n",
       "      <td>0.00</td>\n",
       "      <td>0.05</td>\n",
       "      <td>0.92</td>\n",
       "    </tr>\n",
       "    <tr>\n",
       "      <th>213</th>\n",
       "      <td>commit to following the paris agreement</td>\n",
       "      <td>Liberal</td>\n",
       "      <td>Liberal</td>\n",
       "      <td>True</td>\n",
       "      <td>0.00</td>\n",
       "      <td>0.03</td>\n",
       "      <td>0.80</td>\n",
       "    </tr>\n",
       "  </tbody>\n",
       "</table>\n",
       "</div>"
      ],
      "text/plain": [
       "                                              petition    pred_ideol  \\\n",
       "129   donald trump's anti-immigration executive order.       Liberal   \n",
       "259                                     repeal the nfa       Liberal   \n",
       "4                                release kevin trudeau       Liberal   \n",
       "7    take action to improve screening for mental il...       Liberal   \n",
       "137  repeal the executive order that bans refugees ...       Liberal   \n",
       "139                         remove the immigration ban       Liberal   \n",
       "140  immediately rescind january  executive order s...       Liberal   \n",
       "15   need a statement from president trump, on the ...       Liberal   \n",
       "16   brand the incident in olathe-kansas, where  pe...  Conservative   \n",
       "19   pastor raymond koh was abducted on // in kuala...       Liberal   \n",
       "151  we the people ask president trump to proclaim ...       Liberal   \n",
       "152                                truth in government       Liberal   \n",
       "27   level the playing field, and return standard b...       Liberal   \n",
       "29                        fight for transgender rights       Liberal   \n",
       "33   move the us embassy in israel from tel aviv to...       Liberal   \n",
       "155  bring niki mossafer rahmati, a current mit stu...       Liberal   \n",
       "164  we the people want to see constitutional carry...       Liberal   \n",
       "169  remove steve bannon from the people's white house       Liberal   \n",
       "170  repeal the gag bans on the epa, fda, usda, nas...       Liberal   \n",
       "171  fulfill you campaign promise to repeal daca (d...       Liberal   \n",
       "45       reinstate the spanish links on whitehouse.gov       Liberal   \n",
       "46   we call for a  joint select committee to inves...       Liberal   \n",
       "175                    stop the dakota access pipeline       Liberal   \n",
       "50   road traffic enforcement has been carried out ...       Liberal   \n",
       "236  a proposal to continue funding the national en...       Liberal   \n",
       "56   congress needs to act on congressman alcee has...       Liberal   \n",
       "58   impeach: the president violates the title of n...       Liberal   \n",
       "67   to recognize puerto ricoxs sovereign nationhoo...       Liberal   \n",
       "68   repeal the russian arms importation ban (execu...       Liberal   \n",
       "70   repeal the unconstitutional  \"assault rifle\" b...  Conservative   \n",
       "74   kellyanne conway should be fired and replaced ...       Liberal   \n",
       "77   end civil asset forfeiture - a form of state s...       Liberal   \n",
       "207  maintain the stay to reroute the dakota access...       Liberal   \n",
       "208                                        free raven        Liberal   \n",
       "184  stop the keystone xl and dakota access oil pip...       Liberal   \n",
       "82   diaoyutai  islands have belonged to china, not...  Conservative   \n",
       "84   annual titer tests required in lieu of re-vacc...       Liberal   \n",
       "147  immediately rescind the executive order on imm...       Liberal   \n",
       "215  charge singer madonna with a class e felony un...       Liberal   \n",
       "218          donald trump: rescind the global gag rule       Liberal   \n",
       "91   our kids are not for sale - cancel all adoptio...       Liberal   \n",
       "186  make the u.s. the world's leader in combating ...       Liberal   \n",
       "94          create a civilian national readiness force       Liberal   \n",
       "95   protect medical freedom &amp; remove vaccines ...       Liberal   \n",
       "195                               deschedule marijuana       Liberal   \n",
       "232  immediately investigate the pedophile code lan...       Liberal   \n",
       "108  allow -month-old fatemah to travel to the u.s....       Liberal   \n",
       "240  preserve the national endowment for the arts a...       Liberal   \n",
       "241  reinstate lt. col. terry lakin into the u.s. a...       Liberal   \n",
       "221  establish an office of men's health at the u.s...       Liberal   \n",
       "115                                  fire steve bannon       Liberal   \n",
       "245  restore education as a constitutional right &a...       Liberal   \n",
       "124                 put donald trump on mount rushmore       Liberal   \n",
       "213            commit to following the paris agreement       Liberal   \n",
       "\n",
       "       true_ideol correct  conservative  liberal  neutral  \n",
       "129       Liberal    True          0.00     0.01     0.99  \n",
       "259  Conservative   False          0.00     0.26     0.73  \n",
       "4         Neutral   False          0.00     0.39     0.41  \n",
       "7         Liberal    True          0.00     0.14     0.71  \n",
       "137       Liberal    True          0.00     0.19     0.79  \n",
       "139       Liberal    True          0.00     0.11     0.86  \n",
       "140       Liberal    True          0.01     0.12     0.84  \n",
       "15        Liberal    True          0.00     0.22     0.73  \n",
       "16        Liberal   False          0.00     0.58     0.33  \n",
       "19        Neutral   False          0.00     0.31     0.55  \n",
       "151  Conservative   False          0.00     0.37     0.45  \n",
       "152       Liberal    True          0.01     0.12     0.79  \n",
       "27        Liberal    True          0.00     0.12     0.83  \n",
       "29        Liberal    True          0.00     0.17     0.81  \n",
       "33   Conservative   False          0.00     0.10     0.85  \n",
       "155       Liberal    True          0.00     0.16     0.73  \n",
       "164  Conservative   False          0.00     0.27     0.68  \n",
       "169       Liberal    True          0.00     0.05     0.95  \n",
       "170       Liberal    True          0.00     0.21     0.70  \n",
       "171  Conservative   False          0.00     0.13     0.77  \n",
       "45        Liberal    True          0.01     0.11     0.84  \n",
       "46        Liberal    True          0.00     0.25     0.67  \n",
       "175       Liberal    True          0.00     0.14     0.84  \n",
       "50        Liberal    True          0.11     0.28     0.55  \n",
       "236       Liberal    True          0.00     0.29     0.52  \n",
       "56        Neutral   False          0.01     0.32     0.48  \n",
       "58        Liberal    True          0.00     0.08     0.89  \n",
       "67        Neutral   False          0.01     0.28     0.61  \n",
       "68   Conservative   False          0.00     0.09     0.91  \n",
       "70   Conservative    True          0.00     0.53     0.36  \n",
       "74        Liberal    True          0.00     0.21     0.76  \n",
       "77        Neutral   False          0.00     0.39     0.50  \n",
       "207       Liberal    True          0.00     0.12     0.82  \n",
       "208       Neutral   False          0.00     0.31     0.61  \n",
       "184       Liberal    True          0.00     0.05     0.88  \n",
       "82        Neutral   False          0.00     0.40     0.40  \n",
       "84        Neutral   False          0.01     0.19     0.62  \n",
       "147       Liberal    True          0.00     0.26     0.57  \n",
       "215  Conservative   False          0.02     0.18     0.72  \n",
       "218       Liberal    True          0.00     0.29     0.54  \n",
       "91        Neutral   False          0.00     0.30     0.60  \n",
       "186       Liberal    True          0.00     0.18     0.71  \n",
       "94   Conservative   False          0.00     0.19     0.73  \n",
       "95   Conservative   False          0.00     0.35     0.38  \n",
       "195       Liberal    True          0.00     0.31     0.47  \n",
       "232  Conservative   False          0.02     0.26     0.62  \n",
       "108       Liberal    True          0.00     0.20     0.62  \n",
       "240       Liberal    True          0.00     0.33     0.59  \n",
       "241  Conservative   False          0.00     0.20     0.64  \n",
       "221  Conservative   False          0.00     0.28     0.46  \n",
       "115       Liberal    True          0.00     0.06     0.90  \n",
       "245       Liberal    True          0.00     0.32     0.63  \n",
       "124  Conservative   False          0.00     0.05     0.92  \n",
       "213       Liberal    True          0.00     0.03     0.80  "
      ]
     },
     "execution_count": 47,
     "metadata": {},
     "output_type": "execute_result"
    }
   ],
   "source": [
    "# CREATE A DATA FRAME\n",
    "pred_df[\"conservative\"] = conservative\n",
    "pred_df[\"liberal\"] = liberal\n",
    "pred_df[\"neutral\"] = neutral\n",
    "pred_df"
   ]
  },
  {
   "cell_type": "markdown",
   "metadata": {},
   "source": [
    "<font color='sienna'>\n",
    "You can see the error rate of our model below:"
   ]
  },
  {
   "cell_type": "code",
   "execution_count": 48,
   "metadata": {
    "collapsed": false
   },
   "outputs": [
    {
     "data": {
      "text/plain": [
       "0.42592592592592593"
      ]
     },
     "execution_count": 48,
     "metadata": {},
     "output_type": "execute_result"
    }
   ],
   "source": [
    "# ERROR RATE\n",
    "len(pred_df[pred_df[\"correct\"]==False])*(len(pred_df)**(-1))"
   ]
  },
  {
   "cell_type": "markdown",
   "metadata": {
    "collapsed": false
   },
   "source": [
    "<font color='sienna'>\n",
    "An error rate of 37.74% is actually fairly low, considering that we haven't done any work on the model other than simply building the forest. It is also a strong indicator that we are on the right track with our approach and that it might be very possible to have figure out whether somebody is liberal or conservative based soley on vocabulary."
   ]
  },
  {
   "cell_type": "markdown",
   "metadata": {},
   "source": [
    "<font color='sienna'>\n",
    "#### Model 2: Markov Chains\n",
    "<br>\n",
    "FUCK MARKOV CHAINS"
   ]
  },
  {
   "cell_type": "code",
   "execution_count": 67,
   "metadata": {
    "collapsed": false
   },
   "outputs": [
    {
     "ename": "ValueError",
     "evalue": "shapes (1,6) and (210,4125) not aligned: 6 (dim 1) != 210 (dim 0)",
     "output_type": "error",
     "traceback": [
      "\u001b[0;31m---------------------------------------------------------------------------\u001b[0m",
      "\u001b[0;31mValueError\u001b[0m                                Traceback (most recent call last)",
      "\u001b[0;32m<ipython-input-67-c5217e72e0bc>\u001b[0m in \u001b[0;36m<module>\u001b[0;34m()\u001b[0m\n\u001b[1;32m      4\u001b[0m \u001b[0mplot_data\u001b[0m \u001b[1;33m=\u001b[0m \u001b[1;33m[\u001b[0m\u001b[1;33m]\u001b[0m\u001b[1;33m\u001b[0m\u001b[0m\n\u001b[1;32m      5\u001b[0m \u001b[1;32mfor\u001b[0m \u001b[0mstep\u001b[0m \u001b[1;32min\u001b[0m \u001b[0mrange\u001b[0m\u001b[1;33m(\u001b[0m\u001b[1;36m20\u001b[0m\u001b[1;33m)\u001b[0m\u001b[1;33m:\u001b[0m\u001b[1;33m\u001b[0m\u001b[0m\n\u001b[0;32m----> 6\u001b[0;31m     \u001b[0mresult\u001b[0m \u001b[1;33m=\u001b[0m \u001b[0mv\u001b[0m \u001b[1;33m*\u001b[0m \u001b[0mP\u001b[0m\u001b[1;33m**\u001b[0m\u001b[0mstep\u001b[0m\u001b[1;33m\u001b[0m\u001b[0m\n\u001b[0m\u001b[1;32m      7\u001b[0m     \u001b[0mplot_data\u001b[0m\u001b[1;33m.\u001b[0m\u001b[0mappend\u001b[0m\u001b[1;33m(\u001b[0m\u001b[0mnp\u001b[0m\u001b[1;33m.\u001b[0m\u001b[0marray\u001b[0m\u001b[1;33m(\u001b[0m\u001b[0mresult\u001b[0m\u001b[1;33m)\u001b[0m\u001b[1;33m.\u001b[0m\u001b[0mflatten\u001b[0m\u001b[1;33m(\u001b[0m\u001b[1;33m)\u001b[0m\u001b[1;33m)\u001b[0m\u001b[1;33m\u001b[0m\u001b[0m\n\u001b[1;32m      8\u001b[0m \u001b[1;33m\u001b[0m\u001b[0m\n",
      "\u001b[0;32mC:\\Users\\Graham\\Anaconda2\\lib\\site-packages\\numpy\\matrixlib\\defmatrix.pyc\u001b[0m in \u001b[0;36m__mul__\u001b[0;34m(self, other)\u001b[0m\n\u001b[1;32m    341\u001b[0m         \u001b[1;32mif\u001b[0m \u001b[0misinstance\u001b[0m\u001b[1;33m(\u001b[0m\u001b[0mother\u001b[0m\u001b[1;33m,\u001b[0m \u001b[1;33m(\u001b[0m\u001b[0mN\u001b[0m\u001b[1;33m.\u001b[0m\u001b[0mndarray\u001b[0m\u001b[1;33m,\u001b[0m \u001b[0mlist\u001b[0m\u001b[1;33m,\u001b[0m \u001b[0mtuple\u001b[0m\u001b[1;33m)\u001b[0m\u001b[1;33m)\u001b[0m \u001b[1;33m:\u001b[0m\u001b[1;33m\u001b[0m\u001b[0m\n\u001b[1;32m    342\u001b[0m             \u001b[1;31m# This promotes 1-D vectors to row vectors\u001b[0m\u001b[1;33m\u001b[0m\u001b[1;33m\u001b[0m\u001b[0m\n\u001b[0;32m--> 343\u001b[0;31m             \u001b[1;32mreturn\u001b[0m \u001b[0mN\u001b[0m\u001b[1;33m.\u001b[0m\u001b[0mdot\u001b[0m\u001b[1;33m(\u001b[0m\u001b[0mself\u001b[0m\u001b[1;33m,\u001b[0m \u001b[0masmatrix\u001b[0m\u001b[1;33m(\u001b[0m\u001b[0mother\u001b[0m\u001b[1;33m)\u001b[0m\u001b[1;33m)\u001b[0m\u001b[1;33m\u001b[0m\u001b[0m\n\u001b[0m\u001b[1;32m    344\u001b[0m         \u001b[1;32mif\u001b[0m \u001b[0misscalar\u001b[0m\u001b[1;33m(\u001b[0m\u001b[0mother\u001b[0m\u001b[1;33m)\u001b[0m \u001b[1;32mor\u001b[0m \u001b[1;32mnot\u001b[0m \u001b[0mhasattr\u001b[0m\u001b[1;33m(\u001b[0m\u001b[0mother\u001b[0m\u001b[1;33m,\u001b[0m \u001b[1;34m'__rmul__'\u001b[0m\u001b[1;33m)\u001b[0m \u001b[1;33m:\u001b[0m\u001b[1;33m\u001b[0m\u001b[0m\n\u001b[1;32m    345\u001b[0m             \u001b[1;32mreturn\u001b[0m \u001b[0mN\u001b[0m\u001b[1;33m.\u001b[0m\u001b[0mdot\u001b[0m\u001b[1;33m(\u001b[0m\u001b[0mself\u001b[0m\u001b[1;33m,\u001b[0m \u001b[0mother\u001b[0m\u001b[1;33m)\u001b[0m\u001b[1;33m\u001b[0m\u001b[0m\n",
      "\u001b[0;31mValueError\u001b[0m: shapes (1,6) and (210,4125) not aligned: 6 (dim 1) != 210 (dim 0)"
     ]
    }
   ],
   "source": [
    "v = np.matrix([[0, 0, 1, 0, 0, 0]])\n",
    "\n",
    "# Get the data\n",
    "plot_data = []\n",
    "for step in range(20):\n",
    "    result = v * P**step\n",
    "    plot_data.append(np.array(result).flatten())\n",
    "\n",
    "# Convert the data format\n",
    "plot_data = np.array(plot_data)\n",
    "\n",
    "# Create the plot\n",
    "pyplot.figure(1)\n",
    "pyplot.xlabel('Steps')\n",
    "pyplot.ylabel('Probability')\n",
    "lines = []\n",
    "for i, shape in zip(range(6), ['x', 'h', 'H', 's', '8', 'r+']):\n",
    "    line, = pyplot.plot(plot_data[:, i], shape, label=\"S%i\" % (i+1))\n",
    "    lines.append(line)\n",
    "pyplot.legend(handles=lines, loc=1)\n",
    "pyplot.show()"
   ]
  },
  {
   "cell_type": "markdown",
   "metadata": {},
   "source": [
    "<font color=\"navy\">\n",
    "## (7) Bored, so Trying Some Random Stuff\n",
    "Pulling some stuff off the web."
   ]
  },
  {
   "cell_type": "code",
   "execution_count": 48,
   "metadata": {
    "collapsed": true
   },
   "outputs": [],
   "source": [
    "trump = '''\n",
    "We will not fail. Our country will thrive and prosper again.\n",
    "We stand at the birth of a new millennium, ready to unlock the mysteries of space, to free the Earth from the miseries of disease, and to harness the energies, industries and technologies of tomorrow.\n",
    "A new national pride will stir our souls, lift our sights, and heal our divisions.\n",
    "It is time to remember that old wisdom our soldiers will never forget: that whether we are black or brown or white, we all bleed the same red blood of patriots, we all enjoy the same glorious freedoms, and we all salute the same great American Flag.\n",
    "And whether a child is born in the urban sprawl of Detroit or the windswept plains of Nebraska, they look up at the same night sky, they fill their heart with the same dreams, and they are infused with the breath of life by the same almighty Creator.\n",
    "So to all Americans, in every city near and far, small and large, from mountain to mountain, and from ocean to ocean, hear these words:\n",
    "You will never be ignored again.\n",
    "Your voice, your hopes, and your dreams will define our American destiny. And your courage and goodness and love will forever guide us along the way.\n",
    "Together, We will make America strong again.\n",
    "We will make wealthy again.\n",
    "We will make America proud again.\n",
    "We will make America safe again.\n",
    "And yes, together, we will make America great again. Thank you. God bless you. And God bless America.'''\n",
    "\n",
    "hitler = '''\n",
    "Democratic ideals are a big topic of discussion right now; not in Germany, but other parts of the world talk about them. We in Germany have learned our lesson with democratic ideals; if the rest of the world praises these ideals, we can only answer that the German people had the chance to live within the purest form of this ideal, and we ourselves are now reaping the legacy left by this democracy. We then get a lecture on the wonderful goals of war, especially from the British side. Great Britain has much experience in proclaiming goals of war, considering they have waged more wars than anyone else. The goals they proclaim today are fantastic: the creation of a new Europe. This Europe will be a just place, and the general equality will make arms unnecessary, so we can all disarm. This disarmament is supposed to kick start a period of economic blossoming, trade and movement should commence, especially trade, much trade, free trade! And from this trade, culture is supposed to bloom, and not just culture, but religion, too. In one phrase: the golden age is supposed to dawn. Unfortunately, this golden age has been described in a very similar fashion on several occasions, and not even by prior generations, but by the same people that are describing it yet again today. It's like a very worn-out groove on an old LP. We should pity these gentlemen, who haven't found a new, big idea to hook the people on, because they promised the same things in 1918: the goal of war then was also a \"new Europe\" and a \"new equality\", this new equality whose main element is abolishing a nation's right to self-determination. At that time, an equality that would make arms unnecessary in the future was promised. Thence issued the program of disarmament of everyone. And to make this disarmament especially manifest, it was supposed to be crowned by a union of all disarmed states, which had decided that, in the future, all differences (at least no one doubted there would still be differences) between them should be, well, as it is the custom among democracies, be talked to pieces in open discussions. Under no circumstances should there be any more shooting. And at that time it was already said that the consequences of this disarmament and this worldwide parliament would be an incredible blossoming, a blooming of industry and especially (and much emphasis is always put on this) of trade, of free trade. Culture, as well, should not be disregarded in this process, and while one spoke a little bit less about religion at the end of the war than at the beginning, we at least were told, in the year 1918, that it would be a blessed era that God would smile upon.\n",
    "'''\n",
    "\n",
    "matloff = '''\n",
    "Let me offer three obvious (to me, at least) facts:\n",
    "\n",
    "No one, even the most extreme Republicans, wants to see people dying in the streets. The federal government does have a role, indeed a responsibility. It’s too big for the states, and even if the feds give them block grants, some states, say in the South, would adopt draconian policies.\n",
    "Many people, especially the stereotypical Trump supporters, live paycheck to paycheck. Tax breaks, health savings accounts and the like are useless to this large group of people. It’s an insult to offer them such things, a let-them-eat-cake solution.\n",
    "Obamacare was a bold step that filled a void that desperately needed to be filled. But it was built on various assumptions that apparently were shaky. It is not sustainable in its current form. Already some insurers have withdrawn from certain markets.\n",
    "The Republicans now are making their own shaky assumptions, e.g. that a 30% penalty, for those who forego insurance but then suddenly need it, is the right “price” for not doing their part to support the system. Really? Why shouldn’t it be 5% or 50%, say? No one knows.\n",
    "'''\n",
    "\n",
    "\n",
    "nyt = '''\n",
    "But a senior White House official said that Donald F. McGahn II, the president’s chief counsel, was working to secure access to what Mr. McGahn believed to be an order issued by the Foreign Intelligence Surveillance Court authorizing some form of surveillance related to Mr. Trump and his associates.\n",
    "\n",
    "The official offered no evidence to support the notion that such an order exists. It would be a highly unusual breach of the Justice Department’s traditional independence on law enforcement matters for the White House to order it to turn over such an investigative document.\n",
    "\n",
    "Any request for information from a top White House official about a continuing investigation would be a stunning departure from protocols intended to insulate the F.B.I. from political pressure. It would be even more surprising for the White House to seek information about a case directly involving the president or his advisers, as does the case involving the Russia contacts.\n",
    "'''\n",
    "\n",
    "robert_reich = '''\n",
    "Trump and his White House don’t argue on the merits. They attack the credibility of the institutions that come up with facts and arguments they don’t like. \n",
    "\n",
    "They even do it preemptively. Last week, White House press secretary Sean Spicer warned that the nonpartisan Congressional Budget Office couldn’t be trusted to come up with accurate numbers about the costs and coverage of the Republican’s replacement for the Affordable Care Act.\n",
    "\n",
    "“If you’re looking at the CBO for accuracy, you’re looking in the wrong place,” he said.\n",
    "\n",
    "So what’s the right place? The Oval Office? \n",
    "\n",
    "Bear in mind the director of the CBO is a Republican economist and former George W. Bush administration official who was chosen for his position by the Republican Congress in 2015. \n",
    "\n",
    "No matter. The White House is worried about what the CBO will say about Trumpcare, so it throws the CBO under the bus before the bus arrives. \n",
    "\n",
    "Trump couldn’t care less about the long-term consequences, but the rest of us should. For more than four decades the U.S. budget process has depended on the CBO’s analyses and forecasts. The office has gained a reputation for honesty and reliability under both Republican and Democratic appointees. Now, it’s tainted. \n",
    "'''\n",
    "nate_silver = '''\n",
    "This is not to say the election was a toss-up in mid-October, which was one of the high-water marks of the campaign for Clinton. But while a Trump win was unlikely, it should hardly have been unthinkable.1 And yet the Times, famous for its “to be sure” equivocations,2 wasn’t even contemplating the possibility of a Trump victory.3\n",
    "It’s hard to reread this coverage without recalling Sean Trende’s essay on “unthinkability bias,” which he wrote in the wake of the Brexit vote. Just as was the case in the U.S. presidential election, voting on the referendum had split strongly along class, education and regional lines, with voters outside of London and without advanced degrees being much more likely to vote to leave the EU. The reporters covering the Brexit campaign, on the other hand, were disproportionately well-educated and principally based in London. They tended to read ambiguous signs — anything from polls to the musings of taxi drivers — as portending a Remain win, and many of them never really processed the idea that Britain could vote to leave the EU until it actually happened.\n",
    "\n",
    "So did journalists in Washington and London make the apocryphal Pauline Kael mistake, refusing to believe that Trump or Brexit could win because nobody they knew was voting for them? That’s not quite what Trende was arguing. Instead, it’s that political experts4 aren’t a very diverse group and tend to place a lot of faith in the opinions of other experts and other members of the political establishment. Once a consensus view is established, it tends to reinforce itself until and unless there’s very compelling evidence for the contrary position. Social media, especially Twitter, can amplify the groupthink further. It can be an echo chamber.\n",
    "\n",
    "I recently reread James Surowiecki’s book “The Wisdom of Crowds” which, despite its name, spends as much time contemplating the shortcomings of such wisdom as it does celebrating its successes. Surowiecki argues5 that crowds usually make good predictions when they satisfy these four conditions:\n",
    "\n",
    "Diversity of opinion. “Each person should have private information, even if it’s just an eccentric interpretation of the known facts.”\n",
    "Independence. “People’s opinions are not determined by the opinions of those around them.”\n",
    "Decentralization. “People are able to specialize and draw on local knowledge.”\n",
    "Aggregation. “Some mechanism exists for turning private judgments into a collective decision.”\n",
    "Political journalism scores highly on the fourth condition, aggregation. While Surowiecki usually has something like a financial or betting market in mind when he refers to “aggregation,” the broader idea is that there’s some way for individuals to exchange their opinions instead of keeping them to themselves. And my gosh, do political journalists have a lot of ways to share their opinions with one another, whether through their columns, at major events such as the political conventions or, especially, through Twitter.\n",
    "\n",
    "But those other three conditions? Political journalism fails miserably along those dimensions.\n",
    "'''\n",
    "abe_lincoln = '''Fourscore and seven years ago our fathers brought forth on this continent, a new nation, conceived in Liberty, and dedicated to the proposition that all men are created equal.\n",
    "\n",
    "Now we are engaged in a great civil war, testing whether that nation, or any nation so conceived and so dedicated, can long endure. We are met on a great battle-field of that war. We have come to dedicate a portion of that field, as a final resting place for those who here gave their lives that that nation might live. It is altogether fitting and proper that we should do this.\n",
    "\n",
    "But, in a larger sense, we can not dedicate-we can not consecrate-we can not hallow-this ground. The brave men, living and dead, who struggled here, have consecrated it, far above our poor power to add or detract. The world will little note, nor long remember what we say here, but it can never forget what they did here. It is for us the living, rather, to be dedicated here to the unfinished work which they who fought here have thus far so nobly advanced. It is rather for us to be here dedicated to the great task remaining before us-that from these honored dead we take increased devotion to that cause for which they gave the last full measure of devotion-that we here highly resolve that these dead shall not have died in vain-that this nation, under God, shall have a new birth of freedom-and that government of the people, by the people, for the people shall not perish from the earth.'''"
   ]
  },
  {
   "cell_type": "code",
   "execution_count": 49,
   "metadata": {
    "collapsed": true
   },
   "outputs": [],
   "source": [
    "kuhn = '''\n",
    "👏🏽👏🏽👏🏽HEY👏🏽👏🏽👏🏽\n",
    "i hate pleading but please, we have got to stop paying attention to the federal and states' governments' latest outrage--they're going to keep coming, that's the point, to keep us stunned and unable to react--and pay attention to what we can do for the people in our neighborhood because it is getting very bad, very fast. we must start making connections with our neighbors and coworkers, pooling and allocating shared resources among our community to protect the vulnerable, and start forcing accountability from bottom-level local government, because *those* are the things that are going to determine what kind of year 2018 is.\n",
    "\n",
    "living past 33 is probably the wrong choice overall\n",
    "\n",
    "one thing you could do if you are concerned about the imminent death of the US poverty relief effort is to call or get in contact with those offices in your area and volunteer while you can, and then continue voluteering after the programs have been exsanguinated; take up collections in your community to fund them, and enlist active help when possible. also, get in contact with local churches, as they'll be the only organized effort at mitigating starvation and homelesness in short order.\n",
    "\n",
    "It's time to admit that our government has entirely abandoned us. We have to care for each other now, if we care at all, which means first and foremost sharing what we have with those who don't have anything. Pursue this goal actively. Talk to your neighbors, especially those that don't live under rooves.\n",
    "'''"
   ]
  },
  {
   "cell_type": "code",
   "execution_count": 50,
   "metadata": {
    "collapsed": false
   },
   "outputs": [
    {
     "name": "stderr",
     "output_type": "stream",
     "text": [
      "C:\\Users\\Graham\\Anaconda2\\lib\\site-packages\\ipykernel\\__main__.py:24: UnicodeWarning: Unicode equal comparison failed to convert both arguments to Unicode - interpreting them as being unequal\n"
     ]
    }
   ],
   "source": [
    "new_text = [trump, hitler, matloff, nyt, robert_reich, nate_silver, abe_lincoln, kuhn]\n",
    "new_text_tokens = [cleanUpText(str(x), new_stops) for x in new_text]"
   ]
  },
  {
   "cell_type": "code",
   "execution_count": 51,
   "metadata": {
    "collapsed": false
   },
   "outputs": [],
   "source": [
    "new_text_blobs = [\" \".join(x) for x in new_text_tokens]"
   ]
  },
  {
   "cell_type": "code",
   "execution_count": 52,
   "metadata": {
    "collapsed": false
   },
   "outputs": [],
   "source": [
    "# new_text_blobs"
   ]
  },
  {
   "cell_type": "code",
   "execution_count": 53,
   "metadata": {
    "collapsed": false
   },
   "outputs": [
    {
     "data": {
      "text/plain": [
       "array([[0, 0, 0, ..., 0, 0, 0],\n",
       "       [0, 0, 0, ..., 0, 0, 0],\n",
       "       [0, 0, 0, ..., 0, 0, 0],\n",
       "       ..., \n",
       "       [0, 0, 0, ..., 0, 0, 0],\n",
       "       [0, 0, 0, ..., 0, 0, 0],\n",
       "       [0, 0, 0, ..., 0, 0, 0]], dtype=int64)"
      ]
     },
     "execution_count": 53,
     "metadata": {},
     "output_type": "execute_result"
    }
   ],
   "source": [
    "# VECTORIZING NEW TEXT DATA\n",
    "new_text__data_features = vectorizer.transform(new_text_blobs)\n",
    "new_text__data_features = new_text__data_features.toarray()\n",
    "new_text__data_features"
   ]
  },
  {
   "cell_type": "code",
   "execution_count": 54,
   "metadata": {
    "collapsed": true
   },
   "outputs": [],
   "source": [
    "# PREDICT NEW TEXT DATA\n",
    "new_text_result = forest.predict(new_text__data_features)"
   ]
  },
  {
   "cell_type": "code",
   "execution_count": 55,
   "metadata": {
    "collapsed": false
   },
   "outputs": [
    {
     "data": {
      "text/plain": [
       "array(['Conservative', 'Conservative', 'Liberal', 'Liberal', 'Liberal',\n",
       "       'Liberal', 'Liberal', 'Liberal'], dtype=object)"
      ]
     },
     "execution_count": 55,
     "metadata": {},
     "output_type": "execute_result"
    }
   ],
   "source": [
    "new_text_result"
   ]
  },
  {
   "cell_type": "code",
   "execution_count": 56,
   "metadata": {
    "collapsed": false
   },
   "outputs": [
    {
     "data": {
      "text/plain": [
       "array([[ 0.47,  0.33,  0.2 ],\n",
       "       [ 0.38,  0.35,  0.27],\n",
       "       [ 0.37,  0.53,  0.1 ],\n",
       "       [ 0.27,  0.53,  0.2 ],\n",
       "       [ 0.28,  0.54,  0.18],\n",
       "       [ 0.34,  0.4 ,  0.26],\n",
       "       [ 0.33,  0.44,  0.23],\n",
       "       [ 0.28,  0.42,  0.3 ]])"
      ]
     },
     "execution_count": 56,
     "metadata": {},
     "output_type": "execute_result"
    }
   ],
   "source": [
    "new_text_predicted_probs = forest.predict_proba(new_text__data_features)\n",
    "new_text_predicted_probs"
   ]
  },
  {
   "cell_type": "markdown",
   "metadata": {},
   "source": [
    "<font color=\"navy\">\n",
    "## (8) Visualization\n",
    "Let's make a ranking.\n",
    "<br><br>\n",
    "+1 is very Blue\n",
    "<br>\n",
    "0 is Neutral\n",
    "<br>\n",
    "-1 is very Red\n",
    "<br>\n",
    "<br>\n",
    "Perhaps we can only use the first two columns and use that as a score."
   ]
  },
  {
   "cell_type": "code",
   "execution_count": 57,
   "metadata": {
    "collapsed": false
   },
   "outputs": [],
   "source": [
    "red = np.array([new_text_predicted_probs[x][0] for x in range(len(new_text_predicted_probs))])\n",
    "blue = np.array([new_text_predicted_probs[x][1] for x in range(len(new_text_predicted_probs))])"
   ]
  },
  {
   "cell_type": "code",
   "execution_count": 58,
   "metadata": {
    "collapsed": false
   },
   "outputs": [
    {
     "data": {
      "text/plain": [
       "array([-0.14, -0.03,  0.16,  0.26,  0.26,  0.06,  0.11,  0.14])"
      ]
     },
     "execution_count": 58,
     "metadata": {},
     "output_type": "execute_result"
    }
   ],
   "source": [
    "# new_text_ppl = [\"trump\", \"hitler\", \"matloff\", \"michaels_nyt\", \"reich\", \"silver\", \"lincoln\"]\n",
    "new_text_ppl = [\"trump\", \"hitler\", \"matloff\", \"michaels_nyt\", \"reich\", \"silver\", \"lincoln\", \"kuhn\"]\n",
    "blue-red"
   ]
  },
  {
   "cell_type": "code",
   "execution_count": 59,
   "metadata": {
    "collapsed": false
   },
   "outputs": [
    {
     "data": {
      "text/html": [
       "<div>\n",
       "<table border=\"1\" class=\"dataframe\">\n",
       "  <thead>\n",
       "    <tr style=\"text-align: right;\">\n",
       "      <th></th>\n",
       "      <th>person</th>\n",
       "      <th>score</th>\n",
       "    </tr>\n",
       "  </thead>\n",
       "  <tbody>\n",
       "    <tr>\n",
       "      <th>0</th>\n",
       "      <td>trump</td>\n",
       "      <td>-0.14</td>\n",
       "    </tr>\n",
       "    <tr>\n",
       "      <th>1</th>\n",
       "      <td>hitler</td>\n",
       "      <td>-0.03</td>\n",
       "    </tr>\n",
       "    <tr>\n",
       "      <th>2</th>\n",
       "      <td>matloff</td>\n",
       "      <td>0.16</td>\n",
       "    </tr>\n",
       "    <tr>\n",
       "      <th>3</th>\n",
       "      <td>michaels_nyt</td>\n",
       "      <td>0.26</td>\n",
       "    </tr>\n",
       "    <tr>\n",
       "      <th>4</th>\n",
       "      <td>reich</td>\n",
       "      <td>0.26</td>\n",
       "    </tr>\n",
       "    <tr>\n",
       "      <th>5</th>\n",
       "      <td>silver</td>\n",
       "      <td>0.06</td>\n",
       "    </tr>\n",
       "    <tr>\n",
       "      <th>6</th>\n",
       "      <td>lincoln</td>\n",
       "      <td>0.11</td>\n",
       "    </tr>\n",
       "    <tr>\n",
       "      <th>7</th>\n",
       "      <td>kuhn</td>\n",
       "      <td>0.14</td>\n",
       "    </tr>\n",
       "  </tbody>\n",
       "</table>\n",
       "</div>"
      ],
      "text/plain": [
       "         person  score\n",
       "0         trump  -0.14\n",
       "1        hitler  -0.03\n",
       "2       matloff   0.16\n",
       "3  michaels_nyt   0.26\n",
       "4         reich   0.26\n",
       "5        silver   0.06\n",
       "6       lincoln   0.11\n",
       "7          kuhn   0.14"
      ]
     },
     "execution_count": 59,
     "metadata": {},
     "output_type": "execute_result"
    }
   ],
   "source": [
    "pd.DataFrame({\"person\":new_text_ppl, \"score\":blue-red})"
   ]
  },
  {
   "cell_type": "code",
   "execution_count": 60,
   "metadata": {
    "collapsed": false
   },
   "outputs": [
    {
     "ename": "ImportError",
     "evalue": "No module named plotly",
     "output_type": "error",
     "traceback": [
      "\u001b[0;31m---------------------------------------------------------------------------\u001b[0m",
      "\u001b[0;31mImportError\u001b[0m                               Traceback (most recent call last)",
      "\u001b[0;32m<ipython-input-60-503c39d2833d>\u001b[0m in \u001b[0;36m<module>\u001b[0;34m()\u001b[0m\n\u001b[0;32m----> 1\u001b[0;31m \u001b[1;32mimport\u001b[0m \u001b[0mplotly\u001b[0m\u001b[1;33m\u001b[0m\u001b[0m\n\u001b[0m\u001b[1;32m      2\u001b[0m \u001b[1;32mimport\u001b[0m \u001b[0mplotly\u001b[0m\u001b[1;33m.\u001b[0m\u001b[0mplotly\u001b[0m \u001b[1;32mas\u001b[0m \u001b[0mpy\u001b[0m\u001b[1;33m\u001b[0m\u001b[0m\n\u001b[1;32m      3\u001b[0m \u001b[1;31m# plotly.tools.set_credentials_file(username=\"DEMO\", api_key=\"KEY\")\u001b[0m\u001b[1;33m\u001b[0m\u001b[1;33m\u001b[0m\u001b[0m\n",
      "\u001b[0;31mImportError\u001b[0m: No module named plotly"
     ]
    }
   ],
   "source": [
    "import plotly\n",
    "import plotly.plotly as py\n",
    "# plotly.tools.set_credentials_file(username=\"DEMO\", api_key=\"KEY\")"
   ]
  },
  {
   "cell_type": "code",
   "execution_count": null,
   "metadata": {
    "collapsed": false
   },
   "outputs": [],
   "source": [
    "import matplotlib.pyplot as plt\n",
    "\n",
    "x = blue-red\n",
    "y = [0, 0, 0, 0, 0, 0, 0]\n",
    "\n",
    "fig, ax = plt.subplots()\n",
    "ax.scatter(x, y, c=x, cmap=plt.cm.RdBu)\n",
    "\n",
    "ax.set_title(\"How Red or Blue Are They?\")\n",
    "ax.set_xlabel(\"Score\")\n",
    "\n",
    "for i in range(len(new_text)):\n",
    "    xy=(x[i],y[i])\n",
    "    plt.annotate(new_text_ppl[i], xy)\n",
    "\n",
    "plot_url = py.plot_mpl(fig, filename=\"how-red-how-blue\")"
   ]
  },
  {
   "cell_type": "code",
   "execution_count": 64,
   "metadata": {
    "collapsed": false
   },
   "outputs": [
    {
     "data": {
      "text/plain": [
       "[1, 2]"
      ]
     },
     "execution_count": 64,
     "metadata": {},
     "output_type": "execute_result"
    }
   ],
   "source": [
    "range(1, 3)"
   ]
  },
  {
   "cell_type": "code",
   "execution_count": 61,
   "metadata": {
    "collapsed": false
   },
   "outputs": [
    {
     "data": {
      "image/png": "[encoded data removed]",
      "text/plain": [
       "<matplotlib.figure.Figure at 0xe9250b8>"
      ]
     },
     "metadata": {},
     "output_type": "display_data"
    }
   ],
   "source": [
    "\"\"# USING MATPLOTLIB\n",
    "\n",
    "plt.rcParams['figure.figsize'] = (18, 6)\n",
    "\n",
    "x = blue - red\n",
    "y = [0, 0, 0, 0, 0, 0, 0, 0]\n",
    "colors = x\n",
    "\n",
    "plt.subplots_adjust(bottom = 0.1)\n",
    "plt.scatter(x, y, marker = \"o\", c=colors, cmap=plt.cm.seismic_r, s=500, alpha=0.5)\n",
    "\n",
    "for label, x, y in zip(new_text_ppl, x, y):\n",
    "    if label == \"hitler\":\n",
    "        xytext = (-20, 30)\n",
    "    if label == \"lincoln\":\n",
    "        xytext = (20, 20)\n",
    "    if (label != \"lincoln\") & (label != \"hitler\"):\n",
    "        xytext = (-20, 20)\n",
    "    plt.annotate(\n",
    "        label,\n",
    "        xy=(x, y), xytext=xytext,\n",
    "        textcoords='offset points', ha='right', va='bottom',\n",
    "        bbox=dict(boxstyle='round, pad=0.2', fc=\"white\", alpha=0.5),\n",
    "        arrowprops=dict(arrowstyle = '-', connectionstyle='arc3, rad=0'))\n",
    "\n",
    "plt.title(\"How Red or Blue Are They?\")\n",
    "plt.show()"
   ]
  },
  {
   "cell_type": "markdown",
   "metadata": {},
   "source": [
    "Sources\n",
    "<br>\n",
    "<ol>\n",
    "    <li><a href=\"#fn1\">http://www.journalism.org/2016/07/07/pathways-to-news/</a></li>\n",
    "    <li>http://www.people-press.org/2016/06/22/partisanship-and-political-animosity-in-2016/</li>\n",
    "</ol>"
   ]
  }
 ],
 "metadata": {
  "anaconda-cloud": {},
  "kernelspec": {
   "display_name": "Python [default]",
   "language": "python",
   "name": "python2"
  },
  "language_info": {
   "codemirror_mode": {
    "name": "ipython",
    "version": 2
   },
   "file_extension": ".py",
   "mimetype": "text/x-python",
   "name": "python",
   "nbconvert_exporter": "python",
   "pygments_lexer": "ipython2",
   "version": "2.7.12"
  }
 },
 "nbformat": 4,
 "nbformat_minor": 2
}
