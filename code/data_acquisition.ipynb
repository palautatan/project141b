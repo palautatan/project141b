{
 "cells": [
  {
   "cell_type": "markdown",
   "metadata": {},
   "source": [
    "# Data Sources\n",
    "<font size=\"4\">\n",
    "We retrieved our data from two sources: the We The People API and from Twitter profile pages.\n",
    "</font>\n",
    "\n",
    "# Contents\n",
    "<font size=\"4\">\n",
    "<ol>\n",
    "<li><a href=\"#We-The-People-API\">We The People API</a></li>\n",
    "<li><a href=\"#Webscraping-Twitter\">Twitter</a></li>\n",
    "</ol>"
   ]
  },
  {
   "cell_type": "markdown",
   "metadata": {},
   "source": [
    "# We The People API\n",
    "<font size=\"4\">\n",
    "Using the <a href=\"https://petitions.whitehouse.gov/developers\">We the People API</a>, we were able to extract petition data for several hundred petitions. The information we retrieved includes:\n",
    "(1) the petition ID, (2) date created, (3) deadline date, (4) petition title, (5) issues addressed, (6) petition type, (7) signature count, (8) the petition itself, and (9) the URL to the petition."
   ]
  },
  {
   "cell_type": "code",
   "execution_count": 8,
   "metadata": {
    "collapsed": true
   },
   "outputs": [],
   "source": [
    "# LIBRARIES\n",
    "from fastcache import clru_cache\n",
    "import datetime\n",
    "import requests\n",
    "import numpy as np\n",
    "import re\n",
    "import pandas as pd\n",
    "\n",
    "sandkey=\"TgltV3qLpU4EPb6LJF7Lx7wRJ6CMMVe5l7YBctBC\"\n",
    "prodkey=\"ETjU0uiiXFfA9AqvBUFooOEx2OmBdeq0nquzM1k4\""
   ]
  },
  {
   "cell_type": "markdown",
   "metadata": {},
   "source": [
    "<font size=\"4\">\n",
    "The following are the functions we used to retrieve the data we desired."
   ]
  },
  {
   "cell_type": "code",
   "execution_count": 9,
   "metadata": {
    "collapsed": true
   },
   "outputs": [],
   "source": [
    "# FUNCTION\n",
    "@clru_cache(maxsize=128,typed=False)\n",
    "def sandbox_test(limit=\"15\"):\n",
    "    base=\"https://api.whitehouse.gov/v1/petitions.json?limit=\"+limit\n",
    "    request_get=requests.get(base+\"&api_key=\"+prodkey)\n",
    "    request_json=request_get.json()\n",
    "    return(request_json)\n",
    "\n",
    "tmp = sandbox_test(\"\")"
   ]
  },
  {
   "cell_type": "code",
   "execution_count": 10,
   "metadata": {
    "collapsed": true
   },
   "outputs": [],
   "source": [
    "# UNIX TIME CONVERSION CODE BORROWED FROM STACK\n",
    "def extract_field(query):\n",
    "    pet_id=[item[\"id\"] for item in query]\n",
    "    pet_created=[datetime.datetime.fromtimestamp(item[\"created\"]).strftime('%Y-%m-%d %H:%M:%S') for item in query]\n",
    "    pet_deadline=[datetime.datetime.fromtimestamp(item[\"deadline\"]).strftime('%Y-%m-%d %H:%M:%S') for item in query]\n",
    "    pet_title=[item[\"title\"] for item in query]\n",
    "    pet_issues=[\", \".join([re.sub(\"amp;\",\"\",issue[\"name\"]) for issue in item[\"issues\"]]) for item in query]\n",
    "    pet_type=[[category[\"name\"] for category in item[\"petition_type\"]] for item in query]\n",
    "    pet_count=[item[\"signatureCount\"] for item in query]\n",
    "    pet_body=[re.compile(\"&(amp;)*#039;\").sub(\"'\",item[\"body\"]).replace(\"\\n\",\"\") for item in query]\n",
    "    pet_url=[item[\"url\"] for item in query]\n",
    "    pet_list=[pet_id,pet_created,pet_deadline,pet_title,pet_issues,pet_type,pet_count,pet_body,pet_url]\n",
    "    pet_array=np.array([np.array(column).reshape(100,1) for column in pet_list]).T.reshape(100,9)\n",
    "    pet_df=pd.DataFrame(pet_array,columns=[\"id\",\"created\",\"deadline\",\"title\",\"issues\",\"type\",\"count\",\"body\",\"url\"])\n",
    "    return(pet_df)"
   ]
  },
  {
   "cell_type": "markdown",
   "metadata": {},
   "source": [
    "<font size=\"4\">\n",
    "This is the dataframe we constructed."
   ]
  },
  {
   "cell_type": "code",
   "execution_count": null,
   "metadata": {
    "collapsed": false
   },
   "outputs": [],
   "source": [
    "extract_field(tmp[\"results\"]).head()"
   ]
  },
  {
   "cell_type": "markdown",
   "metadata": {},
   "source": [
    "<img src=\"http://i65.tinypic.com/2nqqlqd.png\">"
   ]
  },
  {
   "cell_type": "code",
   "execution_count": null,
   "metadata": {
    "collapsed": false
   },
   "outputs": [],
   "source": [
    "petitions = extract_field(tmp[\"results\"])\n",
    "# petitions.to_csv(\"petitions.csv\")"
   ]
  },
  {
   "cell_type": "markdown",
   "metadata": {},
   "source": [
    "# Webscraping Twitter\n",
    "<font size=\"4\">\n",
    "We also webscraped the 20 most recent tweets, straight from 20 political sources on Twitter, a site where many retrieve their political news. We manually compiled the URL and name of profile in the <a href=\"data/twitter_links.csv\">twitter_links.csv</a> file.\n",
    "<br><br>\n",
    "<b>We scared the following profiles</b>: Donald Trump, Betsy Devos, Kellyanne Conway, Mike Pence, Mitt Romney, Jeb Bush, Milo Yiannopoulos, Sarah Palin, Ted Cruz, Jerry Brown, Jill Stein, Barack Obama, Joe Biden, Bernie Sanders, Hillary Clinton, Robert Reich, Justin Trudeau, Nate Silver, NYT Politics, CNN Politics, FOX Politics, Post Politics, We the People"
   ]
  },
  {
   "cell_type": "code",
   "execution_count": 1,
   "metadata": {
    "collapsed": true
   },
   "outputs": [],
   "source": [
    "# LIBRARIES\n",
    "import pandas as pd\n",
    "from bs4 import BeautifulSoup\n",
    "import requests"
   ]
  },
  {
   "cell_type": "code",
   "execution_count": 3,
   "metadata": {
    "collapsed": false
   },
   "outputs": [
    {
     "data": {
      "text/html": [
       "<div>\n",
       "<table border=\"1\" class=\"dataframe\">\n",
       "  <thead>\n",
       "    <tr style=\"text-align: right;\">\n",
       "      <th></th>\n",
       "      <th>profile</th>\n",
       "      <th>url</th>\n",
       "    </tr>\n",
       "  </thead>\n",
       "  <tbody>\n",
       "    <tr>\n",
       "      <th>0</th>\n",
       "      <td>Donald Trump</td>\n",
       "      <td>https://twitter.com/POTUS</td>\n",
       "    </tr>\n",
       "    <tr>\n",
       "      <th>1</th>\n",
       "      <td>Betsy Devos</td>\n",
       "      <td>https://twitter.com/BetsyDeVosED</td>\n",
       "    </tr>\n",
       "    <tr>\n",
       "      <th>2</th>\n",
       "      <td>Kellyanne Conway</td>\n",
       "      <td>https://twitter.com/KellyannePolls</td>\n",
       "    </tr>\n",
       "    <tr>\n",
       "      <th>3</th>\n",
       "      <td>Mike Pence</td>\n",
       "      <td>https://twitter.com/mike_pence</td>\n",
       "    </tr>\n",
       "    <tr>\n",
       "      <th>4</th>\n",
       "      <td>Mitt Romney</td>\n",
       "      <td>https://twitter.com/MittRomney</td>\n",
       "    </tr>\n",
       "    <tr>\n",
       "      <th>5</th>\n",
       "      <td>Jeb Bush</td>\n",
       "      <td>https://twitter.com/JebBush</td>\n",
       "    </tr>\n",
       "    <tr>\n",
       "      <th>6</th>\n",
       "      <td>Milo Yiannopoulos</td>\n",
       "      <td>https://twitter.com/DontGoAwayM4d</td>\n",
       "    </tr>\n",
       "    <tr>\n",
       "      <th>7</th>\n",
       "      <td>Sarah Palin</td>\n",
       "      <td>https://twitter.com/SarahPalinUSA</td>\n",
       "    </tr>\n",
       "    <tr>\n",
       "      <th>8</th>\n",
       "      <td>Ted Cruz</td>\n",
       "      <td>https://twitter.com/tedcruz</td>\n",
       "    </tr>\n",
       "    <tr>\n",
       "      <th>9</th>\n",
       "      <td>Jerry Brown</td>\n",
       "      <td>https://twitter.com/JerryBrownGov</td>\n",
       "    </tr>\n",
       "  </tbody>\n",
       "</table>\n",
       "</div>"
      ],
      "text/plain": [
       "             profile                                 url\n",
       "0       Donald Trump           https://twitter.com/POTUS\n",
       "1        Betsy Devos    https://twitter.com/BetsyDeVosED\n",
       "2   Kellyanne Conway  https://twitter.com/KellyannePolls\n",
       "3         Mike Pence      https://twitter.com/mike_pence\n",
       "4        Mitt Romney      https://twitter.com/MittRomney\n",
       "5           Jeb Bush         https://twitter.com/JebBush\n",
       "6  Milo Yiannopoulos   https://twitter.com/DontGoAwayM4d\n",
       "7        Sarah Palin   https://twitter.com/SarahPalinUSA\n",
       "8           Ted Cruz         https://twitter.com/tedcruz\n",
       "9        Jerry Brown   https://twitter.com/JerryBrownGov"
      ]
     },
     "execution_count": 3,
     "metadata": {},
     "output_type": "execute_result"
    }
   ],
   "source": [
    "# IMPORT DATA\n",
    "twitter = pd.read_csv(\"data/twitter_links.csv\")\n",
    "twitter.head(10)"
   ]
  },
  {
   "cell_type": "code",
   "execution_count": 4,
   "metadata": {
    "collapsed": false
   },
   "outputs": [
    {
     "name": "stdout",
     "output_type": "stream",
     "text": [
      "['Donald Trump' 'Betsy Devos' 'Kellyanne Conway' 'Mike Pence' 'Mitt Romney'\n",
      " 'Jeb Bush' 'Milo Yiannopoulos' 'Sarah Palin' 'Ted Cruz' 'Jerry Brown'\n",
      " 'Jill Stein' 'Barack Obama' 'Joe Biden' 'Bernie Sanders' 'Hillary Clinton'\n",
      " 'Robert Reich' 'Justin Trudeau' 'Nate Silver' 'NYT Politics'\n",
      " 'CNN Politics' 'FOX Politics' 'Post Politics' 'We the People']\n"
     ]
    }
   ],
   "source": [
    "# VIEW ALL OF THE SOURCES WE ARE SCRAPING FROM\n",
    "print twitter[\"profile\"].values"
   ]
  },
  {
   "cell_type": "markdown",
   "metadata": {},
   "source": [
    "<font size=\"4\">\n",
    "The following is the function we used to retrieve the data we desired."
   ]
  },
  {
   "cell_type": "code",
   "execution_count": 5,
   "metadata": {
    "collapsed": true
   },
   "outputs": [],
   "source": [
    "# FUNCTION\n",
    "def get_tweet_bag(twitter_url):\n",
    "    # PARSE PROFILE\n",
    "    this_request = requests.get(twitter_url).text\n",
    "    abc_soup = BeautifulSoup(this_request, \"html.parser\")\n",
    "\n",
    "    # GRAB DATA FOR 20 TWEETS\n",
    "    twenty_tweet_data = abc_soup.find_all(\"div\", {\"class\", \"js-tweet-text-container\"})\n",
    "    \n",
    "    # GET THE 20 TWEETS FOR ONE PERSON\n",
    "    twenty_tweets = [x.find_all(\"p\")[0].text for x in twenty_tweet_data]\n",
    "    twenty_tweets = [x.encode(\"ascii\", \"replace\") for x in twenty_tweets]\n",
    "\n",
    "    # CREATE BAG OF WORDS\n",
    "    tweet_bag = \" \".join(twenty_tweets)\n",
    "    \n",
    "    return(tweet_bag)"
   ]
  },
  {
   "cell_type": "code",
   "execution_count": 6,
   "metadata": {
    "collapsed": true
   },
   "outputs": [],
   "source": [
    "# LIST COMP TO RETRIEVE 20 TWEETS FROM EACH SOURCE\n",
    "tweet_bags = [get_tweet_bag(x) for x in twitter[\"url\"]]"
   ]
  },
  {
   "cell_type": "markdown",
   "metadata": {},
   "source": [
    "<font size=\"4\">\n",
    "This is the dataframe we constructed."
   ]
  },
  {
   "cell_type": "code",
   "execution_count": 7,
   "metadata": {
    "collapsed": false
   },
   "outputs": [
    {
     "data": {
      "text/html": [
       "<div>\n",
       "<table border=\"1\" class=\"dataframe\">\n",
       "  <thead>\n",
       "    <tr style=\"text-align: right;\">\n",
       "      <th></th>\n",
       "      <th>profile</th>\n",
       "      <th>url</th>\n",
       "      <th>tweet_bags</th>\n",
       "    </tr>\n",
       "  </thead>\n",
       "  <tbody>\n",
       "    <tr>\n",
       "      <th>0</th>\n",
       "      <td>Donald Trump</td>\n",
       "      <td>https://twitter.com/POTUS</td>\n",
       "      <td>FBI Director Comey: fmr. DNI Clapper \"right\" t...</td>\n",
       "    </tr>\n",
       "    <tr>\n",
       "      <th>1</th>\n",
       "      <td>Betsy Devos</td>\n",
       "      <td>https://twitter.com/BetsyDeVosED</td>\n",
       "      <td>\"At the end of the day we should measure every...</td>\n",
       "    </tr>\n",
       "    <tr>\n",
       "      <th>2</th>\n",
       "      <td>Kellyanne Conway</td>\n",
       "      <td>https://twitter.com/KellyannePolls</td>\n",
       "      <td>Congratulations @erictrump &amp; @LaraLeaTrump on ...</td>\n",
       "    </tr>\n",
       "    <tr>\n",
       "      <th>3</th>\n",
       "      <td>Mike Pence</td>\n",
       "      <td>https://twitter.com/mike_pence</td>\n",
       "      <td>.@POTUS showed true leadership in his #JointAd...</td>\n",
       "    </tr>\n",
       "    <tr>\n",
       "      <th>4</th>\n",
       "      <td>Mitt Romney</td>\n",
       "      <td>https://twitter.com/MittRomney</td>\n",
       "      <td>I'm a fan of proposed Deputy Treasury Secretar...</td>\n",
       "    </tr>\n",
       "    <tr>\n",
       "      <th>5</th>\n",
       "      <td>Jeb Bush</td>\n",
       "      <td>https://twitter.com/JebBush</td>\n",
       "      <td>Such an unnecessary distraction given all the ...</td>\n",
       "    </tr>\n",
       "    <tr>\n",
       "      <th>6</th>\n",
       "      <td>Milo Yiannopoulos</td>\n",
       "      <td>https://twitter.com/DontGoAwayM4d</td>\n",
       "      <td>http://bit.ly/2mRyeJq? via /r/KiA #gamergate K...</td>\n",
       "    </tr>\n",
       "    <tr>\n",
       "      <th>7</th>\n",
       "      <td>Sarah Palin</td>\n",
       "      <td>https://twitter.com/SarahPalinUSA</td>\n",
       "      <td>The best things happen while fishing. Love thi...</td>\n",
       "    </tr>\n",
       "    <tr>\n",
       "      <th>8</th>\n",
       "      <td>Ted Cruz</td>\n",
       "      <td>https://twitter.com/tedcruz</td>\n",
       "      <td>Add your name if you agree -- no US funding fo...</td>\n",
       "    </tr>\n",
       "    <tr>\n",
       "      <th>9</th>\n",
       "      <td>Jerry Brown</td>\n",
       "      <td>https://twitter.com/JerryBrownGov</td>\n",
       "      <td>California is Not Turning Back, Not Now, Not E...</td>\n",
       "    </tr>\n",
       "  </tbody>\n",
       "</table>\n",
       "</div>"
      ],
      "text/plain": [
       "             profile                                 url  \\\n",
       "0       Donald Trump           https://twitter.com/POTUS   \n",
       "1        Betsy Devos    https://twitter.com/BetsyDeVosED   \n",
       "2   Kellyanne Conway  https://twitter.com/KellyannePolls   \n",
       "3         Mike Pence      https://twitter.com/mike_pence   \n",
       "4        Mitt Romney      https://twitter.com/MittRomney   \n",
       "5           Jeb Bush         https://twitter.com/JebBush   \n",
       "6  Milo Yiannopoulos   https://twitter.com/DontGoAwayM4d   \n",
       "7        Sarah Palin   https://twitter.com/SarahPalinUSA   \n",
       "8           Ted Cruz         https://twitter.com/tedcruz   \n",
       "9        Jerry Brown   https://twitter.com/JerryBrownGov   \n",
       "\n",
       "                                          tweet_bags  \n",
       "0  FBI Director Comey: fmr. DNI Clapper \"right\" t...  \n",
       "1  \"At the end of the day we should measure every...  \n",
       "2  Congratulations @erictrump & @LaraLeaTrump on ...  \n",
       "3  .@POTUS showed true leadership in his #JointAd...  \n",
       "4  I'm a fan of proposed Deputy Treasury Secretar...  \n",
       "5  Such an unnecessary distraction given all the ...  \n",
       "6  http://bit.ly/2mRyeJq? via /r/KiA #gamergate K...  \n",
       "7  The best things happen while fishing. Love thi...  \n",
       "8  Add your name if you agree -- no US funding fo...  \n",
       "9  California is Not Turning Back, Not Now, Not E...  "
      ]
     },
     "execution_count": 7,
     "metadata": {},
     "output_type": "execute_result"
    }
   ],
   "source": [
    "# ASSEMBLING DATAFRAME\n",
    "twitter[\"tweet_bags\"] = tweet_bags\n",
    "# twitter.to_csv(\"data/twitter_data.csv\")\n",
    "twitter.head(10)"
   ]
  },
  {
   "cell_type": "code",
   "execution_count": null,
   "metadata": {
    "collapsed": true
   },
   "outputs": [],
   "source": []
  }
 ],
 "metadata": {
  "kernelspec": {
   "display_name": "Python 2",
   "language": "python",
   "name": "python2"
  },
  "language_info": {
   "codemirror_mode": {
    "name": "ipython",
    "version": 2
   },
   "file_extension": ".py",
   "mimetype": "text/x-python",
   "name": "python",
   "nbconvert_exporter": "python",
   "pygments_lexer": "ipython2",
   "version": "2.7.13"
  }
 },
 "nbformat": 4,
 "nbformat_minor": 2
}
