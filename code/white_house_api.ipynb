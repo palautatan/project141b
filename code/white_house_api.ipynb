{
 "cells": [
  {
   "cell_type": "markdown",
   "metadata": {},
   "source": [
    "# STA 141B Project: Data Exploration\n",
    "Our topic will be the Whitehouse petition API"
   ]
  },
  {
   "cell_type": "code",
   "execution_count": 118,
   "metadata": {
    "collapsed": true
   },
   "outputs": [],
   "source": [
    "from fastcache import clru_cache\n",
    "import datetime\n",
    "import requests\n",
    "import numpy as np\n",
    "import re\n",
    "import pandas as pd\n",
    "\n",
    "sandkey=\"TgltV3qLpU4EPb6LJF7Lx7wRJ6CMMVe5l7YBctBC\"\n",
    "prodkey=\"ETjU0uiiXFfA9AqvBUFooOEx2OmBdeq0nquzM1k4\""
   ]
  },
  {
   "cell_type": "code",
   "execution_count": 108,
   "metadata": {
    "collapsed": true
   },
   "outputs": [],
   "source": [
    "#Start building a function\n",
    "@clru_cache(maxsize=128,typed=False)\n",
    "def sandbox_test(limit=\"15\"):\n",
    "    base=\"https://api.whitehouse.gov/v1/petitions.json?limit=\"+limit\n",
    "    request_get=requests.get(base+\"&api_key=\"+prodkey)\n",
    "    request_json=request_get.json()\n",
    "    return(request_json)"
   ]
  },
  {
   "cell_type": "code",
   "execution_count": 83,
   "metadata": {
    "collapsed": false
   },
   "outputs": [],
   "source": [
    "tmp=sandbox_test(\"\")"
   ]
  },
  {
   "cell_type": "code",
   "execution_count": 168,
   "metadata": {
    "collapsed": false
   },
   "outputs": [],
   "source": [
    "#UNIX time conversion code borrowed from stackoverflow\n",
    "def extract_field(query):\n",
    "    pet_id=[item[\"id\"] for item in query]\n",
    "    pet_created=[datetime.datetime.fromtimestamp(item[\"created\"]).strftime('%Y-%m-%d %H:%M:%S') for item in query]\n",
    "    pet_deadline=[datetime.datetime.fromtimestamp(item[\"deadline\"]).strftime('%Y-%m-%d %H:%M:%S') for item in query]\n",
    "    pet_title=[item[\"title\"] for item in query]\n",
    "    pet_issues=[\", \".join([re.sub(\"amp;\",\"\",issue[\"name\"]) for issue in item[\"issues\"]]) for item in query]\n",
    "    pet_type=[[category[\"name\"] for category in item[\"petition_type\"]] for item in query]\n",
    "    pet_count=[item[\"signatureCount\"] for item in query]\n",
    "    pet_body=[re.compile(\"&(amp;)*#039;\").sub(\"'\",item[\"body\"]).replace(\"\\n\",\"\") for item in query]\n",
    "    pet_url=[item[\"url\"] for item in query]\n",
    "    pet_list=[pet_id,pet_created,pet_deadline,pet_title,pet_issues,pet_type,pet_count,pet_body,pet_url]\n",
    "    pet_array=np.array([np.array(column).reshape(100,1) for column in pet_list]).T.reshape(100,9)\n",
    "    pet_df=pd.DataFrame(pet_array,columns=[\"id\",\"created\",\"deadline\",\"title\",\"issues\",\"type\",\"count\",\"body\",\"url\"])\n",
    "    return(pet_df)"
   ]
  },
  {
   "cell_type": "code",
   "execution_count": 169,
   "metadata": {
    "collapsed": false
   },
   "outputs": [
    {
     "data": {
      "text/html": [
       "<div>\n",
       "<table border=\"1\" class=\"dataframe\">\n",
       "  <thead>\n",
       "    <tr style=\"text-align: right;\">\n",
       "      <th></th>\n",
       "      <th>id</th>\n",
       "      <th>created</th>\n",
       "      <th>deadline</th>\n",
       "      <th>title</th>\n",
       "      <th>issues</th>\n",
       "      <th>type</th>\n",
       "      <th>count</th>\n",
       "      <th>body</th>\n",
       "      <th>url</th>\n",
       "    </tr>\n",
       "  </thead>\n",
       "  <tbody>\n",
       "    <tr>\n",
       "      <th>0</th>\n",
       "      <td>2434791</td>\n",
       "      <td>2017-01-20 10:47:16</td>\n",
       "      <td>2017-02-19 10:47:16</td>\n",
       "      <td>Immediately release Donald Trump's full tax re...</td>\n",
       "      <td>Foreign Policy, Government &amp; Regulatory Reform</td>\n",
       "      <td>Tell us what the federal government is doing a...</td>\n",
       "      <td>1032520</td>\n",
       "      <td>The unprecedented economic conflicts of this a...</td>\n",
       "      <td>https://petitions.whitehouse.gov/petition/imme...</td>\n",
       "    </tr>\n",
       "    <tr>\n",
       "      <th>1</th>\n",
       "      <td>2434746</td>\n",
       "      <td>2017-01-20 10:38:48</td>\n",
       "      <td>2017-02-19 10:38:48</td>\n",
       "      <td>Divest or put in a blind trust all of the Pres...</td>\n",
       "      <td>Government &amp; Regulatory Reform</td>\n",
       "      <td>Change an existing Administration policy</td>\n",
       "      <td>335608</td>\n",
       "      <td>In keeping with tradition and to avoid the app...</td>\n",
       "      <td>https://petitions.whitehouse.gov/petition/dive...</td>\n",
       "    </tr>\n",
       "    <tr>\n",
       "      <th>2</th>\n",
       "      <td>2436006</td>\n",
       "      <td>2017-01-20 12:57:47</td>\n",
       "      <td>2017-02-19 12:57:47</td>\n",
       "      <td>Let American Farmers Grow Hemp Once Again to C...</td>\n",
       "      <td>Economy &amp; Jobs, Government &amp; Regulatory Reform...</td>\n",
       "      <td>Change an existing Administration policy</td>\n",
       "      <td>91810</td>\n",
       "      <td>Industrial hemp was once a dominant crop on th...</td>\n",
       "      <td>https://petitions.whitehouse.gov/petition/let-...</td>\n",
       "    </tr>\n",
       "    <tr>\n",
       "      <th>3</th>\n",
       "      <td>2434936</td>\n",
       "      <td>2017-01-20 11:00:04</td>\n",
       "      <td>2017-02-19 11:00:04</td>\n",
       "      <td>Donald Trump:  Resign as President of the Unit...</td>\n",
       "      <td>Civil Rights &amp; Equality, Foreign Policy, Gover...</td>\n",
       "      <td>Propose a new Administration policy</td>\n",
       "      <td>127571</td>\n",
       "      <td>The President violates the Title of Nobility C...</td>\n",
       "      <td>https://petitions.whitehouse.gov/petition/dona...</td>\n",
       "    </tr>\n",
       "    <tr>\n",
       "      <th>4</th>\n",
       "      <td>2434701</td>\n",
       "      <td>2017-01-20 10:29:33</td>\n",
       "      <td>2017-02-19 10:29:33</td>\n",
       "      <td>Repeal the NFA</td>\n",
       "      <td>Foreign Policy, Government &amp; Regulatory Reform...</td>\n",
       "      <td>Change an existing Administration policy</td>\n",
       "      <td>245202</td>\n",
       "      <td>We the People wish to see the National Firearm...</td>\n",
       "      <td>https://petitions.whitehouse.gov/petition/repe...</td>\n",
       "    </tr>\n",
       "  </tbody>\n",
       "</table>\n",
       "</div>"
      ],
      "text/plain": [
       "        id              created             deadline  \\\n",
       "0  2434791  2017-01-20 10:47:16  2017-02-19 10:47:16   \n",
       "1  2434746  2017-01-20 10:38:48  2017-02-19 10:38:48   \n",
       "2  2436006  2017-01-20 12:57:47  2017-02-19 12:57:47   \n",
       "3  2434936  2017-01-20 11:00:04  2017-02-19 11:00:04   \n",
       "4  2434701  2017-01-20 10:29:33  2017-02-19 10:29:33   \n",
       "\n",
       "                                               title  \\\n",
       "0  Immediately release Donald Trump's full tax re...   \n",
       "1  Divest or put in a blind trust all of the Pres...   \n",
       "2  Let American Farmers Grow Hemp Once Again to C...   \n",
       "3  Donald Trump:  Resign as President of the Unit...   \n",
       "4                                     Repeal the NFA   \n",
       "\n",
       "                                              issues  \\\n",
       "0     Foreign Policy, Government & Regulatory Reform   \n",
       "1                     Government & Regulatory Reform   \n",
       "2  Economy & Jobs, Government & Regulatory Reform...   \n",
       "3  Civil Rights & Equality, Foreign Policy, Gover...   \n",
       "4  Foreign Policy, Government & Regulatory Reform...   \n",
       "\n",
       "                                                type    count  \\\n",
       "0  Tell us what the federal government is doing a...  1032520   \n",
       "1           Change an existing Administration policy   335608   \n",
       "2           Change an existing Administration policy    91810   \n",
       "3                Propose a new Administration policy   127571   \n",
       "4           Change an existing Administration policy   245202   \n",
       "\n",
       "                                                body  \\\n",
       "0  The unprecedented economic conflicts of this a...   \n",
       "1  In keeping with tradition and to avoid the app...   \n",
       "2  Industrial hemp was once a dominant crop on th...   \n",
       "3  The President violates the Title of Nobility C...   \n",
       "4  We the People wish to see the National Firearm...   \n",
       "\n",
       "                                                 url  \n",
       "0  https://petitions.whitehouse.gov/petition/imme...  \n",
       "1  https://petitions.whitehouse.gov/petition/dive...  \n",
       "2  https://petitions.whitehouse.gov/petition/let-...  \n",
       "3  https://petitions.whitehouse.gov/petition/dona...  \n",
       "4  https://petitions.whitehouse.gov/petition/repe...  "
      ]
     },
     "execution_count": 169,
     "metadata": {},
     "output_type": "execute_result"
    }
   ],
   "source": [
    "extract_field(tmp[\"results\"]).head()"
   ]
  },
  {
   "cell_type": "code",
   "execution_count": 171,
   "metadata": {
    "collapsed": true
   },
   "outputs": [],
   "source": [
    "petitions=extract_field(tmp[\"results\"])\n",
    "petitions.to_csv(\"petitions.csv\")"
   ]
  },
  {
   "cell_type": "code",
   "execution_count": null,
   "metadata": {
    "collapsed": true
   },
   "outputs": [],
   "source": []
  }
 ],
 "metadata": {
  "kernelspec": {
   "display_name": "Python 3",
   "language": "python",
   "name": "python3"
  },
  "language_info": {
   "codemirror_mode": {
    "name": "ipython",
    "version": 3
   },
   "file_extension": ".py",
   "mimetype": "text/x-python",
   "name": "python",
   "nbconvert_exporter": "python",
   "pygments_lexer": "ipython3",
   "version": "3.5.2"
  }
 },
 "nbformat": 4,
 "nbformat_minor": 0
}
