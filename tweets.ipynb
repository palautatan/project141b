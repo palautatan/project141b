{
 "cells": [
  {
   "cell_type": "markdown",
   "metadata": {},
   "source": [
    "<font color=\"forestgreen\">\n",
    "# Motivation\n",
    "We would like to apply our algorithm to a commonplace need such as classifying popular political figures on their words.\n",
    "# Contents\n",
    "<ol>\n",
    "<li><a href=\"#Libraries\">Libraries</a></li>\n",
    "<li><a href=\"#Twitter-URLS\">Twitter URLs</a></li>\n",
    "<li><a href=\"#Functions\">Functions</a></li>\n",
    "<li><a href=\"#Assembling-Dataframe\">Assembling Dataframe</a></li>\n",
    "</ol>\n",
    "\n",
    "# Libraries\n",
    "Here are the libraries we used."
   ]
  },
  {
   "cell_type": "code",
   "execution_count": 78,
   "metadata": {
    "collapsed": true
   },
   "outputs": [],
   "source": [
    "import pandas as pd\n",
    "from bs4 import BeautifulSoup\n",
    "import requests"
   ]
  },
  {
   "cell_type": "markdown",
   "metadata": {},
   "source": [
    "<font color=\"forestgreen\">\n",
    "# Twitter URLS\n",
    "I created a .csv that holds the URL for 20 political twitters and their name."
   ]
  },
  {
   "cell_type": "code",
   "execution_count": 79,
   "metadata": {
    "collapsed": false
   },
   "outputs": [],
   "source": [
    "twitter = pd.read_csv(\"data/twitter_links.csv\")"
   ]
  },
  {
   "cell_type": "code",
   "execution_count": 80,
   "metadata": {
    "collapsed": false
   },
   "outputs": [
    {
     "data": {
      "text/html": [
       "<div>\n",
       "<table border=\"1\" class=\"dataframe\">\n",
       "  <thead>\n",
       "    <tr style=\"text-align: right;\">\n",
       "      <th></th>\n",
       "      <th>profile</th>\n",
       "      <th>url</th>\n",
       "    </tr>\n",
       "  </thead>\n",
       "  <tbody>\n",
       "    <tr>\n",
       "      <th>0</th>\n",
       "      <td>Donald Trump</td>\n",
       "      <td>https://twitter.com/POTUS</td>\n",
       "    </tr>\n",
       "    <tr>\n",
       "      <th>1</th>\n",
       "      <td>Betsy Devos</td>\n",
       "      <td>https://twitter.com/BetsyDeVosED</td>\n",
       "    </tr>\n",
       "    <tr>\n",
       "      <th>2</th>\n",
       "      <td>Kellyanne Conway</td>\n",
       "      <td>https://twitter.com/KellyannePolls</td>\n",
       "    </tr>\n",
       "    <tr>\n",
       "      <th>3</th>\n",
       "      <td>Mike Pence</td>\n",
       "      <td>https://twitter.com/mike_pence</td>\n",
       "    </tr>\n",
       "    <tr>\n",
       "      <th>4</th>\n",
       "      <td>Mitt Romney</td>\n",
       "      <td>https://twitter.com/MittRomney</td>\n",
       "    </tr>\n",
       "    <tr>\n",
       "      <th>5</th>\n",
       "      <td>Jeb Bush</td>\n",
       "      <td>https://twitter.com/JebBush</td>\n",
       "    </tr>\n",
       "    <tr>\n",
       "      <th>6</th>\n",
       "      <td>Milo Yiannopoulos</td>\n",
       "      <td>https://twitter.com/DontGoAwayM4d</td>\n",
       "    </tr>\n",
       "    <tr>\n",
       "      <th>7</th>\n",
       "      <td>Sarah Palin</td>\n",
       "      <td>https://twitter.com/SarahPalinUSA</td>\n",
       "    </tr>\n",
       "    <tr>\n",
       "      <th>8</th>\n",
       "      <td>Ted Cruz</td>\n",
       "      <td>https://twitter.com/tedcruz</td>\n",
       "    </tr>\n",
       "    <tr>\n",
       "      <th>9</th>\n",
       "      <td>Jerry Brown</td>\n",
       "      <td>https://twitter.com/JerryBrownGov</td>\n",
       "    </tr>\n",
       "  </tbody>\n",
       "</table>\n",
       "</div>"
      ],
      "text/plain": [
       "             profile                                 url\n",
       "0       Donald Trump           https://twitter.com/POTUS\n",
       "1        Betsy Devos    https://twitter.com/BetsyDeVosED\n",
       "2   Kellyanne Conway  https://twitter.com/KellyannePolls\n",
       "3         Mike Pence      https://twitter.com/mike_pence\n",
       "4        Mitt Romney      https://twitter.com/MittRomney\n",
       "5           Jeb Bush         https://twitter.com/JebBush\n",
       "6  Milo Yiannopoulos   https://twitter.com/DontGoAwayM4d\n",
       "7        Sarah Palin   https://twitter.com/SarahPalinUSA\n",
       "8           Ted Cruz         https://twitter.com/tedcruz\n",
       "9        Jerry Brown   https://twitter.com/JerryBrownGov"
      ]
     },
     "execution_count": 80,
     "metadata": {},
     "output_type": "execute_result"
    }
   ],
   "source": [
    "twitter.head(10)"
   ]
  },
  {
   "cell_type": "code",
   "execution_count": 81,
   "metadata": {
    "collapsed": false
   },
   "outputs": [
    {
     "name": "stdout",
     "output_type": "stream",
     "text": [
      "['Donald Trump' 'Betsy Devos' 'Kellyanne Conway' 'Mike Pence' 'Mitt Romney'\n",
      " 'Jeb Bush' 'Milo Yiannopoulos' 'Sarah Palin' 'Ted Cruz' 'Jerry Brown'\n",
      " 'Jill Stein' 'Barack Obama' 'Joe Biden' 'Bernie Sanders' 'Hillary Clinton'\n",
      " 'Robert Reich' 'Justin Trudeau' 'Nate Silver' 'NYT Politics'\n",
      " 'CNN Politics' 'FOX Politics' 'Post Politics' 'We the People']\n"
     ]
    }
   ],
   "source": [
    "print twitter[\"profile\"].values"
   ]
  },
  {
   "cell_type": "markdown",
   "metadata": {},
   "source": [
    "<font color=\"forestgreen\">\n",
    "# Functions\n",
    "This is how I scraped the tweets."
   ]
  },
  {
   "cell_type": "code",
   "execution_count": 82,
   "metadata": {
    "collapsed": true
   },
   "outputs": [],
   "source": [
    "def get_tweet_bag(twitter_url):\n",
    "    # PARSE PROFILE\n",
    "    this_request = requests.get(twitter_url).text\n",
    "    abc_soup = BeautifulSoup(this_request, \"html.parser\")\n",
    "\n",
    "    # GRAB DATA FOR 20 TWEETS\n",
    "    twenty_tweet_data = abc_soup.find_all(\"div\", {\"class\", \"js-tweet-text-container\"})\n",
    "    \n",
    "    # GET THE 20 TWEETS FOR ONE PERSON\n",
    "    twenty_tweets = [x.find_all(\"p\")[0].text for x in twenty_tweet_data]\n",
    "    twenty_tweets = [x.encode(\"ascii\", \"replace\") for x in twenty_tweets]\n",
    "\n",
    "    # CREATE BAG OF WORDS\n",
    "    tweet_bag = \" \".join(twenty_tweets)\n",
    "    \n",
    "    return(tweet_bag)"
   ]
  },
  {
   "cell_type": "code",
   "execution_count": 83,
   "metadata": {
    "collapsed": false
   },
   "outputs": [],
   "source": [
    "tweet_bags = [get_tweet_bag(x) for x in twitter[\"url\"]]"
   ]
  },
  {
   "cell_type": "markdown",
   "metadata": {},
   "source": [
    "<font color=\"forestgreen\">\n",
    "# Assembling Dataframe\n",
    "Now, let's save our data!"
   ]
  },
  {
   "cell_type": "code",
   "execution_count": 84,
   "metadata": {
    "collapsed": true
   },
   "outputs": [],
   "source": [
    "twitter[\"tweet_bags\"] = tweet_bags"
   ]
  },
  {
   "cell_type": "code",
   "execution_count": 85,
   "metadata": {
    "collapsed": false
   },
   "outputs": [
    {
     "data": {
      "text/html": [
       "<div>\n",
       "<table border=\"1\" class=\"dataframe\">\n",
       "  <thead>\n",
       "    <tr style=\"text-align: right;\">\n",
       "      <th></th>\n",
       "      <th>profile</th>\n",
       "      <th>url</th>\n",
       "      <th>tweet_bags</th>\n",
       "    </tr>\n",
       "  </thead>\n",
       "  <tbody>\n",
       "    <tr>\n",
       "      <th>0</th>\n",
       "      <td>Donald Trump</td>\n",
       "      <td>https://twitter.com/POTUS</td>\n",
       "      <td>FBI Director Comey: fmr. DNI Clapper \"right\" t...</td>\n",
       "    </tr>\n",
       "    <tr>\n",
       "      <th>1</th>\n",
       "      <td>Betsy Devos</td>\n",
       "      <td>https://twitter.com/BetsyDeVosED</td>\n",
       "      <td>#NASBE CEO Kris Amundson reiterates \"nothing s...</td>\n",
       "    </tr>\n",
       "    <tr>\n",
       "      <th>2</th>\n",
       "      <td>Kellyanne Conway</td>\n",
       "      <td>https://twitter.com/KellyannePolls</td>\n",
       "      <td>Congratulations @erictrump &amp; @LaraLeaTrump on ...</td>\n",
       "    </tr>\n",
       "    <tr>\n",
       "      <th>3</th>\n",
       "      <td>Mike Pence</td>\n",
       "      <td>https://twitter.com/mike_pence</td>\n",
       "      <td>.@POTUS showed true leadership in his #JointAd...</td>\n",
       "    </tr>\n",
       "    <tr>\n",
       "      <th>4</th>\n",
       "      <td>Mitt Romney</td>\n",
       "      <td>https://twitter.com/MittRomney</td>\n",
       "      <td>I'm a fan of proposed Deputy Treasury Secretar...</td>\n",
       "    </tr>\n",
       "    <tr>\n",
       "      <th>5</th>\n",
       "      <td>Jeb Bush</td>\n",
       "      <td>https://twitter.com/JebBush</td>\n",
       "      <td>Such an unnecessary distraction given all the ...</td>\n",
       "    </tr>\n",
       "    <tr>\n",
       "      <th>6</th>\n",
       "      <td>Milo Yiannopoulos</td>\n",
       "      <td>https://twitter.com/DontGoAwayM4d</td>\n",
       "      <td>http://bit.ly/2mRyeJq? via /r/KiA #gamergate K...</td>\n",
       "    </tr>\n",
       "    <tr>\n",
       "      <th>7</th>\n",
       "      <td>Sarah Palin</td>\n",
       "      <td>https://twitter.com/SarahPalinUSA</td>\n",
       "      <td>JUST In... http://fb.me/124E4KuhZ? This is maj...</td>\n",
       "    </tr>\n",
       "    <tr>\n",
       "      <th>8</th>\n",
       "      <td>Ted Cruz</td>\n",
       "      <td>https://twitter.com/tedcruz</td>\n",
       "      <td>Add your name if you agree -- no US funding fo...</td>\n",
       "    </tr>\n",
       "    <tr>\n",
       "      <th>9</th>\n",
       "      <td>Jerry Brown</td>\n",
       "      <td>https://twitter.com/JerryBrownGov</td>\n",
       "      <td>California is Not Turning Back, Not Now, Not E...</td>\n",
       "    </tr>\n",
       "  </tbody>\n",
       "</table>\n",
       "</div>"
      ],
      "text/plain": [
       "             profile                                 url  \\\n",
       "0       Donald Trump           https://twitter.com/POTUS   \n",
       "1        Betsy Devos    https://twitter.com/BetsyDeVosED   \n",
       "2   Kellyanne Conway  https://twitter.com/KellyannePolls   \n",
       "3         Mike Pence      https://twitter.com/mike_pence   \n",
       "4        Mitt Romney      https://twitter.com/MittRomney   \n",
       "5           Jeb Bush         https://twitter.com/JebBush   \n",
       "6  Milo Yiannopoulos   https://twitter.com/DontGoAwayM4d   \n",
       "7        Sarah Palin   https://twitter.com/SarahPalinUSA   \n",
       "8           Ted Cruz         https://twitter.com/tedcruz   \n",
       "9        Jerry Brown   https://twitter.com/JerryBrownGov   \n",
       "\n",
       "                                          tweet_bags  \n",
       "0  FBI Director Comey: fmr. DNI Clapper \"right\" t...  \n",
       "1  #NASBE CEO Kris Amundson reiterates \"nothing s...  \n",
       "2  Congratulations @erictrump & @LaraLeaTrump on ...  \n",
       "3  .@POTUS showed true leadership in his #JointAd...  \n",
       "4  I'm a fan of proposed Deputy Treasury Secretar...  \n",
       "5  Such an unnecessary distraction given all the ...  \n",
       "6  http://bit.ly/2mRyeJq? via /r/KiA #gamergate K...  \n",
       "7  JUST In... http://fb.me/124E4KuhZ? This is maj...  \n",
       "8  Add your name if you agree -- no US funding fo...  \n",
       "9  California is Not Turning Back, Not Now, Not E...  "
      ]
     },
     "execution_count": 85,
     "metadata": {},
     "output_type": "execute_result"
    }
   ],
   "source": [
    "twitter.head(10)"
   ]
  },
  {
   "cell_type": "code",
   "execution_count": 86,
   "metadata": {
    "collapsed": false
   },
   "outputs": [],
   "source": [
    "twitter.to_csv(\"data/twitter_data.csv\")"
   ]
  },
  {
   "cell_type": "code",
   "execution_count": null,
   "metadata": {
    "collapsed": true
   },
   "outputs": [],
   "source": []
  }
 ],
 "metadata": {
  "kernelspec": {
   "display_name": "Python 2",
   "language": "python",
   "name": "python2"
  },
  "language_info": {
   "codemirror_mode": {
    "name": "ipython",
    "version": 2
   },
   "file_extension": ".py",
   "mimetype": "text/x-python",
   "name": "python",
   "nbconvert_exporter": "python",
   "pygments_lexer": "ipython2",
   "version": "2.7.13"
  }
 },
 "nbformat": 4,
 "nbformat_minor": 2
}
