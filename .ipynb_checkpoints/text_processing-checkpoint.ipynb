{
 "cells": [
  {
   "cell_type": "markdown",
   "metadata": {},
   "source": [
    "<font color=\"navy\">\n",
    "# Text Processing\n",
    "(1) Clean up and tokenize body text\n",
    "<br>\n",
    "(2) Clean up title text\n",
    "<br>\n",
    "(3) Made new data frame\n",
    "<br>\n",
    "(4) Absolute Frequency Vectorization\n",
    "<br>\n",
    "(5) More Stop Word Removal"
   ]
  },
  {
   "cell_type": "code",
   "execution_count": 39,
   "metadata": {
    "collapsed": true
   },
   "outputs": [],
   "source": [
    "# LIBRARIES\n",
    "# TEXT PROCESSING\n",
    "import nltk\n",
    "from nltk.corpus import stopwords\n",
    "import string\n",
    "import re\n",
    "from sklearn.feature_extraction.text import TfidfVectorizer\n",
    "\n",
    "# DATA SCIENCE\n",
    "import pandas as pd\n",
    "import numpy as np\n",
    "\n",
    "# VISUALIZATION\n",
    "from wordcloud import WordCloud\n",
    "from matplotlib import pyplot as plt\n",
    "%matplotlib inline\n",
    "plt.style.use(\"ggplot\")\n",
    "\n",
    "# ELSE\n",
    "from collections import Counter\n",
    "import os\n",
    "from sklearn.feature_extraction.text import CountVectorizer\n",
    "from sklearn.ensemble import RandomForestClassifier"
   ]
  },
  {
   "cell_type": "code",
   "execution_count": 7,
   "metadata": {
    "collapsed": false
   },
   "outputs": [
    {
     "data": {
      "text/html": [
       "<div>\n",
       "<table border=\"1\" class=\"dataframe\">\n",
       "  <thead>\n",
       "    <tr style=\"text-align: right;\">\n",
       "      <th></th>\n",
       "      <th>body</th>\n",
       "      <th>issues</th>\n",
       "      <th>petition_type</th>\n",
       "      <th>title</th>\n",
       "      <th>url</th>\n",
       "      <th>ideology</th>\n",
       "    </tr>\n",
       "  </thead>\n",
       "  <tbody>\n",
       "    <tr>\n",
       "      <th>0</th>\n",
       "      <td>It effects every American in some way.  It wil...</td>\n",
       "      <td>Budget &amp; Taxes, Economy &amp; Jobs, Veterans &amp; Mil...</td>\n",
       "      <td>Change an existing Administration policy</td>\n",
       "      <td>Legalize Marijuana and bring jobs to millions ...</td>\n",
       "      <td>https://petitions.whitehouse.gov/petition/lega...</td>\n",
       "      <td>Liberal</td>\n",
       "    </tr>\n",
       "    <tr>\n",
       "      <th>1</th>\n",
       "      <td>\"In the dying days of the Ottoman Empire, unde...</td>\n",
       "      <td>Civil Rights &amp; Equality, Government &amp; Regulato...</td>\n",
       "      <td>Take or explain a position on an issue or policy</td>\n",
       "      <td>Officially Recognize The Armenian Genocide Of ...</td>\n",
       "      <td>https://petitions.whitehouse.gov/petition/offi...</td>\n",
       "      <td>Neutral</td>\n",
       "    </tr>\n",
       "    <tr>\n",
       "      <th>2</th>\n",
       "      <td>Walleye are political pawns at Mille Lacs Lake...</td>\n",
       "      <td>Civil Rights &amp; Equality, Economy &amp; Jobs, Gover...</td>\n",
       "      <td>Change an existing Administration policy</td>\n",
       "      <td>Eliminate Mille Lacs Lake Treaty Management</td>\n",
       "      <td>https://petitions.whitehouse.gov/petition/elim...</td>\n",
       "      <td>Neutral</td>\n",
       "    </tr>\n",
       "    <tr>\n",
       "      <th>3</th>\n",
       "      <td>We cannot make America great with so many disa...</td>\n",
       "      <td>Economy &amp; Jobs, Health Care, Technology &amp; Inno...</td>\n",
       "      <td>Propose a new Administration policy</td>\n",
       "      <td>Take Action to End the Autism Epidemic and Imp...</td>\n",
       "      <td>https://petitions.whitehouse.gov/petition/take...</td>\n",
       "      <td>Conservative</td>\n",
       "    </tr>\n",
       "    <tr>\n",
       "      <th>4</th>\n",
       "      <td>Locked up by US Government for 10 Years \\r\\nIN...</td>\n",
       "      <td>Criminal Justice Reform</td>\n",
       "      <td>Take or explain a position on an issue or policy</td>\n",
       "      <td>Release Kevin Trudeau</td>\n",
       "      <td>https://petitions.whitehouse.gov/petition/rele...</td>\n",
       "      <td>Neutral</td>\n",
       "    </tr>\n",
       "  </tbody>\n",
       "</table>\n",
       "</div>"
      ],
      "text/plain": [
       "                                                body  \\\n",
       "0  It effects every American in some way.  It wil...   \n",
       "1  \"In the dying days of the Ottoman Empire, unde...   \n",
       "2  Walleye are political pawns at Mille Lacs Lake...   \n",
       "3  We cannot make America great with so many disa...   \n",
       "4  Locked up by US Government for 10 Years \\r\\nIN...   \n",
       "\n",
       "                                              issues  \\\n",
       "0  Budget & Taxes, Economy & Jobs, Veterans & Mil...   \n",
       "1  Civil Rights & Equality, Government & Regulato...   \n",
       "2  Civil Rights & Equality, Economy & Jobs, Gover...   \n",
       "3  Economy & Jobs, Health Care, Technology & Inno...   \n",
       "4                            Criminal Justice Reform   \n",
       "\n",
       "                                      petition_type  \\\n",
       "0          Change an existing Administration policy   \n",
       "1  Take or explain a position on an issue or policy   \n",
       "2          Change an existing Administration policy   \n",
       "3               Propose a new Administration policy   \n",
       "4  Take or explain a position on an issue or policy   \n",
       "\n",
       "                                               title  \\\n",
       "0  Legalize Marijuana and bring jobs to millions ...   \n",
       "1  Officially Recognize The Armenian Genocide Of ...   \n",
       "2        Eliminate Mille Lacs Lake Treaty Management   \n",
       "3  Take Action to End the Autism Epidemic and Imp...   \n",
       "4                              Release Kevin Trudeau   \n",
       "\n",
       "                                                 url      ideology  \n",
       "0  https://petitions.whitehouse.gov/petition/lega...       Liberal  \n",
       "1  https://petitions.whitehouse.gov/petition/offi...       Neutral  \n",
       "2  https://petitions.whitehouse.gov/petition/elim...       Neutral  \n",
       "3  https://petitions.whitehouse.gov/petition/take...  Conservative  \n",
       "4  https://petitions.whitehouse.gov/petition/rele...       Neutral  "
      ]
     },
     "execution_count": 7,
     "metadata": {},
     "output_type": "execute_result"
    }
   ],
   "source": [
    "# READ IN DATA\n",
    "petnlp = pd.DataFrame.from_csv(\"petnlp.csv\")\n",
    "petnlp.head()"
   ]
  },
  {
   "cell_type": "markdown",
   "metadata": {},
   "source": [
    "<font color=\"navy\">\n",
    "## (1) Text Clean-Up and Tokenization\n",
    "We will clean up body text."
   ]
  },
  {
   "cell_type": "code",
   "execution_count": 8,
   "metadata": {
    "collapsed": false
   },
   "outputs": [],
   "source": [
    "# FUNCTION TO CLEAN UP BODY TEXT\n",
    "def cleanUpText(text):\n",
    "    # REMOVE MARK UP\n",
    "    new_text = text.replace(\"\\r\", \"\").replace(\"\\n\", \"\")\n",
    "    \n",
    "    # REMOVE URLS\n",
    "    new_text = re.sub(r\"\\w+:\\/{2}[\\d\\w-]+(\\.[\\d\\w-]+)*(?:(?:\\/[^\\s/]*))*\", \"\", new_text).strip()\n",
    "    \n",
    "    # REMOVE PUNCTUATION\n",
    "    new_text = new_text.translate(None, string.punctuation)\n",
    "    \n",
    "    # REMOVE NUMBERS\n",
    "    new_text = re.sub(r\"\\d+\", \"\", new_text)\n",
    "    \n",
    "    # LOWERCASE\n",
    "    new_text = new_text.lower()\n",
    "    \n",
    "    #SPLIT\n",
    "    new_text = new_text.split()\n",
    "    \n",
    "    # REMOVE STOPWORDS\n",
    "    return [word for word in new_text if word not in stopwords.words(\"english\")]"
   ]
  },
  {
   "cell_type": "code",
   "execution_count": 9,
   "metadata": {
    "collapsed": false
   },
   "outputs": [
    {
     "name": "stderr",
     "output_type": "stream",
     "text": [
      "C:\\Users\\ehze\\Anaconda2\\lib\\site-packages\\ipykernel\\__main__.py:22: UnicodeWarning: Unicode equal comparison failed to convert both arguments to Unicode - interpreting them as being unequal\n"
     ]
    },
    {
     "name": "stdout",
     "output_type": "stream",
     "text": [
      "['effects', 'every', 'american', 'way', 'also', 'keep', 'americans', 'funding', 'terrorism', 'drug', 'cartels', 'would', 'bring', 'jobs', 'following', 'industries', 'energy', 'farming', 'housing', 'industrial', 'manufacturing', 'healthcare', 'bring', 'much', 'needed', 'tax', 'dollars', 'fuel', 'military', 'provide', 'better', 'body', 'armor', 'troops', 'fuel', 'america', 'surplus', 'foreign', 'export']\n"
     ]
    }
   ],
   "source": [
    "tokens = [cleanUpText(x) for x in petnlp[\"body\"]]\n",
    "print tokens[0]"
   ]
  },
  {
   "cell_type": "markdown",
   "metadata": {},
   "source": [
    "<font color=\"navy\">\n",
    "## (2) Clean Up Title Text"
   ]
  },
  {
   "cell_type": "code",
   "execution_count": 10,
   "metadata": {
    "collapsed": true
   },
   "outputs": [],
   "source": [
    "# FUNCTION TO CLEAN UP BODY TEXT\n",
    "def cleanUpTitle(text):\n",
    "    # REMOVE MARK UP\n",
    "    new_text = text.replace(\"\\r\", \"\").replace(\"\\n\", \"\")\n",
    "    \n",
    "    # REMOVE NUMBERS\n",
    "    new_text = re.sub(r\"\\d+\", \"\", new_text)\n",
    "    \n",
    "    # LOWERCASE\n",
    "    new_text = new_text.lower()\n",
    "    \n",
    "    return(new_text)"
   ]
  },
  {
   "cell_type": "code",
   "execution_count": 11,
   "metadata": {
    "collapsed": true
   },
   "outputs": [],
   "source": [
    "cleaned_titles = [cleanUpTitle(x) for x in petnlp[\"title\"]]"
   ]
  },
  {
   "cell_type": "code",
   "execution_count": 12,
   "metadata": {
    "collapsed": false
   },
   "outputs": [
    {
     "data": {
      "text/plain": [
       "['legalize marijuana and bring jobs to millions of americans.',\n",
       " 'officially recognize the armenian genocide of ',\n",
       " 'eliminate mille lacs lake treaty management',\n",
       " 'take action to end the autism epidemic and implement comprehensive reforms of vaccine safety policies',\n",
       " 'release kevin trudeau']"
      ]
     },
     "execution_count": 12,
     "metadata": {},
     "output_type": "execute_result"
    }
   ],
   "source": [
    "cleaned_titles[0:5]"
   ]
  },
  {
   "cell_type": "markdown",
   "metadata": {},
   "source": [
    "<font color=\"navy\">\n",
    "## (3) New Data Frame\n",
    "I don't know."
   ]
  },
  {
   "cell_type": "code",
   "execution_count": 13,
   "metadata": {
    "collapsed": false
   },
   "outputs": [],
   "source": [
    "blobs = [unicode(\" \".join(x), errors=\"replace\") for x in tokens]"
   ]
  },
  {
   "cell_type": "code",
   "execution_count": 95,
   "metadata": {
    "collapsed": false
   },
   "outputs": [
    {
     "data": {
      "text/html": [
       "<div>\n",
       "<table border=\"1\" class=\"dataframe\">\n",
       "  <thead>\n",
       "    <tr style=\"text-align: right;\">\n",
       "      <th></th>\n",
       "      <th>blobs</th>\n",
       "      <th>ideology</th>\n",
       "      <th>title</th>\n",
       "    </tr>\n",
       "  </thead>\n",
       "  <tbody>\n",
       "    <tr>\n",
       "      <th>0</th>\n",
       "      <td>effects every american way also keep americans...</td>\n",
       "      <td>Liberal</td>\n",
       "      <td>legalize marijuana and bring jobs to millions ...</td>\n",
       "    </tr>\n",
       "    <tr>\n",
       "      <th>1</th>\n",
       "      <td>dying days ottoman empire cover world war youn...</td>\n",
       "      <td>Neutral</td>\n",
       "      <td>officially recognize the armenian genocide of</td>\n",
       "    </tr>\n",
       "    <tr>\n",
       "      <th>2</th>\n",
       "      <td>walleye political pawns mille lacs lakewhile n...</td>\n",
       "      <td>Neutral</td>\n",
       "      <td>eliminate mille lacs lake treaty management</td>\n",
       "    </tr>\n",
       "    <tr>\n",
       "      <th>3</th>\n",
       "      <td>cannot make america great many disabled autist...</td>\n",
       "      <td>Conservative</td>\n",
       "      <td>take action to end the autism epidemic and imp...</td>\n",
       "    </tr>\n",
       "    <tr>\n",
       "      <th>4</th>\n",
       "      <td>locked us government years prison exercising c...</td>\n",
       "      <td>Neutral</td>\n",
       "      <td>release kevin trudeau</td>\n",
       "    </tr>\n",
       "  </tbody>\n",
       "</table>\n",
       "</div>"
      ],
      "text/plain": [
       "                                               blobs      ideology  \\\n",
       "0  effects every american way also keep americans...       Liberal   \n",
       "1  dying days ottoman empire cover world war youn...       Neutral   \n",
       "2  walleye political pawns mille lacs lakewhile n...       Neutral   \n",
       "3  cannot make america great many disabled autist...  Conservative   \n",
       "4  locked us government years prison exercising c...       Neutral   \n",
       "\n",
       "                                               title  \n",
       "0  legalize marijuana and bring jobs to millions ...  \n",
       "1     officially recognize the armenian genocide of   \n",
       "2        eliminate mille lacs lake treaty management  \n",
       "3  take action to end the autism epidemic and imp...  \n",
       "4                              release kevin trudeau  "
      ]
     },
     "execution_count": 95,
     "metadata": {},
     "output_type": "execute_result"
    }
   ],
   "source": [
    "blobs_df = pd.DataFrame({\"title\":cleaned_titles, \"blobs\":blobs, \"ideology\":petnlp[\"ideology\"]})\n",
    "blobs_df.head()"
   ]
  },
  {
   "cell_type": "markdown",
   "metadata": {},
   "source": [
    "<font color=\"navy\">\n",
    "## (4) Absolute Frequency Vectorization\n",
    "Absolute frequencies of words per ideology."
   ]
  },
  {
   "cell_type": "code",
   "execution_count": 15,
   "metadata": {
    "collapsed": false
   },
   "outputs": [
    {
     "data": {
      "text/plain": [
       "[(u'us', 21),\n",
       " (u'president', 19),\n",
       " (u'people', 19),\n",
       " (u'states', 18),\n",
       " (u'new', 14),\n",
       " (u'united', 14),\n",
       " (u'military', 12),\n",
       " (u'congress', 12),\n",
       " (u'government', 12),\n",
       " (u'make', 11),\n",
       " (u'help', 11),\n",
       " (u'petition', 10),\n",
       " (u'state', 10),\n",
       " (u'law', 9),\n",
       " (u'trump', 9),\n",
       " (u'federal', 9),\n",
       " (u'get', 9),\n",
       " (u'many', 9),\n",
       " (u'american', 9),\n",
       " (u'pr', 9)]"
      ]
     },
     "execution_count": 15,
     "metadata": {},
     "output_type": "execute_result"
    }
   ],
   "source": [
    "neutral_blobs = \" \".join([x for x in blobs_df[blobs_df[\"ideology\"] == \"Neutral\"][\"blobs\"]])\n",
    "neutral_counts = Counter(neutral_blobs.split())\n",
    "neutral_counts.most_common()[0:20]"
   ]
  },
  {
   "cell_type": "code",
   "execution_count": 16,
   "metadata": {
    "collapsed": false
   },
   "outputs": [
    {
     "data": {
      "image/png": "[encoded data removed]",
      "text/plain": [
       "<matplotlib.figure.Figure at 0xdb9d4a8>"
      ]
     },
     "metadata": {},
     "output_type": "display_data"
    }
   ],
   "source": [
    "df = pd.DataFrame.from_dict(neutral_counts, orient='index').reset_index()\n",
    "df = df.sort_values(by=0, ascending=False)\n",
    "\n",
    "word = list(df.ix[:,0])[0:20]\n",
    "count = list(df.ix[:,1])[0:20]\n",
    "\n",
    "word_indices = np.arange(20) # ORDERED INDICES\n",
    "\n",
    "# PLOTTING\n",
    "plt.bar(word_indices, count, color=\"black\")\n",
    "plt.xticks(word_indices, word, rotation=70)\n",
    "plt.ylabel(\"Absolute Frequency\")\n",
    "plt.title(\"Absolute Frequency of Words in Neutral Petitions\")\n",
    "    \n",
    "plt.show()"
   ]
  },
  {
   "cell_type": "code",
   "execution_count": 17,
   "metadata": {
    "collapsed": false
   },
   "outputs": [
    {
     "data": {
      "text/plain": [
       "[(u'president', 76),\n",
       " (u'people', 67),\n",
       " (u'trump', 62),\n",
       " (u'us', 62),\n",
       " (u'states', 56),\n",
       " (u'order', 46),\n",
       " (u'united', 46),\n",
       " (u'american', 45),\n",
       " (u'national', 39),\n",
       " (u'executive', 37),\n",
       " (u'rights', 33),\n",
       " (u'country', 33),\n",
       " (u'americans', 32),\n",
       " (u'climate', 32),\n",
       " (u'would', 30),\n",
       " (u'administration', 30),\n",
       " (u'change', 28),\n",
       " (u'public', 26),\n",
       " (u'donald', 25),\n",
       " (u'petition', 24)]"
      ]
     },
     "execution_count": 17,
     "metadata": {},
     "output_type": "execute_result"
    }
   ],
   "source": [
    "liberal_blobs = \" \".join([x for x in blobs_df[blobs_df[\"ideology\"] == \"Liberal\"][\"blobs\"]])\n",
    "liberal_counts = Counter(liberal_blobs.split())\n",
    "liberal_counts.most_common()[0:20]"
   ]
  },
  {
   "cell_type": "code",
   "execution_count": 18,
   "metadata": {
    "collapsed": false
   },
   "outputs": [
    {
     "data": {
      "image/png": "[encoded data removed]",
      "text/plain": [
       "<matplotlib.figure.Figure at 0xdcdd208>"
      ]
     },
     "metadata": {},
     "output_type": "display_data"
    }
   ],
   "source": [
    "df = pd.DataFrame.from_dict(liberal_counts, orient='index').reset_index()\n",
    "df = df.sort_values(by=0, ascending=False)\n",
    "\n",
    "word = list(df.ix[:,0])[0:20]\n",
    "count = list(df.ix[:,1])[0:20]\n",
    "\n",
    "word_indices = np.arange(20) # ORDERED INDICES\n",
    "\n",
    "## PLOTTING\n",
    "plt.bar(word_indices, count, color=\"black\")\n",
    "plt.xticks(word_indices, word, rotation=70)\n",
    "plt.ylabel(\"Absolute Frequency\")\n",
    "plt.title(\"Absolute Frequency of Words in Liberal Petitions\")\n",
    "    \n",
    "plt.show()"
   ]
  },
  {
   "cell_type": "code",
   "execution_count": 19,
   "metadata": {
    "collapsed": false
   },
   "outputs": [
    {
     "data": {
      "text/plain": [
       "[(u'us', 50),\n",
       " (u'people', 39),\n",
       " (u'president', 34),\n",
       " (u'law', 34),\n",
       " (u'states', 33),\n",
       " (u'trump', 27),\n",
       " (u'state', 27),\n",
       " (u'united', 26),\n",
       " (u'government', 22),\n",
       " (u'amendment', 21),\n",
       " (u'citizens', 20),\n",
       " (u'firearms', 20),\n",
       " (u'petition', 19),\n",
       " (u'national', 19),\n",
       " (u'would', 17),\n",
       " (u'american', 17),\n",
       " (u'rights', 16),\n",
       " (u'police', 16),\n",
       " (u'time', 15),\n",
       " (u'years', 15)]"
      ]
     },
     "execution_count": 19,
     "metadata": {},
     "output_type": "execute_result"
    }
   ],
   "source": [
    "conservative_blobs = \" \".join([x for x in blobs_df[blobs_df[\"ideology\"] == \"Conservative\"][\"blobs\"]])\n",
    "conservative_counts = Counter(conservative_blobs.split())\n",
    "conservative_counts.most_common()[0:20]"
   ]
  },
  {
   "cell_type": "code",
   "execution_count": 20,
   "metadata": {
    "collapsed": false
   },
   "outputs": [
    {
     "data": {
      "image/png": "[encoded data removed]",
      "text/plain": [
       "<matplotlib.figure.Figure at 0x4d06128>"
      ]
     },
     "metadata": {},
     "output_type": "display_data"
    }
   ],
   "source": [
    "df = pd.DataFrame.from_dict(conservative_counts, orient='index').reset_index()\n",
    "df = df.sort_values(by=0, ascending=False)\n",
    "\n",
    "word = list(df.ix[:,0])[0:20]\n",
    "count = list(df.ix[:,1])[0:20]\n",
    "\n",
    "word_indices = np.arange(20) # ORDERED INDICES\n",
    "\n",
    "## PLOTTING\n",
    "plt.bar(word_indices, count, color=\"black\")\n",
    "plt.xticks(word_indices, word, rotation=70)\n",
    "plt.ylabel(\"Absolute Frequency\")\n",
    "plt.title(\"Absolute Frequency of Words in Conservative Petitions\")\n",
    "    \n",
    "plt.show()"
   ]
  },
  {
   "cell_type": "markdown",
   "metadata": {},
   "source": [
    "<font color=\"navy\">\n",
    "## (5) Need to Remove Most Popular Words\n",
    "We don't want them to all have the same top words."
   ]
  },
  {
   "cell_type": "code",
   "execution_count": 96,
   "metadata": {
    "collapsed": false
   },
   "outputs": [],
   "source": [
    "all_blobs = \" \".join([x for x in blobs_df[\"blobs\"]])\n",
    "all_counts = Counter(all_blobs.split())\n",
    "# all_counts.most_common()[0:50]"
   ]
  },
  {
   "cell_type": "markdown",
   "metadata": {},
   "source": [
    "<font color=\"navy\">\n",
    "I need to make an informed decision on more stop words. I feel strongly that these words do not need to be included in our corpus.\n",
    "<br>\n",
    "<br>\n",
    "<b>New Additions:</b> us, people, american, national, government, petition, make, also, many, must, need, change, ask, use"
   ]
  },
  {
   "cell_type": "code",
   "execution_count": 97,
   "metadata": {
    "collapsed": false
   },
   "outputs": [],
   "source": [
    "new_stops = '''\n",
    "            president, without, needs, since, used, get, would, us, united, states, \n",
    "            people, american, americans, national, government, petition, make, also, \n",
    "            many, must, need, change, ask, use, every, trump, white, house, america,\n",
    "            executive\n",
    "            '''\n",
    "new_stops = new_stops.split(\", \")"
   ]
  },
  {
   "cell_type": "code",
   "execution_count": 98,
   "metadata": {
    "collapsed": true
   },
   "outputs": [],
   "source": [
    "def removeStopWords(text):\n",
    "    return [word for word in text.split() if word not in new_stops]"
   ]
  },
  {
   "cell_type": "code",
   "execution_count": 99,
   "metadata": {
    "collapsed": false
   },
   "outputs": [],
   "source": [
    "new_blobs = [\" \".join(removeStopWords(x)) for x in blobs_df[\"blobs\"]]"
   ]
  },
  {
   "cell_type": "code",
   "execution_count": 100,
   "metadata": {
    "collapsed": false
   },
   "outputs": [
    {
     "data": {
      "text/html": [
       "<div>\n",
       "<table border=\"1\" class=\"dataframe\">\n",
       "  <thead>\n",
       "    <tr style=\"text-align: right;\">\n",
       "      <th></th>\n",
       "      <th>blobs</th>\n",
       "      <th>ideology</th>\n",
       "      <th>title</th>\n",
       "      <th>new_blobs</th>\n",
       "    </tr>\n",
       "  </thead>\n",
       "  <tbody>\n",
       "    <tr>\n",
       "      <th>0</th>\n",
       "      <td>effects every american way also keep americans...</td>\n",
       "      <td>Liberal</td>\n",
       "      <td>legalize marijuana and bring jobs to millions ...</td>\n",
       "      <td>effects way keep funding terrorism drug cartel...</td>\n",
       "    </tr>\n",
       "    <tr>\n",
       "      <th>1</th>\n",
       "      <td>dying days ottoman empire cover world war youn...</td>\n",
       "      <td>Neutral</td>\n",
       "      <td>officially recognize the armenian genocide of</td>\n",
       "      <td>dying days ottoman empire cover world war youn...</td>\n",
       "    </tr>\n",
       "    <tr>\n",
       "      <th>2</th>\n",
       "      <td>walleye political pawns mille lacs lakewhile n...</td>\n",
       "      <td>Neutral</td>\n",
       "      <td>eliminate mille lacs lake treaty management</td>\n",
       "      <td>walleye political pawns mille lacs lakewhile n...</td>\n",
       "    </tr>\n",
       "    <tr>\n",
       "      <th>3</th>\n",
       "      <td>cannot make america great many disabled autist...</td>\n",
       "      <td>Conservative</td>\n",
       "      <td>take action to end the autism epidemic and imp...</td>\n",
       "      <td>cannot america great many disabled autistic ch...</td>\n",
       "    </tr>\n",
       "    <tr>\n",
       "      <th>4</th>\n",
       "      <td>locked us government years prison exercising c...</td>\n",
       "      <td>Neutral</td>\n",
       "      <td>release kevin trudeau</td>\n",
       "      <td>locked years prison exercising constitutional ...</td>\n",
       "    </tr>\n",
       "  </tbody>\n",
       "</table>\n",
       "</div>"
      ],
      "text/plain": [
       "                                               blobs      ideology  \\\n",
       "0  effects every american way also keep americans...       Liberal   \n",
       "1  dying days ottoman empire cover world war youn...       Neutral   \n",
       "2  walleye political pawns mille lacs lakewhile n...       Neutral   \n",
       "3  cannot make america great many disabled autist...  Conservative   \n",
       "4  locked us government years prison exercising c...       Neutral   \n",
       "\n",
       "                                               title  \\\n",
       "0  legalize marijuana and bring jobs to millions ...   \n",
       "1     officially recognize the armenian genocide of    \n",
       "2        eliminate mille lacs lake treaty management   \n",
       "3  take action to end the autism epidemic and imp...   \n",
       "4                              release kevin trudeau   \n",
       "\n",
       "                                           new_blobs  \n",
       "0  effects way keep funding terrorism drug cartel...  \n",
       "1  dying days ottoman empire cover world war youn...  \n",
       "2  walleye political pawns mille lacs lakewhile n...  \n",
       "3  cannot america great many disabled autistic ch...  \n",
       "4  locked years prison exercising constitutional ...  "
      ]
     },
     "execution_count": 100,
     "metadata": {},
     "output_type": "execute_result"
    }
   ],
   "source": [
    "blobs_df[\"new_blobs\"] = new_blobs\n",
    "blobs_df.head()"
   ]
  },
  {
   "cell_type": "code",
   "execution_count": 26,
   "metadata": {
    "collapsed": false
   },
   "outputs": [
    {
     "data": {
      "image/png": "[encoded data removed]",
      "text/plain": [
       "<matplotlib.figure.Figure at 0xecc9160>"
      ]
     },
     "metadata": {},
     "output_type": "display_data"
    }
   ],
   "source": [
    "# NEUTRAL WORDS\n",
    "neutral_blobs2 = \" \".join([x for x in blobs_df[blobs_df[\"ideology\"] == \"Neutral\"][\"new_blobs\"]])\n",
    "neutral_counts2 = Counter(neutral_blobs2.split())\n",
    "neutral_counts2.most_common()[0:20]\n",
    "\n",
    "df = pd.DataFrame.from_dict(neutral_counts2, orient='index').reset_index()\n",
    "df = df.sort_values(by=0, ascending=False)\n",
    "\n",
    "word = list(df.ix[:,0])[0:20]\n",
    "count = list(df.ix[:,1])[0:20]\n",
    "\n",
    "word_indices = np.arange(20) # ORDERED INDICES\n",
    "\n",
    "# PLOTTING\n",
    "plt.figure(figsize=(20,10))\n",
    "plt.bar(word_indices, count, color=\"indigo\")\n",
    "plt.xticks(word_indices, word, rotation=70)\n",
    "plt.ylabel(\"Absolute Frequency\")\n",
    "plt.title(\"Absolute Frequency of Words in Neutral Petitions\")\n",
    "    \n",
    "plt.show()"
   ]
  },
  {
   "cell_type": "code",
   "execution_count": 27,
   "metadata": {
    "collapsed": false
   },
   "outputs": [
    {
     "data": {
      "image/png": "[encoded data removed]",
      "text/plain": [
       "<matplotlib.figure.Figure at 0xf0f3438>"
      ]
     },
     "metadata": {},
     "output_type": "display_data"
    }
   ],
   "source": [
    "# LIBERAL WORDS\n",
    "liberal_blobs2 = \" \".join([x for x in blobs_df[blobs_df[\"ideology\"] == \"Liberal\"][\"new_blobs\"]])\n",
    "liberal_counts2 = Counter(liberal_blobs2.split())\n",
    "liberal_counts2.most_common()[0:20]\n",
    "\n",
    "df = pd.DataFrame.from_dict(liberal_counts2, orient='index').reset_index()\n",
    "df = df.sort_values(by=0, ascending=False)\n",
    "\n",
    "word = list(df.ix[:,0])[0:20]\n",
    "count = list(df.ix[:,1])[0:20]\n",
    "\n",
    "word_indices = np.arange(20) # ORDERED INDICES\n",
    "\n",
    "# PLOTTING\n",
    "plt.figure(figsize=(20,10))\n",
    "plt.bar(word_indices, count, color=\"royalblue\")\n",
    "plt.xticks(word_indices, word, rotation=70)\n",
    "plt.ylabel(\"Absolute Frequency\")\n",
    "plt.title(\"Absolute Frequency of Words in Liberal Petitions\")\n",
    "    \n",
    "plt.show()"
   ]
  },
  {
   "cell_type": "code",
   "execution_count": 28,
   "metadata": {
    "collapsed": false,
    "scrolled": true
   },
   "outputs": [
    {
     "data": {
      "image/png": "[encoded data removed]",
      "text/plain": [
       "<matplotlib.figure.Figure at 0xf3a1e48>"
      ]
     },
     "metadata": {},
     "output_type": "display_data"
    }
   ],
   "source": [
    "# CONSERVATIVE\n",
    "conservative_blobs2 = \" \".join([x for x in blobs_df[blobs_df[\"ideology\"] == \"Conservative\"][\"new_blobs\"]])\n",
    "conservative_counts2 = Counter(conservative_blobs2.split())\n",
    "conservative_counts2.most_common()[0:20]\n",
    "\n",
    "df = pd.DataFrame.from_dict(conservative_counts2, orient='index').reset_index()\n",
    "df = df.sort_values(by=0, ascending=False)\n",
    "\n",
    "word = list(df.ix[:,0])[0:20]\n",
    "count = list(df.ix[:,1])[0:20]\n",
    "\n",
    "word_indices = np.arange(20) # ORDERED INDICES\n",
    "\n",
    "# PLOTTING\n",
    "plt.figure(figsize=(20,10))\n",
    "plt.bar(word_indices, count, color=\"darkred\")\n",
    "plt.xticks(word_indices, word, rotation=70)\n",
    "plt.ylabel(\"Absolute Frequency\")\n",
    "plt.title(\"Absolute Frequency of Words in Conservative Petitions\")\n",
    "    \n",
    "plt.show()"
   ]
  },
  {
   "cell_type": "markdown",
   "metadata": {},
   "source": [
    "<font color=\"navy\">\n",
    "## (6) Testing Vectorizer Code\n",
    "Source: https://www.youtube.com/watch?v=AJVP96tAWxw"
   ]
  },
  {
   "cell_type": "code",
   "execution_count": 155,
   "metadata": {
    "collapsed": false
   },
   "outputs": [],
   "source": [
    "# import random\n",
    "# pseudo_rando_nums = random.sample(range(0, len(blobs_df)), 132)\n",
    "# print pseudo_rando_nums\n",
    "\n",
    "train = [211, 103, 145, 161, 111, 78, 146, 0, 69, 6, 170, 142, 224, 150, 58, 151, 93, 188, 255, 219, 243, 110, 189, 164, 165, 45, 97, 72, 108, 135, 138, 10, 214, 126, 210, 200, 96, 190, 80, 185, 206, 21, 157, 193, 7, 134, 88, 168, 20, 187, 105, 160, 109, 85, 195, 122, 186, 53, 82, 236, 221, 131, 253, 62, 194, 198, 56, 155, 106, 207, 117, 203, 144, 137, 59, 228, 230, 33, 113, 37, 127, 23, 179, 1, 262, 232, 90, 30, 29, 254, 44, 178, 208, 227, 249, 133, 252, 28, 98, 34, 209, 141, 199, 41, 244, 38, 60, 36, 156, 184, 159, 25, 27, 71, 241, 261, 107, 174, 217, 77, 35, 26, 128, 31, 94, 14, 24, 245, 212, 172, 46, 84]"
   ]
  },
  {
   "cell_type": "code",
   "execution_count": 156,
   "metadata": {
    "collapsed": false
   },
   "outputs": [
    {
     "data": {
      "text/plain": [
       "array([[0, 0, 0, ..., 0, 0, 0],\n",
       "       [0, 0, 0, ..., 0, 0, 0],\n",
       "       [0, 0, 0, ..., 0, 0, 0],\n",
       "       ..., \n",
       "       [0, 1, 0, ..., 0, 0, 0],\n",
       "       [0, 0, 0, ..., 0, 0, 0],\n",
       "       [0, 0, 0, ..., 0, 0, 0]], dtype=int64)"
      ]
     },
     "execution_count": 156,
     "metadata": {},
     "output_type": "execute_result"
    }
   ],
   "source": [
    "# VECTORIZING TRAINING DATA\n",
    "vectorizer = CountVectorizer(analyzer= \"word\",\n",
    "                            tokenizer = None,\n",
    "                            preprocessor = None,\n",
    "                            stop_words = None,\n",
    "                            max_features = 5000)\n",
    "train_data_features = vectorizer.fit_transform(blobs_df[\"new_blobs\"][train])\n",
    "train_data_features = train_data_features.toarray()\n",
    "train_data_features"
   ]
  },
  {
   "cell_type": "code",
   "execution_count": 157,
   "metadata": {
    "collapsed": false
   },
   "outputs": [],
   "source": [
    "# GENERATE OUR FOREST\n",
    "forest = RandomForestClassifier(n_estimators = 100)\n",
    "our_forest = forest.fit(train_data_features, blobs_df[\"ideology\"][train])"
   ]
  },
  {
   "cell_type": "code",
   "execution_count": 158,
   "metadata": {
    "collapsed": false
   },
   "outputs": [
    {
     "name": "stdout",
     "output_type": "stream",
     "text": [
      "[2, 3, 4, 5, 8, 9, 11, 12, 13, 15, 16, 17, 18, 19, 22, 32, 39, 40, 42, 43, 47, 48, 49, 50, 51, 52, 54, 55, 57, 61, 63, 64, 65, 66, 67, 68, 70, 73, 74, 75, 76, 79, 81, 83, 86, 87, 89, 91, 92, 95, 99, 100, 101, 102, 104, 112, 114, 115, 116, 118, 119, 120, 121, 123, 124, 125, 129, 130, 132, 136, 139, 140, 143, 147, 148, 149, 152, 153, 154, 158, 162, 163, 166, 167, 169, 171, 173, 175, 176, 177, 180, 181, 182, 183, 191, 192, 196, 197, 201, 202, 204, 205, 213, 215, 216, 218, 220, 222, 223, 225, 226, 229, 231, 233, 234, 235, 237, 238, 239, 240, 242, 246, 247, 248, 250, 251, 256, 257, 258, 259, 260, 263]\n"
     ]
    }
   ],
   "source": [
    "# GET INDICES OF TEST DATA\n",
    "test = set(range(len(blobs_df))) - set(train)\n",
    "test = list(test)\n",
    "print test"
   ]
  },
  {
   "cell_type": "code",
   "execution_count": 159,
   "metadata": {
    "collapsed": false
   },
   "outputs": [
    {
     "data": {
      "text/plain": [
       "array([[0, 0, 0, ..., 0, 0, 0],\n",
       "       [0, 0, 0, ..., 0, 0, 0],\n",
       "       [0, 0, 0, ..., 0, 0, 0],\n",
       "       ..., \n",
       "       [0, 0, 0, ..., 0, 0, 0],\n",
       "       [0, 0, 0, ..., 0, 0, 0],\n",
       "       [0, 0, 0, ..., 0, 0, 0]], dtype=int64)"
      ]
     },
     "execution_count": 159,
     "metadata": {},
     "output_type": "execute_result"
    }
   ],
   "source": [
    "# VECTORIZING TEST DATA\n",
    "test_data_features = vectorizer.transform(blobs_df[\"new_blobs\"][test])\n",
    "test_data_features = test_data_features.toarray()\n",
    "test_data_features"
   ]
  },
  {
   "cell_type": "code",
   "execution_count": 160,
   "metadata": {
    "collapsed": false
   },
   "outputs": [],
   "source": [
    "# PREDICT\n",
    "result = forest.predict(test_data_features)"
   ]
  },
  {
   "cell_type": "code",
   "execution_count": 161,
   "metadata": {
    "collapsed": false
   },
   "outputs": [],
   "source": [
    "pred_df = pd.DataFrame({\"petition\":blobs_df[\"title\"][test], \"true_ideol\":blobs_df[\"ideology\"][test], \"pred_ideol\":result})\n",
    "pred_df = pred_df.reindex()"
   ]
  },
  {
   "cell_type": "code",
   "execution_count": 162,
   "metadata": {
    "collapsed": false
   },
   "outputs": [],
   "source": [
    "pred_df[\"correct\"] = (pred_df[\"pred_ideol\"] == pred_df[\"true_ideol\"])"
   ]
  },
  {
   "cell_type": "code",
   "execution_count": 163,
   "metadata": {
    "collapsed": false
   },
   "outputs": [
    {
     "data": {
      "text/html": [
       "<div>\n",
       "<table border=\"1\" class=\"dataframe\">\n",
       "  <thead>\n",
       "    <tr style=\"text-align: right;\">\n",
       "      <th></th>\n",
       "      <th>petition</th>\n",
       "      <th>pred_ideol</th>\n",
       "      <th>true_ideol</th>\n",
       "      <th>correct</th>\n",
       "    </tr>\n",
       "  </thead>\n",
       "  <tbody>\n",
       "    <tr>\n",
       "      <th>2</th>\n",
       "      <td>eliminate mille lacs lake treaty management</td>\n",
       "      <td>Liberal</td>\n",
       "      <td>Neutral</td>\n",
       "      <td>False</td>\n",
       "    </tr>\n",
       "    <tr>\n",
       "      <th>3</th>\n",
       "      <td>take action to end the autism epidemic and imp...</td>\n",
       "      <td>Liberal</td>\n",
       "      <td>Conservative</td>\n",
       "      <td>False</td>\n",
       "    </tr>\n",
       "    <tr>\n",
       "      <th>4</th>\n",
       "      <td>release kevin trudeau</td>\n",
       "      <td>Liberal</td>\n",
       "      <td>Neutral</td>\n",
       "      <td>False</td>\n",
       "    </tr>\n",
       "    <tr>\n",
       "      <th>5</th>\n",
       "      <td>make marijuana legalization for recreation or ...</td>\n",
       "      <td>Liberal</td>\n",
       "      <td>Liberal</td>\n",
       "      <td>True</td>\n",
       "    </tr>\n",
       "    <tr>\n",
       "      <th>8</th>\n",
       "      <td>exempt department of defense nonappropriated f...</td>\n",
       "      <td>Liberal</td>\n",
       "      <td>Neutral</td>\n",
       "      <td>False</td>\n",
       "    </tr>\n",
       "    <tr>\n",
       "      <th>9</th>\n",
       "      <td>we strongly protest exclusion of news orgs. fr...</td>\n",
       "      <td>Liberal</td>\n",
       "      <td>Liberal</td>\n",
       "      <td>True</td>\n",
       "    </tr>\n",
       "    <tr>\n",
       "      <th>11</th>\n",
       "      <td>allow all press outlets in white house press b...</td>\n",
       "      <td>Liberal</td>\n",
       "      <td>Liberal</td>\n",
       "      <td>True</td>\n",
       "    </tr>\n",
       "    <tr>\n",
       "      <th>12</th>\n",
       "      <td>reduce hunger in our students by reducing rest...</td>\n",
       "      <td>Liberal</td>\n",
       "      <td>Liberal</td>\n",
       "      <td>True</td>\n",
       "    </tr>\n",
       "    <tr>\n",
       "      <th>13</th>\n",
       "      <td>need to hear govt stand on kansas shooting of ...</td>\n",
       "      <td>Liberal</td>\n",
       "      <td>Liberal</td>\n",
       "      <td>True</td>\n",
       "    </tr>\n",
       "    <tr>\n",
       "      <th>15</th>\n",
       "      <td>need a statement from president trump, on the ...</td>\n",
       "      <td>Liberal</td>\n",
       "      <td>Liberal</td>\n",
       "      <td>True</td>\n",
       "    </tr>\n",
       "    <tr>\n",
       "      <th>16</th>\n",
       "      <td>brand the incident in olathe-kansas, where  pe...</td>\n",
       "      <td>Liberal</td>\n",
       "      <td>Liberal</td>\n",
       "      <td>True</td>\n",
       "    </tr>\n",
       "    <tr>\n",
       "      <th>17</th>\n",
       "      <td>americans and biafrans petition president trum...</td>\n",
       "      <td>Liberal</td>\n",
       "      <td>Neutral</td>\n",
       "      <td>False</td>\n",
       "    </tr>\n",
       "    <tr>\n",
       "      <th>18</th>\n",
       "      <td>indian engineers  target of hate crime.</td>\n",
       "      <td>Liberal</td>\n",
       "      <td>Liberal</td>\n",
       "      <td>True</td>\n",
       "    </tr>\n",
       "    <tr>\n",
       "      <th>19</th>\n",
       "      <td>pastor raymond koh was abducted on // in kuala...</td>\n",
       "      <td>Liberal</td>\n",
       "      <td>Neutral</td>\n",
       "      <td>False</td>\n",
       "    </tr>\n",
       "    <tr>\n",
       "      <th>22</th>\n",
       "      <td>fight for transgdener youth</td>\n",
       "      <td>Liberal</td>\n",
       "      <td>Liberal</td>\n",
       "      <td>True</td>\n",
       "    </tr>\n",
       "    <tr>\n",
       "      <th>32</th>\n",
       "      <td>address the rise of anti-semitism in the unite...</td>\n",
       "      <td>Liberal</td>\n",
       "      <td>Liberal</td>\n",
       "      <td>True</td>\n",
       "    </tr>\n",
       "    <tr>\n",
       "      <th>39</th>\n",
       "      <td>restore milo yiannopoulos, craig brittain, mar...</td>\n",
       "      <td>Liberal</td>\n",
       "      <td>Conservative</td>\n",
       "      <td>False</td>\n",
       "    </tr>\n",
       "    <tr>\n",
       "      <th>40</th>\n",
       "      <td>deregulate home distillation of alcoholic spir...</td>\n",
       "      <td>Liberal</td>\n",
       "      <td>Neutral</td>\n",
       "      <td>False</td>\n",
       "    </tr>\n",
       "    <tr>\n",
       "      <th>42</th>\n",
       "      <td>the us house lawmakers should relist north kor...</td>\n",
       "      <td>Liberal</td>\n",
       "      <td>Conservative</td>\n",
       "      <td>False</td>\n",
       "    </tr>\n",
       "    <tr>\n",
       "      <th>43</th>\n",
       "      <td>we petition the trump administration to:  faci...</td>\n",
       "      <td>Liberal</td>\n",
       "      <td>Conservative</td>\n",
       "      <td>False</td>\n",
       "    </tr>\n",
       "    <tr>\n",
       "      <th>47</th>\n",
       "      <td>repeal the  hughs ammendment of the firearm ow...</td>\n",
       "      <td>Conservative</td>\n",
       "      <td>Conservative</td>\n",
       "      <td>True</td>\n",
       "    </tr>\n",
       "    <tr>\n",
       "      <th>48</th>\n",
       "      <td>repeal the  full auto ban  usc � (o)</td>\n",
       "      <td>Conservative</td>\n",
       "      <td>Conservative</td>\n",
       "      <td>True</td>\n",
       "    </tr>\n",
       "    <tr>\n",
       "      <th>49</th>\n",
       "      <td>support , american jobs: tell the fta to appro...</td>\n",
       "      <td>Liberal</td>\n",
       "      <td>Liberal</td>\n",
       "      <td>True</td>\n",
       "    </tr>\n",
       "    <tr>\n",
       "      <th>50</th>\n",
       "      <td>road traffic enforcement has been carried out ...</td>\n",
       "      <td>Liberal</td>\n",
       "      <td>Liberal</td>\n",
       "      <td>True</td>\n",
       "    </tr>\n",
       "    <tr>\n",
       "      <th>51</th>\n",
       "      <td>nd amendment  rights restored to all law abidi...</td>\n",
       "      <td>Liberal</td>\n",
       "      <td>Conservative</td>\n",
       "      <td>False</td>\n",
       "    </tr>\n",
       "    <tr>\n",
       "      <th>52</th>\n",
       "      <td>north carolina commercial shrimping industry c...</td>\n",
       "      <td>Liberal</td>\n",
       "      <td>Neutral</td>\n",
       "      <td>False</td>\n",
       "    </tr>\n",
       "    <tr>\n",
       "      <th>54</th>\n",
       "      <td>investigate the trump administration's russia ...</td>\n",
       "      <td>Liberal</td>\n",
       "      <td>Liberal</td>\n",
       "      <td>True</td>\n",
       "    </tr>\n",
       "    <tr>\n",
       "      <th>55</th>\n",
       "      <td>we the people want a open and independent inve...</td>\n",
       "      <td>Liberal</td>\n",
       "      <td>Liberal</td>\n",
       "      <td>True</td>\n",
       "    </tr>\n",
       "    <tr>\n",
       "      <th>57</th>\n",
       "      <td>repeal  usc � (a)()</td>\n",
       "      <td>Liberal</td>\n",
       "      <td>Liberal</td>\n",
       "      <td>True</td>\n",
       "    </tr>\n",
       "    <tr>\n",
       "      <th>61</th>\n",
       "      <td>joy villa to sing for president trump wearing ...</td>\n",
       "      <td>Liberal</td>\n",
       "      <td>Conservative</td>\n",
       "      <td>False</td>\n",
       "    </tr>\n",
       "    <tr>\n",
       "      <th>...</th>\n",
       "      <td>...</td>\n",
       "      <td>...</td>\n",
       "      <td>...</td>\n",
       "      <td>...</td>\n",
       "    </tr>\n",
       "    <tr>\n",
       "      <th>213</th>\n",
       "      <td>commit to following the paris agreement</td>\n",
       "      <td>Liberal</td>\n",
       "      <td>Liberal</td>\n",
       "      <td>True</td>\n",
       "    </tr>\n",
       "    <tr>\n",
       "      <th>215</th>\n",
       "      <td>charge singer madonna with a class e felony un...</td>\n",
       "      <td>Liberal</td>\n",
       "      <td>Conservative</td>\n",
       "      <td>False</td>\n",
       "    </tr>\n",
       "    <tr>\n",
       "      <th>216</th>\n",
       "      <td>req. agriculture to publish final rule -- hors...</td>\n",
       "      <td>Liberal</td>\n",
       "      <td>Neutral</td>\n",
       "      <td>False</td>\n",
       "    </tr>\n",
       "    <tr>\n",
       "      <th>218</th>\n",
       "      <td>donald trump: rescind the global gag rule</td>\n",
       "      <td>Liberal</td>\n",
       "      <td>Liberal</td>\n",
       "      <td>True</td>\n",
       "    </tr>\n",
       "    <tr>\n",
       "      <th>220</th>\n",
       "      <td>require county of san bernardino to approve/pa...</td>\n",
       "      <td>Liberal</td>\n",
       "      <td>Conservative</td>\n",
       "      <td>False</td>\n",
       "    </tr>\n",
       "    <tr>\n",
       "      <th>222</th>\n",
       "      <td>restore the lgbt rights page on whitehouse.gov...</td>\n",
       "      <td>Liberal</td>\n",
       "      <td>Liberal</td>\n",
       "      <td>True</td>\n",
       "    </tr>\n",
       "    <tr>\n",
       "      <th>223</th>\n",
       "      <td>do not embrace shale oil, the coal industry an...</td>\n",
       "      <td>Liberal</td>\n",
       "      <td>Liberal</td>\n",
       "      <td>True</td>\n",
       "    </tr>\n",
       "    <tr>\n",
       "      <th>225</th>\n",
       "      <td>a petition to open immigration for white south...</td>\n",
       "      <td>Liberal</td>\n",
       "      <td>Conservative</td>\n",
       "      <td>False</td>\n",
       "    </tr>\n",
       "    <tr>\n",
       "      <th>226</th>\n",
       "      <td>re-open the schuylkill valley metro commuter r...</td>\n",
       "      <td>Liberal</td>\n",
       "      <td>Liberal</td>\n",
       "      <td>True</td>\n",
       "    </tr>\n",
       "    <tr>\n",
       "      <th>229</th>\n",
       "      <td>commute or pardon sergeant miller, review all ...</td>\n",
       "      <td>Liberal</td>\n",
       "      <td>Conservative</td>\n",
       "      <td>False</td>\n",
       "    </tr>\n",
       "    <tr>\n",
       "      <th>231</th>\n",
       "      <td>remove regulations and unconstitutional tax on...</td>\n",
       "      <td>Conservative</td>\n",
       "      <td>Conservative</td>\n",
       "      <td>True</td>\n",
       "    </tr>\n",
       "    <tr>\n",
       "      <th>233</th>\n",
       "      <td>act on climate now</td>\n",
       "      <td>Liberal</td>\n",
       "      <td>Liberal</td>\n",
       "      <td>True</td>\n",
       "    </tr>\n",
       "    <tr>\n",
       "      <th>234</th>\n",
       "      <td>we ask the new administration to work with con...</td>\n",
       "      <td>Liberal</td>\n",
       "      <td>Liberal</td>\n",
       "      <td>True</td>\n",
       "    </tr>\n",
       "    <tr>\n",
       "      <th>235</th>\n",
       "      <td>take cnn of the air</td>\n",
       "      <td>Liberal</td>\n",
       "      <td>Conservative</td>\n",
       "      <td>False</td>\n",
       "    </tr>\n",
       "    <tr>\n",
       "      <th>237</th>\n",
       "      <td>impeach donald trump</td>\n",
       "      <td>Liberal</td>\n",
       "      <td>Liberal</td>\n",
       "      <td>True</td>\n",
       "    </tr>\n",
       "    <tr>\n",
       "      <th>238</th>\n",
       "      <td>stop hb abuse</td>\n",
       "      <td>Liberal</td>\n",
       "      <td>Conservative</td>\n",
       "      <td>False</td>\n",
       "    </tr>\n",
       "    <tr>\n",
       "      <th>239</th>\n",
       "      <td>the united states must stop investing in fossi...</td>\n",
       "      <td>Liberal</td>\n",
       "      <td>Liberal</td>\n",
       "      <td>True</td>\n",
       "    </tr>\n",
       "    <tr>\n",
       "      <th>240</th>\n",
       "      <td>preserve the national endowment for the arts a...</td>\n",
       "      <td>Liberal</td>\n",
       "      <td>Liberal</td>\n",
       "      <td>True</td>\n",
       "    </tr>\n",
       "    <tr>\n",
       "      <th>242</th>\n",
       "      <td>charge madonna with terrorist threats against ...</td>\n",
       "      <td>Liberal</td>\n",
       "      <td>Conservative</td>\n",
       "      <td>False</td>\n",
       "    </tr>\n",
       "    <tr>\n",
       "      <th>246</th>\n",
       "      <td>demand justice for international students affe...</td>\n",
       "      <td>Liberal</td>\n",
       "      <td>Liberal</td>\n",
       "      <td>True</td>\n",
       "    </tr>\n",
       "    <tr>\n",
       "      <th>247</th>\n",
       "      <td>restore and maintain accurate, science-based i...</td>\n",
       "      <td>Liberal</td>\n",
       "      <td>Liberal</td>\n",
       "      <td>True</td>\n",
       "    </tr>\n",
       "    <tr>\n",
       "      <th>248</th>\n",
       "      <td>arrest and detainment of singer madonna.</td>\n",
       "      <td>Liberal</td>\n",
       "      <td>Conservative</td>\n",
       "      <td>False</td>\n",
       "    </tr>\n",
       "    <tr>\n",
       "      <th>250</th>\n",
       "      <td>improved medicare for all</td>\n",
       "      <td>Liberal</td>\n",
       "      <td>Liberal</td>\n",
       "      <td>True</td>\n",
       "    </tr>\n",
       "    <tr>\n",
       "      <th>251</th>\n",
       "      <td>immediately abolish the net worth sweep of fan...</td>\n",
       "      <td>Liberal</td>\n",
       "      <td>Conservative</td>\n",
       "      <td>False</td>\n",
       "    </tr>\n",
       "    <tr>\n",
       "      <th>256</th>\n",
       "      <td>demand trump administration add lgbt rights, c...</td>\n",
       "      <td>Liberal</td>\n",
       "      <td>Liberal</td>\n",
       "      <td>True</td>\n",
       "    </tr>\n",
       "    <tr>\n",
       "      <th>257</th>\n",
       "      <td>investigate hillary clinton for crimes committ...</td>\n",
       "      <td>Liberal</td>\n",
       "      <td>Conservative</td>\n",
       "      <td>False</td>\n",
       "    </tr>\n",
       "    <tr>\n",
       "      <th>258</th>\n",
       "      <td>repeal the  hughes amendment</td>\n",
       "      <td>Conservative</td>\n",
       "      <td>Conservative</td>\n",
       "      <td>True</td>\n",
       "    </tr>\n",
       "    <tr>\n",
       "      <th>259</th>\n",
       "      <td>repeal the nfa</td>\n",
       "      <td>Liberal</td>\n",
       "      <td>Conservative</td>\n",
       "      <td>False</td>\n",
       "    </tr>\n",
       "    <tr>\n",
       "      <th>260</th>\n",
       "      <td>donald trump:  resign as president of the unit...</td>\n",
       "      <td>Liberal</td>\n",
       "      <td>Liberal</td>\n",
       "      <td>True</td>\n",
       "    </tr>\n",
       "    <tr>\n",
       "      <th>263</th>\n",
       "      <td>immediately release donald trump's full tax re...</td>\n",
       "      <td>Liberal</td>\n",
       "      <td>Liberal</td>\n",
       "      <td>True</td>\n",
       "    </tr>\n",
       "  </tbody>\n",
       "</table>\n",
       "<p>132 rows × 4 columns</p>\n",
       "</div>"
      ],
      "text/plain": [
       "                                              petition    pred_ideol  \\\n",
       "2          eliminate mille lacs lake treaty management       Liberal   \n",
       "3    take action to end the autism epidemic and imp...       Liberal   \n",
       "4                                release kevin trudeau       Liberal   \n",
       "5    make marijuana legalization for recreation or ...       Liberal   \n",
       "8    exempt department of defense nonappropriated f...       Liberal   \n",
       "9    we strongly protest exclusion of news orgs. fr...       Liberal   \n",
       "11   allow all press outlets in white house press b...       Liberal   \n",
       "12   reduce hunger in our students by reducing rest...       Liberal   \n",
       "13   need to hear govt stand on kansas shooting of ...       Liberal   \n",
       "15   need a statement from president trump, on the ...       Liberal   \n",
       "16   brand the incident in olathe-kansas, where  pe...       Liberal   \n",
       "17   americans and biafrans petition president trum...       Liberal   \n",
       "18             indian engineers  target of hate crime.       Liberal   \n",
       "19   pastor raymond koh was abducted on // in kuala...       Liberal   \n",
       "22                         fight for transgdener youth       Liberal   \n",
       "32   address the rise of anti-semitism in the unite...       Liberal   \n",
       "39   restore milo yiannopoulos, craig brittain, mar...       Liberal   \n",
       "40   deregulate home distillation of alcoholic spir...       Liberal   \n",
       "42   the us house lawmakers should relist north kor...       Liberal   \n",
       "43   we petition the trump administration to:  faci...       Liberal   \n",
       "47   repeal the  hughs ammendment of the firearm ow...  Conservative   \n",
       "48                repeal the  full auto ban  usc � (o)  Conservative   \n",
       "49   support , american jobs: tell the fta to appro...       Liberal   \n",
       "50   road traffic enforcement has been carried out ...       Liberal   \n",
       "51   nd amendment  rights restored to all law abidi...       Liberal   \n",
       "52   north carolina commercial shrimping industry c...       Liberal   \n",
       "54   investigate the trump administration's russia ...       Liberal   \n",
       "55   we the people want a open and independent inve...       Liberal   \n",
       "57                                 repeal  usc � (a)()       Liberal   \n",
       "61   joy villa to sing for president trump wearing ...       Liberal   \n",
       "..                                                 ...           ...   \n",
       "213            commit to following the paris agreement       Liberal   \n",
       "215  charge singer madonna with a class e felony un...       Liberal   \n",
       "216  req. agriculture to publish final rule -- hors...       Liberal   \n",
       "218          donald trump: rescind the global gag rule       Liberal   \n",
       "220  require county of san bernardino to approve/pa...       Liberal   \n",
       "222  restore the lgbt rights page on whitehouse.gov...       Liberal   \n",
       "223  do not embrace shale oil, the coal industry an...       Liberal   \n",
       "225  a petition to open immigration for white south...       Liberal   \n",
       "226  re-open the schuylkill valley metro commuter r...       Liberal   \n",
       "229  commute or pardon sergeant miller, review all ...       Liberal   \n",
       "231  remove regulations and unconstitutional tax on...  Conservative   \n",
       "233                                 act on climate now       Liberal   \n",
       "234  we ask the new administration to work with con...       Liberal   \n",
       "235                                take cnn of the air       Liberal   \n",
       "237                               impeach donald trump       Liberal   \n",
       "238                                      stop hb abuse       Liberal   \n",
       "239  the united states must stop investing in fossi...       Liberal   \n",
       "240  preserve the national endowment for the arts a...       Liberal   \n",
       "242  charge madonna with terrorist threats against ...       Liberal   \n",
       "246  demand justice for international students affe...       Liberal   \n",
       "247  restore and maintain accurate, science-based i...       Liberal   \n",
       "248           arrest and detainment of singer madonna.       Liberal   \n",
       "250                          improved medicare for all       Liberal   \n",
       "251  immediately abolish the net worth sweep of fan...       Liberal   \n",
       "256  demand trump administration add lgbt rights, c...       Liberal   \n",
       "257  investigate hillary clinton for crimes committ...       Liberal   \n",
       "258                       repeal the  hughes amendment  Conservative   \n",
       "259                                     repeal the nfa       Liberal   \n",
       "260  donald trump:  resign as president of the unit...       Liberal   \n",
       "263  immediately release donald trump's full tax re...       Liberal   \n",
       "\n",
       "       true_ideol correct  \n",
       "2         Neutral   False  \n",
       "3    Conservative   False  \n",
       "4         Neutral   False  \n",
       "5         Liberal    True  \n",
       "8         Neutral   False  \n",
       "9         Liberal    True  \n",
       "11        Liberal    True  \n",
       "12        Liberal    True  \n",
       "13        Liberal    True  \n",
       "15        Liberal    True  \n",
       "16        Liberal    True  \n",
       "17        Neutral   False  \n",
       "18        Liberal    True  \n",
       "19        Neutral   False  \n",
       "22        Liberal    True  \n",
       "32        Liberal    True  \n",
       "39   Conservative   False  \n",
       "40        Neutral   False  \n",
       "42   Conservative   False  \n",
       "43   Conservative   False  \n",
       "47   Conservative    True  \n",
       "48   Conservative    True  \n",
       "49        Liberal    True  \n",
       "50        Liberal    True  \n",
       "51   Conservative   False  \n",
       "52        Neutral   False  \n",
       "54        Liberal    True  \n",
       "55        Liberal    True  \n",
       "57        Liberal    True  \n",
       "61   Conservative   False  \n",
       "..            ...     ...  \n",
       "213       Liberal    True  \n",
       "215  Conservative   False  \n",
       "216       Neutral   False  \n",
       "218       Liberal    True  \n",
       "220  Conservative   False  \n",
       "222       Liberal    True  \n",
       "223       Liberal    True  \n",
       "225  Conservative   False  \n",
       "226       Liberal    True  \n",
       "229  Conservative   False  \n",
       "231  Conservative    True  \n",
       "233       Liberal    True  \n",
       "234       Liberal    True  \n",
       "235  Conservative   False  \n",
       "237       Liberal    True  \n",
       "238  Conservative   False  \n",
       "239       Liberal    True  \n",
       "240       Liberal    True  \n",
       "242  Conservative   False  \n",
       "246       Liberal    True  \n",
       "247       Liberal    True  \n",
       "248  Conservative   False  \n",
       "250       Liberal    True  \n",
       "251  Conservative   False  \n",
       "256       Liberal    True  \n",
       "257  Conservative   False  \n",
       "258  Conservative    True  \n",
       "259  Conservative   False  \n",
       "260       Liberal    True  \n",
       "263       Liberal    True  \n",
       "\n",
       "[132 rows x 4 columns]"
      ]
     },
     "execution_count": 163,
     "metadata": {},
     "output_type": "execute_result"
    }
   ],
   "source": [
    "pred_df"
   ]
  },
  {
   "cell_type": "code",
   "execution_count": 164,
   "metadata": {
    "collapsed": false
   },
   "outputs": [
    {
     "data": {
      "text/plain": [
       "0.3787878787878788"
      ]
     },
     "execution_count": 164,
     "metadata": {},
     "output_type": "execute_result"
    }
   ],
   "source": [
    "# ERROR RATE\n",
    "len(pred_df[pred_df[\"correct\"]==False])*(len(pred_df)**(-1))"
   ]
  }
 ],
 "metadata": {
  "anaconda-cloud": {},
  "kernelspec": {
   "display_name": "Python 2",
   "language": "python",
   "name": "python2"
  },
  "language_info": {
   "codemirror_mode": {
    "name": "ipython",
    "version": 2
   },
   "file_extension": ".py",
   "mimetype": "text/x-python",
   "name": "python",
   "nbconvert_exporter": "python",
   "pygments_lexer": "ipython2",
   "version": "2.7.13"
  }
 },
 "nbformat": 4,
 "nbformat_minor": 2
}
