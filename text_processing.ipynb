{
 "cells": [
  {
   "cell_type": "markdown",
   "metadata": {},
   "source": [
    "<font color=\"navy\">\n",
    "# Text Processing\n",
    "(1) Clean up and tokenize body text\n",
    "<br>\n",
    "(2) Clean up title text\n",
    "<br>\n",
    "(3) Made new data frame\n",
    "<br>\n",
    "(4) Absolute Frequency Vectorization\n",
    "<br>\n",
    "(5) More Stop Word Removal"
   ]
  },
  {
   "cell_type": "code",
   "execution_count": 124,
   "metadata": {
    "collapsed": true
   },
   "outputs": [],
   "source": [
    "# LIBRARIES\n",
    "# TEXT PROCESSING\n",
    "import nltk\n",
    "from nltk.corpus import stopwords\n",
    "import string\n",
    "import re\n",
    "from sklearn.feature_extraction.text import TfidfVectorizer\n",
    "\n",
    "# DATA SCIENCE\n",
    "import pandas as pd\n",
    "import numpy as np\n",
    "\n",
    "# VISUALIZATION\n",
    "from wordcloud import WordCloud\n",
    "from matplotlib import pyplot as plt\n",
    "%matplotlib inline\n",
    "plt.style.use(\"ggplot\")\n",
    "\n",
    "# ELSE\n",
    "from collections import Counter\n",
    "import os\n",
    "from sklearn.feature_extraction.text import CountVectorizer\n",
    "from sklearn.ensemble import RandomForestClassifier"
   ]
  },
  {
   "cell_type": "code",
   "execution_count": 125,
   "metadata": {
    "collapsed": false
   },
   "outputs": [
    {
     "data": {
      "text/html": [
       "<div>\n",
       "<table border=\"1\" class=\"dataframe\">\n",
       "  <thead>\n",
       "    <tr style=\"text-align: right;\">\n",
       "      <th></th>\n",
       "      <th>body</th>\n",
       "      <th>issues</th>\n",
       "      <th>petition_type</th>\n",
       "      <th>title</th>\n",
       "      <th>url</th>\n",
       "      <th>ideology</th>\n",
       "    </tr>\n",
       "  </thead>\n",
       "  <tbody>\n",
       "    <tr>\n",
       "      <th>0</th>\n",
       "      <td>It effects every American in some way.  It wil...</td>\n",
       "      <td>Budget &amp; Taxes, Economy &amp; Jobs, Veterans &amp; Mil...</td>\n",
       "      <td>Change an existing Administration policy</td>\n",
       "      <td>Legalize Marijuana and bring jobs to millions ...</td>\n",
       "      <td>https://petitions.whitehouse.gov/petition/lega...</td>\n",
       "      <td>Liberal</td>\n",
       "    </tr>\n",
       "    <tr>\n",
       "      <th>1</th>\n",
       "      <td>\"In the dying days of the Ottoman Empire, unde...</td>\n",
       "      <td>Civil Rights &amp; Equality, Government &amp; Regulato...</td>\n",
       "      <td>Take or explain a position on an issue or policy</td>\n",
       "      <td>Officially Recognize The Armenian Genocide Of ...</td>\n",
       "      <td>https://petitions.whitehouse.gov/petition/offi...</td>\n",
       "      <td>Neutral</td>\n",
       "    </tr>\n",
       "    <tr>\n",
       "      <th>2</th>\n",
       "      <td>Walleye are political pawns at Mille Lacs Lake...</td>\n",
       "      <td>Civil Rights &amp; Equality, Economy &amp; Jobs, Gover...</td>\n",
       "      <td>Change an existing Administration policy</td>\n",
       "      <td>Eliminate Mille Lacs Lake Treaty Management</td>\n",
       "      <td>https://petitions.whitehouse.gov/petition/elim...</td>\n",
       "      <td>Neutral</td>\n",
       "    </tr>\n",
       "    <tr>\n",
       "      <th>3</th>\n",
       "      <td>We cannot make America great with so many disa...</td>\n",
       "      <td>Economy &amp; Jobs, Health Care, Technology &amp; Inno...</td>\n",
       "      <td>Propose a new Administration policy</td>\n",
       "      <td>Take Action to End the Autism Epidemic and Imp...</td>\n",
       "      <td>https://petitions.whitehouse.gov/petition/take...</td>\n",
       "      <td>Conservative</td>\n",
       "    </tr>\n",
       "    <tr>\n",
       "      <th>4</th>\n",
       "      <td>Locked up by US Government for 10 Years \\r\\nIN...</td>\n",
       "      <td>Criminal Justice Reform</td>\n",
       "      <td>Take or explain a position on an issue or policy</td>\n",
       "      <td>Release Kevin Trudeau</td>\n",
       "      <td>https://petitions.whitehouse.gov/petition/rele...</td>\n",
       "      <td>Neutral</td>\n",
       "    </tr>\n",
       "  </tbody>\n",
       "</table>\n",
       "</div>"
      ],
      "text/plain": [
       "                                                body  \\\n",
       "0  It effects every American in some way.  It wil...   \n",
       "1  \"In the dying days of the Ottoman Empire, unde...   \n",
       "2  Walleye are political pawns at Mille Lacs Lake...   \n",
       "3  We cannot make America great with so many disa...   \n",
       "4  Locked up by US Government for 10 Years \\r\\nIN...   \n",
       "\n",
       "                                              issues  \\\n",
       "0  Budget & Taxes, Economy & Jobs, Veterans & Mil...   \n",
       "1  Civil Rights & Equality, Government & Regulato...   \n",
       "2  Civil Rights & Equality, Economy & Jobs, Gover...   \n",
       "3  Economy & Jobs, Health Care, Technology & Inno...   \n",
       "4                            Criminal Justice Reform   \n",
       "\n",
       "                                      petition_type  \\\n",
       "0          Change an existing Administration policy   \n",
       "1  Take or explain a position on an issue or policy   \n",
       "2          Change an existing Administration policy   \n",
       "3               Propose a new Administration policy   \n",
       "4  Take or explain a position on an issue or policy   \n",
       "\n",
       "                                               title  \\\n",
       "0  Legalize Marijuana and bring jobs to millions ...   \n",
       "1  Officially Recognize The Armenian Genocide Of ...   \n",
       "2        Eliminate Mille Lacs Lake Treaty Management   \n",
       "3  Take Action to End the Autism Epidemic and Imp...   \n",
       "4                              Release Kevin Trudeau   \n",
       "\n",
       "                                                 url      ideology  \n",
       "0  https://petitions.whitehouse.gov/petition/lega...       Liberal  \n",
       "1  https://petitions.whitehouse.gov/petition/offi...       Neutral  \n",
       "2  https://petitions.whitehouse.gov/petition/elim...       Neutral  \n",
       "3  https://petitions.whitehouse.gov/petition/take...  Conservative  \n",
       "4  https://petitions.whitehouse.gov/petition/rele...       Neutral  "
      ]
     },
     "execution_count": 125,
     "metadata": {},
     "output_type": "execute_result"
    }
   ],
   "source": [
    "# READ IN DATA\n",
    "petnlp = pd.DataFrame.from_csv(\"petnlp.csv\")\n",
    "petnlp.head()"
   ]
  },
  {
   "cell_type": "markdown",
   "metadata": {},
   "source": [
    "<font color=\"navy\">\n",
    "## (1) Text Clean-Up and Tokenization\n",
    "We will clean up body text."
   ]
  },
  {
   "cell_type": "code",
   "execution_count": 126,
   "metadata": {
    "collapsed": false
   },
   "outputs": [],
   "source": [
    "# FUNCTION TO CLEAN UP BODY TEXT\n",
    "def cleanUpText(text, additional_stopwords=[]):\n",
    "    # REMOVE MARK UP\n",
    "    new_text = text.replace(\"\\r\", \"\").replace(\"\\n\", \"\")\n",
    "    \n",
    "    # REMOVE URLS\n",
    "    new_text = re.sub(r\"\\w+:\\/{2}[\\d\\w-]+(\\.[\\d\\w-]+)*(?:(?:\\/[^\\s/]*))*\", \"\", new_text).strip()\n",
    "    \n",
    "    # REMOVE PUNCTUATION\n",
    "    new_text = new_text.translate(None, string.punctuation)\n",
    "    \n",
    "    # REMOVE NUMBERS\n",
    "    new_text = re.sub(r\"\\d+\", \"\", new_text)\n",
    "    \n",
    "    # LOWERCASE\n",
    "    new_text = new_text.lower()\n",
    "    \n",
    "    #SPLIT\n",
    "    new_text = new_text.split()\n",
    "    \n",
    "    # REMOVE STOPWORDS\n",
    "    stops = stopwords.words(\"english\") + additional_stopwords\n",
    "    \n",
    "    return [word for word in new_text if word not in stops]"
   ]
  },
  {
   "cell_type": "code",
   "execution_count": 127,
   "metadata": {
    "collapsed": false
   },
   "outputs": [],
   "source": [
    "# stopwords.words(\"english\")\n",
    "\n",
    "# new_stops = \"President, president, people, without, needs, since, used, get, would, us, united, states, people, american, americans, national, government, petition, make, also, many, must, need, change, ask, use, every, trump, white, house, america, America, executive, Executive\"\n",
    "# new_stops = new_stops.split(\", \")\n",
    "\n",
    "# new_stops+stopwords.words(\"english\")"
   ]
  },
  {
   "cell_type": "code",
   "execution_count": 128,
   "metadata": {
    "collapsed": false
   },
   "outputs": [
    {
     "name": "stderr",
     "output_type": "stream",
     "text": [
      "/Users/EDIE/anaconda/lib/python2.7/site-packages/ipykernel/__main__.py:24: UnicodeWarning: Unicode equal comparison failed to convert both arguments to Unicode - interpreting them as being unequal\n"
     ]
    },
    {
     "name": "stdout",
     "output_type": "stream",
     "text": [
      "['effects', 'every', 'american', 'way', 'also', 'keep', 'americans', 'funding', 'terrorism', 'drug', 'cartels', 'would', 'bring', 'jobs', 'following', 'industries', 'energy', 'farming', 'housing', 'industrial', 'manufacturing', 'healthcare', 'bring', 'much', 'needed', 'tax', 'dollars', 'fuel', 'military', 'provide', 'better', 'body', 'armor', 'troops', 'fuel', 'america', 'surplus', 'foreign', 'export']\n"
     ]
    }
   ],
   "source": [
    "tokens = [cleanUpText(x) for x in petnlp[\"body\"]]\n",
    "print tokens[0]"
   ]
  },
  {
   "cell_type": "markdown",
   "metadata": {},
   "source": [
    "<font color=\"navy\">\n",
    "## (2) Clean Up Title Text"
   ]
  },
  {
   "cell_type": "code",
   "execution_count": 129,
   "metadata": {
    "collapsed": true
   },
   "outputs": [],
   "source": [
    "# FUNCTION TO CLEAN UP BODY TEXT\n",
    "def cleanUpTitle(text):\n",
    "    # REMOVE MARK UP\n",
    "    new_text = text.replace(\"\\r\", \"\").replace(\"\\n\", \"\")\n",
    "    \n",
    "    # REMOVE NUMBERS\n",
    "    new_text = re.sub(r\"\\d+\", \"\", new_text)\n",
    "    \n",
    "    # LOWERCASE\n",
    "    new_text = new_text.lower()\n",
    "    \n",
    "    return(new_text)"
   ]
  },
  {
   "cell_type": "code",
   "execution_count": 130,
   "metadata": {
    "collapsed": true
   },
   "outputs": [],
   "source": [
    "cleaned_titles = [cleanUpTitle(x) for x in petnlp[\"title\"]]"
   ]
  },
  {
   "cell_type": "code",
   "execution_count": 131,
   "metadata": {
    "collapsed": false
   },
   "outputs": [
    {
     "data": {
      "text/plain": [
       "['legalize marijuana and bring jobs to millions of americans.',\n",
       " 'officially recognize the armenian genocide of ',\n",
       " 'eliminate mille lacs lake treaty management',\n",
       " 'take action to end the autism epidemic and implement comprehensive reforms of vaccine safety policies',\n",
       " 'release kevin trudeau']"
      ]
     },
     "execution_count": 131,
     "metadata": {},
     "output_type": "execute_result"
    }
   ],
   "source": [
    "cleaned_titles[0:5]"
   ]
  },
  {
   "cell_type": "markdown",
   "metadata": {},
   "source": [
    "<font color=\"navy\">\n",
    "## (3) New Data Frame\n",
    "I don't know."
   ]
  },
  {
   "cell_type": "code",
   "execution_count": 132,
   "metadata": {
    "collapsed": false
   },
   "outputs": [],
   "source": [
    "blobs = [unicode(\" \".join(x), errors=\"replace\") for x in tokens]"
   ]
  },
  {
   "cell_type": "code",
   "execution_count": 133,
   "metadata": {
    "collapsed": false,
    "scrolled": true
   },
   "outputs": [
    {
     "data": {
      "text/html": [
       "<div>\n",
       "<table border=\"1\" class=\"dataframe\">\n",
       "  <thead>\n",
       "    <tr style=\"text-align: right;\">\n",
       "      <th></th>\n",
       "      <th>blobs</th>\n",
       "      <th>ideology</th>\n",
       "      <th>title</th>\n",
       "    </tr>\n",
       "  </thead>\n",
       "  <tbody>\n",
       "    <tr>\n",
       "      <th>0</th>\n",
       "      <td>effects every american way also keep americans...</td>\n",
       "      <td>Liberal</td>\n",
       "      <td>legalize marijuana and bring jobs to millions ...</td>\n",
       "    </tr>\n",
       "    <tr>\n",
       "      <th>1</th>\n",
       "      <td>dying days ottoman empire cover world war youn...</td>\n",
       "      <td>Neutral</td>\n",
       "      <td>officially recognize the armenian genocide of</td>\n",
       "    </tr>\n",
       "    <tr>\n",
       "      <th>2</th>\n",
       "      <td>walleye political pawns mille lacs lakewhile n...</td>\n",
       "      <td>Neutral</td>\n",
       "      <td>eliminate mille lacs lake treaty management</td>\n",
       "    </tr>\n",
       "    <tr>\n",
       "      <th>3</th>\n",
       "      <td>cannot make america great many disabled autist...</td>\n",
       "      <td>Conservative</td>\n",
       "      <td>take action to end the autism epidemic and imp...</td>\n",
       "    </tr>\n",
       "    <tr>\n",
       "      <th>4</th>\n",
       "      <td>locked us government years prison exercising c...</td>\n",
       "      <td>Neutral</td>\n",
       "      <td>release kevin trudeau</td>\n",
       "    </tr>\n",
       "  </tbody>\n",
       "</table>\n",
       "</div>"
      ],
      "text/plain": [
       "                                               blobs      ideology  \\\n",
       "0  effects every american way also keep americans...       Liberal   \n",
       "1  dying days ottoman empire cover world war youn...       Neutral   \n",
       "2  walleye political pawns mille lacs lakewhile n...       Neutral   \n",
       "3  cannot make america great many disabled autist...  Conservative   \n",
       "4  locked us government years prison exercising c...       Neutral   \n",
       "\n",
       "                                               title  \n",
       "0  legalize marijuana and bring jobs to millions ...  \n",
       "1     officially recognize the armenian genocide of   \n",
       "2        eliminate mille lacs lake treaty management  \n",
       "3  take action to end the autism epidemic and imp...  \n",
       "4                              release kevin trudeau  "
      ]
     },
     "execution_count": 133,
     "metadata": {},
     "output_type": "execute_result"
    }
   ],
   "source": [
    "blobs_df = pd.DataFrame({\"title\":cleaned_titles, \"blobs\":blobs, \"ideology\":petnlp[\"ideology\"]})\n",
    "blobs_df.head()"
   ]
  },
  {
   "cell_type": "code",
   "execution_count": 134,
   "metadata": {
    "collapsed": false
   },
   "outputs": [
    {
     "data": {
      "text/plain": [
       "Int64Index([41], dtype='int64')"
      ]
     },
     "execution_count": 134,
     "metadata": {},
     "output_type": "execute_result"
    }
   ],
   "source": [
    "index = blobs_df[\"ideology\"].index[blobs_df[\"ideology\"].apply(pd.isnull)]\n",
    "index"
   ]
  },
  {
   "cell_type": "code",
   "execution_count": 135,
   "metadata": {
    "collapsed": false
   },
   "outputs": [
    {
     "name": "stdout",
     "output_type": "stream",
     "text": [
      "nan\n",
      "i have evidence of traffic enforcement devices being used unlawfully and in some cases illegally which must be addressed\n",
      "research amp investigations amp petitions wwwbentcopbiz amp wwwbentcopboardsnet found extensive national global misuse traffic enforcement devices us uk australia likely globally majority hand held devices originate us endorsed us government require matter fully investigating openly amp honestly issues presented unlawfull road markings signage illegal prosecutions inaccuracy misuse hand held speed measuring devices requires open debate discussion dislosure public websites compiled much evidence believe respective governments collaborated use deployment strategies drivers\n"
     ]
    }
   ],
   "source": [
    "print blobs_df[\"ideology\"][41]\n",
    "print blobs_df[\"title\"][41]\n",
    "print blobs_df[\"blobs\"][41]"
   ]
  },
  {
   "cell_type": "code",
   "execution_count": 136,
   "metadata": {
    "collapsed": true
   },
   "outputs": [],
   "source": [
    "blobs_df.drop(41, inplace=True)"
   ]
  },
  {
   "cell_type": "code",
   "execution_count": 137,
   "metadata": {
    "collapsed": false
   },
   "outputs": [
    {
     "data": {
      "text/plain": [
       "Int64Index([], dtype='int64')"
      ]
     },
     "execution_count": 137,
     "metadata": {},
     "output_type": "execute_result"
    }
   ],
   "source": [
    "index = blobs_df[\"ideology\"].index[blobs_df[\"ideology\"].apply(pd.isnull)]\n",
    "index"
   ]
  },
  {
   "cell_type": "code",
   "execution_count": 166,
   "metadata": {
    "collapsed": false
   },
   "outputs": [],
   "source": [
    "blobs_df = blobs_df.reindex(range(len(blobs_df)))"
   ]
  },
  {
   "cell_type": "markdown",
   "metadata": {},
   "source": [
    "<font color=\"navy\">\n",
    "## (4) Absolute Frequency Vectorization\n",
    "Absolute frequencies of words per ideology."
   ]
  },
  {
   "cell_type": "code",
   "execution_count": 167,
   "metadata": {
    "collapsed": false
   },
   "outputs": [
    {
     "data": {
      "text/plain": [
       "[(u'us', 21),\n",
       " (u'president', 19),\n",
       " (u'people', 19),\n",
       " (u'states', 18),\n",
       " (u'new', 14),\n",
       " (u'united', 14),\n",
       " (u'military', 12),\n",
       " (u'congress', 12),\n",
       " (u'government', 12),\n",
       " (u'make', 11),\n",
       " (u'help', 11),\n",
       " (u'petition', 10),\n",
       " (u'state', 10),\n",
       " (u'law', 9),\n",
       " (u'trump', 9),\n",
       " (u'federal', 9),\n",
       " (u'get', 9),\n",
       " (u'many', 9),\n",
       " (u'american', 9),\n",
       " (u'pr', 9)]"
      ]
     },
     "execution_count": 167,
     "metadata": {},
     "output_type": "execute_result"
    }
   ],
   "source": [
    "neutral_blobs = \" \".join([x for x in blobs_df[blobs_df[\"ideology\"] == \"Neutral\"][\"blobs\"]])\n",
    "neutral_counts = Counter(neutral_blobs.split())\n",
    "neutral_counts.most_common()[0:20]"
   ]
  },
  {
   "cell_type": "code",
   "execution_count": 168,
   "metadata": {
    "collapsed": false
   },
   "outputs": [
    {
     "data": {
      "image/png": "[encoded data removed]",
      "text/plain": [
       "<matplotlib.figure.Figure at 0x11a832e90>"
      ]
     },
     "metadata": {},
     "output_type": "display_data"
    }
   ],
   "source": [
    "df = pd.DataFrame.from_dict(neutral_counts, orient='index').reset_index()\n",
    "df = df.sort_values(by=0, ascending=False)\n",
    "\n",
    "word = list(df.ix[:,0])[0:20]\n",
    "count = list(df.ix[:,1])[0:20]\n",
    "\n",
    "word_indices = np.arange(20) # ORDERED INDICES\n",
    "\n",
    "# PLOTTING\n",
    "plt.bar(word_indices, count, color=\"black\")\n",
    "plt.xticks(word_indices, word, rotation=70)\n",
    "plt.ylabel(\"Absolute Frequency\")\n",
    "plt.title(\"Absolute Frequency of Words in Neutral Petitions\")\n",
    "    \n",
    "plt.show()"
   ]
  },
  {
   "cell_type": "code",
   "execution_count": 169,
   "metadata": {
    "collapsed": false
   },
   "outputs": [
    {
     "data": {
      "text/plain": [
       "[(u'president', 76),\n",
       " (u'people', 66),\n",
       " (u'us', 62),\n",
       " (u'trump', 61),\n",
       " (u'states', 56),\n",
       " (u'order', 46),\n",
       " (u'united', 46),\n",
       " (u'american', 44),\n",
       " (u'national', 39),\n",
       " (u'executive', 37),\n",
       " (u'rights', 33),\n",
       " (u'country', 33),\n",
       " (u'americans', 32),\n",
       " (u'climate', 32),\n",
       " (u'would', 30),\n",
       " (u'administration', 29),\n",
       " (u'change', 28),\n",
       " (u'public', 26),\n",
       " (u'donald', 24),\n",
       " (u'petition', 24)]"
      ]
     },
     "execution_count": 169,
     "metadata": {},
     "output_type": "execute_result"
    }
   ],
   "source": [
    "liberal_blobs = \" \".join([x for x in blobs_df[blobs_df[\"ideology\"] == \"Liberal\"][\"blobs\"]])\n",
    "liberal_counts = Counter(liberal_blobs.split())\n",
    "liberal_counts.most_common()[0:20]"
   ]
  },
  {
   "cell_type": "code",
   "execution_count": 170,
   "metadata": {
    "collapsed": false
   },
   "outputs": [
    {
     "data": {
      "image/png": "[encoded data removed]",
      "text/plain": [
       "<matplotlib.figure.Figure at 0x109c0db10>"
      ]
     },
     "metadata": {},
     "output_type": "display_data"
    }
   ],
   "source": [
    "df = pd.DataFrame.from_dict(liberal_counts, orient='index').reset_index()\n",
    "df = df.sort_values(by=0, ascending=False)\n",
    "\n",
    "word = list(df.ix[:,0])[0:20]\n",
    "count = list(df.ix[:,1])[0:20]\n",
    "\n",
    "word_indices = np.arange(20) # ORDERED INDICES\n",
    "\n",
    "## PLOTTING\n",
    "plt.bar(word_indices, count, color=\"black\")\n",
    "plt.xticks(word_indices, word, rotation=70)\n",
    "plt.ylabel(\"Absolute Frequency\")\n",
    "plt.title(\"Absolute Frequency of Words in Liberal Petitions\")\n",
    "    \n",
    "plt.show()"
   ]
  },
  {
   "cell_type": "code",
   "execution_count": 171,
   "metadata": {
    "collapsed": false
   },
   "outputs": [
    {
     "data": {
      "text/plain": [
       "[(u'us', 50),\n",
       " (u'people', 39),\n",
       " (u'president', 34),\n",
       " (u'law', 34),\n",
       " (u'states', 33),\n",
       " (u'trump', 27),\n",
       " (u'state', 27),\n",
       " (u'united', 26),\n",
       " (u'government', 22),\n",
       " (u'amendment', 21),\n",
       " (u'citizens', 20),\n",
       " (u'firearms', 20),\n",
       " (u'petition', 19),\n",
       " (u'national', 19),\n",
       " (u'would', 17),\n",
       " (u'american', 17),\n",
       " (u'rights', 16),\n",
       " (u'police', 16),\n",
       " (u'time', 15),\n",
       " (u'years', 15)]"
      ]
     },
     "execution_count": 171,
     "metadata": {},
     "output_type": "execute_result"
    }
   ],
   "source": [
    "conservative_blobs = \" \".join([x for x in blobs_df[blobs_df[\"ideology\"] == \"Conservative\"][\"blobs\"]])\n",
    "conservative_counts = Counter(conservative_blobs.split())\n",
    "conservative_counts.most_common()[0:20]"
   ]
  },
  {
   "cell_type": "code",
   "execution_count": 172,
   "metadata": {
    "collapsed": false
   },
   "outputs": [
    {
     "data": {
      "image/png": "[encoded data removed]",
      "text/plain": [
       "<matplotlib.figure.Figure at 0x116f50490>"
      ]
     },
     "metadata": {},
     "output_type": "display_data"
    }
   ],
   "source": [
    "df = pd.DataFrame.from_dict(conservative_counts, orient='index').reset_index()\n",
    "df = df.sort_values(by=0, ascending=False)\n",
    "\n",
    "word = list(df.ix[:,0])[0:20]\n",
    "count = list(df.ix[:,1])[0:20]\n",
    "\n",
    "word_indices = np.arange(20) # ORDERED INDICES\n",
    "\n",
    "## PLOTTING\n",
    "plt.bar(word_indices, count, color=\"black\")\n",
    "plt.xticks(word_indices, word, rotation=70)\n",
    "plt.ylabel(\"Absolute Frequency\")\n",
    "plt.title(\"Absolute Frequency of Words in Conservative Petitions\")\n",
    "    \n",
    "plt.show()"
   ]
  },
  {
   "cell_type": "markdown",
   "metadata": {},
   "source": [
    "<font color=\"navy\">\n",
    "## (5) Need to Remove Most Popular Words\n",
    "We don't want them to all have the same top words."
   ]
  },
  {
   "cell_type": "code",
   "execution_count": 173,
   "metadata": {
    "collapsed": false
   },
   "outputs": [
    {
     "ename": "TypeError",
     "evalue": "sequence item 41: expected string or Unicode, float found",
     "output_type": "error",
     "traceback": [
      "\u001b[0;31m---------------------------------------------------------------------------\u001b[0m",
      "\u001b[0;31mTypeError\u001b[0m                                 Traceback (most recent call last)",
      "\u001b[0;32m<ipython-input-173-4d99256bb8df>\u001b[0m in \u001b[0;36m<module>\u001b[0;34m()\u001b[0m\n\u001b[0;32m----> 1\u001b[0;31m \u001b[0mall_blobs\u001b[0m \u001b[0;34m=\u001b[0m \u001b[0;34m\" \"\u001b[0m\u001b[0;34m.\u001b[0m\u001b[0mjoin\u001b[0m\u001b[0;34m(\u001b[0m\u001b[0;34m[\u001b[0m\u001b[0mx\u001b[0m \u001b[0;32mfor\u001b[0m \u001b[0mx\u001b[0m \u001b[0;32min\u001b[0m \u001b[0mblobs_df\u001b[0m\u001b[0;34m[\u001b[0m\u001b[0;34m\"blobs\"\u001b[0m\u001b[0;34m]\u001b[0m\u001b[0;34m]\u001b[0m\u001b[0;34m)\u001b[0m\u001b[0;34m\u001b[0m\u001b[0m\n\u001b[0m\u001b[1;32m      2\u001b[0m \u001b[0mall_counts\u001b[0m \u001b[0;34m=\u001b[0m \u001b[0mCounter\u001b[0m\u001b[0;34m(\u001b[0m\u001b[0mall_blobs\u001b[0m\u001b[0;34m.\u001b[0m\u001b[0msplit\u001b[0m\u001b[0;34m(\u001b[0m\u001b[0;34m)\u001b[0m\u001b[0;34m)\u001b[0m\u001b[0;34m\u001b[0m\u001b[0m\n\u001b[1;32m      3\u001b[0m \u001b[0;31m# all_counts.most_common()[0:50]\u001b[0m\u001b[0;34m\u001b[0m\u001b[0;34m\u001b[0m\u001b[0m\n",
      "\u001b[0;31mTypeError\u001b[0m: sequence item 41: expected string or Unicode, float found"
     ]
    }
   ],
   "source": [
    "all_blobs = \" \".join([x for x in blobs_df[\"blobs\"]])\n",
    "all_counts = Counter(all_blobs.split())\n",
    "# all_counts.most_common()[0:50]"
   ]
  },
  {
   "cell_type": "markdown",
   "metadata": {},
   "source": [
    "<font color=\"navy\">\n",
    "I need to make an informed decision on more stop words. I feel strongly that these words do not need to be included in our corpus.\n",
    "<br>\n",
    "<br>\n",
    "<b>New Additions:</b> us, people, american, national, government, petition, make, also, many, must, need, change, ask, use"
   ]
  },
  {
   "cell_type": "code",
   "execution_count": 174,
   "metadata": {
    "collapsed": false
   },
   "outputs": [],
   "source": [
    "new_stops = '''\n",
    "            President, president, people, without, needs, since, used, get, would, us, united, states, \n",
    "            people, american, americans, national, government, petition, make, also, \n",
    "            many, must, need, change, ask, use, every, trump, white, house, america, America,\n",
    "            executive, Executive\n",
    "            '''\n",
    "new_stops = new_stops.split(\", \")"
   ]
  },
  {
   "cell_type": "code",
   "execution_count": 175,
   "metadata": {
    "collapsed": true
   },
   "outputs": [],
   "source": [
    "def removeStopWords(text):\n",
    "    return [word for word in text.split() if word not in new_stops]"
   ]
  },
  {
   "cell_type": "code",
   "execution_count": 176,
   "metadata": {
    "collapsed": false
   },
   "outputs": [
    {
     "ename": "AttributeError",
     "evalue": "'float' object has no attribute 'split'",
     "output_type": "error",
     "traceback": [
      "\u001b[0;31m---------------------------------------------------------------------------\u001b[0m",
      "\u001b[0;31mAttributeError\u001b[0m                            Traceback (most recent call last)",
      "\u001b[0;32m<ipython-input-176-2407ac21785e>\u001b[0m in \u001b[0;36m<module>\u001b[0;34m()\u001b[0m\n\u001b[0;32m----> 1\u001b[0;31m \u001b[0mnew_blobs\u001b[0m \u001b[0;34m=\u001b[0m \u001b[0;34m[\u001b[0m\u001b[0;34m\" \"\u001b[0m\u001b[0;34m.\u001b[0m\u001b[0mjoin\u001b[0m\u001b[0;34m(\u001b[0m\u001b[0mremoveStopWords\u001b[0m\u001b[0;34m(\u001b[0m\u001b[0mx\u001b[0m\u001b[0;34m)\u001b[0m\u001b[0;34m)\u001b[0m \u001b[0;32mfor\u001b[0m \u001b[0mx\u001b[0m \u001b[0;32min\u001b[0m \u001b[0mblobs_df\u001b[0m\u001b[0;34m[\u001b[0m\u001b[0;34m\"blobs\"\u001b[0m\u001b[0;34m]\u001b[0m\u001b[0;34m]\u001b[0m\u001b[0;34m\u001b[0m\u001b[0m\n\u001b[0m",
      "\u001b[0;32m<ipython-input-175-6fa13f4a9206>\u001b[0m in \u001b[0;36mremoveStopWords\u001b[0;34m(text)\u001b[0m\n\u001b[1;32m      1\u001b[0m \u001b[0;32mdef\u001b[0m \u001b[0mremoveStopWords\u001b[0m\u001b[0;34m(\u001b[0m\u001b[0mtext\u001b[0m\u001b[0;34m)\u001b[0m\u001b[0;34m:\u001b[0m\u001b[0;34m\u001b[0m\u001b[0m\n\u001b[0;32m----> 2\u001b[0;31m     \u001b[0;32mreturn\u001b[0m \u001b[0;34m[\u001b[0m\u001b[0mword\u001b[0m \u001b[0;32mfor\u001b[0m \u001b[0mword\u001b[0m \u001b[0;32min\u001b[0m \u001b[0mtext\u001b[0m\u001b[0;34m.\u001b[0m\u001b[0msplit\u001b[0m\u001b[0;34m(\u001b[0m\u001b[0;34m)\u001b[0m \u001b[0;32mif\u001b[0m \u001b[0mword\u001b[0m \u001b[0;32mnot\u001b[0m \u001b[0;32min\u001b[0m \u001b[0mnew_stops\u001b[0m\u001b[0;34m]\u001b[0m\u001b[0;34m\u001b[0m\u001b[0m\n\u001b[0m",
      "\u001b[0;31mAttributeError\u001b[0m: 'float' object has no attribute 'split'"
     ]
    }
   ],
   "source": [
    "new_blobs = [\" \".join(removeStopWords(x)) for x in blobs_df[\"blobs\"]]"
   ]
  },
  {
   "cell_type": "code",
   "execution_count": 177,
   "metadata": {
    "collapsed": false
   },
   "outputs": [
    {
     "data": {
      "text/plain": [
       "[u'effects way keep funding terrorism drug cartels bring jobs following industries energy farming housing industrial manufacturing healthcare bring much needed tax dollars fuel military provide better body armor troops fuel surplus foreign export',\n",
       " u'dying days ottoman empire cover world war young turk embarked racist strategy xturkificationx multiethnic multireligious empire oneandonehalf million armenians murdered armenian genocide survivors exiled yearold homeland like officially recognize armenian genocide genocide shown recognition former obama promised acknowledge genocide failed',\n",
       " u'walleye political pawns mille lacs lakewhile natives nonnatives battle reservation boundaries mille lacs lake treaty management lakes resources become quagmire democratic led state department natural resource officials say hands tied mille lacs band officials screaming xfoulx turn result supreme court ruling treaty seven tries ojibwe sought walleye become game piece struggle retain jurisdiction south end mille lacs partiesonly thing gamethe plan treaty ruled ojibwe tribe simple ruin walleye fishing resorts businesses nonnatives bankrupted',\n",
       " u'cannot great many disabled autistic children urgently face autism epidemic admit reality confront stunning rise addition rein americaxs exploding vaccine schedule crucial reform autism vaccine policy initiative shine light corruption xdrain swampx unaccountable bureaucratswe take six actions declare autism emergency convene presidential commission vaccine safety scientific integrity depose cdc whistleblower dr william thompson conduct study comparing total health outcomes vaccinated unvaccinated populations create vaccine safety board repeal replace childhood vaccine injury act',\n",
       " u'locked years prison exercising constitutional right free speechkevin trudeau arrested kevin trudeau commit crime kevin trudeau charged crime kevin trudeau convicted crime kevin trudeau ordered pay fine kevin trudeau ordered pay restitutionkevin cannot prison himselfhe helpxnowwe help kevin donxt',\n",
       " u'dea erroneously classified marijuana schedule drug apt judge understand citizens favor legalization whether medical recreational jeff session wrong prejudice exercising personal views misrepresents stated believed marijuana left',\n",
       " u'request congress create missing veteran alert system heightened alert incrisis veterans military personnel allow missing person report filed wait restrictions civilian military lawenforcement allow search efforts immediately begin upon transaction mpr provide veterans courts mandate training firstresponders facilitate assistance incrisis veterans servicemembers mandate reporting veteran suicide data level name new policy erik jorgensens law inspired erik lane jorgensens army spc afghanistan combat veteran idaho combat ptsd completed suicide summer please honor heroes new legislation',\n",
       " u'approximately youth aged x suffer severe mental disorder currently consistent required screening procedures done pediatric offices early detection disorders klein high jr medical reserve corps team partnership harris county mrc initiated require screening mental illness youth schools initiated suicide prevention programs still inadequately address issue hand take action require comprehensive mental health screening part annual physical examinations completed pediatricians detection mental illness teenagers help lives teens living undiagnosed mental illnesses',\n",
       " u'military members active reserve retired veterans families adversely affected unintended consequence current federal hiring freeze freeze applies department defense employees including paid tax dollars quotnonappropriated fundquot employees work military exchanges morale recreation welfare organizations critical support child care access facilities remote areas may decreased stopped altogether freeze freezing nonappropriated fund hiring salaries nothing reduce federal budget federal tax dollars pay employees military spouses veterans lost job opportunities',\n",
       " u'long history multiple political parties charge nothing like happened press right transparency equal access rather access andor staff like',\n",
       " u'give excellent news organization hillarybeattrumporg permanent press credentials hillarybeattrumporgs brilliant journalists attend daily press briefings combat fake news bring biggest new stories americas real hillary rodham clinton election million votes',\n",
       " u'today banned attendance media outlets cnn new york times politico press briefing demand media outlets welcome presidential press briefings',\n",
       " u'school nurse noticed increase hunger students school lunch amount food thrown away daily increased obesity percentage reduced intended federal restrictions school lunches federal funding tied school lunch programs requiring schools follow restrictions funding withheld impacts poor schools children becoming obese school lunches rather junk fast food consume place school lunches restrictions put place students choose eat eat junk food school lunch students school lunch opportunity good meal lift restrictions',\n",
       " u'kansas shooting incident srinivas kuchibhotla scary indian law abiding citizen country considers home see governments clear stand finding ways stop anger towards immigrants law abiding citizens country',\n",
       " u'reaches supporters nomination supreme court allowed give opportunity see numbers electorate stand resolute opposition current nomination',\n",
       " u'lot blame laid election campaign strategy resulting increase hate crimes across country successfully reverse perception way strategy employed effectively win housethree innocent lives working quotmake greatquot countless number others affected senseless shooting',\n",
       " u'incident shooting outside pub olathe kansas evening unfortunate incident ended injuring killing indian innocent trying spend evening good companymedia reports cite police department stating possible hate crime definitely act terrorism specific community targeted shot along racial slurs thrown shooterthis act shaken lawful residents country impact gun violence continues claim several livesterrorism race govt authorities best declaring terrorist attack ensure justice served',\n",
       " u'indigenous biafra fully support donald help seek independence nigeriawe seek nation returned raise children peace safetygenocide occurring hands nigerian shown amnesty international video presented un largely christian population singled attack nigerian backed boko haramour leader nnamdi kanu held prison muhammadu buhari false accusationsour prayer help realize dream one believe inspired godwe believers savior youwe pray believe great man chosen god time',\n",
       " u'fatal shooting indian engineer allegedly gunned kansas man wednesday february nd said xget countryx treated hate crimewe call upon donald state clearly unequivocally denounces incident like department justice local law enforcement investigate murder hate crime anything less injustice victims families',\n",
       " u'pastor raymond koh abducted least masked men february th near kuala lumpur malaysia abduction malaysian authorities slow respond families requests speedy forthright investigation moreover voiced support christian community malaysia pledged sure attacks stop juncture many religious freedoms christians enjoyed malaysia multicultural atmosphere could come increasing attack asking help pressure malaysian authorities resources find pastor koh insure religious freedom within malaysia',\n",
       " u'donald accidental fringe elected grave danger x unlike barack obama elected donald attack deep statexthe enemy enemy friendx common enemy across deep statea violent spring coming hundreds millions dollars spent mobilize protesters replicate violent misbehaviour berkeley across landplease meet ron paul dennis kucinich cynthia mckinney robert steele soon possible',\n",
       " u'wednesday night took back almost everything obama protect lgbt rights trumps campaign vowed protect lesbian gay bisexual transgender violence oppression repealed laws protecting transgender teenagers right teachers call correct name pronouns teachers allowed birth name pronouns along transgender individuals longer allowed bathroom corresponds gender identity means men forced womens restrooms way around repealed protection laws companies legally allowed refuse service trans allowed discriminate work place',\n",
       " u'today found rights transgender male taken away administration quite awful scary youth able public restroom fight come come',\n",
       " u'protect zoned residential area plans mega mosque built',\n",
       " u'lyme disease silent epidemic causing death disability state usa cdc estimated new cases lyme diagnosed year yet zika virus reported cases gets attention funds cdc congress lyme cause death bankrupts families strips doctors licenses causes incredible pain suffering mental anguish cdc recognize chronic lyme insurance companies deny treatment reliable test adequate treatments assurances want congress investigate holding cdc back protecting disease',\n",
       " u'google controls internet searches attempting silence voice doesnt coincide political views incidentally targets biggest voices alternative media naturalnewscom infowarscomthis week google wiped naturalnewscom articles database prohibiting individuals viewing sites webpages searched google sent prior warning natural news stated follow google terms service rules condone endorse techniques may manipulate natural news search engines censorship independent media blatant attack first amendment rights usersplease sign share',\n",
       " u'according draft executive order administration planning remove protections transgender students public schools allow bathroom choice important protections enable students live according gender identity help prevent bullying harassment campaign expressed support transgender rightsin particular letting transgender bathroom choosing according news reports proposed opposed secretary education betsy devosthe proposed executive order unnecessary meanspirited school less safe thousands students please discard order preserve important protections transgender students',\n",
       " u'student loan system country become predatory inflationary crushing lives millions citizens due indefensible removal bankruptcy protections statutes limitations core consumer protections student loans unconstitutional intolerable stand founders demanded uniform bankruptcy system ahead power raise army declare war gave congress powers constitution student loan disaster proves wisdomrepublicans claim believe smaller freemarket principles agree democrats claim believe fair fair lending agree repeal usc immediately',\n",
       " u'february press secretary sean spicer indicated department justice might begin greater enforcement federal law legalized marijuana campaign repeatedly pledged elected federal respect rights enact cannabis laws wise policy supported growing supermajority voters know state marijuana legalization laws hurt cartels fund schools roads protect public health safety studies journal medical association others shown legal accessible medical recreational marijuana see significant reduction opioid death rates please keep promise',\n",
       " u'today found administration taken away right restroom matches way view leaves public restroom already started transition appear masculine cannot enter womans restroom cause questioned possibly harassed due appear forcing upon community move forward obamas letting restroom matches gender identify gender theyre forced',\n",
       " u'genders call education department justice department current administration restore transgender student rights already judged inclusive within title ix democracy extend rescind civil rights transgender rights human rights transgender rights natural rights natural rights universal inalienable per declaration independence constitution transgender students schools transgender citizens granted natural rights education gender bias employment gender bias housing gender bias formal gender identity gender pronoun preference bathroom dignity institutions',\n",
       " u'response administrations stance rescinding protections transgender youth school bathroom setting transgender youth able bathroom choice decrease stigma trauma violence towards transgender youth trans youth feel unsafe school setting point suicide attempts trans almost acceptance trans youth starts acknowledging trans youths rights exist school setting discrimination implore administration support trans youth lgbtq community',\n",
       " u'demand hear regarding dramatic rise antisemitism activities jewish specifically insurgence bomb threats local community centersschools desecration graveyards rise local university mn numerous incidents swastikas hate speech directed jews last months regarding uprising hatred truly great speaking surging volcano hatred nation',\n",
       " u'important unites recognizing jerusalem capital israel moving embassy telaviv jerusalem embassy moved jerusalem countries recognize jerusalem israels capital important show relations israel strong alliance unbreakable',\n",
       " u'dear mr presidentthe republic korea park geunhye legitimate elected korea recently illegally impeached prosecutors special investigators korean assembly evidence deviating presumptions innocence prosecutor even legislature pursued impeachment korea want inform mr unfairness impeachment impeachment struggling forefront preserving countrys democratic values korean assembly impeaching park governing act politicians korea impeached well',\n",
       " u'hughes amendment part firearm owners protection act unconstitutional ban limits law abiding citizens owning fully automatic weapons manufactured past may select fire weapons already heavily regulated firearms act requires register gun submit tax stamp known homicides committed legally owned fully automatic firearm one caused police officer law nothing prevent crime raises price legal automatic weapons ludicrous price due supply demand repealing unconstitutional hughes amendment restore second amendment rights attack long time',\n",
       " u'tax payers lining pockets children associates allowing stay properties stake allowed mar lago winter whitehouse tax payer expense',\n",
       " u'repeal replace executive order xadministration reformed export controls march eo blocks return wwiikoreavietnam era firearms mgarand mcarbine etc pistols colt etc surplus ammunition historic pieces military rightly belong hands citizens past many firearms sold cmp available stock gone almost gone large stores firearms located oversees allowed purchase historical firearms immediately revoke eo issue new eo allow return sale obsolete rifles pistols ammunition',\n",
       " u'firearm owners protection act enacted protect lawful gunowners egregious abuses kneejerk gca legislation last minute attempt spoil bill rep william j hughes dnj moved include clause unconstitutionally prevent law abiding citizens owning fully automatic weapons manufactured past may addition became known hughes amendmentthe hughes amendment prevent crimes committed machine guns nfa registers amp taxes law abiding citizens wish possess fact two homicides record committed registered machine guns years nfa enactedrepeal hughes amendmendment let freedom reign',\n",
       " u'twitter become censorious platform spite receiving large amounts money receiving direct measurable benefits regularly members federal therefore federal within bounds demand twitter restore accounts following suspended users censored unjustly immediately milo yiannopoulos chuck c johnsonwesearchr craig r brittain martin shkreli azealia banks mike pax dickinson tila tequila others hired paid part newly formed communications panel made speech consultants whsc tackle speech issues social media platforms',\n",
       " u'deregulate home distillation alcoholic spirits personal consumption stop making illegal distill small batches alcohol home personal consumption already home brew beer wine cant deregulate home distillation',\n",
       " u'recent assassination north korean leaders estranged half brother clear reason relist north korea state sponsor terrorism designation lifted nine years agonorth korea worst country human rights provocations exceed bounds international law security hope lawmakers put north korea terrorism blacklist curb reckless terror acts potentially halt nuclear missile programs',\n",
       " u'administration retract executive ordereo signed obama reimportation historically important military firearms direct department state approve reimportation former military firearms sale citizens firearms impact semiautomatic garand carbine rifles prized collectors competitive sports shooters backyard plinkers interested military history type firearms associated crimes obamas executive action solved firearmsrelated problems political grandstanding helped inhibit legitimate collectors able piece heritage',\n",
       " u'syrian democratic forces sdf includes arab muslims kurds christians minorities effective force fighting isis military treats sdf ally supplies sdf arab muslim units federation northern syria oversees sdf governs syria religiousethnic groups work together democratic structures achieved real equality freedom women freedom religion freedom middle east \\ufffdwe call \\ufffd give christian syriac military council amp kurdish peoplexs protection units equal military support given arab units ensure participation peace talks future syria fns fns safe zone lift sanctions',\n",
       " u'undersigned committed supporters nationxs democracy fundamental principles liberty equality justice recent actions administration threaten principles including elimination x jan st inauguration day links information spanish webpage whitehousegov liberty equality justice require access important information although majority native speakers spanish proficient english pew report previous administrations provided links spanish versions written materials ensure indepth understanding issueswe urge reinstate spanish links whitehousegov',\n",
       " u'ample evidence russian individuals organizations bodies tried influence presidential elections extent true nationxs form democracy threatened call congressional leaders convene joint select committee investigate activities russian directed russian acting even indirectly behalf russian meant influence outcome presidential election addition investigation include involvement communition russian effort presidential campaign candidatecommittee hearings open public called within days',\n",
       " u'hughes amendment part firearm owners protection act unconstitutional ban limits law abiding citizens owning fully automatic weapons manufactured past may select fire weapons already heavily regulated firearms act requires register gun submit tax stamp known homicides committed legally owned fully automatic firearm one caused police officer law nothing prevent crime raises price legal automatic weapons ludicrous price due supply demand repealing unconstitutional hughes amendment restore second amendment rights attack long time',\n",
       " u'hughes amendment part firearm owners protection act unconstitutional ban limits law abiding citizens owning fully automatic weapons manufactured past may known homicides committed legally owned fully automatic firearms law nothing prevent crime raises price legal automatic weapons ludicrous price due supply demand repealing unconstitutional hughes amendment help restore godgiven right keep bear arms',\n",
       " u'mr trumpyou said infrastructure jobs keystone administration spoke silicon valley leaders praised innovation said anything help go along wexre going talks japanese prime minster abe cited high speed rail technology could create prosperity thousands jobsshovelready transportation projects put work good manufacturing infrastructure jobs xcaltrain electrification support california including utah virginia pennsylvania fta approve million funding caltrain electrification',\n",
       " u'important millions driving licence holders dangerously directed misleading incomplete road signage prosecuted convicted illegally unlawfully police courts required action public support complaints far failed obstructed completely denied disregarded traffic enforcement devices installed lawfully required regulations extensive investigations research historic media records fully support evidence compiled website wwwbentcopbiz wwwbentcopboardsnet believe findings reflect global picture serious issue covered legal sector police authorities',\n",
       " u'nation making absurd gun laws affect law abiding citizens criminals propose donald sign executive order remove state gun control laws replace universal gun laws federal laws page keep laws keep guns hands criminals background checks remove laws go guns look certain way ammo capacity right bare arms given god almighty adopted constitution god bless',\n",
       " u'state north carolina economic growth development shrimping industry commission fisheries vote major trickle affect north carolina unemployment statistics overall economic environment state affect commercial shrimper affect processors fish houses breaders trucking banking restaurants list goes essentially closing billion dollar industry state keep economy moving north carolina industry puts new money economy year stand committee members majority voted regulation stop committee members changing entire workforce much power men',\n",
       " u'important effects give identity form legal recognition benefit literally tens thousands recognized real legitimate active thing internet discovered true selves truek e k n e shaliday top kek',\n",
       " u'administration connections russia suggested recent resignation general flynn know congress take steps deal',\n",
       " u'citing ica fbiciansa findings russia directly precedent interfered election ties current administration undersigned demand donald j removed office election results nullified upon investigations conclusion donald video evidence encouraged russia interfere election top officials communicating russian intelligence officials engaged treason crime country alone crime requiring removal office via impeachment process',\n",
       " u'congress address resolution introduced congressman alcee hastings dogsampcats sadistically intentionally tortured everyday feel fearamppain belief makes meat tendertaste betterampgives men sexual stamina ways includethrown boiling waterhungampreleased repeatedlyblowtorchedskinnedelectrocuted anallyamporallyfeet cut prevent escape throats sliced openthe entire time victims still alive feel pets stolen loving familiesampsome even found tortured death still wearing collarsthis done front young children grow thinking itxs normalthis type behavior goes beyond realm normal human beingxs mind end',\n",
       " u'economics higher education crisis tuitions soaringwith increases college school costs outpacing inflation students exitingcollege graduate school indebted ever hastransformed student loans largest source consumer indebtednessafter mortgages matters worse comes value higher education called question returns sinking tuitions indebtedness defaults surging higher education financial reform pressing students unlikely able repay \\ufffd bankruptcy code exacerbates effects burdensome debt allowing private federal student loans discharged upon showing undue hardship please sign',\n",
       " u'violates title nobility clause explained article section constitutionthe clause title nobility shall granted person holding office profit trust shall consent congress accept present emolument office title kind whatever king prince foreign statedonald known financial ties russia owes hundreds millions dollars debt banks foreign countries china complicated business entanglements create conflict interest security issues deserve see tax returns donald impeached',\n",
       " u'deeming regulations instituted food drug administration act congress outside purview powers original mandate regulations nothing attempt kill industry painted evil simultaneously pay cost swelling bureaucracy fda importantly violation personal freedom chose partake cigars pipes truly steadfast promise cut regulation protect personal freedoms citizens take action unconstitutional regulations',\n",
       " u'january st open session california state senate senate pro tem kevin de leon admitted record half family eligible deportation state senator de leon went state illegally obtaining fraudulent documents committing identity theft acceptable survive workwe congress attorney general open investigation state senator kevin de leon criminal malfeasance aiding abetting criminal activityour leaders encourage actively support illegal activity held accountable fail uphold public trust violate lawhere de leons words',\n",
       " u'joy villa really brave thing wearing great dress grammys love country try unite country think consider letting sing maga',\n",
       " u'thrift savings plan tsp changed policy concerning interfund transfers ifts unlimited trades two trades although allowing final trade g fund policy prevents employees military members control retirement account policy amended allow free ifts per month always allowing last free ift g fund additional ifts ifts allowed fee commensurate industry standards give back employees military members control retirement account money',\n",
       " u'women experience physical violence intimate partner lifetime according cdc incoming administration wants cut funding violence women act grants funding domestic violence programs already significantly insufficient annual census conducted network end domestic violence found inquiries domestic violence services could fulfilled due lack resources resources include helping victims attain safe shelter legal services transportation assistance child care reducing access vawa grants lead poorer outcomes survivors including increased fatalities please stand protecting women country',\n",
       " u'hospitalsphysicians required report food allergy statistics state andor database therefore dangerous irresponsible person physician organization declare specific food allergies rare eg corn result state fda representative encouraged track statistics one many corn allergy groups sample population following monthend corn allergy growth statistics selected group indicative emerging corn allergy crisisjanuary corn allergy statistics one corn allergy group members anaphylactic corn requiring epipens increase corn allergies last mos',\n",
       " u'effects constitutional rights legal gun owners state new jersey state new jersey banned following items magazines based capacity barrels based length nothing shorter inches shotguns inches stocks furniture fold telescope underfold bayonet lugs pistol grips semi auto shotguns muzzle devices compensators flash hiders silencers list scary items goes state new jersey made impossible legal gun owners obtain concealed carry permit based brash terminology justifiably state consider peoples right defend family home important enough require ccw violation nd ammendment',\n",
       " u'obama made decision tear inactive oil gas platforms gulf mexico immediately executive order titled quotidle ironquot ignorant uninformed decision single executive order destroyed almost greatest artificial reef system ever created threatens destroy man made reef systems gulf hundreds thousands fish marine animals wastefully killed process eventually entire gulf ecosystem destroyed due one executive order coral reefs provide habitat marine fish animals blown removed gulf year due falsely perceived environmental threat please support end idle iron',\n",
       " u'order ensure legitimate interests pr congress recognize pr sovereign nation consistent article iv section constitution congress power dispose needful rules regulations respecting pr prxs territorial condition constitutes unsustainable status political subordination contradicts principles democracy annexation pr state detrimental pr mention congress shown interest annexing pr majority voters rejected continuation territorial status referendum political status pr held pr peopletherefore presidency urge congress start process independence pr',\n",
       " u'please repeal executive order banned importation common sporting rifles russia',\n",
       " u'ambassador baily clearly meddling imposing self interests internal politics country personally responsible inadequate outsourcing tax payers money trough usaid funds time putting money hands george soros ngos disregarding basic democratic tendencies rights',\n",
       " u'unconstitutional ban hurts nobody law abiding citizens maintain proper care firearms nationally xassault weaponsx crimes involving firearms violent crime enactment state xassault weaponsx ban first years federal ban lifted murders declined violent crime rapes robberies lifting unconstitutional ban safer protect nd amendment rights law abiding citizens',\n",
       " u'remove nd amendment restrictive executive orders george hw bush bill clinton barack obama modernize sporting purpose include modern firearms ammunition purposes gun competitions force removal ban popular ammunition x n atf declared armor piercing years sale market halting attempt ban similarly designed ammunition military shooters everywhere x orders actions designed gut elevate cost freedoms enjoyed shooters collectors seeking enjoy right',\n",
       " u'facebook long history violating free speech conservatives putting facebook jail smallest perceived violations leftists allowed free reign post anything wish including threats assassination political figures police murder conservative pornography graphic depictions violence regularly discriminate christians yet belief systemswe committee investigate violations apply necessary sanctions fines upon facebook ensure free speech mark zuckerbergs minions',\n",
       " u'secretary state clinton direct violation agreement outlined standard form section sent classified information outside server classification needed keep information sending secure actions created major security violation could potentially enemies state reverse fbi decision hrc charged aforementioned charges along others outlined sf edit due recent reports intentionally unsecure server scapegoat blaming nation russia hacking private server server encrypted potential hacking',\n",
       " u'kellyanne conway deceitful dishonest incompetent unethical great disservice country therefore firedshe clearly demonstrated harm good nation invented alternative facts made bowling green massacre never happened promoted lie public times mostly recently broke law promoting ivanka trumps clothing line tv signing agreeing fired replaced someone qualified honest credibility upstanding character represent reputation usa world watching',\n",
       " u'donald j smart dedicated security country believes appeals court wrong stay executive order immigration seven muslimmajority countries intends argued supreme court name security donald j forgo lawyers represent executive order pro se arguing supreme court behalf security benefit maximum smartness',\n",
       " u'russias unprecedented actions interfering presidential elections cause alarm maintain sanctions ordered obama december well significantly increase send clear message world tolerate foreign interference sacred democratic process',\n",
       " u'civil forfeiture allows police seize x keep sell x property allege involved crime owners ever arrested convicted crime cash cars even real estate taken away permanently governmentforfeiture originally presented way cripple largescale criminal enterprises diverting resources today aided deeply flawed federal state laws many police departments forfeiture benefit bottom lines making seizures motivated profit rather crimefighting',\n",
       " u'unnecessary unscientific regulation biotechnology country harmed farmers innovation small businesses wexve seen large corporations pull back bringing products market countless millions dollars spend cut bureaucracy innovative foods like allergen free peanuts droughtresistant wheat either delayed never reach marketplace many nations world rely food aid could save billions could grow genetically engineered seeds rather relying aid beacon hope biotech innovation letxs deregulate genetic engineering breeding method restore hope',\n",
       " u'communities northern california historically felt right equal representation withheld culture political climate north south california different considered represented please help reach goal establishing fair accurate republic citizens',\n",
       " u'days treatment set failure curing helping anyone suffers addiction small term treatment revolving door help anyone suffers mental illness addiction levels leave facility withdrawing medications taper street drugs setting addiction failure costing many lifes waste millions dollars procedures protocols dated death toll risen past years growing control suffer mental illness addiction chances overcome days treatment state insurance free care across immediately',\n",
       " u'dept education created carter spent money education increase academic achievement education pre best world held position decades federal started interfering started experience downgrade top academic place world reagan elected promise abolish department misled trusted wrong promise never realized time right shut department return education control local education areas parents please show support hr sign',\n",
       " u'citizens amp voters dismayed defense secretary jim mattis statement japan february statement defending japanxs illegal claim diaoyutai islands totally wrong asking correct wrongful policy right away donxt want waste taxpayersx money defend japanxs illegal claim diaoyutai islands belonged china six hundred years illegally handed islands japan japan illegally claims territory islands located kilometers away china amp kilometers japan old saying goes two wrongs right rationale applies two illegal acts legal please correct policy thanks',\n",
       " u'made extensive twitter presidency disturbing ways tweets times embarrassing country unbecoming office governments official potus account lobby business interests times insulted officials federal governmentmost disturbing fact presidents social media addiction distracted performing important official duties monitoring important military actions ordered attending daily intelligence briefings sake security prevented using directly indirectly social media remainder term',\n",
       " u'veterinarians currently encourage pet owners revaccinate pets year requesting congress mandate veterinarian colleges educate vets require titer tests prior revaccinations pets completed first series puppy vaccines canine immunologists provided documentation substantiate dogs given first year shots lifetime immunities thereafter epidemic dogs acquiring immune mediated diseases due practice caused much pain suffering pets mention financial expense trying save lives opinion form animal cruelty cause suffering stopped education law',\n",
       " u'ayden rae foundation dedicated saving lives one day helping eradicate hyperemesis gravidarum hg dearest donald j congresswe congress hyperemesis gravidarum hg priorityfighting hyperemesis gravidarum togetherdo part still time sign save babies mothers suffer hyperemesis gravidarumto congress stateshyperemesis gravidarum hg severe form nausea vomiting pregnancy lead dehydration severe malnutrition electrolyte imbalance fatal mother unborn children',\n",
       " u'september years investigation robert dekelaita prominent immigration attorney indicted allegedly conspiring obtain asylum handful iraqi christians may jury convicted robert counts however matter held robertxs attorneys filed motion judgment acquittal reverse conviction strongly feel unjust improper law kindly request case immediately dismissed angered offended extreme efforts directed toward iraqi syrian christians quite clear endured nothing less genocide recently officially admitted',\n",
       " u'january th mr jiansheng chen yearold man shot death security guard mr chen sitting minivan playing pokxmon go game front club river walk community chesapeake resides strongly demand city chesapeake police department conduct full range investigation review security footage surveillance cameras citizens chesapeake deserve thorough transparent fair investigation case deserve country safe enough play pokemon go inside communities live determined pursue full justicepokxmongoer lives matter',\n",
       " u'senator john mccain dealing syrian terrorists providing weapons terrorist accepting money foreign interest accusing false document',\n",
       " u'pastor andrew brunson languished prison turkey october falsely charged xmembership armed terrorist organizationx despite turkish authorities evidence pastor andrew citizen north carolina family lived peacefully turkey urge request turkish erdoxan order andrews immediate release return',\n",
       " u'help ensure citizens determine destiny ballot box ultimate goal impact citizens acted upon submitted behalf group organization like minded citizens citizens right know non citizens voting local state elections therefore congress appropriate funds necessary investigate voter fraud',\n",
       " u'bill clinton signed adoption safe families act intended remedy problem endless foster care thousands children bonus check paid terminate parental rights place children adoption created financial incentive terminate family relationships instead rehabilitating families nationamps ampquotbest interest childampquot mantra created hitler became battle charge begin social engineering families federal adoption bonuses bourgeoned billions dollars paid financially dependent funds addition state agencies controlled private contractors profit end afsa',\n",
       " u'law enforcement made three components judicial system police courts corrections congress pass federal law force individual recognize correctional officers law enforcement officers time estimated correctional officers put correct category law enforcement given rights union protection assaults first responder rights offduty police officers correctional officers take oath serve protect public uphold constitution state laws time long past due federal law forces recognizes correctional staff member law enforcement part judicial system',\n",
       " u'decision delete thousands records related welfare animals laboratories taking away public access previous online usdaaphis database ensures transparency extremely dangerous unethical facilities able whatever want animals public oversight breaking law hiding information facilities free nobody ever know',\n",
       " u'creation chartered civilian volunteer emergency response organization augment existing based services designated agency provide training supervision organization set standards equipment supplies enactment legislation needed provide preemption state laws prevent volunteers training maintaining owning designated equipment supplies',\n",
       " u'medical treatment comes risk severe reaction death mandated requirement education employment military especially manufacturers medical treatments liability safety efficacy products many either passed legislation past years trying put executive order forward prevent federal state private agency creating requirements remove requirements currently exist require vaccinations criteria education employment military repeal childhood vaccine injury act vaccine manufacturers liable products',\n",
       " u'following riots uc berkley guest speaker milo mayor uc berkley issued police stand allowed mass violence threatened pull federal funding uc berkleyuc berkleys funding comes whopping year pulled plug money could much better cause fixing flint michigan water system previous administration failed acknowledge estimated cost water system berkley funding easily cover money left infrastructure changes',\n",
       " u'signed budapest memorandum pledged maintain ukraines territorial integrity return ukraines unprecedented voluntary surrender nuclear arsenal americas credibility honor demand uphold pledge providing decisive aid face ongoing russian aggression ukraine already sacrificed lives defending putins war crimesrussia continues unlawfully violate invade ukraine annex internationally recognized ukrainian territory launched fresh assault ukrainian unequivocally clear mr putin behavior intolerable met resolve severe consequences',\n",
       " u'aims end offshoring health information management jobs prohibit transfer personal identifiable information pii protected health information phi person outside current federal law protect prevent pii phi accessed unauthorized personnel could sell information open credit accounts attempt extort patients release information onlinehealth information management jobs include positions access medical records coding billing medical treatment medical facilities including hospitals dentists surgery centers urgent cares primary care doctors medical records include protected health information personal identifiable information',\n",
       " u'end wind subsidies abused corporations exspense tax payers wind farm companies placing turbines close homes maximize profits creates hazardous condition living nearby new york created specific ethics documents wind companies concern way conduct business time congress acts',\n",
       " u'kids raised prayer school right read bible verses teach creation classrooms vital making great',\n",
       " u'openly call assassination openly call rape found multiple sources funded george soros attempt destabilize country spread sedition wish overthrow current replace communist anarchist commited multiple counts assualt amp battery group commited multiple counts vandalism group called destruction faithsin addition antifa met little resistance police afraid violation antifas right protest protesters antifa political army starts riots undermines rights freedoms law abiding citizens',\n",
       " u'honor children world unable access life saving medical care support charitable organizations hospitals reviews access policy require emergent medical care arranged care facilities medical waivers necessity save lives otherwise lost please begin little fatemah urgently pediatric cardiothoracic surgery stay alive grandparents citizens hope',\n",
       " u'help bring awareness closing coal power plants epa wants company unforeseen changes cost billions due changes company wants close doors company history buy closing plants keep doors open cause domino effect small rural area business close move schools suffer lead closings lime mines close barge companies move stop running train longer help',\n",
       " u'last decade weve witnessed socalled antifascists commonly known antifa steadily radicalize behavior methods escalation included rioting washington dc smashing windows destroying public property event chillingly reminiscent kristallnacht randomly assaulting innocent doxxing blocking traffic much hatred anything antiamerican manifested alarming tangible results terror modus operandi enough calling congress designate cell largely funded known economic terrorist george soros domestic terror organization feelgood name avoid scrutiny deserve',\n",
       " u'hello like see ban curio relic firearm importations lifted russia china like bring back rifles garand carbine rifleslent south korea korean war like see sold general public citizens marksmanship program firearm importers thank',\n",
       " u'antifa leftwing radical group past year caused violence engaged terrorist like activities last night caused damage rioted college campus berkeley california resulted property damage minor injuries isis declared terrorist organization congress congress declare antifa terrorist organization',\n",
       " u'strongly urge protect office violence women office vital protection womens rights reduction sexual assault domestic violence',\n",
       " u'story one many heartbreaking stories administrations new immigration policy family monthold iranian girl said missed appointment open heart surgery due donald trumpxs executive order banning travelers seven majoritymuslim countries scheduled surgery ohsu family taking steps visas including traveling dubai consulate iran last minute told couldnt go due ban want reach heart compassionate allow family save baby girls life read',\n",
       " u'last several months seen antifa short quotantifascistquot agitators commit acts political violence across countrymasked antifa members washington dc attacked beat several individuals well looting destroying stores presidential inaugural weekendantifa members seattle beat several individuals antifa members berkeley beat unconscious flagpoles assaulted innocent bystanders torched uc berkeley propertythese acts political violence growing rampant clearly meet definition terrorism antifa poses threat innocent men women across countrypresident value peaceful discourse declare antifa terrorist organization',\n",
       " u'adress mr donald th congratulate victory elections introduction presidency chosen means youre person word honor destinies millions wellbeing stability depend decisions behalf russian appeal stop confrontation usa russia become allies partners russia usa give guarantees stability world person planet following steps guarantee peace relations countries include foreign policy programme plan reconciliation russia usa first step remove economic sanctions russia',\n",
       " u'mandatory vaccination unconstitutional demand medical freedom agencies may compel deny medical procedure treatment substance whether force detainment fines taxes withholding benefits',\n",
       " u'citing ica fbiciansa findings russia directly precedent interfered election undersigned demand donald j removed office election results nullified upon investigations conclusion donald video evidence encouraged russia interfere election engaged treasona crime country alone crime requiring removal office via impeach process',\n",
       " u'xmake great againx xamerica firstx xabout stem advanced degrees awarded international students keep talent cannot keep quota hb visa cappedinstead providing hb visas graduates universities colleges cheap labors overseas hired outsourcing firms major users hb visas fraudulent documents rampant hard verified employees laid outsourcing talented graduates higher education institutions left lottery processinternational students discouraged coming bad economygraduates higher education institutions highest priority hb visa',\n",
       " u'kekistani oppressed long wish donald j help kekistan giving recognition encourage world leaders cries freedom ring',\n",
       " u'steve bannon poses threat democracy said wants send status quo crashing appears person calling shots one elected qualified security council dangerous man',\n",
       " u'executive order steve bannon full seat xprincipals committeex security council roles chairman joint chiefs staff director intelligence downgraded unprecedented elevation political adviser status alongside secretaries state defense presidentxs top military intelligence advisers reversed remove steve bannon security council',\n",
       " u'refugees accepted come resettlement stopped detained presidential decision close borders wartorn nations refugees endured years upheaval seeking homes targets mothers fathers children grandparents families mine waiting two years gain freedom instead detained airports u around world hopes dashed nowhere turn meanspirited counterproductive policy deeply unamerican nothing reduce risk counter central values country calls reversal trumps jan executive immigration order',\n",
       " u'petitioning behalf freedomloving everywhere safe swift return citizen university virginia student otto warmbier held prisoner north korea january otto currently serving sentence years hard labor minor transgression removing political banner north korean hotel bring beautiful baby boy home',\n",
       " u'mom victims cyberharassment im cyberbullying may seem trivial destructive acts devastating consequences countless young lives chosen death stark depression brought cyberharassment tragic losses anomalies insecurities victims rather result epidemic cruelty transmitted internet talked ending carnage ending needless loss lives americanskids adultskilling lives destroyed due cyberharassment part carnagewe administration amp congress take action enact stricter laws protect cyber victims',\n",
       " u'pre existing conditions clause affordable care act impacts health insurance affects withobamacare insurance via employer everyonea major part aca guaranteeing healthcare preexisting conditions insurance companies cannot deny discriminate financiallyhere handful things considered preexisting conditions cancer heart disease diabetes kidney disease woman list goes onhigh risk pools shown work expensive administer much costly consumers afford provide poor coverage gaps limitswe know someone affect sick care',\n",
       " u'demands immediate removal stephen bannon security council unprecedented move placing political operative council dedicated security decisions politicizes military decisionmaking affront men women serve bravely armed forcesbannon significant experience security sidelined general james mattis secretary defense general kelly secretary homeland securitydecisions taken security council involve lives brave men women uniform protected political calculations position security council makes less safe demand removal council',\n",
       " u'call immediately reverse executive order restricting refugee admissions immigration order prolongs human suffering fails effectively confront global terrorism runs contrary prohibitions discrimination based religion origin established immigration nationality act',\n",
       " u'non governmental organizations sri lanka areacting sovereign status sri lanka false propaganda brought puppet breaking small unitary island federalism give mythical tamil eelam please tamil tiger terrorist sympathisers selling land foreigners hence minority sinhalese race world discriminated loosing land destroying identity culture heritage history pure theravada buddhism associated practices via mushrooming fundamentalism faiths creating ethnic tension underhand acts racial disharmony eg destroy vandalise years old buddhist heritage via ngo funded fake nationalistic organizationsforeign p',\n",
       " u'incredible work reigning epa doed appointing conservative justices supreme court protecting extreme vetting support',\n",
       " u'californians second amendment rights constant attack state everything handgun roster round magazine restriction assault weapons ban ammunition purchase background checks ammunition possession limits outragious conceal weapons permit fees selective issuing ccw permits open carry ban california legislation believes bans restrictions safer california reality easier criminals commit crimes law abiding citizens help return californias second amendment rights law abiding citizens',\n",
       " u'terrorism defined xthe violence intimidation pursuit political aimsx definition definition declare isis groups terrorist organizations black lives matter earned title due violent actions multiple cities influence killings multiple police officers throughout group already described hate group racist police hating actions milwaukee sheriff david clarke speaker last years rnc time pentagon consistent actions x rightfully declared isis terror group declare black lives matter terror group x grounds principle integrity morality safety',\n",
       " u'steve bannon promoting dangerous unamerican actions removed position influence',\n",
       " u'executive order causes undue hardship distress estimated legal residents iraq syria iran libya somalia sudan yemen violates basic human dignity moreover stipulating refugees let country christians prioritized muslims violation first amendment',\n",
       " u'donald rescind executive order stopping refugee resettlement program illegal immigration ban based origin',\n",
       " u'steve bannon little experience security issues quite simply poor replacement regular required attendance director intelligence chairman joint chiefs staff experience background knowledge protecting interests nation steve bannons roll limited strengths experience lieproviding advice directing developing winning message around presidents proposed policies',\n",
       " u'steve bannon propagandist whitenationalist sympathies disregard truth unprecedented move elevate bannon downgrading influence experience perspective judgement military intelligence officials puts security world citizens risk',\n",
       " u'though oppose moritorium refugee immigration favorable treatment persons one professed religion another acknowledge undoing signed executive order unlikely however indefinite detention approved refugees already transit stranded executive order inexcusable already approved lengthy rigorous process oversight multiple federal agencies allowed complete process already approved light extensive criticism endured significant portions country press corps first week presidency low risk political move allows gain back political capital show compassion',\n",
       " u'lyme disease hidden epidemic crime humanity cdc stuck back regards testing diagnostics disease medical community mandated follow cdc guidelines therefore improperly caring patients misdiagnosis transmitting blood pathogen via transfusions accurate tests fda nothing check blood donations disease linked ms als parkinsons disease alzheimers lyme disease left untreated incorrectly treated killing via slow suffering debilitating death lets great starting investigating federal agencies responsible public health safety cdc fda held accountable',\n",
       " u'recent executive order quotprotecting nation foreign terrorist entry statesquot done hamfisted way although visa policy implementation always improved ensure nation remains secure changes wellconceived done thoughtful manner coordination relevant agencies order therefore rescinded changes considered thoughtful way considers ramifications civil liberties foreign relations congress involved needed changes immigration nationality act',\n",
       " u'country founded immigration factual evidence immigrants countries reviewed according existing procedures likely commit terrorist acts furthermore executive order impose limits immigrants saudi arabia egypt lebanon uae countries origin terrorists decision admit christians muslims prohibited countries clearly contrary third amendment prohibiting discrimination basis religion reasons executive order january immediately revoked',\n",
       " u'action puts place day block entry citizens iran iraq syria yemen sudan libya somalia officials continued insist presidentxs actions targeted muslims one faith text executive order made explicit prioritize religious minorities muslimmajority countries upon resuming admittance refugees xupon resumption usrap admissions secretary state consultation secretary homeland security directed changes extent permitted law prioritize refugee claims made individuals basis religiousbased persecution provided religion individual minority religion',\n",
       " u'calls congress pass legislation nullifies presidents executive order protecting nation foreign terrorist entry statesthis executive order bans legal residents greencard holders traveling entering reentering taking away legal rights students employees workers countries iraq somalia iran syria yemen libya sudan furthermore order prevents refugees safely relocated executive order runs contrary values freedom unhcr rights refugee obstructs entry residents endangers lives refugees awaiting relocation',\n",
       " u'important dire attention seen tweet worldstar hiphop young posty mixing dangerous bangers public hear youre country youre fellow citizens favor signature leads one step closer new tracks straight flames favorite mr posty',\n",
       " u'immigration ban reflect values making safer countries naturally retaliating thus restricting travel citizens particularly restricting movement workers hightech sector destroys americas competitive advantage place innovate create jobs',\n",
       " u'person poses threat wellfounded fear persecution account race religion nationality membership social group political opinion ability seek refuge statesour existing refugee program limited robust secure effective already requires extensive screening department state federal bureau investigation congress take immediate action rescind executive order resume refugee program',\n",
       " u'banning valid visa holders entering based upon religion direct violation constitution one discriminated face persecution based upon religious beliefs race gender trumps ban muslim visa holders entering country immediately overruled congress otherwise violates core beliefs americansthe signers call upon congress supreme court act immediately continuously prevent unconstitutional behavior',\n",
       " u'new policy harm following reasons economic interest many professionals talent impacted nations attract new talents disadvantaged changing world views land free diverting resources futile policy evidence based protecting security trigger reciprocal actions multiple nations citizens face obstacles travelling policy putting lives unity many families legal immigrants risk simply areplease help protect economic interests save reputation stronghold human rights',\n",
       " u'unamerican ban valid visa holder amp green card permanent resident holders based nationality religion entering destroys millions lives break countless families ban punishing innocent based nationality religion therefore promote americas interest security home abroad action superpower divisive policy promoting fear hatred home abroad executive order repealed',\n",
       " u'dangerously mentally ill temperamentally unfit serve clear present threat citizens stability future nation hang delicately balance fearfully bear witness indisputable malignant narcissism xenophobic pathological liar erratic manipulative ampampamp passiveaggressive violated constitution silencing press disregarding wall church state stam requiring religious test qualification public trust art refutes transparency divesting encourages violating th amendment malevolence federal alienage policies morally corrupt collusive fanatical peremptorily summon congress motion invoke th preempt destruction',\n",
       " u'refugees already extremely well vetted process average lasts anywhere months includes multiple interviews multiagency un background checks medical exam ban turns backs unconscionable suffering others religious preference ban unlawful unconstitutional unamerican ban immoral inhumane illegal ultimately safer reverse ban',\n",
       " u'usfs wildland firefighters put lives line fighting fire recognized firefighters federal wildland firefighter recognition act introduced representative doug lamalfa cosponsors july hr date action taken',\n",
       " u'barring refugees entry country based faith opposite true christian values christian religion entitle rights country others impossible ignore parallels jews treated germany japanese treated wwii beginning treat muslims dark marks history starting repeat themmost terrorist attacks perpetrated citizens already country many years legally action drive extremism endanger citizens entire faith persecuted',\n",
       " u'signatories demand rescind protecting nation foreign terrorist entry executive order unnecessarily bans citizens seven muslim countries entering order ineffective counterproductive protecting nation breaks longstanding tradition great country graciously welcoming wish depart native lands opportunities provided said generationsgive tired pooryour huddled masses yearning breathe freethe wretched refuse teeming shoresend homeless tempesttost mei lift lamp beside golden door',\n",
       " u'help bring together important issue facing humankind climate scientists given flying start theyxve proven global warming real causing burning much fossil fuel backed scientific consensus please demonstrate leadership ability bringing climate doubters onboard eighteen scientific organizations academies science countries want help already support consensus view major religious faith acknowledges humancaused climate hoax paris climate accord vowed axthe one participating unfccc member eu unanimously support please donxt rip togetherness apart',\n",
       " u'presidents executive order suspending refugee resettlement banning entry nationals selected countries instituting religious litmus test opposition law values supported facts call upon immediately reverse action',\n",
       " u'requesting proclaim day fasting may th stated inauguration speech bible tells good pleasant gods live together unity believe day fasting call nation unify amp turn hearts toward god see division prejudice end march th abraham lincoln proclaimed day fasting prayer humbling god following years years experienced economic surplus see nations economy return place head tail lend borrowwe gods helpgod bless amp god bless',\n",
       " u'anyone administration knowingly disseminate false information due diligence fact checking person held accountable issuing apology correcting statement andor subject discipline including termination employment',\n",
       " u'requests repeal executive order protecting nation foreign terrorist entry whether well intentioned order discriminates immigrants refugees basis religion ineffective unconstitutional violation values premise country founded',\n",
       " u'many muslims seven countries barred immigrating worked courageously dangerous conditions attacked governments risk death remain executive order signed night january resulted detention already vetted cleared come air time executive order signed detaining cruel pointless shames order immediately rescinded wrongly detained released join families',\n",
       " u'niki iran went back home winter break trying fly back boston last night denied access connecting flight sent back home iran niki student visa extremely active part mit community please help come back mit',\n",
       " u'continued ignorance inattention felonious crimes medical pharmaceutical health insurance establishment likely end trumps first term utterly destroy sheer complacency entire economy budgets way life forms concupiscent cowardly acquiescence allowing economic destruction nation end chance nation survive politics greed fear hatred mathematics',\n",
       " u'repeal executive order shamefully bans refugees entering bans already authorized visaholders seven countries simultaneously creating unconstitutional religious test future refugees',\n",
       " u'plans sign executive order banning iranians entering statesi shocked appalled reports intend sign executive order ban access visa holders iranthis fundamental challenge supposed represent directly targeting friends family iranianamerican community communities inflicting real pain real many iranian like immigrated brighter future based promise represented centuries risk throwing away taking slippery slope towards dark future quoted aic statement',\n",
       " u'order align trumps affirmation pick xwinners losersx energy department increase vehicle limit plugin electric drive vehicle credit irs code allows tax credit electric vehicle ev purchase subsidy brings ev industry closer balance subsidies fossil fuel industries gets',\n",
       " u'right delayed right denied martin luther king jrcurrently firearms act requires batfe collect tax process paperwork transfer many popular types firearms unfortunately way batfe handles responsibility unconstitutional chilling effect ownership many popular firearms many transfers taking long ten months completethis asks executive authority order batfe process nfa paperwork within hour period line existing nics statute',\n",
       " u'fda trying put sam jail years labeling infraction please sign share far wide trial signatures trumps attention thenbasic story explanations cbs affiliate story coming asap',\n",
       " u'undersigned citizens sincerely believe republican form beenand assaulted acts calculated overthrow lawful together actsattempts incite insurrection create civil unrest otherwise interfere sovereign first amendment exercise free honest form selfgovernment bygeorge soros accomplices conspirators coconspirators henchman associates organizations enablers surrogates extensions thereof including limited hillary rodham clinton barack hussein obama current former representatives intelligence cia media military members congress complicit state federal officials',\n",
       " u'making call vice pence sitting members washington demanding invoke th amendment section sworn oath protect citizens country whether foreign domestic threat sworn duty protect core values beliefs built sworn duty protect leader lacks mental capacity stability run nation currently breaking oaths sworn call question donald trumps mental capability leader free world demanding congress swore oath',\n",
       " u'want see constitutional carry remove regulations god given nd amendment rights provide protection threats selves family security ever happened shall infringed',\n",
       " u'lack immediate concrete plan replacement aca cause insurance markets destabilize premiums increase millions working families lose coverage repeal increase taxes middle class roll back consumer protections take away health care coverage millions show plan helps dangerous play politics lives stake',\n",
       " u'epidemic addiction sweeping tool available save kids powerful tool caseyxs law law recently passed kentucky ohio allows families court treatment loved one refused help addicts often refuse help spiraling control late happened charlotte wethingtonxs son casey died heroin overdose charlotte felt able casey court ordered treatment hexd still fighting caseyxs law passed federal level meantime across country trying caseyxs law passed statebystate',\n",
       " u'transparency epa job protect pollution protect environment children grandchildren job epa protect corporations know current administration stopping epa job media blackout designed keep knowing',\n",
       " u'end americas oil dependence past years economy driven oil declassifying nikola teslas work lead clean profitable alternative putting forefront energy technology deserve research free clean energy end hold oil dependence leading discoveries depend finite resources face nation becoming world leader innovation technology propelling new era operation paperclip siphoned trillions quadrillions dollars secret access defense contract programs know truth missing trillion tax dollars going military industrial complex time first',\n",
       " u'steve bannon represent values country removed position immediately',\n",
       " u'trumps inauguration administration placed gag bans lockdowns several scientific environmental agencies epa fda usda parks service several organizations cabinetlevel unacceptable organizations work towards safety climate environment medicine food etc valid reason gag orders control flow information public funds purely political moves political gain businessloving administration history xwhen tear mans tongue proving liar youre telling world fear might sayx george rr martin clash kings',\n",
       " u'throughout presidential election campaign candidate donald repeatedly promised immediately upon taking oath office repeal barrack obamas executive amnesty illegal immigrants arrived children call mr fulfill promise clear anyone comes illegally committed crime rewarded citizenship',\n",
       " u'well regulated militia necessary security free state right keep bear arms shall infringed clearly state california know meaning infringed upon like california politicians speak blasphemy topic know nothing pass laws hurt law abiding citizen compromise little everytime seems enough tyrants clearly obey law land constitution',\n",
       " u'motorcycles nothing beef reason include list proposed items consists entirely food items small medium motorcycles lifeblood motorsports thousands spectators enjoy supercross motocross enduro competitions counting millions watch broadcast television cable thousands enjoy sport including children addition dirt bikes includes smaller street race bikes scooters mopeds many new motorcyclists started smaller motorcycles healthy outlet energy younger generation put business many small dealerships sell cc cc motorcycles imported europe',\n",
       " u'asking aware things cannot continue quotstatus quoquot cant turn backs safety cubans central request senators enact order provide amnesty cubans passport stamped leaving cuba prior january transit usa quotwet foot dry footquot policy repealed cubans amnesty processed legal immigration laws required usa send message cuban citizen thinking starting trip usa process longer quotstatus quoquot please assist cubans central going humanitarian crisis',\n",
       " u'dakota access pipeline known bakken oil pipeline contaminate water supply thousands pipeline carry crude oil farmlands natural areas towns tribal lands construction pipeline stopped',\n",
       " u'signed law revival construction dakota access pipeline keystone pipeline additional legislation expedites environmental permitting process infrastructure projects related pipelines believe actions reviving pipelines repealed reasons energy dependency fossil fuels contributes climate unsustainable future generations construction dapl pipeline trespasses sovereign land standing rock sioux reservation fundraising effort kelcy warren energy transfer partners ceo republican party behalf trumps campaign conflict interest',\n",
       " u'law abiding citizens california systematically stripped second amendment rights democratic majority pushing agenda rid state guns way biased onesided',\n",
       " u'administration recently placed gag orders park service epa usda sign administration remove gag orders',\n",
       " u'potential dangers manmade climate serious ignore although age unlikely suffer serious effects possible effects children childrens children severewe call establish blueribbon panel composed members academy sciences advise senior administration officials issues related climate include likely effects climate effort made mitigate costs benefits different approaches mitigation',\n",
       " u'asking aware things cannot continue status quo cant turn backs safety cubans nuevo laredo request senators enact order provide amnesty cubans passport stamped leaving cuba prior january transit usa cubans amnesty processed legal immigration laws required usa send message thinking starting trip process longer status quo please assist way possible please number nuevo laredo mexico waitin cross',\n",
       " u'child born country citizen right medical history documentation maintains name basic human rights denied adopted children many allowing adoptees access original birth certificates special circumstances many laws exist allowing adopted persons information redacted reason discrimination please allow adoptees request obtain original birth certificates full access',\n",
       " u'deny refuge fleeing syria iraq yemen somalia iran libya denying refuge fleeing violence violation fundamental values denying refuge risked lives help military many seeking escape countries done betrayal sacrificed protect bans keep safe already exhaustive vetting process domestic terrorism carried rightwing extremists born countryyou said listen listen invoked champion christianity violate commandment care least',\n",
       " u'donald promised protect inaugural speech includes standing rock sioux tribe threatened viciously attacked peaceful protests throughout year many water protectors locked dog crates sprayed water cannons freezing weather subject egregious crimes one brave journalists reporting acts arrested criminal trespassingthe pipeline run unceded native land constructing violation treaties signed land property standing rock sioux indisputable unless willing prioritize profits big oil companies rights',\n",
       " u'donald signed executive actions advance approval keystone xl dakota access oil pipelines decision advance pipelines cast aside efforts barack obamas administration block construction two pipelinespresident legally required honor treaty rights provide fair reasonable pipeline process said standing rock sioux tribe chairman dave archambault ii statement know pipeline unfairly rerouted towards nation consent existing pipeline route risks infringing treaty rights contaminating water water million downstreamcorporate interests put ahead interests',\n",
       " u'recent reports suggest donald plans cut funding office violence women ovaws grant programs provide funds preventing domestic violence sexual assault dating violence stalking elder abuse grants support victims offering legal aid transitional housing assistance training help civil criminal justice systems better respond sexual domestic violence grants supply funds protecting child victims tribal residents women live rural communities grants millions victims left support desperately hereby cut federal funding office violence women grant programs',\n",
       " u'climate environmental issue itxs security economic public health equity issue climate defining issue time call reinstate presidentxs climate action plan double commitment ensuring leader combating climate allow epa job protect waters air includes allowing regulate greenhouse gas emissions climate lens making decisions country donxt pit economic development environmental protection x false dichotomy health safety general welfare stake',\n",
       " u'former dnc staffer seth rich murdered outside dc home long wikileaks began release emails democratic committee verified emails released wikileaks talk making example suspected whistleblower inside dnc death seth rich wikileaks offered bounty information murderer seth rich separate organization recently upped bounty relayed wikileaks story seth rich victim robbery seths belongings taken person dc police swept story rug robbery investigation reopened honorable fbi justice brought killer yet found',\n",
       " u'donald continually said millions votes cast made illegally causing lose popular vote offered credible proof true issue agree threat democracy false leader democracy undermining lies reasons know truth asks direct congress undertake bipartisan review alternatively declare popular vote recorded valid involve millions illegal votes',\n",
       " u'eo blocks return wwii era semiautomatic firearms ie mgarand mcarbine overseas highly collectible pieces history rightly belong hands citizens past firearms sold cmp available stock dwindling fast large stores firearms located oversees cannot returned usa eo allowed historical firearms allowed rot warehouse another country immediately issue executive order removing ban implemented eo',\n",
       " u'country built foundation immigration continue strong example nation welcomes persecuted vulnerable refugees around world embrace refugees provide chance new beginning always made great nation submit fear hate persecute based religion sexual orientation nationality race political opinion instead welcome endured persecution sign tell lawmakers act beacon freedom hope turn torch lady liberty always held high wouldnt',\n",
       " u'netherlands requested within scope new first initiatives simply second dont want forget give call nd place open asked nicely anyone else well great',\n",
       " u'historic planet survival mankind nations including agree swift significant action taken protect earth catastrophes caused climate forge path sustainable future shared commitments toward greenhouse gas reductions clean energy implementation financial resources adaptation responsibility opportunity honor agreement contribute talent innovation creativity wealth compassion cost inaction great risks high',\n",
       " u'reaganera policy flies face womens rights take control health many countries receive aid legal vital often lifesaving medical procedures performed discussed licensed health care providers patients womens right decisions body dependent country birthresidence economic situation womens rights human rights nytimes health policy experts say restrictions abortion services past led decline abortion rates countries receive funding reproductive health services warn restrictions heighten chances illegal often unsafe abortions',\n",
       " u'conflicts interest become rule occasional exception dr william thompson research scientist cdcs center immunizations respiratory diseases ncir claimed cdc covered vaccineautism connection relation mmr vaccine study discovered africanamerican boys received vaccine age months increased risk autism itxs important aware corruption conflicts interest federal agencies like cdc far independent public watchdog theyxre supposed cdc closely tied industry may protect interests general public',\n",
       " u'time take back control criminals half country favor legalizing cannabis clear time rethink ineffective war drugsso legalizeregulation product testing ensure consumers better informed importantly saferjobslegalization create jobs formal economy rather black marketeconomylaw enforcement focus public safety new source tax revenue become availablereduce unneeded harmcriminalization harms young fails curb access increases levels violenceon state level decriminalization massive success time rethink',\n",
       " u'stopping refugee resettlement period time group undermine nationxs founding principles beacon freedom hope program saves hundreds lives day strengthens communities nation stopping refugee resettlement profound detrimental consequences lives lost interests risk x x continue welcome refugees continuing ensure security history proven donxt choice continue urge stop refugee resettlement period time lower amount refugees resettle stop resettlement based religion country origin',\n",
       " u'epa provides robust list protections recent executive order restricting epa engaging public social media violates standards fair open please reverse executive actions placed epa',\n",
       " u'new administration consider climate serious threat implement policies address taking action benefits workers strengthens economy improves standing world today global leader clean energy great potential become even stronger already employ million renewable energy energy efficiency renewable energy one fastest growing industries world worth bn per year right policies continue growing creating secure highpaying jobs millions urge administration work scientific community business leaders international partners transform energy systems address climate',\n",
       " u'support conversion police officers classified eligible c retirement previous administration previous congress introduced legislation never made committee air traffic controllers bop prison employees cooks received leo status duties law enforcement opm amend definition law enforcement officer include police officers congress previous administration refused act bills introduced congress therefore strongly urge consider matter security granting police officers leo status save taxpayers money',\n",
       " u'kerry ogrady special agent charge secret services denver district removed post effective immediatelyshe violated hatch act supporting political partycandidate openly social mediashe stated take bullet making clear harms way duty shift rather go prison protect potusthis type behavior secret service agent stand republichere article anyone wants read details',\n",
       " u'considering election came around k votes spread three michigan pennsylvania wisconsin time take donald trumps claim millions voted illegally far seriously true mean results election unquestionably tainted outright invalid im calling results presidential election immediately nullified full investigation ordered congress new election scheduled rampant voter fraud allowed donald trumps claims true hes repeatedly said might well legitimate shouldnt might due millions illegal votes',\n",
       " u'release information substantiate claim millions voted illegally election call investigation allegations claims corroborated verifiable evidence apologize retract claim corroborated important integrity integrity democracy integral functioning nation',\n",
       " u'request new administration money great gold silver may freely money alongside dollarsthe constitution explicitly recognizes gold silver money therefore tax discrimination gold silver cease including removal capital gains tax holdings transactions gold silver impediments using gold silver constitutionallyrecognized money removedwe administration sign executive order money great information please visit',\n",
       " u'terrorism defined xthe violenceintimidation pursuit political aimsx definition declare isil terror groups terrorist organizations black lives matter earned title due violent actions multiple cities influence killings multiple police officers throughout group already described hate group racist police hating actions milwaukee sheriff david clarke speaker last years rnc time department state consistent actions x rightfully declared isil terror group declare black lives matter terror group x grounds principle integrity morality safety',\n",
       " u'multiple individuals categorized terrorists obama administration patriots country standing tyrantthe hammond family bundy family multitude patriots bundy ranch refuge arrested face many decades prison excersising constitutional rights standing tyranny control agency individuals released pardoned heroism patriotismthe family lavoy given aid obama administration murdered innocent citizen soilto include pardon given assange snowden spoke truth public blew whistle major wrong doings',\n",
       " u'hhproductions youtube blessed michelle obama filming video saying quotwow ethan great moves keep proud youquot clip hhproductions intro ever new new first lady fans hhproductions feel melania reanact clip create new intro hhproductions please dream reality necessary culture lives citizens throughout world take look clip',\n",
       " u'governing representatives responsibility constituents historical contracts country first foremost humanity security stability revenue special interests take precedence well human beings especially limited reservation agreements historical sioux cannot construct alternate access water outside reservation natural watershed permanent precedent necessity arent debating simple whats whats mine interrupting access basic human necessity either reroute pipeline provide viable water supply longevity ignore veterans previously sacrificed cause',\n",
       " u'free men raven paul slough dustin heard nick slatten evan liberty set blackwater teammates part tactical support team raven secure busy square baghdads red zone blackwater contract department state responsible among things diplomatic security country iraqraven responding distress call another team attacked venue distance could see large plume black smoke vbied vehicleborn improvised explosive device detonated secure route egress nisour square task completed numerous times previously seemingly straightforward task',\n",
       " u'given important social economic role public education plays growth improvement successful society individual leads department education strong experience background public education education secretarynominee betsy devos shown senate confirmation hearing lacks experience background knowledge regarding public education invaluable position nominated shown definite preference towards diverting funding public schools support charter private schools major advocate public funding poor performing privatecharter schools michigan',\n",
       " u'within minutes inauguration administration removed mention lgbt issues website well removing important report lgbt workplace rights department labors website put back lgbt invisible',\n",
       " u'currently written title ivd ssa provides financial incentives remove parent child labeling non custodial parent provide incentive parents stay married outside married shared parenting arrangement incentive access enforcement parent denied access child studies shown couples shared parenting pay child support time full cases children fare better emotionally active involvement parents state child support agencies calling policy makers recognize shared parenting arrangements become norm currently system works detriment children families',\n",
       " u'accepted administration necessary component draining swamp establishing honest ethical press responsible events perish plane crashes quite contrary still alive many occupy positions extreme power influence right collective power ability influence main stream media aka fake news created situation whereby official narrative presented msm although many inconsistencies omissions truth fact exist many independent investigators spent countless hours researching subject time heard please join',\n",
       " u'humancaused climate one biggest issues facing world today paris agreement one biggest advances global climate policy ever completed global policy leader one biggest contributors global climate worldwide importance lead action continue uphold paris agreement went effect donald advocated withdraw paris agreement undermine agreement putting interests home abroad risk undermine position global leader requests donald policy recommit paris agreement',\n",
       " u'children taken good homes placed overloaded foster care system justification court orders warrants agencies complete power keep children months adopt incentives parents forced service plans classes tests often dont relate case title iv e funding allowed agencies create kids cash scam destroying children families across agencies oversight caseworkers false allegations immunity encouraged lie children system children drugged often placed abusive homes death occurred funding go keeping families together',\n",
       " u'saturday january singer madonna aka madonna louise ciccone took stage womens protest march washington dc stated thought awful lot blowing comments violation code title \\ufffd deliberate globally distributed via online broadcast media pose immediate enduring threat trend celebrities cultural elites function double standard rule law stop actions cannot excused simply persons status within popculture accountability rule law restored regardless economic cultural privilege advocating behalf brand c',\n",
       " u'january th usda aphis notified public intent publish widelysupported final rule halt inhumane treatment racking tennessee walking horses rule withdrawn result executive order directing temporary halt regulatory development pending review approval new administration urge incoming secretary agriculture expeditiously review approve final rule publication federal register thank advance ensuring protection horses preservation original purpose heritage breeds',\n",
       " u'asks review recent fda quotdeemingquot regulation effectively threatens restrict adult indulgence cigar pipe tobacco related products fda regulation restricts obstructs free choice action adults well threatens viability continuance small businesses manufacturers retailers traditional tobacco products serious consequences thousands related jobsas adults made choice enjoy tobacco products whether choose buy cigar pipe tobacco ecigarette collective choice allowed patronize support local businesses',\n",
       " u'instated past global gag rule ended lives women year nigeria alonefamily planning clinics across world forced shut stop providing valuable services prevent pregnancy prevent diseases save lives dare talk safe abortion around world die result unsafe abortion rule remains instated',\n",
       " u'destroying lives noise killing wildlife taking away normal way living',\n",
       " u'county san bernardino delayeddenied medical treatment physical therapy antibiotics medications mental health care survivors dec terrorist attack injuries workrelated private insurance refuses cover treatment survivors required go countyxs selfadministered workers comp utilization review ur state california stated treatments approved county instead ur county insists using ur continues delaydeny care see wwwsbsurvivorscomwe request issue executive order making illegal county san bernardino ur survivors mandating county approve retroactively future treatment dec survivors',\n",
       " u'establishment office mens health department health human services office mirror work existing office womens health helped save thousands lives improved lives many men die years younger women suffer higher mortality rates top causes death lives hundreds thousands men continue threatened unless immediate action taken combat growing crisis office mens health coordinate fragmented mens health awareness prevention research efforts conducted federal state office mens health help economy provide needed resources health care moves local management',\n",
       " u'within seconds presidents inauguration lgbt rights page disappeared whitehousegov leading lgbt citizens believe new truly supports goals antilgbt activist groups want destroy marriage equality civil rights protections lesbian gay bisexual transgender citizens potus demonstrate truly plans defend rights rather destroying advances many worked tirelessly gain',\n",
       " u'clean air matters clean water matters solar energy far cheaper shale oil natural gas coal expand oil drilling coal mining expense breathable air drinkable water thriving wild life asinine move however backwards position touted official energy plan care adopt policy pollute lets embrace solar cheaper oil coal natural gas',\n",
       " u'urge senate pass hr currently pending congress legal highskilled immigration system discriminates based countryofbirth allocating quotas individual countries example small country like singapore receives green card numbers number green cards allocated big countries like chinaindia therefore individuals larger countries wait decades availability green card numbers proposed bill removes percountry limitation makes system firstcome firstserve bill system fair everybody stops discrimination based countryofbirththe bill propose increase overall immigration number',\n",
       " u'set donald congress grant south africans refugee status based upon genocide occurring communist african congress anc took south africa whites murdered untold numbers robbed raped tortured website xgenocidewatchcomx observes xabout average murdered south africa per day least whites blackonwhite murder rate please take consideration demographics south africa therefore murder rate south africa quite significantxgive south africans chance give refugee status',\n",
       " u'septa th busiest commuter rail usover vehicles per day travel route heading towards philadelphia highway simply cannot accommodate amount traffic continues grow year suburbs become populatedthere existing rail line philadelphia reading pa longer commuter line closed commuter trains late sif federal funded project reopen regional rail many jobs created traffic highway vehicle emissions decrease towns along rail see economic boom schuylkill valley metro project extensively studied results supporting statements',\n",
       " u'efforts weaken affordable care act repealing critical provisions individual mandate requirement cover preexisting conditions lead catastrophic loss healthcare million individuals many insurance companies refused insure prior aca repealing medicaid expansion exacerbate costing additional million insurance addition repealing affordable care act add additional trillion dollars debt taking away health insurance million completely unacceptable cost peoples lives please veto changes short singlepayer canadianstyle system promised running',\n",
       " u'shameful first world developed country allowing one cities go basic human clean drinking water congress pass bill fund changing flintamps water lines decontaminate water supply meantime clean drinking water provided city flint cost flint flints substantial debts payed full',\n",
       " u'sergeant miller serving life sentence fort leavenworth acting self defense th month deployment volunteered back second deployment volunteered rd deployment years asking sergeant miller pardoned sentence commuted least asking current soldiers incarcerated reviewed thirdly asking congress review current uniform code military justice',\n",
       " u'certain militant elements left ie black blocs anarchists antifa habit attacking anyone view right wing specifically anti free speech values using violence intimidate opponents like police take active role preventing able attack',\n",
       " u'act placed effect time unprecedented gangster violence outdated unconstitutional irrelevant common day usage sbrs sporting hunting purposes definition weapon made rifle weapon modified overall length less inches barrel barrels less inches length pistol less barrel buttstock ar legal rifle longer barrel buttstock ar legal pay unconstitutional tax years ago owning gun falls middle two law nothing take money law abiding citizens please remove unconstitutional infringing god given right',\n",
       " u'emails released wikileaks account john podesta contain declassified fbi code language pedophiles demand thorough exhaustive investigation terrifying implications alleged behavior wish involved matter powerful prosecuted full extent law code found emails stratfor employees released wikileaks action taken preserve fabric country protect children everywhere abused trafficked sick delight many powerful elites better example draining swamp flushing predators drain',\n",
       " u'world experienced third straight year record high temperatures climate threatens americaxs economy security public health safety urge donald administration take following key steps address climate immediately grow economy making leader clean energy like solar wind reduce dependence fossil fuels associated carbon pollution maintain strengthen regulations keep air water clean implement climate preparedness programs publicly acknowledge climate real humancaused urgent threat protect scientific integrity policy making uphold commitment paris climate agreement',\n",
       " u'entered minors clear path toward becoming residents passage deferred action childhood arrivals daca executive action granted undocumented immigrants entered country th birthday june temporary protection deportation daca allowed pursue academic study enrich communities involvement daca program improved upon making full residency possible within reasonable timeframe important first step toward real immigration reform contribute labor talents communities feel respected usa',\n",
       " u'cnn caught several times altering truth amp even lying create agenda acceptable feel news organizations giving honest fair amp unbiased investigative reporting msm cnn leading way refuses fair amp honest want cnn example happens news organizations caught lying information amp taken air tired lies propaganda amp agenda driven motives amp want something done longer wish lied promote agendas',\n",
       " u'proposal continue funding endowment arts provide methods alternative revenue streams coming fiscal years preserve arts americathe nea service years received billion awards dedicated preserving art culture americawith sector comprising percent x billion x gdp nearly five million workers arts cultural industries arts jobs real jobs part real economy arts workers pay taxes art contributes economic growthbeyond economic impacts arts contribute neighborhood revitalization livability towns cities',\n",
       " u'whereas donald lost popular vote nearly three million votes whereas donald yet resolve ethical possibly criminal conflicts businesses duties public servant whereas donald refused',\n",
       " u'year thousands foreign tech workers come displace tech workers hb program created allow highly skilled foreign workers come temporarily fill gaps work force today hb visas issued workers large outsourcing vendors vendors using visa holders cheap labor replace workers number hb visas issued year reduced minimum salary raised return program meant way bringing highly skilled workers paying worth fill gaps unemploy workers',\n",
       " u'second largest contributor co emissions climate world double per capita emissions china european unionthe current administration plans worsen situation investing damaging expensive obsolete energy sources coal shale oilan first energy plan focus investing enormous cheap local renewable resources available remain currently untappedthis potential continue growth new industry bringing new jobs independence foreign oil helps protect environment guaranteeing future generations able live prosperous safe healthy world',\n",
       " u'arts humanities vital part cultural identity enhance quality lives connect past speak present legacy gift future investing never waste strongly urge endowment arts endowment humanities continue receive federal funding',\n",
       " u'former lt col terrence lakin highlydecorated army flight surgeon questioned whether orders received obama legitimate courtmartialed imprisoned expelled army denied pay pension benefits terry merely following officers oath constitutional duty outrage allowed happen obama refused answer terrys letter ended producing forged birth certificate terry medical doctor valuable asset military fact military chain command congressional representatives allowed courtmartialed run army outrage grave injustice addressed corrected asap',\n",
       " u'disgraceful federally illegal rhetoric spewed terrorist nothing less punishable prison time least five years federal jail time stand please sign sure followers never cross line arrested charged',\n",
       " u'endowment arts endowment humanities provide critical funding creation development research arts humanities together funding sources allow artists create worldrenowned distinctly art music literature poetry providing opportunity experience artistic endeavors providing sustainable funding museums archives libraries colleges universities public television public radio scholars funding provided nea neh many able participate creation appreciation arts humanities decision inordinately effect rural poor',\n",
       " u'plus years corrupt dysfunctional republic cameroon lead paul biya senselessly killed marginalized anglophone cameroonians recent killings imprisonment opposition leaders four months anglophone cameroonian lawyers teachers politicians students strike due imposition french laws educational systems marginalization anglophone regions country cameroonian origin plead donald j congress call paul biya listen anglophones return country back federal system agreed independence unification deal paul biya listen expel cameroonian diplomats',\n",
       " u'right free public education guaranteed constitution passing laws exclude students based medical history sb california violation constitutional rights sets dangerous precedent allow mandate medical procedures order hold job sb california passed already california state laws like either passed already progress vaccination medical procedure risks cannot requirement order access rights constitution affords',\n",
       " u'aware department education doe revoked accrediting council independent colleges schools acics accreditation power doe consider immediate harm done existing international studentsdoe provide alternatives existing students failed provide goal achieve allowance international students current student one universities lost accreditation due acics shut downthe withdrawal recognition acics impacted international student community immediate basis international students adversely affected decision',\n",
       " u'broad scientific consensus climate real human action significant contributing factoras industrial nation one major contributors greenhouse gas emissions leading academic scientific center incumbent upon take vigorous proactive steps understand nature climate mitigate effects planet display leadership champion effective action late nature negotiate give extensionsplease immediately restore information climate website take strong action show leader addressing global issue',\n",
       " u'january madonna participating womans march dc time threatened blow given status socalled icon dangerous violent rhetoric towards democracy influence thousands commit acts terrorism towards country arrested detained charged antiterror bill c promoting terror nation made example goes way beyond freedom speech please let let threats like go unchecked mad candidate lost election democracy risk please sign thank',\n",
       " u'george soros menace free world stands way making great guilty following crimes financially supports open sedition major cities resulting millions dollars property damage well loss life attempts manipulate democratic elections donating millions dollars preferred candidates seeks curtail sovereignty words main obstacle stable world order changing attitude policies remains top priority currency manipulator soros initiated british financial crisis dumping billion sterling forcing devaluation currency gaining billiondollar profit',\n",
       " u'improved medicare health reform option cover everyone control rising health spending including skyrocketing drug prices making medicare program sustainable generations come single payer saves billion annually wasteful private insurance bureaucracy enough cover uninsured eliminate copayments deductibles majority physicians support health insurance program like improved medicare single payer eliminates threat medical bankruptcy ends insurer interference doctorpatient relationship saves tens thousands lives billions dollars per year information fact sheets links single payer wwwpnhporg',\n",
       " u'net worth sweep set fannie mae freddie mac accomplished setup time abolished taxpayers paid back investors large small valued',\n",
       " u'decent venezuelan support donald help recoup venezuela back decency democratic sovereign countrywe help rid venezuela narcotrafficking coming top presidential family castroxs regime control venezuela highest level military economy politics terrorism threat represented new designated vp tareck el aissaimi head hezbollah venezuela facilitator providing venezuelan passports recognized arab terroriststhe solution everybody emigrate solution rid opprobrious venezuelan regime sovereign country god bless',\n",
       " u'last couple years military downsized offers separation packages aka money help leaving transition new civilian life received one packages told go va hospital needed future medical care diagnosed disabled due outdated law told disability payments recouped repaid separation package caused severe financial strain almost resulted suicide thousands service members facing recoupment congress changes law continue disability payments recouped repay severance wrong many levels isnt even briefed service members leave service',\n",
       " u'international economy undergoing revolution nations boosting economies reducing pollutionus trade partners economic competitors finding clean energy solar wind energy efficiency strongly boosting economies increasing competitiveness leading cleaner air water china recently announced plans invest billion billion clean energy creating million jobs passing day clean energy options becoming less expensive increasingly far lower cost traditional polluting fossilfuel energy options administration fulfill pledge protect airwater create jobs boost economy serious climate action',\n",
       " u'recent reports suggest donald plans defund endowment arts endowment humanities nea neh artists educators could left crucial grants projects everything orchestral performances music enrichment programs public schools negatively impactedfunding endowments minuscule portion nearly trillion federal budget nea neh received million fundingwe support arts defunding nea neh',\n",
       " u'within hours peaceful transition power administration removed civil rights climate lgbt rights whitehousegov menu bar demand incoming administration prioritizes rights climate reenacting policies address aforementioned issues sign voice heard allow erased',\n",
       " u'evidence contained leaked emails democratic committee indicate thorough investigation actions taken hillary rodham clinton occupying positions senator secretary state',\n",
       " u'hughes amendment part firearm owners protection act unconstitutional ban limits law abiding citizens owning fully automatic weapons manufactured past may select fire weapons already heavily regulated firearms act requires register gun submit tax stamp known homicides committed legally owned fully automatic firearm one caused police officer law nothing prevent crime raises price legal automatic weapons ludicrous price due supply demand repealing unconstitutional hughes amendment restore second amendment rights attack long time',\n",
       " u'wish see firearms act repealed order remove regulations nd amendment rights increase economic strength provide protection threats security',\n",
       " u'violates title nobility clause explained article section constitutionthe clause title nobility shall granted person holding office profit trust shall consent congress accept present emolument office title kind whatever king prince foreign statedonald known financial ties russia owes hundreds millions dollars debt banks foreign countries china complicated business entanglements create conflict interest security issues deserve see tax returnsdonald resign',\n",
       " u'industrial hemp dominant crop landscape hardy renewable resource refined various industrial applications including paper textiles cordage unfortunately hemp conflated marijuana hemp canampt drug time industrial hemp evolved even greater variety products including health foods body care clothing auto parts construction materials biofuels plastic composites morefarmers europe canada china grow hemp million imported hemp products sold usa congress bipartisan bills bring back hemp farming create rural jobs request work congress pass hemp legislation',\n",
       " u'keeping tradition avoid appearance conflicts interest corruption violations emoluments clause constitution divest financial business holdings administered truly blind trust',\n",
       " u'unprecedented economic conflicts administration visible including pertinent documentation reveal foreign influences financial interests may put donald conflict emoluments clause constitution']"
      ]
     },
     "execution_count": 177,
     "metadata": {},
     "output_type": "execute_result"
    }
   ],
   "source": [
    "new_blobs"
   ]
  },
  {
   "cell_type": "code",
   "execution_count": 178,
   "metadata": {
    "collapsed": false
   },
   "outputs": [
    {
     "data": {
      "text/html": [
       "<div>\n",
       "<table border=\"1\" class=\"dataframe\">\n",
       "  <thead>\n",
       "    <tr style=\"text-align: right;\">\n",
       "      <th></th>\n",
       "      <th>blobs</th>\n",
       "      <th>ideology</th>\n",
       "      <th>title</th>\n",
       "      <th>new_blobs</th>\n",
       "    </tr>\n",
       "  </thead>\n",
       "  <tbody>\n",
       "    <tr>\n",
       "      <th>0</th>\n",
       "      <td>effects every american way also keep americans...</td>\n",
       "      <td>Liberal</td>\n",
       "      <td>legalize marijuana and bring jobs to millions ...</td>\n",
       "      <td>effects way keep funding terrorism drug cartel...</td>\n",
       "    </tr>\n",
       "    <tr>\n",
       "      <th>1</th>\n",
       "      <td>dying days ottoman empire cover world war youn...</td>\n",
       "      <td>Neutral</td>\n",
       "      <td>officially recognize the armenian genocide of</td>\n",
       "      <td>dying days ottoman empire cover world war youn...</td>\n",
       "    </tr>\n",
       "    <tr>\n",
       "      <th>2</th>\n",
       "      <td>walleye political pawns mille lacs lakewhile n...</td>\n",
       "      <td>Neutral</td>\n",
       "      <td>eliminate mille lacs lake treaty management</td>\n",
       "      <td>walleye political pawns mille lacs lakewhile n...</td>\n",
       "    </tr>\n",
       "    <tr>\n",
       "      <th>3</th>\n",
       "      <td>cannot make america great many disabled autist...</td>\n",
       "      <td>Conservative</td>\n",
       "      <td>take action to end the autism epidemic and imp...</td>\n",
       "      <td>cannot great many disabled autistic children u...</td>\n",
       "    </tr>\n",
       "    <tr>\n",
       "      <th>4</th>\n",
       "      <td>locked us government years prison exercising c...</td>\n",
       "      <td>Neutral</td>\n",
       "      <td>release kevin trudeau</td>\n",
       "      <td>locked years prison exercising constitutional ...</td>\n",
       "    </tr>\n",
       "  </tbody>\n",
       "</table>\n",
       "</div>"
      ],
      "text/plain": [
       "                                               blobs      ideology  \\\n",
       "0  effects every american way also keep americans...       Liberal   \n",
       "1  dying days ottoman empire cover world war youn...       Neutral   \n",
       "2  walleye political pawns mille lacs lakewhile n...       Neutral   \n",
       "3  cannot make america great many disabled autist...  Conservative   \n",
       "4  locked us government years prison exercising c...       Neutral   \n",
       "\n",
       "                                               title  \\\n",
       "0  legalize marijuana and bring jobs to millions ...   \n",
       "1     officially recognize the armenian genocide of    \n",
       "2        eliminate mille lacs lake treaty management   \n",
       "3  take action to end the autism epidemic and imp...   \n",
       "4                              release kevin trudeau   \n",
       "\n",
       "                                           new_blobs  \n",
       "0  effects way keep funding terrorism drug cartel...  \n",
       "1  dying days ottoman empire cover world war youn...  \n",
       "2  walleye political pawns mille lacs lakewhile n...  \n",
       "3  cannot great many disabled autistic children u...  \n",
       "4  locked years prison exercising constitutional ...  "
      ]
     },
     "execution_count": 178,
     "metadata": {},
     "output_type": "execute_result"
    }
   ],
   "source": [
    "blobs_df[\"new_blobs\"] = new_blobs\n",
    "blobs_df.head()"
   ]
  },
  {
   "cell_type": "code",
   "execution_count": 179,
   "metadata": {
    "collapsed": false
   },
   "outputs": [
    {
     "data": {
      "image/png": "[encoded data removed]",
      "text/plain": [
       "<matplotlib.figure.Figure at 0x11b249d90>"
      ]
     },
     "metadata": {},
     "output_type": "display_data"
    }
   ],
   "source": [
    "# NEUTRAL WORDS\n",
    "neutral_blobs2 = \" \".join([x for x in blobs_df[blobs_df[\"ideology\"] == \"Neutral\"][\"new_blobs\"]])\n",
    "neutral_counts2 = Counter(neutral_blobs2.split())\n",
    "neutral_counts2.most_common()[0:20]\n",
    "\n",
    "df = pd.DataFrame.from_dict(neutral_counts2, orient='index').reset_index()\n",
    "df = df.sort_values(by=0, ascending=False)\n",
    "\n",
    "word = list(df.ix[:,0])[0:20]\n",
    "count = list(df.ix[:,1])[0:20]\n",
    "\n",
    "word_indices = np.arange(20) # ORDERED INDICES\n",
    "\n",
    "# PLOTTING\n",
    "plt.figure(figsize=(20,10))\n",
    "plt.bar(word_indices, count, color=\"indigo\")\n",
    "plt.xticks(word_indices, word, rotation=70)\n",
    "plt.ylabel(\"Absolute Frequency\")\n",
    "plt.title(\"Absolute Frequency of Words in Neutral Petitions\")\n",
    "    \n",
    "plt.show()"
   ]
  },
  {
   "cell_type": "code",
   "execution_count": 180,
   "metadata": {
    "collapsed": false
   },
   "outputs": [
    {
     "data": {
      "image/png": "[encoded data removed]",
      "text/plain": [
       "<matplotlib.figure.Figure at 0x11c875a50>"
      ]
     },
     "metadata": {},
     "output_type": "display_data"
    }
   ],
   "source": [
    "# LIBERAL WORDS\n",
    "liberal_blobs2 = \" \".join([x for x in blobs_df[blobs_df[\"ideology\"] == \"Liberal\"][\"new_blobs\"]])\n",
    "liberal_counts2 = Counter(liberal_blobs2.split())\n",
    "liberal_counts2.most_common()[0:20]\n",
    "\n",
    "df = pd.DataFrame.from_dict(liberal_counts2, orient='index').reset_index()\n",
    "df = df.sort_values(by=0, ascending=False)\n",
    "\n",
    "word = list(df.ix[:,0])[0:20]\n",
    "count = list(df.ix[:,1])[0:20]\n",
    "\n",
    "word_indices = np.arange(20) # ORDERED INDICES\n",
    "\n",
    "# PLOTTING\n",
    "plt.figure(figsize=(20,10))\n",
    "plt.bar(word_indices, count, color=\"royalblue\")\n",
    "plt.xticks(word_indices, word, rotation=70)\n",
    "plt.ylabel(\"Absolute Frequency\")\n",
    "plt.title(\"Absolute Frequency of Words in Liberal Petitions\")\n",
    "    \n",
    "plt.show()"
   ]
  },
  {
   "cell_type": "code",
   "execution_count": 181,
   "metadata": {
    "collapsed": false,
    "scrolled": true
   },
   "outputs": [
    {
     "data": {
      "image/png": "[encoded data removed]",
      "text/plain": [
       "<matplotlib.figure.Figure at 0x11a44c210>"
      ]
     },
     "metadata": {},
     "output_type": "display_data"
    }
   ],
   "source": [
    "# CONSERVATIVE\n",
    "conservative_blobs2 = \" \".join([x for x in blobs_df[blobs_df[\"ideology\"] == \"Conservative\"][\"new_blobs\"]])\n",
    "conservative_counts2 = Counter(conservative_blobs2.split())\n",
    "conservative_counts2.most_common()[0:20]\n",
    "\n",
    "df = pd.DataFrame.from_dict(conservative_counts2, orient='index').reset_index()\n",
    "df = df.sort_values(by=0, ascending=False)\n",
    "\n",
    "word = list(df.ix[:,0])[0:20]\n",
    "count = list(df.ix[:,1])[0:20]\n",
    "\n",
    "word_indices = np.arange(20) # ORDERED INDICES\n",
    "\n",
    "# PLOTTING\n",
    "plt.figure(figsize=(20,10))\n",
    "plt.bar(word_indices, count, color=\"darkred\")\n",
    "plt.xticks(word_indices, word, rotation=70)\n",
    "plt.ylabel(\"Absolute Frequency\")\n",
    "plt.title(\"Absolute Frequency of Words in Conservative Petitions\")\n",
    "    \n",
    "plt.show()"
   ]
  },
  {
   "cell_type": "markdown",
   "metadata": {},
   "source": [
    "<font color=\"navy\">\n",
    "## (6) Testing Vectorizer Code\n",
    "Source: https://www.youtube.com/watch?v=AJVP96tAWxw"
   ]
  },
  {
   "cell_type": "code",
   "execution_count": 269,
   "metadata": {
    "collapsed": false
   },
   "outputs": [],
   "source": [
    "import random\n",
    "pseudo_rando_nums = random.sample(range(0, len(blobs_df)), 180)\n",
    "train = pseudo_rando_nums"
   ]
  },
  {
   "cell_type": "code",
   "execution_count": 270,
   "metadata": {
    "collapsed": false
   },
   "outputs": [
    {
     "data": {
      "text/plain": [
       "array([[0, 0, 0, ..., 0, 0, 0],\n",
       "       [0, 0, 0, ..., 0, 0, 0],\n",
       "       [0, 0, 0, ..., 0, 0, 0],\n",
       "       ..., \n",
       "       [0, 0, 0, ..., 0, 0, 0],\n",
       "       [0, 0, 0, ..., 0, 0, 0],\n",
       "       [0, 0, 0, ..., 0, 0, 0]])"
      ]
     },
     "execution_count": 270,
     "metadata": {},
     "output_type": "execute_result"
    }
   ],
   "source": [
    "# VECTORIZING TRAINING DATA\n",
    "vectorizer = CountVectorizer(analyzer= \"word\",\n",
    "                            tokenizer = None,\n",
    "                            preprocessor = None,\n",
    "                            stop_words = None,\n",
    "                            max_features = 5000)\n",
    "train_data_features = vectorizer.fit_transform(blobs_df[\"new_blobs\"][train])\n",
    "train_data_features = train_data_features.toarray()\n",
    "train_data_features"
   ]
  },
  {
   "cell_type": "code",
   "execution_count": 271,
   "metadata": {
    "collapsed": false
   },
   "outputs": [],
   "source": [
    "# GENERATE OUR FOREST\n",
    "forest = RandomForestClassifier(n_estimators = 100)\n",
    "our_forest = forest.fit(train_data_features, blobs_df[\"ideology\"][train])"
   ]
  },
  {
   "cell_type": "code",
   "execution_count": 272,
   "metadata": {
    "collapsed": false
   },
   "outputs": [
    {
     "name": "stdout",
     "output_type": "stream",
     "text": [
      "[258, 132, 133, 260, 193, 8, 140, 14, 143, 222, 152, 18, 147, 20, 24, 25, 234, 155, 29, 30, 261, 33, 163, 36, 165, 166, 167, 249, 41, 174, 221, 180, 177, 52, 53, 54, 250, 56, 57, 59, 60, 62, 245, 64, 65, 66, 67, 70, 71, 204, 203, 76, 77, 78, 79, 227, 212, 185, 216, 169, 90, 205, 93, 94, 223, 97, 226, 99, 101, 230, 106, 238, 111, 229, 114, 115, 117, 119, 148, 122, 252, 219, 127]\n"
     ]
    }
   ],
   "source": [
    "# GET INDICES OF TEST DATA\n",
    "test = set(range(len(blobs_df))) - set(train)\n",
    "test = list(test)\n",
    "print test"
   ]
  },
  {
   "cell_type": "code",
   "execution_count": 273,
   "metadata": {
    "collapsed": false
   },
   "outputs": [
    {
     "data": {
      "text/plain": [
       "array([[0, 0, 0, ..., 0, 0, 0],\n",
       "       [0, 0, 0, ..., 0, 0, 0],\n",
       "       [0, 0, 0, ..., 0, 0, 0],\n",
       "       ..., \n",
       "       [0, 0, 0, ..., 0, 0, 0],\n",
       "       [0, 0, 0, ..., 0, 0, 0],\n",
       "       [0, 0, 0, ..., 0, 0, 0]])"
      ]
     },
     "execution_count": 273,
     "metadata": {},
     "output_type": "execute_result"
    }
   ],
   "source": [
    "# VECTORIZING TEST DATA\n",
    "test_data_features = vectorizer.transform(blobs_df[\"new_blobs\"][test])\n",
    "test_data_features = test_data_features.toarray()\n",
    "test_data_features"
   ]
  },
  {
   "cell_type": "code",
   "execution_count": 274,
   "metadata": {
    "collapsed": false
   },
   "outputs": [],
   "source": [
    "# PREDICT\n",
    "result = forest.predict(test_data_features)"
   ]
  },
  {
   "cell_type": "code",
   "execution_count": 275,
   "metadata": {
    "collapsed": false
   },
   "outputs": [],
   "source": [
    "pred_df = pd.DataFrame({\"petition\":blobs_df[\"title\"][test], \"true_ideol\":blobs_df[\"ideology\"][test], \"pred_ideol\":result})\n",
    "pred_df = pred_df.reindex()"
   ]
  },
  {
   "cell_type": "code",
   "execution_count": 276,
   "metadata": {
    "collapsed": false
   },
   "outputs": [],
   "source": [
    "pred_df[\"correct\"] = (pred_df[\"pred_ideol\"] == pred_df[\"true_ideol\"])"
   ]
  },
  {
   "cell_type": "code",
   "execution_count": 277,
   "metadata": {
    "collapsed": false
   },
   "outputs": [
    {
     "data": {
      "text/plain": [
       "0.49397590361445787"
      ]
     },
     "execution_count": 277,
     "metadata": {},
     "output_type": "execute_result"
    }
   ],
   "source": [
    "# ERROR RATE\n",
    "len(pred_df[pred_df[\"correct\"]==False])*(len(pred_df)**(-1))"
   ]
  },
  {
   "cell_type": "code",
   "execution_count": 278,
   "metadata": {
    "collapsed": false
   },
   "outputs": [],
   "source": [
    "# CONSERVATIVE, LIBERAL, NEUTRAL\n",
    "predicted_probs = forest.predict_proba(test_data_features)\n",
    "# probs_df = pd.DataFrame(predicted_probs)\n",
    "# probs_df.columns = [\"conservative\", \"liberal\", \"neutral\"]\n",
    "# probs_df"
   ]
  },
  {
   "cell_type": "code",
   "execution_count": 279,
   "metadata": {
    "collapsed": false
   },
   "outputs": [],
   "source": [
    "conservative = [predicted_probs[x][0] for x in range(len(predicted_probs))]\n",
    "liberal = [predicted_probs[x][1] for x in range(len(predicted_probs))]\n",
    "neutral = [predicted_probs[x][2] for x in range(len(predicted_probs))]"
   ]
  },
  {
   "cell_type": "code",
   "execution_count": 280,
   "metadata": {
    "collapsed": false
   },
   "outputs": [
    {
     "data": {
      "text/html": [
       "<div>\n",
       "<table border=\"1\" class=\"dataframe\">\n",
       "  <thead>\n",
       "    <tr style=\"text-align: right;\">\n",
       "      <th></th>\n",
       "      <th>petition</th>\n",
       "      <th>pred_ideol</th>\n",
       "      <th>true_ideol</th>\n",
       "      <th>correct</th>\n",
       "      <th>conservative</th>\n",
       "      <th>liberal</th>\n",
       "      <th>neutral</th>\n",
       "    </tr>\n",
       "  </thead>\n",
       "  <tbody>\n",
       "    <tr>\n",
       "      <th>258</th>\n",
       "      <td>repeal the  hughes amendment</td>\n",
       "      <td>Liberal</td>\n",
       "      <td>Conservative</td>\n",
       "      <td>False</td>\n",
       "      <td>0.156000</td>\n",
       "      <td>0.814000</td>\n",
       "      <td>0.03</td>\n",
       "    </tr>\n",
       "    <tr>\n",
       "      <th>132</th>\n",
       "      <td>amend the moratorium on refugee immigration to...</td>\n",
       "      <td>Liberal</td>\n",
       "      <td>Liberal</td>\n",
       "      <td>True</td>\n",
       "      <td>0.200000</td>\n",
       "      <td>0.690000</td>\n",
       "      <td>0.11</td>\n",
       "    </tr>\n",
       "    <tr>\n",
       "      <th>133</th>\n",
       "      <td>lyme disease epidemic: testing, diagnostics an...</td>\n",
       "      <td>Liberal</td>\n",
       "      <td>Neutral</td>\n",
       "      <td>False</td>\n",
       "      <td>0.160000</td>\n",
       "      <td>0.740000</td>\n",
       "      <td>0.10</td>\n",
       "    </tr>\n",
       "    <tr>\n",
       "      <th>260</th>\n",
       "      <td>donald trump:  resign as president of the unit...</td>\n",
       "      <td>Liberal</td>\n",
       "      <td>Liberal</td>\n",
       "      <td>True</td>\n",
       "      <td>0.270000</td>\n",
       "      <td>0.490000</td>\n",
       "      <td>0.24</td>\n",
       "    </tr>\n",
       "    <tr>\n",
       "      <th>193</th>\n",
       "      <td>revoke the order forbidding health providers r...</td>\n",
       "      <td>Liberal</td>\n",
       "      <td>Liberal</td>\n",
       "      <td>True</td>\n",
       "      <td>0.220000</td>\n",
       "      <td>0.700000</td>\n",
       "      <td>0.08</td>\n",
       "    </tr>\n",
       "    <tr>\n",
       "      <th>8</th>\n",
       "      <td>exempt department of defense nonappropriated f...</td>\n",
       "      <td>Liberal</td>\n",
       "      <td>Neutral</td>\n",
       "      <td>False</td>\n",
       "      <td>0.240000</td>\n",
       "      <td>0.700000</td>\n",
       "      <td>0.06</td>\n",
       "    </tr>\n",
       "    <tr>\n",
       "      <th>140</th>\n",
       "      <td>immediately rescind january  executive order s...</td>\n",
       "      <td>Liberal</td>\n",
       "      <td>Liberal</td>\n",
       "      <td>True</td>\n",
       "      <td>0.235000</td>\n",
       "      <td>0.675000</td>\n",
       "      <td>0.09</td>\n",
       "    </tr>\n",
       "    <tr>\n",
       "      <th>14</th>\n",
       "      <td>oppose the nomination of judge gorsuch for the...</td>\n",
       "      <td>Liberal</td>\n",
       "      <td>Liberal</td>\n",
       "      <td>True</td>\n",
       "      <td>0.170000</td>\n",
       "      <td>0.790000</td>\n",
       "      <td>0.04</td>\n",
       "    </tr>\n",
       "    <tr>\n",
       "      <th>143</th>\n",
       "      <td>cancel executive order banning people of iran,...</td>\n",
       "      <td>Liberal</td>\n",
       "      <td>Liberal</td>\n",
       "      <td>True</td>\n",
       "      <td>0.270000</td>\n",
       "      <td>0.670000</td>\n",
       "      <td>0.06</td>\n",
       "    </tr>\n",
       "    <tr>\n",
       "      <th>222</th>\n",
       "      <td>restore the lgbt rights page on whitehouse.gov...</td>\n",
       "      <td>Liberal</td>\n",
       "      <td>Liberal</td>\n",
       "      <td>True</td>\n",
       "      <td>0.180000</td>\n",
       "      <td>0.550000</td>\n",
       "      <td>0.27</td>\n",
       "    </tr>\n",
       "    <tr>\n",
       "      <th>152</th>\n",
       "      <td>truth in government</td>\n",
       "      <td>Liberal</td>\n",
       "      <td>Liberal</td>\n",
       "      <td>True</td>\n",
       "      <td>0.110000</td>\n",
       "      <td>0.800000</td>\n",
       "      <td>0.09</td>\n",
       "    </tr>\n",
       "    <tr>\n",
       "      <th>18</th>\n",
       "      <td>indian engineers  target of hate crime.</td>\n",
       "      <td>Liberal</td>\n",
       "      <td>Liberal</td>\n",
       "      <td>True</td>\n",
       "      <td>0.100000</td>\n",
       "      <td>0.760000</td>\n",
       "      <td>0.14</td>\n",
       "    </tr>\n",
       "    <tr>\n",
       "      <th>147</th>\n",
       "      <td>immediately rescind the executive order on imm...</td>\n",
       "      <td>Liberal</td>\n",
       "      <td>Liberal</td>\n",
       "      <td>True</td>\n",
       "      <td>0.130000</td>\n",
       "      <td>0.820000</td>\n",
       "      <td>0.05</td>\n",
       "    </tr>\n",
       "    <tr>\n",
       "      <th>20</th>\n",
       "      <td>memotrump x % not % x unity act against the de...</td>\n",
       "      <td>Liberal</td>\n",
       "      <td>Neutral</td>\n",
       "      <td>False</td>\n",
       "      <td>0.080000</td>\n",
       "      <td>0.840000</td>\n",
       "      <td>0.08</td>\n",
       "    </tr>\n",
       "    <tr>\n",
       "      <th>24</th>\n",
       "      <td>ask president trump to urge congress to invest...</td>\n",
       "      <td>Liberal</td>\n",
       "      <td>Neutral</td>\n",
       "      <td>False</td>\n",
       "      <td>0.240000</td>\n",
       "      <td>0.690000</td>\n",
       "      <td>0.07</td>\n",
       "    </tr>\n",
       "    <tr>\n",
       "      <th>25</th>\n",
       "      <td>petition to ban google's blatant suppression o...</td>\n",
       "      <td>Liberal</td>\n",
       "      <td>Conservative</td>\n",
       "      <td>False</td>\n",
       "      <td>0.190000</td>\n",
       "      <td>0.640000</td>\n",
       "      <td>0.17</td>\n",
       "    </tr>\n",
       "    <tr>\n",
       "      <th>234</th>\n",
       "      <td>we ask the new administration to work with con...</td>\n",
       "      <td>Liberal</td>\n",
       "      <td>Liberal</td>\n",
       "      <td>True</td>\n",
       "      <td>0.220000</td>\n",
       "      <td>0.550000</td>\n",
       "      <td>0.23</td>\n",
       "    </tr>\n",
       "    <tr>\n",
       "      <th>155</th>\n",
       "      <td>bring niki mossafer rahmati, a current mit stu...</td>\n",
       "      <td>Liberal</td>\n",
       "      <td>Liberal</td>\n",
       "      <td>True</td>\n",
       "      <td>0.300000</td>\n",
       "      <td>0.680000</td>\n",
       "      <td>0.02</td>\n",
       "    </tr>\n",
       "    <tr>\n",
       "      <th>29</th>\n",
       "      <td>fight for transgender rights</td>\n",
       "      <td>Liberal</td>\n",
       "      <td>Liberal</td>\n",
       "      <td>True</td>\n",
       "      <td>0.120000</td>\n",
       "      <td>0.840000</td>\n",
       "      <td>0.04</td>\n",
       "    </tr>\n",
       "    <tr>\n",
       "      <th>30</th>\n",
       "      <td>restore transgender rights for students</td>\n",
       "      <td>Liberal</td>\n",
       "      <td>Liberal</td>\n",
       "      <td>True</td>\n",
       "      <td>0.120000</td>\n",
       "      <td>0.790000</td>\n",
       "      <td>0.09</td>\n",
       "    </tr>\n",
       "    <tr>\n",
       "      <th>261</th>\n",
       "      <td>let american farmers grow hemp once again to c...</td>\n",
       "      <td>Liberal</td>\n",
       "      <td>Liberal</td>\n",
       "      <td>True</td>\n",
       "      <td>0.090000</td>\n",
       "      <td>0.880000</td>\n",
       "      <td>0.03</td>\n",
       "    </tr>\n",
       "    <tr>\n",
       "      <th>33</th>\n",
       "      <td>move the us embassy in israel from tel aviv to...</td>\n",
       "      <td>Liberal</td>\n",
       "      <td>Conservative</td>\n",
       "      <td>False</td>\n",
       "      <td>0.080000</td>\n",
       "      <td>0.890000</td>\n",
       "      <td>0.03</td>\n",
       "    </tr>\n",
       "    <tr>\n",
       "      <th>163</th>\n",
       "      <td>a call to vice president pence and sitting mem...</td>\n",
       "      <td>Liberal</td>\n",
       "      <td>Liberal</td>\n",
       "      <td>True</td>\n",
       "      <td>0.236000</td>\n",
       "      <td>0.724000</td>\n",
       "      <td>0.04</td>\n",
       "    </tr>\n",
       "    <tr>\n",
       "      <th>36</th>\n",
       "      <td>the president of the united states nor his chi...</td>\n",
       "      <td>Liberal</td>\n",
       "      <td>Liberal</td>\n",
       "      <td>True</td>\n",
       "      <td>0.140000</td>\n",
       "      <td>0.850000</td>\n",
       "      <td>0.01</td>\n",
       "    </tr>\n",
       "    <tr>\n",
       "      <th>165</th>\n",
       "      <td>don't repeal the affordable care act without r...</td>\n",
       "      <td>Liberal</td>\n",
       "      <td>Liberal</td>\n",
       "      <td>True</td>\n",
       "      <td>0.200000</td>\n",
       "      <td>0.730000</td>\n",
       "      <td>0.07</td>\n",
       "    </tr>\n",
       "    <tr>\n",
       "      <th>166</th>\n",
       "      <td>help families combat the addiction epidemic.</td>\n",
       "      <td>Liberal</td>\n",
       "      <td>Neutral</td>\n",
       "      <td>False</td>\n",
       "      <td>0.210000</td>\n",
       "      <td>0.710000</td>\n",
       "      <td>0.08</td>\n",
       "    </tr>\n",
       "    <tr>\n",
       "      <th>167</th>\n",
       "      <td>end the media blackout  on the environmental p...</td>\n",
       "      <td>Conservative</td>\n",
       "      <td>Liberal</td>\n",
       "      <td>False</td>\n",
       "      <td>0.430000</td>\n",
       "      <td>0.390000</td>\n",
       "      <td>0.18</td>\n",
       "    </tr>\n",
       "    <tr>\n",
       "      <th>249</th>\n",
       "      <td>issue an international arrest warrant for geor...</td>\n",
       "      <td>Liberal</td>\n",
       "      <td>Conservative</td>\n",
       "      <td>False</td>\n",
       "      <td>0.410000</td>\n",
       "      <td>0.510000</td>\n",
       "      <td>0.08</td>\n",
       "    </tr>\n",
       "    <tr>\n",
       "      <th>41</th>\n",
       "      <td>NaN</td>\n",
       "      <td>Liberal</td>\n",
       "      <td>NaN</td>\n",
       "      <td>False</td>\n",
       "      <td>0.080000</td>\n",
       "      <td>0.880000</td>\n",
       "      <td>0.04</td>\n",
       "    </tr>\n",
       "    <tr>\n",
       "      <th>174</th>\n",
       "      <td>amnesty to cubans in central america who left ...</td>\n",
       "      <td>Liberal</td>\n",
       "      <td>Liberal</td>\n",
       "      <td>True</td>\n",
       "      <td>0.154000</td>\n",
       "      <td>0.766000</td>\n",
       "      <td>0.08</td>\n",
       "    </tr>\n",
       "    <tr>\n",
       "      <th>...</th>\n",
       "      <td>...</td>\n",
       "      <td>...</td>\n",
       "      <td>...</td>\n",
       "      <td>...</td>\n",
       "      <td>...</td>\n",
       "      <td>...</td>\n",
       "      <td>...</td>\n",
       "    </tr>\n",
       "    <tr>\n",
       "      <th>78</th>\n",
       "      <td>deregulate bioengineered crops</td>\n",
       "      <td>Liberal</td>\n",
       "      <td>Conservative</td>\n",
       "      <td>False</td>\n",
       "      <td>0.220000</td>\n",
       "      <td>0.750000</td>\n",
       "      <td>0.03</td>\n",
       "    </tr>\n",
       "    <tr>\n",
       "      <th>79</th>\n",
       "      <td>consider the proposal for the state of jeffers...</td>\n",
       "      <td>Liberal</td>\n",
       "      <td>Neutral</td>\n",
       "      <td>False</td>\n",
       "      <td>0.200000</td>\n",
       "      <td>0.640000</td>\n",
       "      <td>0.16</td>\n",
       "    </tr>\n",
       "    <tr>\n",
       "      <th>227</th>\n",
       "      <td>do not take health insurance away from  millio...</td>\n",
       "      <td>Liberal</td>\n",
       "      <td>Liberal</td>\n",
       "      <td>True</td>\n",
       "      <td>0.180000</td>\n",
       "      <td>0.690000</td>\n",
       "      <td>0.13</td>\n",
       "    </tr>\n",
       "    <tr>\n",
       "      <th>212</th>\n",
       "      <td>open a new investigation into the events of  a...</td>\n",
       "      <td>Liberal</td>\n",
       "      <td>Neutral</td>\n",
       "      <td>False</td>\n",
       "      <td>0.160000</td>\n",
       "      <td>0.650000</td>\n",
       "      <td>0.19</td>\n",
       "    </tr>\n",
       "    <tr>\n",
       "      <th>185</th>\n",
       "      <td>do not cut federal funds for preventing domest...</td>\n",
       "      <td>Liberal</td>\n",
       "      <td>Liberal</td>\n",
       "      <td>True</td>\n",
       "      <td>0.386000</td>\n",
       "      <td>0.474000</td>\n",
       "      <td>0.14</td>\n",
       "    </tr>\n",
       "    <tr>\n",
       "      <th>216</th>\n",
       "      <td>req. agriculture to publish final rule -- hors...</td>\n",
       "      <td>Liberal</td>\n",
       "      <td>Neutral</td>\n",
       "      <td>False</td>\n",
       "      <td>0.260000</td>\n",
       "      <td>0.640000</td>\n",
       "      <td>0.10</td>\n",
       "    </tr>\n",
       "    <tr>\n",
       "      <th>169</th>\n",
       "      <td>remove steve bannon from the people's white house</td>\n",
       "      <td>Liberal</td>\n",
       "      <td>Liberal</td>\n",
       "      <td>True</td>\n",
       "      <td>0.290000</td>\n",
       "      <td>0.650000</td>\n",
       "      <td>0.06</td>\n",
       "    </tr>\n",
       "    <tr>\n",
       "      <th>90</th>\n",
       "      <td>appropriate funds to investigate voter fraud.</td>\n",
       "      <td>Liberal</td>\n",
       "      <td>Liberal</td>\n",
       "      <td>True</td>\n",
       "      <td>0.230000</td>\n",
       "      <td>0.660000</td>\n",
       "      <td>0.11</td>\n",
       "    </tr>\n",
       "    <tr>\n",
       "      <th>205</th>\n",
       "      <td>release and pardon our political prisoners</td>\n",
       "      <td>Liberal</td>\n",
       "      <td>Liberal</td>\n",
       "      <td>True</td>\n",
       "      <td>0.270000</td>\n",
       "      <td>0.590000</td>\n",
       "      <td>0.14</td>\n",
       "    </tr>\n",
       "    <tr>\n",
       "      <th>93</th>\n",
       "      <td>reverse the usda's blackout of information rel...</td>\n",
       "      <td>Liberal</td>\n",
       "      <td>Liberal</td>\n",
       "      <td>True</td>\n",
       "      <td>0.140000</td>\n",
       "      <td>0.760000</td>\n",
       "      <td>0.10</td>\n",
       "    </tr>\n",
       "    <tr>\n",
       "      <th>94</th>\n",
       "      <td>create a civilian national readiness force</td>\n",
       "      <td>Liberal</td>\n",
       "      <td>Conservative</td>\n",
       "      <td>False</td>\n",
       "      <td>0.225714</td>\n",
       "      <td>0.734286</td>\n",
       "      <td>0.04</td>\n",
       "    </tr>\n",
       "    <tr>\n",
       "      <th>223</th>\n",
       "      <td>do not embrace shale oil, the coal industry an...</td>\n",
       "      <td>Liberal</td>\n",
       "      <td>Liberal</td>\n",
       "      <td>True</td>\n",
       "      <td>0.080000</td>\n",
       "      <td>0.660000</td>\n",
       "      <td>0.26</td>\n",
       "    </tr>\n",
       "    <tr>\n",
       "      <th>97</th>\n",
       "      <td>unequivocally support ukraine  against russian...</td>\n",
       "      <td>Liberal</td>\n",
       "      <td>Liberal</td>\n",
       "      <td>True</td>\n",
       "      <td>0.300000</td>\n",
       "      <td>0.630000</td>\n",
       "      <td>0.07</td>\n",
       "    </tr>\n",
       "    <tr>\n",
       "      <th>226</th>\n",
       "      <td>re-open the schuylkill valley metro commuter r...</td>\n",
       "      <td>Liberal</td>\n",
       "      <td>Liberal</td>\n",
       "      <td>True</td>\n",
       "      <td>0.180000</td>\n",
       "      <td>0.620000</td>\n",
       "      <td>0.20</td>\n",
       "    </tr>\n",
       "    <tr>\n",
       "      <th>99</th>\n",
       "      <td>end wind energy subsidies.</td>\n",
       "      <td>Liberal</td>\n",
       "      <td>Conservative</td>\n",
       "      <td>False</td>\n",
       "      <td>0.140000</td>\n",
       "      <td>0.840000</td>\n",
       "      <td>0.02</td>\n",
       "    </tr>\n",
       "    <tr>\n",
       "      <th>101</th>\n",
       "      <td>we the people: call on congress and the admini...</td>\n",
       "      <td>Liberal</td>\n",
       "      <td>Conservative</td>\n",
       "      <td>False</td>\n",
       "      <td>0.180000</td>\n",
       "      <td>0.760000</td>\n",
       "      <td>0.06</td>\n",
       "    </tr>\n",
       "    <tr>\n",
       "      <th>230</th>\n",
       "      <td>make antifa and similar militant leftist group...</td>\n",
       "      <td>Liberal</td>\n",
       "      <td>Conservative</td>\n",
       "      <td>False</td>\n",
       "      <td>0.346000</td>\n",
       "      <td>0.534000</td>\n",
       "      <td>0.12</td>\n",
       "    </tr>\n",
       "    <tr>\n",
       "      <th>106</th>\n",
       "      <td>officially declare antifa a terrorist organiza...</td>\n",
       "      <td>Liberal</td>\n",
       "      <td>Conservative</td>\n",
       "      <td>False</td>\n",
       "      <td>0.156000</td>\n",
       "      <td>0.784000</td>\n",
       "      <td>0.06</td>\n",
       "    </tr>\n",
       "    <tr>\n",
       "      <th>238</th>\n",
       "      <td>stop hb abuse</td>\n",
       "      <td>Liberal</td>\n",
       "      <td>Conservative</td>\n",
       "      <td>False</td>\n",
       "      <td>0.420000</td>\n",
       "      <td>0.450000</td>\n",
       "      <td>0.13</td>\n",
       "    </tr>\n",
       "    <tr>\n",
       "      <th>111</th>\n",
       "      <td>repeal all mandatory vaccination laws</td>\n",
       "      <td>Liberal</td>\n",
       "      <td>Conservative</td>\n",
       "      <td>False</td>\n",
       "      <td>0.230000</td>\n",
       "      <td>0.680000</td>\n",
       "      <td>0.09</td>\n",
       "    </tr>\n",
       "    <tr>\n",
       "      <th>229</th>\n",
       "      <td>commute or pardon sergeant miller, review all ...</td>\n",
       "      <td>Liberal</td>\n",
       "      <td>Conservative</td>\n",
       "      <td>False</td>\n",
       "      <td>0.160000</td>\n",
       "      <td>0.660000</td>\n",
       "      <td>0.18</td>\n",
       "    </tr>\n",
       "    <tr>\n",
       "      <th>114</th>\n",
       "      <td>recognize the republic of kekistan as a sovere...</td>\n",
       "      <td>Liberal</td>\n",
       "      <td>Conservative</td>\n",
       "      <td>False</td>\n",
       "      <td>0.290000</td>\n",
       "      <td>0.590000</td>\n",
       "      <td>0.12</td>\n",
       "    </tr>\n",
       "    <tr>\n",
       "      <th>115</th>\n",
       "      <td>fire steve bannon</td>\n",
       "      <td>Liberal</td>\n",
       "      <td>Liberal</td>\n",
       "      <td>True</td>\n",
       "      <td>0.190000</td>\n",
       "      <td>0.740000</td>\n",
       "      <td>0.07</td>\n",
       "    </tr>\n",
       "    <tr>\n",
       "      <th>117</th>\n",
       "      <td>let them in</td>\n",
       "      <td>Liberal</td>\n",
       "      <td>Liberal</td>\n",
       "      <td>True</td>\n",
       "      <td>0.240000</td>\n",
       "      <td>0.640000</td>\n",
       "      <td>0.12</td>\n",
       "    </tr>\n",
       "    <tr>\n",
       "      <th>119</th>\n",
       "      <td>enact stricter cyberbullying &amp;amp; cyberharass...</td>\n",
       "      <td>Liberal</td>\n",
       "      <td>Liberal</td>\n",
       "      <td>True</td>\n",
       "      <td>0.200000</td>\n",
       "      <td>0.580000</td>\n",
       "      <td>0.22</td>\n",
       "    </tr>\n",
       "    <tr>\n",
       "      <th>148</th>\n",
       "      <td>rescind the recent executive order banning cit...</td>\n",
       "      <td>Liberal</td>\n",
       "      <td>Liberal</td>\n",
       "      <td>True</td>\n",
       "      <td>0.180000</td>\n",
       "      <td>0.700000</td>\n",
       "      <td>0.12</td>\n",
       "    </tr>\n",
       "    <tr>\n",
       "      <th>122</th>\n",
       "      <td>president trump: repeal executive order restri...</td>\n",
       "      <td>Liberal</td>\n",
       "      <td>Liberal</td>\n",
       "      <td>True</td>\n",
       "      <td>0.170000</td>\n",
       "      <td>0.630000</td>\n",
       "      <td>0.20</td>\n",
       "    </tr>\n",
       "    <tr>\n",
       "      <th>252</th>\n",
       "      <td>we the decent venezuelan people ask president ...</td>\n",
       "      <td>Liberal</td>\n",
       "      <td>Conservative</td>\n",
       "      <td>False</td>\n",
       "      <td>0.360000</td>\n",
       "      <td>0.590000</td>\n",
       "      <td>0.05</td>\n",
       "    </tr>\n",
       "    <tr>\n",
       "      <th>219</th>\n",
       "      <td>stop all ptc credits and ban all wind farms im...</td>\n",
       "      <td>Liberal</td>\n",
       "      <td>Conservative</td>\n",
       "      <td>False</td>\n",
       "      <td>0.240000</td>\n",
       "      <td>0.610000</td>\n",
       "      <td>0.15</td>\n",
       "    </tr>\n",
       "    <tr>\n",
       "      <th>127</th>\n",
       "      <td>remove steve bannon from the president's admin...</td>\n",
       "      <td>Liberal</td>\n",
       "      <td>Liberal</td>\n",
       "      <td>True</td>\n",
       "      <td>0.140000</td>\n",
       "      <td>0.790000</td>\n",
       "      <td>0.07</td>\n",
       "    </tr>\n",
       "  </tbody>\n",
       "</table>\n",
       "<p>83 rows × 7 columns</p>\n",
       "</div>"
      ],
      "text/plain": [
       "                                              petition    pred_ideol  \\\n",
       "258                       repeal the  hughes amendment       Liberal   \n",
       "132  amend the moratorium on refugee immigration to...       Liberal   \n",
       "133  lyme disease epidemic: testing, diagnostics an...       Liberal   \n",
       "260  donald trump:  resign as president of the unit...       Liberal   \n",
       "193  revoke the order forbidding health providers r...       Liberal   \n",
       "8    exempt department of defense nonappropriated f...       Liberal   \n",
       "140  immediately rescind january  executive order s...       Liberal   \n",
       "14   oppose the nomination of judge gorsuch for the...       Liberal   \n",
       "143  cancel executive order banning people of iran,...       Liberal   \n",
       "222  restore the lgbt rights page on whitehouse.gov...       Liberal   \n",
       "152                                truth in government       Liberal   \n",
       "18             indian engineers  target of hate crime.       Liberal   \n",
       "147  immediately rescind the executive order on imm...       Liberal   \n",
       "20   memotrump x % not % x unity act against the de...       Liberal   \n",
       "24   ask president trump to urge congress to invest...       Liberal   \n",
       "25   petition to ban google's blatant suppression o...       Liberal   \n",
       "234  we ask the new administration to work with con...       Liberal   \n",
       "155  bring niki mossafer rahmati, a current mit stu...       Liberal   \n",
       "29                        fight for transgender rights       Liberal   \n",
       "30             restore transgender rights for students       Liberal   \n",
       "261  let american farmers grow hemp once again to c...       Liberal   \n",
       "33   move the us embassy in israel from tel aviv to...       Liberal   \n",
       "163  a call to vice president pence and sitting mem...       Liberal   \n",
       "36   the president of the united states nor his chi...       Liberal   \n",
       "165  don't repeal the affordable care act without r...       Liberal   \n",
       "166       help families combat the addiction epidemic.       Liberal   \n",
       "167  end the media blackout  on the environmental p...  Conservative   \n",
       "249  issue an international arrest warrant for geor...       Liberal   \n",
       "41                                                 NaN       Liberal   \n",
       "174  amnesty to cubans in central america who left ...       Liberal   \n",
       "..                                                 ...           ...   \n",
       "78                      deregulate bioengineered crops       Liberal   \n",
       "79   consider the proposal for the state of jeffers...       Liberal   \n",
       "227  do not take health insurance away from  millio...       Liberal   \n",
       "212  open a new investigation into the events of  a...       Liberal   \n",
       "185  do not cut federal funds for preventing domest...       Liberal   \n",
       "216  req. agriculture to publish final rule -- hors...       Liberal   \n",
       "169  remove steve bannon from the people's white house       Liberal   \n",
       "90       appropriate funds to investigate voter fraud.       Liberal   \n",
       "205         release and pardon our political prisoners       Liberal   \n",
       "93   reverse the usda's blackout of information rel...       Liberal   \n",
       "94          create a civilian national readiness force       Liberal   \n",
       "223  do not embrace shale oil, the coal industry an...       Liberal   \n",
       "97   unequivocally support ukraine  against russian...       Liberal   \n",
       "226  re-open the schuylkill valley metro commuter r...       Liberal   \n",
       "99                          end wind energy subsidies.       Liberal   \n",
       "101  we the people: call on congress and the admini...       Liberal   \n",
       "230  make antifa and similar militant leftist group...       Liberal   \n",
       "106  officially declare antifa a terrorist organiza...       Liberal   \n",
       "238                                      stop hb abuse       Liberal   \n",
       "111              repeal all mandatory vaccination laws       Liberal   \n",
       "229  commute or pardon sergeant miller, review all ...       Liberal   \n",
       "114  recognize the republic of kekistan as a sovere...       Liberal   \n",
       "115                                  fire steve bannon       Liberal   \n",
       "117                                        let them in       Liberal   \n",
       "119  enact stricter cyberbullying &amp; cyberharass...       Liberal   \n",
       "148  rescind the recent executive order banning cit...       Liberal   \n",
       "122  president trump: repeal executive order restri...       Liberal   \n",
       "252  we the decent venezuelan people ask president ...       Liberal   \n",
       "219  stop all ptc credits and ban all wind farms im...       Liberal   \n",
       "127  remove steve bannon from the president's admin...       Liberal   \n",
       "\n",
       "       true_ideol correct  conservative   liberal  neutral  \n",
       "258  Conservative   False      0.156000  0.814000     0.03  \n",
       "132       Liberal    True      0.200000  0.690000     0.11  \n",
       "133       Neutral   False      0.160000  0.740000     0.10  \n",
       "260       Liberal    True      0.270000  0.490000     0.24  \n",
       "193       Liberal    True      0.220000  0.700000     0.08  \n",
       "8         Neutral   False      0.240000  0.700000     0.06  \n",
       "140       Liberal    True      0.235000  0.675000     0.09  \n",
       "14        Liberal    True      0.170000  0.790000     0.04  \n",
       "143       Liberal    True      0.270000  0.670000     0.06  \n",
       "222       Liberal    True      0.180000  0.550000     0.27  \n",
       "152       Liberal    True      0.110000  0.800000     0.09  \n",
       "18        Liberal    True      0.100000  0.760000     0.14  \n",
       "147       Liberal    True      0.130000  0.820000     0.05  \n",
       "20        Neutral   False      0.080000  0.840000     0.08  \n",
       "24        Neutral   False      0.240000  0.690000     0.07  \n",
       "25   Conservative   False      0.190000  0.640000     0.17  \n",
       "234       Liberal    True      0.220000  0.550000     0.23  \n",
       "155       Liberal    True      0.300000  0.680000     0.02  \n",
       "29        Liberal    True      0.120000  0.840000     0.04  \n",
       "30        Liberal    True      0.120000  0.790000     0.09  \n",
       "261       Liberal    True      0.090000  0.880000     0.03  \n",
       "33   Conservative   False      0.080000  0.890000     0.03  \n",
       "163       Liberal    True      0.236000  0.724000     0.04  \n",
       "36        Liberal    True      0.140000  0.850000     0.01  \n",
       "165       Liberal    True      0.200000  0.730000     0.07  \n",
       "166       Neutral   False      0.210000  0.710000     0.08  \n",
       "167       Liberal   False      0.430000  0.390000     0.18  \n",
       "249  Conservative   False      0.410000  0.510000     0.08  \n",
       "41            NaN   False      0.080000  0.880000     0.04  \n",
       "174       Liberal    True      0.154000  0.766000     0.08  \n",
       "..            ...     ...           ...       ...      ...  \n",
       "78   Conservative   False      0.220000  0.750000     0.03  \n",
       "79        Neutral   False      0.200000  0.640000     0.16  \n",
       "227       Liberal    True      0.180000  0.690000     0.13  \n",
       "212       Neutral   False      0.160000  0.650000     0.19  \n",
       "185       Liberal    True      0.386000  0.474000     0.14  \n",
       "216       Neutral   False      0.260000  0.640000     0.10  \n",
       "169       Liberal    True      0.290000  0.650000     0.06  \n",
       "90        Liberal    True      0.230000  0.660000     0.11  \n",
       "205       Liberal    True      0.270000  0.590000     0.14  \n",
       "93        Liberal    True      0.140000  0.760000     0.10  \n",
       "94   Conservative   False      0.225714  0.734286     0.04  \n",
       "223       Liberal    True      0.080000  0.660000     0.26  \n",
       "97        Liberal    True      0.300000  0.630000     0.07  \n",
       "226       Liberal    True      0.180000  0.620000     0.20  \n",
       "99   Conservative   False      0.140000  0.840000     0.02  \n",
       "101  Conservative   False      0.180000  0.760000     0.06  \n",
       "230  Conservative   False      0.346000  0.534000     0.12  \n",
       "106  Conservative   False      0.156000  0.784000     0.06  \n",
       "238  Conservative   False      0.420000  0.450000     0.13  \n",
       "111  Conservative   False      0.230000  0.680000     0.09  \n",
       "229  Conservative   False      0.160000  0.660000     0.18  \n",
       "114  Conservative   False      0.290000  0.590000     0.12  \n",
       "115       Liberal    True      0.190000  0.740000     0.07  \n",
       "117       Liberal    True      0.240000  0.640000     0.12  \n",
       "119       Liberal    True      0.200000  0.580000     0.22  \n",
       "148       Liberal    True      0.180000  0.700000     0.12  \n",
       "122       Liberal    True      0.170000  0.630000     0.20  \n",
       "252  Conservative   False      0.360000  0.590000     0.05  \n",
       "219  Conservative   False      0.240000  0.610000     0.15  \n",
       "127       Liberal    True      0.140000  0.790000     0.07  \n",
       "\n",
       "[83 rows x 7 columns]"
      ]
     },
     "execution_count": 280,
     "metadata": {},
     "output_type": "execute_result"
    }
   ],
   "source": [
    "pred_df[\"conservative\"] = conservative\n",
    "pred_df[\"liberal\"] = liberal\n",
    "pred_df[\"neutral\"] = neutral\n",
    "pred_df"
   ]
  },
  {
   "cell_type": "markdown",
   "metadata": {},
   "source": [
    "<font color=\"navy\">\n",
    "## (7) Bored, so Trying Some Random Stuff\n",
    "Pulling some stuff off the web."
   ]
  },
  {
   "cell_type": "code",
   "execution_count": 226,
   "metadata": {
    "collapsed": true
   },
   "outputs": [],
   "source": [
    "matloff = '''\n",
    "Let me offer three obvious (to me, at least) facts:\n",
    "\n",
    "No one, even the most extreme Republicans, wants to see people dying in the streets. The federal government does have a role, indeed a responsibility. It’s too big for the states, and even if the feds give them block grants, some states, say in the South, would adopt draconian policies.\n",
    "Many people, especially the stereotypical Trump supporters, live paycheck to paycheck. Tax breaks, health savings accounts and the like are useless to this large group of people. It’s an insult to offer them such things, a let-them-eat-cake solution.\n",
    "Obamacare was a bold step that filled a void that desperately needed to be filled. But it was built on various assumptions that apparently were shaky. It is not sustainable in its current form. Already some insurers have withdrawn from certain markets.\n",
    "The Republicans now are making their own shaky assumptions, e.g. that a 30% penalty, for those who forego insurance but then suddenly need it, is the right “price” for not doing their part to support the system. Really? Why shouldn’t it be 5% or 50%, say? No one knows.\n",
    "'''\n",
    "\n",
    "robert_reich = '''\n",
    "Trump and his White House don’t argue on the merits. They attack the credibility of the institutions that come up with facts and arguments they don’t like. \n",
    "\n",
    "They even do it preemptively. Last week, White House press secretary Sean Spicer warned that the nonpartisan Congressional Budget Office couldn’t be trusted to come up with accurate numbers about the costs and coverage of the Republican’s replacement for the Affordable Care Act.\n",
    "\n",
    "“If you’re looking at the CBO for accuracy, you’re looking in the wrong place,” he said.\n",
    "\n",
    "So what’s the right place? The Oval Office? \n",
    "\n",
    "Bear in mind the director of the CBO is a Republican economist and former George W. Bush administration official who was chosen for his position by the Republican Congress in 2015. \n",
    "\n",
    "No matter. The White House is worried about what the CBO will say about Trumpcare, so it throws the CBO under the bus before the bus arrives. \n",
    "\n",
    "Trump couldn’t care less about the long-term consequences, but the rest of us should. For more than four decades the U.S. budget process has depended on the CBO’s analyses and forecasts. The office has gained a reputation for honesty and reliability under both Republican and Democratic appointees. Now, it’s tainted. \n",
    "'''\n",
    "nate_silver = '''\n",
    "This is not to say the election was a toss-up in mid-October, which was one of the high-water marks of the campaign for Clinton. But while a Trump win was unlikely, it should hardly have been unthinkable.1 And yet the Times, famous for its “to be sure” equivocations,2 wasn’t even contemplating the possibility of a Trump victory.3\n",
    "It’s hard to reread this coverage without recalling Sean Trende’s essay on “unthinkability bias,” which he wrote in the wake of the Brexit vote. Just as was the case in the U.S. presidential election, voting on the referendum had split strongly along class, education and regional lines, with voters outside of London and without advanced degrees being much more likely to vote to leave the EU. The reporters covering the Brexit campaign, on the other hand, were disproportionately well-educated and principally based in London. They tended to read ambiguous signs — anything from polls to the musings of taxi drivers — as portending a Remain win, and many of them never really processed the idea that Britain could vote to leave the EU until it actually happened.\n",
    "\n",
    "So did journalists in Washington and London make the apocryphal Pauline Kael mistake, refusing to believe that Trump or Brexit could win because nobody they knew was voting for them? That’s not quite what Trende was arguing. Instead, it’s that political experts4 aren’t a very diverse group and tend to place a lot of faith in the opinions of other experts and other members of the political establishment. Once a consensus view is established, it tends to reinforce itself until and unless there’s very compelling evidence for the contrary position. Social media, especially Twitter, can amplify the groupthink further. It can be an echo chamber.\n",
    "\n",
    "I recently reread James Surowiecki’s book “The Wisdom of Crowds” which, despite its name, spends as much time contemplating the shortcomings of such wisdom as it does celebrating its successes. Surowiecki argues5 that crowds usually make good predictions when they satisfy these four conditions:\n",
    "\n",
    "Diversity of opinion. “Each person should have private information, even if it’s just an eccentric interpretation of the known facts.”\n",
    "Independence. “People’s opinions are not determined by the opinions of those around them.”\n",
    "Decentralization. “People are able to specialize and draw on local knowledge.”\n",
    "Aggregation. “Some mechanism exists for turning private judgments into a collective decision.”\n",
    "Political journalism scores highly on the fourth condition, aggregation. While Surowiecki usually has something like a financial or betting market in mind when he refers to “aggregation,” the broader idea is that there’s some way for individuals to exchange their opinions instead of keeping them to themselves. And my gosh, do political journalists have a lot of ways to share their opinions with one another, whether through their columns, at major events such as the political conventions or, especially, through Twitter.\n",
    "\n",
    "But those other three conditions? Political journalism fails miserably along those dimensions.\n",
    "'''\n",
    "abe_lincoln = '''Fourscore and seven years ago our fathers brought forth on this continent, a new nation, conceived in Liberty, and dedicated to the proposition that all men are created equal.\n",
    "\n",
    "Now we are engaged in a great civil war, testing whether that nation, or any nation so conceived and so dedicated, can long endure. We are met on a great battle-field of that war. We have come to dedicate a portion of that field, as a final resting place for those who here gave their lives that that nation might live. It is altogether fitting and proper that we should do this.\n",
    "\n",
    "But, in a larger sense, we can not dedicate-we can not consecrate-we can not hallow-this ground. The brave men, living and dead, who struggled here, have consecrated it, far above our poor power to add or detract. The world will little note, nor long remember what we say here, but it can never forget what they did here. It is for us the living, rather, to be dedicated here to the unfinished work which they who fought here have thus far so nobly advanced. It is rather for us to be here dedicated to the great task remaining before us-that from these honored dead we take increased devotion to that cause for which they gave the last full measure of devotion-that we here highly resolve that these dead shall not have died in vain-that this nation, under God, shall have a new birth of freedom-and that government of the people, by the people, for the people shall not perish from the earth.'''"
   ]
  },
  {
   "cell_type": "code",
   "execution_count": 227,
   "metadata": {
    "collapsed": false
   },
   "outputs": [
    {
     "name": "stderr",
     "output_type": "stream",
     "text": [
      "/Users/EDIE/anaconda/lib/python2.7/site-packages/ipykernel/__main__.py:24: UnicodeWarning: Unicode equal comparison failed to convert both arguments to Unicode - interpreting them as being unequal\n"
     ]
    }
   ],
   "source": [
    "new_text = [matloff, robert_reich, nate_silver, abe_lincoln]\n",
    "new_text_tokens = [cleanUpText(str(x), new_stops) for x in new_text]"
   ]
  },
  {
   "cell_type": "code",
   "execution_count": 228,
   "metadata": {
    "collapsed": false
   },
   "outputs": [],
   "source": [
    "new_text_blobs = [\" \".join(x) for x in new_text_tokens]"
   ]
  },
  {
   "cell_type": "code",
   "execution_count": 229,
   "metadata": {
    "collapsed": false
   },
   "outputs": [
    {
     "data": {
      "text/plain": [
       "['let offer three obvious least factsno one even extreme republicans wants see dying streets federal role indeed responsibility it\\xe2\\x80\\x99s big even feds give block grants say south adopt draconian policiesmany especially stereotypical supporters live paycheck paycheck tax breaks health savings accounts like useless large group it\\xe2\\x80\\x99s insult offer things letthemeatcake solutionobamacare bold step filled void desperately needed filled built various assumptions apparently shaky sustainable current form already insurers withdrawn certain marketsthe republicans making shaky assumptions eg penalty forego insurance suddenly right \\xe2\\x80\\x9cprice\\xe2\\x80\\x9d part support system really shouldn\\xe2\\x80\\x99t say one knows',\n",
       " 'don\\xe2\\x80\\x99t argue merits attack credibility institutions come facts arguments don\\xe2\\x80\\x99t like even preemptively last week press secretary sean spicer warned nonpartisan congressional budget office couldn\\xe2\\x80\\x99t trusted come accurate numbers costs coverage republican\\xe2\\x80\\x99s replacement affordable care act\\xe2\\x80\\x9cif you\\xe2\\x80\\x99re looking cbo accuracy you\\xe2\\x80\\x99re looking wrong place\\xe2\\x80\\x9d saidso what\\xe2\\x80\\x99s right place oval office bear mind director cbo republican economist former george w bush administration official chosen position republican congress matter worried cbo say trumpcare throws cbo bus bus arrives couldn\\xe2\\x80\\x99t care less longterm consequences rest four decades budget process depended cbo\\xe2\\x80\\x99s analyses forecasts office gained reputation honesty reliability republican democratic appointees it\\xe2\\x80\\x99s tainted',\n",
       " 'say election tossup midoctober one highwater marks campaign clinton win unlikely hardly unthinkable yet times famous \\xe2\\x80\\x9cto sure\\xe2\\x80\\x9d equivocations wasn\\xe2\\x80\\x99t even contemplating possibility victoryit\\xe2\\x80\\x99s hard reread coverage recalling sean trende\\xe2\\x80\\x99s essay \\xe2\\x80\\x9cunthinkability bias\\xe2\\x80\\x9d wrote wake brexit vote case presidential election voting referendum split strongly along class education regional lines voters outside london advanced degrees much likely vote leave eu reporters covering brexit campaign hand disproportionately welleducated principally based london tended read ambiguous signs \\xe2\\x80\\x94 anything polls musings taxi drivers \\xe2\\x80\\x94 portending remain win many never really processed idea britain could vote leave eu actually happenedso journalists washington london apocryphal pauline kael mistake refusing believe brexit could win nobody knew voting that\\xe2\\x80\\x99s quite trende arguing instead it\\xe2\\x80\\x99s political experts aren\\xe2\\x80\\x99t diverse group tend place lot faith opinions experts members political establishment consensus view established tends reinforce unless there\\xe2\\x80\\x99s compelling evidence contrary position social media especially twitter amplify groupthink echo chamberi recently reread james surowiecki\\xe2\\x80\\x99s book \\xe2\\x80\\x9cthe wisdom crowds\\xe2\\x80\\x9d despite name spends much time contemplating shortcomings wisdom celebrating successes surowiecki argues crowds usually good predictions satisfy four conditionsdiversity opinion \\xe2\\x80\\x9ceach person private information even it\\xe2\\x80\\x99s eccentric interpretation known facts\\xe2\\x80\\x9dindependence \\xe2\\x80\\x9cpeople\\xe2\\x80\\x99s opinions determined opinions around them\\xe2\\x80\\x9ddecentralization \\xe2\\x80\\x9cpeople able specialize draw local knowledge\\xe2\\x80\\x9daggregation \\xe2\\x80\\x9csome mechanism exists turning private judgments collective decision\\xe2\\x80\\x9dpolitical journalism scores highly fourth condition aggregation surowiecki usually something like financial betting market mind refers \\xe2\\x80\\x9caggregation\\xe2\\x80\\x9d broader idea there\\xe2\\x80\\x99s way individuals exchange opinions instead keeping gosh political journalists lot ways share opinions one another whether columns major events political conventions especially twitterbut three conditions political journalism fails miserably along dimensions',\n",
       " 'fourscore seven years ago fathers brought forth continent new nation conceived liberty dedicated proposition men created equalnow engaged great civil war testing whether nation nation conceived dedicated long endure met great battlefield war come dedicate portion field final resting place gave lives nation might live altogether fitting proper thisbut larger sense dedicatewe consecratewe hallowthis ground brave men living dead struggled consecrated far poor power add detract world little note long remember say never forget living rather dedicated unfinished work fought thus far nobly advanced rather dedicated great task remaining usthat honored dead take increased devotion cause gave last full measure devotionthat highly resolve dead shall died vainthat nation god shall new birth freedomand shall perish earth']"
      ]
     },
     "execution_count": 229,
     "metadata": {},
     "output_type": "execute_result"
    }
   ],
   "source": [
    "new_text_blobs"
   ]
  },
  {
   "cell_type": "code",
   "execution_count": 230,
   "metadata": {
    "collapsed": false
   },
   "outputs": [
    {
     "data": {
      "text/plain": [
       "array([[0, 0, 0, ..., 0, 0, 0],\n",
       "       [0, 0, 0, ..., 0, 0, 0],\n",
       "       [0, 0, 0, ..., 0, 0, 0],\n",
       "       [0, 0, 0, ..., 0, 0, 0]])"
      ]
     },
     "execution_count": 230,
     "metadata": {},
     "output_type": "execute_result"
    }
   ],
   "source": [
    "# VECTORIZING NEW TEXT DATA\n",
    "new_text__data_features = vectorizer.transform(new_text_blobs)\n",
    "new_text__data_features = new_text__data_features.toarray()\n",
    "new_text__data_features"
   ]
  },
  {
   "cell_type": "code",
   "execution_count": 231,
   "metadata": {
    "collapsed": true
   },
   "outputs": [],
   "source": [
    "# PREDICT NEW TEXT DATA\n",
    "result = forest.predict(new_text__data_features)"
   ]
  },
  {
   "cell_type": "code",
   "execution_count": 232,
   "metadata": {
    "collapsed": false
   },
   "outputs": [
    {
     "data": {
      "text/plain": [
       "array(['Conservative', 'Liberal', 'Liberal', 'Liberal'], dtype=object)"
      ]
     },
     "execution_count": 232,
     "metadata": {},
     "output_type": "execute_result"
    }
   ],
   "source": [
    "result"
   ]
  },
  {
   "cell_type": "code",
   "execution_count": null,
   "metadata": {
    "collapsed": true
   },
   "outputs": [],
   "source": []
  }
 ],
 "metadata": {
  "anaconda-cloud": {},
  "kernelspec": {
   "display_name": "Python 2",
   "language": "python",
   "name": "python2"
  },
  "language_info": {
   "codemirror_mode": {
    "name": "ipython",
    "version": 2
   },
   "file_extension": ".py",
   "mimetype": "text/x-python",
   "name": "python",
   "nbconvert_exporter": "python",
   "pygments_lexer": "ipython2",
   "version": "2.7.13"
  }
 },
 "nbformat": 4,
 "nbformat_minor": 2
}
