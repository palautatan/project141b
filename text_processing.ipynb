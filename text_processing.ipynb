{
 "cells": [
  {
   "cell_type": "markdown",
   "metadata": {},
   "source": [
    "<font color=\"navy\">\n",
    "\n",
    "1) explanation for where we got our data, why it's interesting, and what we plan on looking for {basic data import/cleaning}\n",
    "<br>\n",
    "2) explanation about patricks model for predicting petition success {models} - model result\n",
    "<br>\n",
    "3) basic rundown of words used in petitions, liberal/conservative etc. {barplots}\n",
    "<br>\n",
    "4) more in depth explanation of what we're trying to do in predicting political affiliation overall.\n",
    "<ul>\n",
    "<li>model 1 explanation {model} results</li>\n",
    "<li>model 2 explanation {model} resutls</li>\n",
    "<li>model 3 explanation {model} results</li>\n",
    "<li>model 4 explanation {model} results</li>\n",
    "</ul>\n",
    "<br>\n",
    "5) is seeing if political affiliation predicts petition success\n",
    "<br>\n",
    "6) is a conclusion explaining all the cool things we could theoretically do with these models as regards to trying to determain hidden political bias in the real world. for example, see if we can train the model on pro-russian english language propoganda websites\n",
    "\n",
    "\n",
    "## An Analysis of Political Bias and the Success of White House Petitions\n",
    "###### STA 141b Final Project, Winter 2015\n",
    "###### EDIE ESPEJO {} | GRAHAM SMITH {912355584} | PATRICK VACEK {}\n",
    "\n",
    "\n"
   ]
  },
  {
   "cell_type": "markdown",
   "metadata": {},
   "source": [
    "<font color='sienna'>\n",
    "\n",
    "It's unlikely to be a controversial sentiment to suggest that we live in an age of perpetual information overload. The days where most Americans would get their news from large, monolithic television networks and print outlets is long past. As of 2016, adults under the age of 50 get roughly half of their news from the internet - the single largest source being facebook<sup><a href=\"#fn1\">[1]</a></sup>. One would have believed that the democritization of information would cause people to regress towards some mean consesnus, which would in an ideal world resemble the truth.\n",
    "<br><br>\n",
    "Sadly, this has not been the case. The post-truth, 'alternative facts' ethos of our new Executive branch aside the American public has never been as divided as it is now. While not a perfect proxy, we can look at data involving political polarization and see that more than 60% of people find they have less in common with members of the opposite party after talking to them about politics, and 87% say that their opponents policies are actively dangerous<sup>[2]</sup>. These are not numbers you's see from people simply differeing with each other on values. These are numbers you'd expect to see from people who fundamentally disagreed on what reality they were all living in.\n",
    "<br><br>\n",
    "This being said, it is even more critical that everyone become both involved in the political process and active consumers of information - a word here which means to be aware of the source, thoroughness, and intent behind theinformation they're getting. To this end our group created a two part algorithm to represent both of these goals. The first part was the construction of a logistic regression model to predict whether or not a white house petition would hit the 100k threshold necessary for the president to be legally required to respond, based on the rate at which it recieves signatures. Second was to create a classifier for determaining the probability that a particular petition is 'Liberal' or 'Conservative' based on word choice. Finally we brought all three of these together in a generalized algorithm that looks at both signature rate over time and vocabulary to detrmain how likely it is that a petition will succeed.\n",
    "<br><br>\n",
    "We believe that it might be possible to generalize our algorithm and use it to, for example, track viral twitter tags and see how likely they are to read a critical mass of popularity. Or alternatively use the political leanings aspect to try and uncover unstated bias in news articles."
   ]
  },
  {
   "cell_type": "markdown",
   "metadata": {},
   "source": [
    "<font color='sienna'>\n",
    "## Part (1)\n",
    "<br>\n",
    "explanation about patricks model for predicting petition success {models} - model result "
   ]
  },
  {
   "cell_type": "code",
   "execution_count": 66,
   "metadata": {
    "collapsed": true
   },
   "outputs": [],
   "source": [
    "#PATRICKS CODE"
   ]
  },
  {
   "cell_type": "markdown",
   "metadata": {},
   "source": [
    "<font color='sienna'>\n",
    "## Part (2)\n",
    "<br>\n",
    "Our goal in this section is to determine how Liberal and Conservative petitions differ in their vocabularies, and then build a model classifying petitions based on those words. \n",
    "<br><br>\n",
    "First, we used basic text processing to examine which words are Conservative, and which are Liberal."
   ]
  },
  {
   "cell_type": "code",
   "execution_count": 1,
   "metadata": {
    "collapsed": true
   },
   "outputs": [],
   "source": [
    "# LIBRARIES\n",
    "# TEXT PROCESSING\n",
    "import nltk\n",
    "from nltk.corpus import stopwords\n",
    "import string\n",
    "import re\n",
    "from sklearn.feature_extraction.text import TfidfVectorizer\n",
    "\n",
    "# DATA SCIENCE\n",
    "import pandas as pd\n",
    "import numpy as np\n",
    "\n",
    "# VISUALIZATION\n",
    "from wordcloud import WordCloud\n",
    "from matplotlib import pyplot as plt\n",
    "%matplotlib inline\n",
    "plt.style.use(\"ggplot\")\n",
    "\n",
    "# ELSE\n",
    "from collections import Counter\n",
    "import os\n",
    "from sklearn.feature_extraction.text import CountVectorizer\n",
    "from sklearn.ensemble import RandomForestClassifier"
   ]
  },
  {
   "cell_type": "code",
   "execution_count": 68,
   "metadata": {
    "collapsed": false
   },
   "outputs": [],
   "source": [
    "# READ IN DATA\n",
    "petnlp = pd.DataFrame.from_csv(\"petnlp.csv\")"
   ]
  },
  {
   "cell_type": "markdown",
   "metadata": {},
   "source": [
    "<font color='sienna'>\n",
    "Clean up the body text, and tokenize it."
   ]
  },
  {
   "cell_type": "code",
   "execution_count": 69,
   "metadata": {
    "collapsed": false
   },
   "outputs": [],
   "source": [
    "# FUNCTION TO CLEAN UP BODY TEXT AND TOKENIZE\n",
    "def cleanUpText(text, additional_stopwords=[]):\n",
    "    # REMOVE MARK UP\n",
    "    new_text = text.replace(\"\\r\", \"\").replace(\"\\n\", \"\")\n",
    "    \n",
    "    # REMOVE URLS\n",
    "    new_text = re.sub(r\"\\w+:\\/{2}[\\d\\w-]+(\\.[\\d\\w-]+)*(?:(?:\\/[^\\s/]*))*\", \"\", new_text).strip()\n",
    "    \n",
    "    # REMOVE PUNCTUATION\n",
    "    new_text = new_text.translate(None, string.punctuation)\n",
    "    \n",
    "    # REMOVE NUMBERS\n",
    "    new_text = re.sub(r\"\\d+\", \"\", new_text)\n",
    "    \n",
    "    # LOWERCASE\n",
    "    new_text = new_text.lower()\n",
    "    \n",
    "    #SPLIT\n",
    "    new_text = new_text.split()\n",
    "    \n",
    "    # REMOVE STOPWORDS\n",
    "    stops = stopwords.words(\"english\") + additional_stopwords\n",
    "    \n",
    "    return [word for word in new_text if word not in stops]"
   ]
  },
  {
   "cell_type": "code",
   "execution_count": 76,
   "metadata": {
    "collapsed": false
   },
   "outputs": [],
   "source": [
    "stopwords.words(\"english\")\n",
    "\n",
    "new_stops = \"President, president, people, without, needs, since, used, get, would, us, united, states, people, american, americans, national, government, petition, make, also, many, must, need, change, ask, use, every, trump, white, house, america, America, executive, Executive\"\n",
    "new_stops = new_stops.split(\", \")\n",
    "tokens = [cleanUpText(x) for x in petnlp[\"body\"]]"
   ]
  },
  {
   "cell_type": "markdown",
   "metadata": {},
   "source": [
    "<font color='sienna'>\n",
    "Clean up the titles."
   ]
  },
  {
   "cell_type": "code",
   "execution_count": 78,
   "metadata": {
    "collapsed": true
   },
   "outputs": [],
   "source": [
    "# FUNCTION TO CLEAN UP BODY TEXT\n",
    "def cleanUpTitle(text):\n",
    "    # REMOVE MARK UP\n",
    "    new_text = text.replace(\"\\r\", \"\").replace(\"\\n\", \"\")\n",
    "    \n",
    "    # REMOVE NUMBERS\n",
    "    new_text = re.sub(r\"\\d+\", \"\", new_text)\n",
    "    \n",
    "    # LOWERCASE\n",
    "    new_text = new_text.lower()\n",
    "    \n",
    "    return(new_text)"
   ]
  },
  {
   "cell_type": "code",
   "execution_count": 120,
   "metadata": {
    "collapsed": false
   },
   "outputs": [],
   "source": [
    "cleaned_titles = [cleanUpTitle(x) for x in petnlp[\"title\"]]\n",
    "cleaned_text = [unicode(\" \".join(x), errors=\"replace\") for x in tokens]\n",
    "cleaned_text = [x.encode(\"ascii\", \"replace\") for x in cleaned_text]"
   ]
  },
  {
   "cell_type": "markdown",
   "metadata": {},
   "source": [
    "<font color=\"sienna\">\n",
    "Create a data frame with out newly classified words."
   ]
  },
  {
   "cell_type": "code",
   "execution_count": 131,
   "metadata": {
    "collapsed": false
   },
   "outputs": [],
   "source": [
    "cleaned_text_df = pd.DataFrame({\"Article Title\":cleaned_titles, \"Cleaned Text\":cleaned_text, \"Ideology\":petnlp[\"ideology\"]})"
   ]
  },
  {
   "cell_type": "markdown",
   "metadata": {},
   "source": [
    "<font color=\"sienna\">\n",
    "Next we looked at the absolute frequency of words based on ideology. Noticably, we chose to ignore petitions with Neutral ideology as it drammatically increased the error rate of our model."
   ]
  },
  {
   "cell_type": "code",
   "execution_count": 132,
   "metadata": {
    "collapsed": false
   },
   "outputs": [],
   "source": [
    "liberal_text = \" \".join([x for x in blobs_df[blobs_df[\"ideology\"] == \"Liberal\"][\"blobs\"]])\n",
    "liberal_counts = Counter(liberal_text.split())"
   ]
  },
  {
   "cell_type": "markdown",
   "metadata": {},
   "source": [
    "<font color='sienna'>\n",
    "Now, we do the same for conservatives."
   ]
  },
  {
   "cell_type": "code",
   "execution_count": 133,
   "metadata": {
    "collapsed": false
   },
   "outputs": [],
   "source": [
    "conservative_blobs = \" \".join([x for x in blobs_df[blobs_df[\"ideology\"] == \"Conservative\"][\"blobs\"]])\n",
    "conservative_counts = Counter(conservative_blobs.split())"
   ]
  },
  {
   "cell_type": "markdown",
   "metadata": {},
   "source": [
    "<font color=\"sienna\">\n",
    "It's important to remove the common words to prevent significant overlap and undue noise. In addition to the standard ones included in the nltk package, we also added some of our own based on the data that we felt wouldn't lead to any productive analysis. "
   ]
  },
  {
   "cell_type": "code",
   "execution_count": 126,
   "metadata": {
    "collapsed": false
   },
   "outputs": [],
   "source": [
    "all_text = \" \".join([x for x in blobs_df[\"blobs\"]])\n",
    "all_counts = Counter(all_text.split())\n",
    "# all_counts.most_common()[0:50]"
   ]
  },
  {
   "cell_type": "code",
   "execution_count": 127,
   "metadata": {
    "collapsed": true
   },
   "outputs": [],
   "source": [
    "#WE ADDED THE FOLLOWING STOPWORDS\n",
    "new_stops = '''\n",
    "            President, president, since, used, get, would,united, states, \n",
    "            people, national, government, petition, make, also, \n",
    "            many, use, every, trump, white, house, america, America,\n",
    "            executive, Executive\n",
    "            '''\n",
    "new_stops = new_stops.split(\", \")"
   ]
  },
  {
   "cell_type": "code",
   "execution_count": 128,
   "metadata": {
    "collapsed": true
   },
   "outputs": [],
   "source": [
    "def removeStopWords(text):\n",
    "    return [word for word in text.split() if word not in new_stops]"
   ]
  },
  {
   "cell_type": "code",
   "execution_count": 129,
   "metadata": {
    "collapsed": false
   },
   "outputs": [],
   "source": [
    "new_text = [\" \".join(removeStopWords(x)) for x in cleaned_text_df[\"Cleaned Text\"]]"
   ]
  },
  {
   "cell_type": "code",
   "execution_count": 130,
   "metadata": {
    "collapsed": false
   },
   "outputs": [
    {
     "data": {
      "text/html": [
       "<div>\n",
       "<table border=\"1\" class=\"dataframe\">\n",
       "  <thead>\n",
       "    <tr style=\"text-align: right;\">\n",
       "      <th></th>\n",
       "      <th>Article Title</th>\n",
       "      <th>Cleaned Text</th>\n",
       "      <th>Ideology</th>\n",
       "      <th>New Text</th>\n",
       "    </tr>\n",
       "  </thead>\n",
       "  <tbody>\n",
       "    <tr>\n",
       "      <th>0</th>\n",
       "      <td>legalize marijuana and bring jobs to millions ...</td>\n",
       "      <td>effects every american way also keep americans...</td>\n",
       "      <td>Liberal</td>\n",
       "      <td>effects american way keep americans funding te...</td>\n",
       "    </tr>\n",
       "    <tr>\n",
       "      <th>1</th>\n",
       "      <td>officially recognize the armenian genocide of</td>\n",
       "      <td>dying days ottoman empire cover world war youn...</td>\n",
       "      <td>Neutral</td>\n",
       "      <td>dying days ottoman empire cover world war youn...</td>\n",
       "    </tr>\n",
       "    <tr>\n",
       "      <th>2</th>\n",
       "      <td>eliminate mille lacs lake treaty management</td>\n",
       "      <td>walleye political pawns mille lacs lakewhile n...</td>\n",
       "      <td>Neutral</td>\n",
       "      <td>walleye political pawns mille lacs lakewhile n...</td>\n",
       "    </tr>\n",
       "    <tr>\n",
       "      <th>3</th>\n",
       "      <td>take action to end the autism epidemic and imp...</td>\n",
       "      <td>cannot make america great many disabled autist...</td>\n",
       "      <td>Conservative</td>\n",
       "      <td>cannot great many disabled autistic children m...</td>\n",
       "    </tr>\n",
       "    <tr>\n",
       "      <th>4</th>\n",
       "      <td>release kevin trudeau</td>\n",
       "      <td>locked us government years prison exercising c...</td>\n",
       "      <td>Neutral</td>\n",
       "      <td>locked us years prison exercising constitution...</td>\n",
       "    </tr>\n",
       "  </tbody>\n",
       "</table>\n",
       "</div>"
      ],
      "text/plain": [
       "                                       Article Title  \\\n",
       "0  legalize marijuana and bring jobs to millions ...   \n",
       "1     officially recognize the armenian genocide of    \n",
       "2        eliminate mille lacs lake treaty management   \n",
       "3  take action to end the autism epidemic and imp...   \n",
       "4                              release kevin trudeau   \n",
       "\n",
       "                                        Cleaned Text      Ideology  \\\n",
       "0  effects every american way also keep americans...       Liberal   \n",
       "1  dying days ottoman empire cover world war youn...       Neutral   \n",
       "2  walleye political pawns mille lacs lakewhile n...       Neutral   \n",
       "3  cannot make america great many disabled autist...  Conservative   \n",
       "4  locked us government years prison exercising c...       Neutral   \n",
       "\n",
       "                                            New Text  \n",
       "0  effects american way keep americans funding te...  \n",
       "1  dying days ottoman empire cover world war youn...  \n",
       "2  walleye political pawns mille lacs lakewhile n...  \n",
       "3  cannot great many disabled autistic children m...  \n",
       "4  locked us years prison exercising constitution...  "
      ]
     },
     "execution_count": 130,
     "metadata": {},
     "output_type": "execute_result"
    }
   ],
   "source": [
    "cleaned_text_df[\"New Text\"] = new_text\n",
    "cleaned_text_df.head()"
   ]
  },
  {
   "cell_type": "markdown",
   "metadata": {},
   "source": [
    "<font color='sienna'>\n",
    "Now we can make some simple histograms to see what the most common words are."
   ]
  },
  {
   "cell_type": "code",
   "execution_count": 134,
   "metadata": {
    "collapsed": false
   },
   "outputs": [
    {
     "data": {
      "image/png": "[encoded data removed]",
      "text/plain": [
       "<matplotlib.figure.Figure at 0xd229c18>"
      ]
     },
     "metadata": {},
     "output_type": "display_data"
    }
   ],
   "source": [
    "# LIBERAL WORDS\n",
    "liberal_blobs2 = \" \".join([x for x in blobs_df[blobs_df[\"ideology\"] == \"Liberal\"][\"new_blobs\"]])\n",
    "liberal_counts2 = Counter(liberal_blobs2.split())\n",
    "liberal_counts2.most_common()[0:20]\n",
    "\n",
    "df = pd.DataFrame.from_dict(liberal_counts2, orient='index').reset_index()\n",
    "df = df.sort_values(by=0, ascending=False)\n",
    "\n",
    "word = list(df.ix[:,0])[0:20]\n",
    "count = list(df.ix[:,1])[0:20]\n",
    "\n",
    "word_indices = np.arange(20) # ORDERED INDICES\n",
    "\n",
    "# PLOTTING\n",
    "plt.figure(figsize=(20,10))\n",
    "plt.bar(word_indices, count, color=\"royalblue\")\n",
    "plt.xticks(word_indices, word, rotation=70)\n",
    "plt.ylabel(\"Absolute Frequency\")\n",
    "plt.title(\"Absolute Frequency of Words in Liberal Petitions\")\n",
    "    \n",
    "plt.show()"
   ]
  },
  {
   "cell_type": "code",
   "execution_count": 135,
   "metadata": {
    "collapsed": false,
    "scrolled": true
   },
   "outputs": [
    {
     "data": {
      "image/png": "[encoded data removed]",
      "text/plain": [
       "<matplotlib.figure.Figure at 0xed66898>"
      ]
     },
     "metadata": {},
     "output_type": "display_data"
    }
   ],
   "source": [
    "# CONSERVATIVE\n",
    "conservative_blobs2 = \" \".join([x for x in blobs_df[blobs_df[\"ideology\"] == \"Conservative\"][\"new_blobs\"]])\n",
    "conservative_counts2 = Counter(conservative_blobs2.split())\n",
    "conservative_counts2.most_common()[0:20]\n",
    "\n",
    "df = pd.DataFrame.from_dict(conservative_counts2, orient='index').reset_index()\n",
    "df = df.sort_values(by=0, ascending=False)\n",
    "\n",
    "word = list(df.ix[:,0])[0:20]\n",
    "count = list(df.ix[:,1])[0:20]\n",
    "\n",
    "word_indices = np.arange(20) # ORDERED INDICES\n",
    "\n",
    "# PLOTTING\n",
    "plt.figure(figsize=(20,10))\n",
    "plt.bar(word_indices, count, color=\"darkred\")\n",
    "plt.xticks(word_indices, word, rotation=70)\n",
    "plt.ylabel(\"Absolute Frequency\")\n",
    "plt.title(\"Absolute Frequency of Words in Conservative Petitions\")\n",
    "    \n",
    "plt.show()"
   ]
  },
  {
   "cell_type": "markdown",
   "metadata": {},
   "source": [
    "<font color='sienna'>\n",
    "From a cursory examination of the data, there doesn't appear to be anything especially 'liberal' about the Liberal words or 'conservative' about the Conservative ones. With the exceptions a couple standouts ('guns' and 'climate', what's unusual is that most of these are fairly common words, and yet there is little overlap between opposite ends of the political spectrum. This lead us to think that there's likely a lot of value to be had in creating an ideology classifier, since there might be a lot of obvious signs a computer would catch that simply go over the head of humans. We made several different models to attempt that classification."
   ]
  },
  {
   "cell_type": "markdown",
   "metadata": {},
   "source": [
    "<font color='sienna'>\n",
    "#### Model 1: Random Forests\n",
    "<br>\n",
    "Our first model was a random forest, because it's a very general approach and they are straightforward to run and exmplain. We chose it over bagging because we assumed that many words are likely to consistently appear in the same order, and thus there's probably going to be a lot of correlation between predictors. A possible modification of this model might be to use boosting instead, if we planned on running it many times sequentially since that method uses fewer trees and thus might theoretically run faster (along with aiding in interpretability since the models will be smaller)\n",
    "#Source: https://www.youtube.com/watch?v=AJVP96tAWxw"
   ]
  },
  {
   "cell_type": "code",
   "execution_count": 148,
   "metadata": {
    "collapsed": false
   },
   "outputs": [],
   "source": [
    "import random\n",
    "# RANDOMLY SELECT 80% OF OUR DATA\n",
    "pseudo_rando_nums = random.sample(range(0, len(blobs_df)), 210)\n",
    "train = pseudo_rando_nums"
   ]
  },
  {
   "cell_type": "code",
   "execution_count": 149,
   "metadata": {
    "collapsed": false
   },
   "outputs": [],
   "source": [
    "# VECTORIZE TRAINING DATA\n",
    "vectorizer = CountVectorizer(analyzer= \"word\",\n",
    "                            tokenizer = None,\n",
    "                            preprocessor = None,\n",
    "                            stop_words = None,\n",
    "                            max_features = 5000)\n",
    "train_data_features = vectorizer.fit_transform(blobs_df[\"new_blobs\"][train])\n",
    "train_data_features = train_data_features.toarray()"
   ]
  },
  {
   "cell_type": "code",
   "execution_count": 150,
   "metadata": {
    "collapsed": false
   },
   "outputs": [],
   "source": [
    "# GENERATE OUR FOREST\n",
    "forest = RandomForestClassifier(n_estimators = 100)\n",
    "our_forest = forest.fit(train_data_features, blobs_df[\"ideology\"][train])"
   ]
  },
  {
   "cell_type": "code",
   "execution_count": 151,
   "metadata": {
    "collapsed": false
   },
   "outputs": [],
   "source": [
    "# GET INDICES OF TEST DATA\n",
    "test = set(range(len(blobs_df))) - set(train)\n",
    "test = list(test)"
   ]
  },
  {
   "cell_type": "code",
   "execution_count": 152,
   "metadata": {
    "collapsed": false
   },
   "outputs": [],
   "source": [
    "# VECTORIZING TEST DATA\n",
    "test_data_features = vectorizer.transform(blobs_df[\"new_blobs\"][test])\n",
    "test_data_features = test_data_features.toarray()"
   ]
  },
  {
   "cell_type": "code",
   "execution_count": 153,
   "metadata": {
    "collapsed": false
   },
   "outputs": [],
   "source": [
    "# PREDICT\n",
    "result = forest.predict(test_data_features)\n",
    "pred_df = pd.DataFrame({\"petition\":blobs_df[\"title\"][test], \"true_ideol\":blobs_df[\"ideology\"][test], \"pred_ideol\":result})\n",
    "pred_df = pred_df.reindex()\n",
    "pred_df[\"correct\"] = (pred_df[\"pred_ideol\"] == pred_df[\"true_ideol\"])"
   ]
  },
  {
   "cell_type": "code",
   "execution_count": 158,
   "metadata": {
    "collapsed": false
   },
   "outputs": [],
   "source": [
    "# GROUP INTO CONSERVATIVE, LIBERAL, NEUTRAL\n",
    "predicted_probs = forest.predict_proba(test_data_features)\n",
    "conservative = [predicted_probs[x][0] for x in range(len(predicted_probs))]\n",
    "liberal = [predicted_probs[x][1] for x in range(len(predicted_probs))]\n",
    "neutral = [predicted_probs[x][2] for x in range(len(predicted_probs))]"
   ]
  },
  {
   "cell_type": "code",
   "execution_count": 46,
   "metadata": {
    "collapsed": false,
    "scrolled": true
   },
   "outputs": [
    {
     "data": {
      "text/html": [
       "<div>\n",
       "<table border=\"1\" class=\"dataframe\">\n",
       "  <thead>\n",
       "    <tr style=\"text-align: right;\">\n",
       "      <th></th>\n",
       "      <th>petition</th>\n",
       "      <th>pred_ideol</th>\n",
       "      <th>true_ideol</th>\n",
       "      <th>correct</th>\n",
       "      <th>conservative</th>\n",
       "      <th>liberal</th>\n",
       "      <th>neutral</th>\n",
       "    </tr>\n",
       "  </thead>\n",
       "  <tbody>\n",
       "    <tr>\n",
       "      <th>128</th>\n",
       "      <td>donald trump's anti-immigration executive order.</td>\n",
       "      <td>Liberal</td>\n",
       "      <td>Liberal</td>\n",
       "      <td>True</td>\n",
       "      <td>0.09</td>\n",
       "      <td>0.90</td>\n",
       "      <td>0.01</td>\n",
       "    </tr>\n",
       "    <tr>\n",
       "      <th>129</th>\n",
       "      <td>remove steve bannon as a member of the nationa...</td>\n",
       "      <td>Liberal</td>\n",
       "      <td>Liberal</td>\n",
       "      <td>True</td>\n",
       "      <td>0.09</td>\n",
       "      <td>0.89</td>\n",
       "      <td>0.02</td>\n",
       "    </tr>\n",
       "    <tr>\n",
       "      <th>130</th>\n",
       "      <td>remove steve bannon and restore military and i...</td>\n",
       "      <td>Liberal</td>\n",
       "      <td>Liberal</td>\n",
       "      <td>True</td>\n",
       "      <td>0.07</td>\n",
       "      <td>0.92</td>\n",
       "      <td>0.01</td>\n",
       "    </tr>\n",
       "    <tr>\n",
       "      <th>4</th>\n",
       "      <td>release kevin trudeau</td>\n",
       "      <td>Liberal</td>\n",
       "      <td>Neutral</td>\n",
       "      <td>False</td>\n",
       "      <td>0.29</td>\n",
       "      <td>0.57</td>\n",
       "      <td>0.14</td>\n",
       "    </tr>\n",
       "    <tr>\n",
       "      <th>134</th>\n",
       "      <td>cancel executive order banning immigration fro...</td>\n",
       "      <td>Liberal</td>\n",
       "      <td>Liberal</td>\n",
       "      <td>True</td>\n",
       "      <td>0.22</td>\n",
       "      <td>0.73</td>\n",
       "      <td>0.05</td>\n",
       "    </tr>\n",
       "    <tr>\n",
       "      <th>257</th>\n",
       "      <td>repeal the  hughes amendment</td>\n",
       "      <td>Conservative</td>\n",
       "      <td>Conservative</td>\n",
       "      <td>True</td>\n",
       "      <td>0.95</td>\n",
       "      <td>0.04</td>\n",
       "      <td>0.01</td>\n",
       "    </tr>\n",
       "    <tr>\n",
       "      <th>9</th>\n",
       "      <td>we strongly protest exclusion of news orgs. fr...</td>\n",
       "      <td>Liberal</td>\n",
       "      <td>Liberal</td>\n",
       "      <td>True</td>\n",
       "      <td>0.17</td>\n",
       "      <td>0.74</td>\n",
       "      <td>0.09</td>\n",
       "    </tr>\n",
       "    <tr>\n",
       "      <th>10</th>\n",
       "      <td>immediately give hillarybeattrump.org permanen...</td>\n",
       "      <td>Liberal</td>\n",
       "      <td>Neutral</td>\n",
       "      <td>False</td>\n",
       "      <td>0.21</td>\n",
       "      <td>0.69</td>\n",
       "      <td>0.10</td>\n",
       "    </tr>\n",
       "    <tr>\n",
       "      <th>141</th>\n",
       "      <td>stop president trumpxs order to blocks arrival...</td>\n",
       "      <td>Liberal</td>\n",
       "      <td>Liberal</td>\n",
       "      <td>True</td>\n",
       "      <td>0.24</td>\n",
       "      <td>0.51</td>\n",
       "      <td>0.25</td>\n",
       "    </tr>\n",
       "    <tr>\n",
       "      <th>146</th>\n",
       "      <td>immediately rescind the executive order on imm...</td>\n",
       "      <td>Liberal</td>\n",
       "      <td>Liberal</td>\n",
       "      <td>True</td>\n",
       "      <td>0.14</td>\n",
       "      <td>0.69</td>\n",
       "      <td>0.17</td>\n",
       "    </tr>\n",
       "    <tr>\n",
       "      <th>25</th>\n",
       "      <td>petition to ban google's blatant suppression o...</td>\n",
       "      <td>Liberal</td>\n",
       "      <td>Conservative</td>\n",
       "      <td>False</td>\n",
       "      <td>0.32</td>\n",
       "      <td>0.59</td>\n",
       "      <td>0.09</td>\n",
       "    </tr>\n",
       "    <tr>\n",
       "      <th>201</th>\n",
       "      <td>release voter fraud data and investigate</td>\n",
       "      <td>Liberal</td>\n",
       "      <td>Liberal</td>\n",
       "      <td>True</td>\n",
       "      <td>0.13</td>\n",
       "      <td>0.65</td>\n",
       "      <td>0.22</td>\n",
       "    </tr>\n",
       "    <tr>\n",
       "      <th>31</th>\n",
       "      <td>reinstate school protections for transgender y...</td>\n",
       "      <td>Liberal</td>\n",
       "      <td>Liberal</td>\n",
       "      <td>True</td>\n",
       "      <td>0.05</td>\n",
       "      <td>0.86</td>\n",
       "      <td>0.09</td>\n",
       "    </tr>\n",
       "    <tr>\n",
       "      <th>165</th>\n",
       "      <td>help families combat the addiction epidemic.</td>\n",
       "      <td>Liberal</td>\n",
       "      <td>Neutral</td>\n",
       "      <td>False</td>\n",
       "      <td>0.18</td>\n",
       "      <td>0.70</td>\n",
       "      <td>0.12</td>\n",
       "    </tr>\n",
       "    <tr>\n",
       "      <th>177</th>\n",
       "      <td>remove the gag order on federal agency public ...</td>\n",
       "      <td>Liberal</td>\n",
       "      <td>Liberal</td>\n",
       "      <td>True</td>\n",
       "      <td>0.13</td>\n",
       "      <td>0.86</td>\n",
       "      <td>0.01</td>\n",
       "    </tr>\n",
       "    <tr>\n",
       "      <th>40</th>\n",
       "      <td>deregulate home distillation of alcoholic spir...</td>\n",
       "      <td>Liberal</td>\n",
       "      <td>Neutral</td>\n",
       "      <td>False</td>\n",
       "      <td>0.23</td>\n",
       "      <td>0.70</td>\n",
       "      <td>0.07</td>\n",
       "    </tr>\n",
       "    <tr>\n",
       "      <th>41</th>\n",
       "      <td>the us house lawmakers should relist north kor...</td>\n",
       "      <td>Liberal</td>\n",
       "      <td>Conservative</td>\n",
       "      <td>False</td>\n",
       "      <td>0.29</td>\n",
       "      <td>0.51</td>\n",
       "      <td>0.20</td>\n",
       "    </tr>\n",
       "    <tr>\n",
       "      <th>42</th>\n",
       "      <td>we petition the trump administration to:  faci...</td>\n",
       "      <td>Conservative</td>\n",
       "      <td>Conservative</td>\n",
       "      <td>True</td>\n",
       "      <td>0.43</td>\n",
       "      <td>0.41</td>\n",
       "      <td>0.16</td>\n",
       "    </tr>\n",
       "    <tr>\n",
       "      <th>45</th>\n",
       "      <td>we call for a  joint select committee to inves...</td>\n",
       "      <td>Liberal</td>\n",
       "      <td>Liberal</td>\n",
       "      <td>True</td>\n",
       "      <td>0.37</td>\n",
       "      <td>0.46</td>\n",
       "      <td>0.17</td>\n",
       "    </tr>\n",
       "    <tr>\n",
       "      <th>174</th>\n",
       "      <td>stop the dakota access pipeline</td>\n",
       "      <td>Liberal</td>\n",
       "      <td>Liberal</td>\n",
       "      <td>True</td>\n",
       "      <td>0.15</td>\n",
       "      <td>0.84</td>\n",
       "      <td>0.01</td>\n",
       "    </tr>\n",
       "    <tr>\n",
       "      <th>49</th>\n",
       "      <td>road traffic enforcement has been carried out ...</td>\n",
       "      <td>Liberal</td>\n",
       "      <td>Liberal</td>\n",
       "      <td>True</td>\n",
       "      <td>0.28</td>\n",
       "      <td>0.58</td>\n",
       "      <td>0.14</td>\n",
       "    </tr>\n",
       "    <tr>\n",
       "      <th>53</th>\n",
       "      <td>investigate the trump administration's russia ...</td>\n",
       "      <td>Liberal</td>\n",
       "      <td>Liberal</td>\n",
       "      <td>True</td>\n",
       "      <td>0.12</td>\n",
       "      <td>0.88</td>\n",
       "      <td>0.00</td>\n",
       "    </tr>\n",
       "    <tr>\n",
       "      <th>182</th>\n",
       "      <td>stop the construction of the dakota access pip...</td>\n",
       "      <td>Liberal</td>\n",
       "      <td>Liberal</td>\n",
       "      <td>True</td>\n",
       "      <td>0.40</td>\n",
       "      <td>0.50</td>\n",
       "      <td>0.10</td>\n",
       "    </tr>\n",
       "    <tr>\n",
       "      <th>55</th>\n",
       "      <td>congress needs to act on congressman alcee has...</td>\n",
       "      <td>Liberal</td>\n",
       "      <td>Neutral</td>\n",
       "      <td>False</td>\n",
       "      <td>0.34</td>\n",
       "      <td>0.55</td>\n",
       "      <td>0.11</td>\n",
       "    </tr>\n",
       "    <tr>\n",
       "      <th>138</th>\n",
       "      <td>remove the immigration ban</td>\n",
       "      <td>Liberal</td>\n",
       "      <td>Liberal</td>\n",
       "      <td>True</td>\n",
       "      <td>0.08</td>\n",
       "      <td>0.89</td>\n",
       "      <td>0.03</td>\n",
       "    </tr>\n",
       "    <tr>\n",
       "      <th>181</th>\n",
       "      <td>keep the us open to refugees from syria, iraq,...</td>\n",
       "      <td>Liberal</td>\n",
       "      <td>Liberal</td>\n",
       "      <td>True</td>\n",
       "      <td>0.10</td>\n",
       "      <td>0.85</td>\n",
       "      <td>0.05</td>\n",
       "    </tr>\n",
       "    <tr>\n",
       "      <th>64</th>\n",
       "      <td>repeal all unconstitutional gun laws in the st...</td>\n",
       "      <td>Liberal</td>\n",
       "      <td>Conservative</td>\n",
       "      <td>False</td>\n",
       "      <td>0.32</td>\n",
       "      <td>0.50</td>\n",
       "      <td>0.18</td>\n",
       "    </tr>\n",
       "    <tr>\n",
       "      <th>65</th>\n",
       "      <td>hault the exective ordered destruction of mari...</td>\n",
       "      <td>Liberal</td>\n",
       "      <td>Liberal</td>\n",
       "      <td>True</td>\n",
       "      <td>0.18</td>\n",
       "      <td>0.75</td>\n",
       "      <td>0.07</td>\n",
       "    </tr>\n",
       "    <tr>\n",
       "      <th>227</th>\n",
       "      <td>we the people call upon the congress, the pres...</td>\n",
       "      <td>Liberal</td>\n",
       "      <td>Liberal</td>\n",
       "      <td>True</td>\n",
       "      <td>0.12</td>\n",
       "      <td>0.80</td>\n",
       "      <td>0.08</td>\n",
       "    </tr>\n",
       "    <tr>\n",
       "      <th>72</th>\n",
       "      <td>charge hillary rodham clinton pursuant to  u.s...</td>\n",
       "      <td>Liberal</td>\n",
       "      <td>Conservative</td>\n",
       "      <td>False</td>\n",
       "      <td>0.23</td>\n",
       "      <td>0.67</td>\n",
       "      <td>0.10</td>\n",
       "    </tr>\n",
       "    <tr>\n",
       "      <th>73</th>\n",
       "      <td>kellyanne conway should be fired and replaced ...</td>\n",
       "      <td>Liberal</td>\n",
       "      <td>Liberal</td>\n",
       "      <td>True</td>\n",
       "      <td>0.10</td>\n",
       "      <td>0.86</td>\n",
       "      <td>0.04</td>\n",
       "    </tr>\n",
       "    <tr>\n",
       "      <th>183</th>\n",
       "      <td>stop the keystone xl and dakota access oil pip...</td>\n",
       "      <td>Liberal</td>\n",
       "      <td>Liberal</td>\n",
       "      <td>True</td>\n",
       "      <td>0.13</td>\n",
       "      <td>0.82</td>\n",
       "      <td>0.05</td>\n",
       "    </tr>\n",
       "    <tr>\n",
       "      <th>208</th>\n",
       "      <td>replace your nomination of education secretary...</td>\n",
       "      <td>Liberal</td>\n",
       "      <td>Liberal</td>\n",
       "      <td>True</td>\n",
       "      <td>0.15</td>\n",
       "      <td>0.76</td>\n",
       "      <td>0.09</td>\n",
       "    </tr>\n",
       "    <tr>\n",
       "      <th>81</th>\n",
       "      <td>diaoyutai  islands have belonged to china, not...</td>\n",
       "      <td>Liberal</td>\n",
       "      <td>Neutral</td>\n",
       "      <td>False</td>\n",
       "      <td>0.32</td>\n",
       "      <td>0.49</td>\n",
       "      <td>0.19</td>\n",
       "    </tr>\n",
       "    <tr>\n",
       "      <th>210</th>\n",
       "      <td>kids need both parents,  modify the child supp...</td>\n",
       "      <td>Liberal</td>\n",
       "      <td>Conservative</td>\n",
       "      <td>False</td>\n",
       "      <td>0.36</td>\n",
       "      <td>0.46</td>\n",
       "      <td>0.18</td>\n",
       "    </tr>\n",
       "    <tr>\n",
       "      <th>83</th>\n",
       "      <td>annual titer tests required in lieu of re-vacc...</td>\n",
       "      <td>Liberal</td>\n",
       "      <td>Neutral</td>\n",
       "      <td>False</td>\n",
       "      <td>0.22</td>\n",
       "      <td>0.70</td>\n",
       "      <td>0.08</td>\n",
       "    </tr>\n",
       "    <tr>\n",
       "      <th>212</th>\n",
       "      <td>commit to following the paris agreement</td>\n",
       "      <td>Liberal</td>\n",
       "      <td>Liberal</td>\n",
       "      <td>True</td>\n",
       "      <td>0.05</td>\n",
       "      <td>0.83</td>\n",
       "      <td>0.12</td>\n",
       "    </tr>\n",
       "    <tr>\n",
       "      <th>213</th>\n",
       "      <td>reform child welfare-foster care and family co...</td>\n",
       "      <td>Liberal</td>\n",
       "      <td>Conservative</td>\n",
       "      <td>False</td>\n",
       "      <td>0.19</td>\n",
       "      <td>0.64</td>\n",
       "      <td>0.17</td>\n",
       "    </tr>\n",
       "    <tr>\n",
       "      <th>215</th>\n",
       "      <td>req. agriculture to publish final rule -- hors...</td>\n",
       "      <td>Liberal</td>\n",
       "      <td>Neutral</td>\n",
       "      <td>False</td>\n",
       "      <td>0.21</td>\n",
       "      <td>0.68</td>\n",
       "      <td>0.11</td>\n",
       "    </tr>\n",
       "    <tr>\n",
       "      <th>228</th>\n",
       "      <td>commute or pardon sergeant miller, review all ...</td>\n",
       "      <td>Liberal</td>\n",
       "      <td>Conservative</td>\n",
       "      <td>False</td>\n",
       "      <td>0.21</td>\n",
       "      <td>0.64</td>\n",
       "      <td>0.15</td>\n",
       "    </tr>\n",
       "    <tr>\n",
       "      <th>222</th>\n",
       "      <td>do not embrace shale oil, the coal industry an...</td>\n",
       "      <td>Liberal</td>\n",
       "      <td>Liberal</td>\n",
       "      <td>True</td>\n",
       "      <td>0.08</td>\n",
       "      <td>0.90</td>\n",
       "      <td>0.02</td>\n",
       "    </tr>\n",
       "    <tr>\n",
       "      <th>226</th>\n",
       "      <td>do not take health insurance away from  millio...</td>\n",
       "      <td>Liberal</td>\n",
       "      <td>Liberal</td>\n",
       "      <td>True</td>\n",
       "      <td>0.24</td>\n",
       "      <td>0.63</td>\n",
       "      <td>0.13</td>\n",
       "    </tr>\n",
       "    <tr>\n",
       "      <th>99</th>\n",
       "      <td>ask president trump to help put prayer back in...</td>\n",
       "      <td>Liberal</td>\n",
       "      <td>Conservative</td>\n",
       "      <td>False</td>\n",
       "      <td>0.15</td>\n",
       "      <td>0.83</td>\n",
       "      <td>0.02</td>\n",
       "    </tr>\n",
       "    <tr>\n",
       "      <th>100</th>\n",
       "      <td>we the people: call on congress and the admini...</td>\n",
       "      <td>Conservative</td>\n",
       "      <td>Conservative</td>\n",
       "      <td>True</td>\n",
       "      <td>0.51</td>\n",
       "      <td>0.39</td>\n",
       "      <td>0.10</td>\n",
       "    </tr>\n",
       "    <tr>\n",
       "      <th>229</th>\n",
       "      <td>make antifa and similar militant leftist group...</td>\n",
       "      <td>Liberal</td>\n",
       "      <td>Conservative</td>\n",
       "      <td>False</td>\n",
       "      <td>0.26</td>\n",
       "      <td>0.68</td>\n",
       "      <td>0.06</td>\n",
       "    </tr>\n",
       "    <tr>\n",
       "      <th>230</th>\n",
       "      <td>remove regulations and unconstitutional tax on...</td>\n",
       "      <td>Conservative</td>\n",
       "      <td>Conservative</td>\n",
       "      <td>True</td>\n",
       "      <td>0.56</td>\n",
       "      <td>0.29</td>\n",
       "      <td>0.15</td>\n",
       "    </tr>\n",
       "    <tr>\n",
       "      <th>106</th>\n",
       "      <td>do not cut the office of violence against women!</td>\n",
       "      <td>Liberal</td>\n",
       "      <td>Conservative</td>\n",
       "      <td>False</td>\n",
       "      <td>0.16</td>\n",
       "      <td>0.84</td>\n",
       "      <td>0.00</td>\n",
       "    </tr>\n",
       "    <tr>\n",
       "      <th>111</th>\n",
       "      <td>we, the citizens of the united states of ameri...</td>\n",
       "      <td>Liberal</td>\n",
       "      <td>Liberal</td>\n",
       "      <td>True</td>\n",
       "      <td>0.07</td>\n",
       "      <td>0.84</td>\n",
       "      <td>0.09</td>\n",
       "    </tr>\n",
       "    <tr>\n",
       "      <th>241</th>\n",
       "      <td>charge madonna with terrorist threats against ...</td>\n",
       "      <td>Liberal</td>\n",
       "      <td>Conservative</td>\n",
       "      <td>False</td>\n",
       "      <td>0.29</td>\n",
       "      <td>0.54</td>\n",
       "      <td>0.17</td>\n",
       "    </tr>\n",
       "    <tr>\n",
       "      <th>114</th>\n",
       "      <td>fire steve bannon</td>\n",
       "      <td>Liberal</td>\n",
       "      <td>Liberal</td>\n",
       "      <td>True</td>\n",
       "      <td>0.10</td>\n",
       "      <td>0.88</td>\n",
       "      <td>0.02</td>\n",
       "    </tr>\n",
       "    <tr>\n",
       "      <th>251</th>\n",
       "      <td>we the decent venezuelan people ask president ...</td>\n",
       "      <td>Liberal</td>\n",
       "      <td>Conservative</td>\n",
       "      <td>False</td>\n",
       "      <td>0.28</td>\n",
       "      <td>0.56</td>\n",
       "      <td>0.16</td>\n",
       "    </tr>\n",
       "    <tr>\n",
       "      <th>200</th>\n",
       "      <td>based on donald trump's own claims of rampant ...</td>\n",
       "      <td>Liberal</td>\n",
       "      <td>Liberal</td>\n",
       "      <td>True</td>\n",
       "      <td>0.23</td>\n",
       "      <td>0.60</td>\n",
       "      <td>0.17</td>\n",
       "    </tr>\n",
       "    <tr>\n",
       "      <th>254</th>\n",
       "      <td>do not defund the nea or neh</td>\n",
       "      <td>Liberal</td>\n",
       "      <td>Liberal</td>\n",
       "      <td>True</td>\n",
       "      <td>0.11</td>\n",
       "      <td>0.86</td>\n",
       "      <td>0.03</td>\n",
       "    </tr>\n",
       "  </tbody>\n",
       "</table>\n",
       "</div>"
      ],
      "text/plain": [
       "                                              petition    pred_ideol  \\\n",
       "128   donald trump's anti-immigration executive order.       Liberal   \n",
       "129  remove steve bannon as a member of the nationa...       Liberal   \n",
       "130  remove steve bannon and restore military and i...       Liberal   \n",
       "4                                release kevin trudeau       Liberal   \n",
       "134  cancel executive order banning immigration fro...       Liberal   \n",
       "257                       repeal the  hughes amendment  Conservative   \n",
       "9    we strongly protest exclusion of news orgs. fr...       Liberal   \n",
       "10   immediately give hillarybeattrump.org permanen...       Liberal   \n",
       "141  stop president trumpxs order to blocks arrival...       Liberal   \n",
       "146  immediately rescind the executive order on imm...       Liberal   \n",
       "25   petition to ban google's blatant suppression o...       Liberal   \n",
       "201           release voter fraud data and investigate       Liberal   \n",
       "31   reinstate school protections for transgender y...       Liberal   \n",
       "165       help families combat the addiction epidemic.       Liberal   \n",
       "177  remove the gag order on federal agency public ...       Liberal   \n",
       "40   deregulate home distillation of alcoholic spir...       Liberal   \n",
       "41   the us house lawmakers should relist north kor...       Liberal   \n",
       "42   we petition the trump administration to:  faci...  Conservative   \n",
       "45   we call for a  joint select committee to inves...       Liberal   \n",
       "174                    stop the dakota access pipeline       Liberal   \n",
       "49   road traffic enforcement has been carried out ...       Liberal   \n",
       "53   investigate the trump administration's russia ...       Liberal   \n",
       "182  stop the construction of the dakota access pip...       Liberal   \n",
       "55   congress needs to act on congressman alcee has...       Liberal   \n",
       "138                         remove the immigration ban       Liberal   \n",
       "181  keep the us open to refugees from syria, iraq,...       Liberal   \n",
       "64   repeal all unconstitutional gun laws in the st...       Liberal   \n",
       "65   hault the exective ordered destruction of mari...       Liberal   \n",
       "227  we the people call upon the congress, the pres...       Liberal   \n",
       "72   charge hillary rodham clinton pursuant to  u.s...       Liberal   \n",
       "73   kellyanne conway should be fired and replaced ...       Liberal   \n",
       "183  stop the keystone xl and dakota access oil pip...       Liberal   \n",
       "208  replace your nomination of education secretary...       Liberal   \n",
       "81   diaoyutai  islands have belonged to china, not...       Liberal   \n",
       "210  kids need both parents,  modify the child supp...       Liberal   \n",
       "83   annual titer tests required in lieu of re-vacc...       Liberal   \n",
       "212            commit to following the paris agreement       Liberal   \n",
       "213  reform child welfare-foster care and family co...       Liberal   \n",
       "215  req. agriculture to publish final rule -- hors...       Liberal   \n",
       "228  commute or pardon sergeant miller, review all ...       Liberal   \n",
       "222  do not embrace shale oil, the coal industry an...       Liberal   \n",
       "226  do not take health insurance away from  millio...       Liberal   \n",
       "99   ask president trump to help put prayer back in...       Liberal   \n",
       "100  we the people: call on congress and the admini...  Conservative   \n",
       "229  make antifa and similar militant leftist group...       Liberal   \n",
       "230  remove regulations and unconstitutional tax on...  Conservative   \n",
       "106   do not cut the office of violence against women!       Liberal   \n",
       "111  we, the citizens of the united states of ameri...       Liberal   \n",
       "241  charge madonna with terrorist threats against ...       Liberal   \n",
       "114                                  fire steve bannon       Liberal   \n",
       "251  we the decent venezuelan people ask president ...       Liberal   \n",
       "200  based on donald trump's own claims of rampant ...       Liberal   \n",
       "254                       do not defund the nea or neh       Liberal   \n",
       "\n",
       "       true_ideol correct  conservative  liberal  neutral  \n",
       "128       Liberal    True          0.09     0.90     0.01  \n",
       "129       Liberal    True          0.09     0.89     0.02  \n",
       "130       Liberal    True          0.07     0.92     0.01  \n",
       "4         Neutral   False          0.29     0.57     0.14  \n",
       "134       Liberal    True          0.22     0.73     0.05  \n",
       "257  Conservative    True          0.95     0.04     0.01  \n",
       "9         Liberal    True          0.17     0.74     0.09  \n",
       "10        Neutral   False          0.21     0.69     0.10  \n",
       "141       Liberal    True          0.24     0.51     0.25  \n",
       "146       Liberal    True          0.14     0.69     0.17  \n",
       "25   Conservative   False          0.32     0.59     0.09  \n",
       "201       Liberal    True          0.13     0.65     0.22  \n",
       "31        Liberal    True          0.05     0.86     0.09  \n",
       "165       Neutral   False          0.18     0.70     0.12  \n",
       "177       Liberal    True          0.13     0.86     0.01  \n",
       "40        Neutral   False          0.23     0.70     0.07  \n",
       "41   Conservative   False          0.29     0.51     0.20  \n",
       "42   Conservative    True          0.43     0.41     0.16  \n",
       "45        Liberal    True          0.37     0.46     0.17  \n",
       "174       Liberal    True          0.15     0.84     0.01  \n",
       "49        Liberal    True          0.28     0.58     0.14  \n",
       "53        Liberal    True          0.12     0.88     0.00  \n",
       "182       Liberal    True          0.40     0.50     0.10  \n",
       "55        Neutral   False          0.34     0.55     0.11  \n",
       "138       Liberal    True          0.08     0.89     0.03  \n",
       "181       Liberal    True          0.10     0.85     0.05  \n",
       "64   Conservative   False          0.32     0.50     0.18  \n",
       "65        Liberal    True          0.18     0.75     0.07  \n",
       "227       Liberal    True          0.12     0.80     0.08  \n",
       "72   Conservative   False          0.23     0.67     0.10  \n",
       "73        Liberal    True          0.10     0.86     0.04  \n",
       "183       Liberal    True          0.13     0.82     0.05  \n",
       "208       Liberal    True          0.15     0.76     0.09  \n",
       "81        Neutral   False          0.32     0.49     0.19  \n",
       "210  Conservative   False          0.36     0.46     0.18  \n",
       "83        Neutral   False          0.22     0.70     0.08  \n",
       "212       Liberal    True          0.05     0.83     0.12  \n",
       "213  Conservative   False          0.19     0.64     0.17  \n",
       "215       Neutral   False          0.21     0.68     0.11  \n",
       "228  Conservative   False          0.21     0.64     0.15  \n",
       "222       Liberal    True          0.08     0.90     0.02  \n",
       "226       Liberal    True          0.24     0.63     0.13  \n",
       "99   Conservative   False          0.15     0.83     0.02  \n",
       "100  Conservative    True          0.51     0.39     0.10  \n",
       "229  Conservative   False          0.26     0.68     0.06  \n",
       "230  Conservative    True          0.56     0.29     0.15  \n",
       "106  Conservative   False          0.16     0.84     0.00  \n",
       "111       Liberal    True          0.07     0.84     0.09  \n",
       "241  Conservative   False          0.29     0.54     0.17  \n",
       "114       Liberal    True          0.10     0.88     0.02  \n",
       "251  Conservative   False          0.28     0.56     0.16  \n",
       "200       Liberal    True          0.23     0.60     0.17  \n",
       "254       Liberal    True          0.11     0.86     0.03  "
      ]
     },
     "execution_count": 46,
     "metadata": {},
     "output_type": "execute_result"
    }
   ],
   "source": [
    "# CREATE A DATA FRAME\n",
    "pred_df[\"conservative\"] = conservative\n",
    "pred_df[\"liberal\"] = liberal\n",
    "pred_df[\"neutral\"] = neutral\n",
    "pred_df"
   ]
  },
  {
   "cell_type": "markdown",
   "metadata": {},
   "source": [
    "<font color='sienna'>\n",
    "You can see the error rate of our model below:"
   ]
  },
  {
   "cell_type": "code",
   "execution_count": 159,
   "metadata": {
    "collapsed": false
   },
   "outputs": [
    {
     "data": {
      "text/plain": [
       "0.3773584905660377"
      ]
     },
     "execution_count": 159,
     "metadata": {},
     "output_type": "execute_result"
    }
   ],
   "source": [
    "# ERROR RATE\n",
    "len(pred_df[pred_df[\"correct\"]==False])*(len(pred_df)**(-1))"
   ]
  },
  {
   "cell_type": "markdown",
   "metadata": {
    "collapsed": false
   },
   "source": [
    "<font color='sienna'>\n",
    "An error rate of 37.74% is actually fairly low, considering that we haven't done any work on the model other than simply building the forest. It is also a strong indicator that we are on the right track with our approach and that it might be very possible to have figure out whether somebody is liberal or conservative based soley on vocabulary."
   ]
  },
  {
   "cell_type": "markdown",
   "metadata": {},
   "source": [
    "<font color=\"navy\">\n",
    "## (7) Bored, so Trying Some Random Stuff\n",
    "Pulling some stuff off the web."
   ]
  },
  {
   "cell_type": "code",
   "execution_count": 48,
   "metadata": {
    "collapsed": true
   },
   "outputs": [],
   "source": [
    "trump = '''\n",
    "We will not fail. Our country will thrive and prosper again.\n",
    "We stand at the birth of a new millennium, ready to unlock the mysteries of space, to free the Earth from the miseries of disease, and to harness the energies, industries and technologies of tomorrow.\n",
    "A new national pride will stir our souls, lift our sights, and heal our divisions.\n",
    "It is time to remember that old wisdom our soldiers will never forget: that whether we are black or brown or white, we all bleed the same red blood of patriots, we all enjoy the same glorious freedoms, and we all salute the same great American Flag.\n",
    "And whether a child is born in the urban sprawl of Detroit or the windswept plains of Nebraska, they look up at the same night sky, they fill their heart with the same dreams, and they are infused with the breath of life by the same almighty Creator.\n",
    "So to all Americans, in every city near and far, small and large, from mountain to mountain, and from ocean to ocean, hear these words:\n",
    "You will never be ignored again.\n",
    "Your voice, your hopes, and your dreams will define our American destiny. And your courage and goodness and love will forever guide us along the way.\n",
    "Together, We will make America strong again.\n",
    "We will make wealthy again.\n",
    "We will make America proud again.\n",
    "We will make America safe again.\n",
    "And yes, together, we will make America great again. Thank you. God bless you. And God bless America.'''\n",
    "\n",
    "hitler = '''\n",
    "Democratic ideals are a big topic of discussion right now; not in Germany, but other parts of the world talk about them. We in Germany have learned our lesson with democratic ideals; if the rest of the world praises these ideals, we can only answer that the German people had the chance to live within the purest form of this ideal, and we ourselves are now reaping the legacy left by this democracy. We then get a lecture on the wonderful goals of war, especially from the British side. Great Britain has much experience in proclaiming goals of war, considering they have waged more wars than anyone else. The goals they proclaim today are fantastic: the creation of a new Europe. This Europe will be a just place, and the general equality will make arms unnecessary, so we can all disarm. This disarmament is supposed to kick start a period of economic blossoming, trade and movement should commence, especially trade, much trade, free trade! And from this trade, culture is supposed to bloom, and not just culture, but religion, too. In one phrase: the golden age is supposed to dawn. Unfortunately, this golden age has been described in a very similar fashion on several occasions, and not even by prior generations, but by the same people that are describing it yet again today. It's like a very worn-out groove on an old LP. We should pity these gentlemen, who haven't found a new, big idea to hook the people on, because they promised the same things in 1918: the goal of war then was also a \"new Europe\" and a \"new equality\", this new equality whose main element is abolishing a nation's right to self-determination. At that time, an equality that would make arms unnecessary in the future was promised. Thence issued the program of disarmament of everyone. And to make this disarmament especially manifest, it was supposed to be crowned by a union of all disarmed states, which had decided that, in the future, all differences (at least no one doubted there would still be differences) between them should be, well, as it is the custom among democracies, be talked to pieces in open discussions. Under no circumstances should there be any more shooting. And at that time it was already said that the consequences of this disarmament and this worldwide parliament would be an incredible blossoming, a blooming of industry and especially (and much emphasis is always put on this) of trade, of free trade. Culture, as well, should not be disregarded in this process, and while one spoke a little bit less about religion at the end of the war than at the beginning, we at least were told, in the year 1918, that it would be a blessed era that God would smile upon.\n",
    "'''\n",
    "\n",
    "matloff = '''\n",
    "Let me offer three obvious (to me, at least) facts:\n",
    "\n",
    "No one, even the most extreme Republicans, wants to see people dying in the streets. The federal government does have a role, indeed a responsibility. It’s too big for the states, and even if the feds give them block grants, some states, say in the South, would adopt draconian policies.\n",
    "Many people, especially the stereotypical Trump supporters, live paycheck to paycheck. Tax breaks, health savings accounts and the like are useless to this large group of people. It’s an insult to offer them such things, a let-them-eat-cake solution.\n",
    "Obamacare was a bold step that filled a void that desperately needed to be filled. But it was built on various assumptions that apparently were shaky. It is not sustainable in its current form. Already some insurers have withdrawn from certain markets.\n",
    "The Republicans now are making their own shaky assumptions, e.g. that a 30% penalty, for those who forego insurance but then suddenly need it, is the right “price” for not doing their part to support the system. Really? Why shouldn’t it be 5% or 50%, say? No one knows.\n",
    "'''\n",
    "\n",
    "\n",
    "nyt = '''\n",
    "But a senior White House official said that Donald F. McGahn II, the president’s chief counsel, was working to secure access to what Mr. McGahn believed to be an order issued by the Foreign Intelligence Surveillance Court authorizing some form of surveillance related to Mr. Trump and his associates.\n",
    "\n",
    "The official offered no evidence to support the notion that such an order exists. It would be a highly unusual breach of the Justice Department’s traditional independence on law enforcement matters for the White House to order it to turn over such an investigative document.\n",
    "\n",
    "Any request for information from a top White House official about a continuing investigation would be a stunning departure from protocols intended to insulate the F.B.I. from political pressure. It would be even more surprising for the White House to seek information about a case directly involving the president or his advisers, as does the case involving the Russia contacts.\n",
    "'''\n",
    "\n",
    "robert_reich = '''\n",
    "Trump and his White House don’t argue on the merits. They attack the credibility of the institutions that come up with facts and arguments they don’t like. \n",
    "\n",
    "They even do it preemptively. Last week, White House press secretary Sean Spicer warned that the nonpartisan Congressional Budget Office couldn’t be trusted to come up with accurate numbers about the costs and coverage of the Republican’s replacement for the Affordable Care Act.\n",
    "\n",
    "“If you’re looking at the CBO for accuracy, you’re looking in the wrong place,” he said.\n",
    "\n",
    "So what’s the right place? The Oval Office? \n",
    "\n",
    "Bear in mind the director of the CBO is a Republican economist and former George W. Bush administration official who was chosen for his position by the Republican Congress in 2015. \n",
    "\n",
    "No matter. The White House is worried about what the CBO will say about Trumpcare, so it throws the CBO under the bus before the bus arrives. \n",
    "\n",
    "Trump couldn’t care less about the long-term consequences, but the rest of us should. For more than four decades the U.S. budget process has depended on the CBO’s analyses and forecasts. The office has gained a reputation for honesty and reliability under both Republican and Democratic appointees. Now, it’s tainted. \n",
    "'''\n",
    "nate_silver = '''\n",
    "This is not to say the election was a toss-up in mid-October, which was one of the high-water marks of the campaign for Clinton. But while a Trump win was unlikely, it should hardly have been unthinkable.1 And yet the Times, famous for its “to be sure” equivocations,2 wasn’t even contemplating the possibility of a Trump victory.3\n",
    "It’s hard to reread this coverage without recalling Sean Trende’s essay on “unthinkability bias,” which he wrote in the wake of the Brexit vote. Just as was the case in the U.S. presidential election, voting on the referendum had split strongly along class, education and regional lines, with voters outside of London and without advanced degrees being much more likely to vote to leave the EU. The reporters covering the Brexit campaign, on the other hand, were disproportionately well-educated and principally based in London. They tended to read ambiguous signs — anything from polls to the musings of taxi drivers — as portending a Remain win, and many of them never really processed the idea that Britain could vote to leave the EU until it actually happened.\n",
    "\n",
    "So did journalists in Washington and London make the apocryphal Pauline Kael mistake, refusing to believe that Trump or Brexit could win because nobody they knew was voting for them? That’s not quite what Trende was arguing. Instead, it’s that political experts4 aren’t a very diverse group and tend to place a lot of faith in the opinions of other experts and other members of the political establishment. Once a consensus view is established, it tends to reinforce itself until and unless there’s very compelling evidence for the contrary position. Social media, especially Twitter, can amplify the groupthink further. It can be an echo chamber.\n",
    "\n",
    "I recently reread James Surowiecki’s book “The Wisdom of Crowds” which, despite its name, spends as much time contemplating the shortcomings of such wisdom as it does celebrating its successes. Surowiecki argues5 that crowds usually make good predictions when they satisfy these four conditions:\n",
    "\n",
    "Diversity of opinion. “Each person should have private information, even if it’s just an eccentric interpretation of the known facts.”\n",
    "Independence. “People’s opinions are not determined by the opinions of those around them.”\n",
    "Decentralization. “People are able to specialize and draw on local knowledge.”\n",
    "Aggregation. “Some mechanism exists for turning private judgments into a collective decision.”\n",
    "Political journalism scores highly on the fourth condition, aggregation. While Surowiecki usually has something like a financial or betting market in mind when he refers to “aggregation,” the broader idea is that there’s some way for individuals to exchange their opinions instead of keeping them to themselves. And my gosh, do political journalists have a lot of ways to share their opinions with one another, whether through their columns, at major events such as the political conventions or, especially, through Twitter.\n",
    "\n",
    "But those other three conditions? Political journalism fails miserably along those dimensions.\n",
    "'''\n",
    "abe_lincoln = '''Fourscore and seven years ago our fathers brought forth on this continent, a new nation, conceived in Liberty, and dedicated to the proposition that all men are created equal.\n",
    "\n",
    "Now we are engaged in a great civil war, testing whether that nation, or any nation so conceived and so dedicated, can long endure. We are met on a great battle-field of that war. We have come to dedicate a portion of that field, as a final resting place for those who here gave their lives that that nation might live. It is altogether fitting and proper that we should do this.\n",
    "\n",
    "But, in a larger sense, we can not dedicate-we can not consecrate-we can not hallow-this ground. The brave men, living and dead, who struggled here, have consecrated it, far above our poor power to add or detract. The world will little note, nor long remember what we say here, but it can never forget what they did here. It is for us the living, rather, to be dedicated here to the unfinished work which they who fought here have thus far so nobly advanced. It is rather for us to be here dedicated to the great task remaining before us-that from these honored dead we take increased devotion to that cause for which they gave the last full measure of devotion-that we here highly resolve that these dead shall not have died in vain-that this nation, under God, shall have a new birth of freedom-and that government of the people, by the people, for the people shall not perish from the earth.'''"
   ]
  },
  {
   "cell_type": "code",
   "execution_count": 49,
   "metadata": {
    "collapsed": true
   },
   "outputs": [],
   "source": [
    "kuhn = '''\n",
    "👏🏽👏🏽👏🏽HEY👏🏽👏🏽👏🏽\n",
    "i hate pleading but please, we have got to stop paying attention to the federal and states' governments' latest outrage--they're going to keep coming, that's the point, to keep us stunned and unable to react--and pay attention to what we can do for the people in our neighborhood because it is getting very bad, very fast. we must start making connections with our neighbors and coworkers, pooling and allocating shared resources among our community to protect the vulnerable, and start forcing accountability from bottom-level local government, because *those* are the things that are going to determine what kind of year 2018 is.\n",
    "\n",
    "living past 33 is probably the wrong choice overall\n",
    "\n",
    "one thing you could do if you are concerned about the imminent death of the US poverty relief effort is to call or get in contact with those offices in your area and volunteer while you can, and then continue voluteering after the programs have been exsanguinated; take up collections in your community to fund them, and enlist active help when possible. also, get in contact with local churches, as they'll be the only organized effort at mitigating starvation and homelesness in short order.\n",
    "\n",
    "It's time to admit that our government has entirely abandoned us. We have to care for each other now, if we care at all, which means first and foremost sharing what we have with those who don't have anything. Pursue this goal actively. Talk to your neighbors, especially those that don't live under rooves.\n",
    "'''"
   ]
  },
  {
   "cell_type": "code",
   "execution_count": 50,
   "metadata": {
    "collapsed": false
   },
   "outputs": [
    {
     "name": "stderr",
     "output_type": "stream",
     "text": [
      "C:\\Users\\Graham\\Anaconda2\\lib\\site-packages\\ipykernel\\__main__.py:24: UnicodeWarning: Unicode equal comparison failed to convert both arguments to Unicode - interpreting them as being unequal\n"
     ]
    }
   ],
   "source": [
    "new_text = [trump, hitler, matloff, nyt, robert_reich, nate_silver, abe_lincoln, kuhn]\n",
    "new_text_tokens = [cleanUpText(str(x), new_stops) for x in new_text]"
   ]
  },
  {
   "cell_type": "code",
   "execution_count": 51,
   "metadata": {
    "collapsed": false
   },
   "outputs": [],
   "source": [
    "new_text_blobs = [\" \".join(x) for x in new_text_tokens]"
   ]
  },
  {
   "cell_type": "code",
   "execution_count": 52,
   "metadata": {
    "collapsed": false
   },
   "outputs": [],
   "source": [
    "# new_text_blobs"
   ]
  },
  {
   "cell_type": "code",
   "execution_count": 53,
   "metadata": {
    "collapsed": false
   },
   "outputs": [
    {
     "data": {
      "text/plain": [
       "array([[0, 0, 0, ..., 0, 0, 0],\n",
       "       [0, 0, 0, ..., 0, 0, 0],\n",
       "       [0, 0, 0, ..., 0, 0, 0],\n",
       "       ..., \n",
       "       [0, 0, 0, ..., 0, 0, 0],\n",
       "       [0, 0, 0, ..., 0, 0, 0],\n",
       "       [0, 0, 0, ..., 0, 0, 0]], dtype=int64)"
      ]
     },
     "execution_count": 53,
     "metadata": {},
     "output_type": "execute_result"
    }
   ],
   "source": [
    "# VECTORIZING NEW TEXT DATA\n",
    "new_text__data_features = vectorizer.transform(new_text_blobs)\n",
    "new_text__data_features = new_text__data_features.toarray()\n",
    "new_text__data_features"
   ]
  },
  {
   "cell_type": "code",
   "execution_count": 54,
   "metadata": {
    "collapsed": true
   },
   "outputs": [],
   "source": [
    "# PREDICT NEW TEXT DATA\n",
    "new_text_result = forest.predict(new_text__data_features)"
   ]
  },
  {
   "cell_type": "code",
   "execution_count": 55,
   "metadata": {
    "collapsed": false
   },
   "outputs": [
    {
     "data": {
      "text/plain": [
       "array(['Conservative', 'Conservative', 'Liberal', 'Liberal', 'Liberal',\n",
       "       'Liberal', 'Liberal', 'Liberal'], dtype=object)"
      ]
     },
     "execution_count": 55,
     "metadata": {},
     "output_type": "execute_result"
    }
   ],
   "source": [
    "new_text_result"
   ]
  },
  {
   "cell_type": "code",
   "execution_count": 56,
   "metadata": {
    "collapsed": false
   },
   "outputs": [
    {
     "data": {
      "text/plain": [
       "array([[ 0.47,  0.33,  0.2 ],\n",
       "       [ 0.38,  0.35,  0.27],\n",
       "       [ 0.37,  0.53,  0.1 ],\n",
       "       [ 0.27,  0.53,  0.2 ],\n",
       "       [ 0.28,  0.54,  0.18],\n",
       "       [ 0.34,  0.4 ,  0.26],\n",
       "       [ 0.33,  0.44,  0.23],\n",
       "       [ 0.28,  0.42,  0.3 ]])"
      ]
     },
     "execution_count": 56,
     "metadata": {},
     "output_type": "execute_result"
    }
   ],
   "source": [
    "new_text_predicted_probs = forest.predict_proba(new_text__data_features)\n",
    "new_text_predicted_probs"
   ]
  },
  {
   "cell_type": "markdown",
   "metadata": {},
   "source": [
    "<font color=\"navy\">\n",
    "## (8) Visualization\n",
    "Let's make a ranking.\n",
    "<br><br>\n",
    "+1 is very Blue\n",
    "<br>\n",
    "0 is Neutral\n",
    "<br>\n",
    "-1 is very Red\n",
    "<br>\n",
    "<br>\n",
    "Perhaps we can only use the first two columns and use that as a score."
   ]
  },
  {
   "cell_type": "code",
   "execution_count": 57,
   "metadata": {
    "collapsed": false
   },
   "outputs": [],
   "source": [
    "red = np.array([new_text_predicted_probs[x][0] for x in range(len(new_text_predicted_probs))])\n",
    "blue = np.array([new_text_predicted_probs[x][1] for x in range(len(new_text_predicted_probs))])"
   ]
  },
  {
   "cell_type": "code",
   "execution_count": 58,
   "metadata": {
    "collapsed": false
   },
   "outputs": [
    {
     "data": {
      "text/plain": [
       "array([-0.14, -0.03,  0.16,  0.26,  0.26,  0.06,  0.11,  0.14])"
      ]
     },
     "execution_count": 58,
     "metadata": {},
     "output_type": "execute_result"
    }
   ],
   "source": [
    "# new_text_ppl = [\"trump\", \"hitler\", \"matloff\", \"michaels_nyt\", \"reich\", \"silver\", \"lincoln\"]\n",
    "new_text_ppl = [\"trump\", \"hitler\", \"matloff\", \"michaels_nyt\", \"reich\", \"silver\", \"lincoln\", \"kuhn\"]\n",
    "blue-red"
   ]
  },
  {
   "cell_type": "code",
   "execution_count": 59,
   "metadata": {
    "collapsed": false
   },
   "outputs": [
    {
     "data": {
      "text/html": [
       "<div>\n",
       "<table border=\"1\" class=\"dataframe\">\n",
       "  <thead>\n",
       "    <tr style=\"text-align: right;\">\n",
       "      <th></th>\n",
       "      <th>person</th>\n",
       "      <th>score</th>\n",
       "    </tr>\n",
       "  </thead>\n",
       "  <tbody>\n",
       "    <tr>\n",
       "      <th>0</th>\n",
       "      <td>trump</td>\n",
       "      <td>-0.14</td>\n",
       "    </tr>\n",
       "    <tr>\n",
       "      <th>1</th>\n",
       "      <td>hitler</td>\n",
       "      <td>-0.03</td>\n",
       "    </tr>\n",
       "    <tr>\n",
       "      <th>2</th>\n",
       "      <td>matloff</td>\n",
       "      <td>0.16</td>\n",
       "    </tr>\n",
       "    <tr>\n",
       "      <th>3</th>\n",
       "      <td>michaels_nyt</td>\n",
       "      <td>0.26</td>\n",
       "    </tr>\n",
       "    <tr>\n",
       "      <th>4</th>\n",
       "      <td>reich</td>\n",
       "      <td>0.26</td>\n",
       "    </tr>\n",
       "    <tr>\n",
       "      <th>5</th>\n",
       "      <td>silver</td>\n",
       "      <td>0.06</td>\n",
       "    </tr>\n",
       "    <tr>\n",
       "      <th>6</th>\n",
       "      <td>lincoln</td>\n",
       "      <td>0.11</td>\n",
       "    </tr>\n",
       "    <tr>\n",
       "      <th>7</th>\n",
       "      <td>kuhn</td>\n",
       "      <td>0.14</td>\n",
       "    </tr>\n",
       "  </tbody>\n",
       "</table>\n",
       "</div>"
      ],
      "text/plain": [
       "         person  score\n",
       "0         trump  -0.14\n",
       "1        hitler  -0.03\n",
       "2       matloff   0.16\n",
       "3  michaels_nyt   0.26\n",
       "4         reich   0.26\n",
       "5        silver   0.06\n",
       "6       lincoln   0.11\n",
       "7          kuhn   0.14"
      ]
     },
     "execution_count": 59,
     "metadata": {},
     "output_type": "execute_result"
    }
   ],
   "source": [
    "pd.DataFrame({\"person\":new_text_ppl, \"score\":blue-red})"
   ]
  },
  {
   "cell_type": "code",
   "execution_count": 60,
   "metadata": {
    "collapsed": false
   },
   "outputs": [
    {
     "ename": "ImportError",
     "evalue": "No module named plotly",
     "output_type": "error",
     "traceback": [
      "\u001b[0;31m---------------------------------------------------------------------------\u001b[0m",
      "\u001b[0;31mImportError\u001b[0m                               Traceback (most recent call last)",
      "\u001b[0;32m<ipython-input-60-503c39d2833d>\u001b[0m in \u001b[0;36m<module>\u001b[0;34m()\u001b[0m\n\u001b[0;32m----> 1\u001b[0;31m \u001b[1;32mimport\u001b[0m \u001b[0mplotly\u001b[0m\u001b[1;33m\u001b[0m\u001b[0m\n\u001b[0m\u001b[1;32m      2\u001b[0m \u001b[1;32mimport\u001b[0m \u001b[0mplotly\u001b[0m\u001b[1;33m.\u001b[0m\u001b[0mplotly\u001b[0m \u001b[1;32mas\u001b[0m \u001b[0mpy\u001b[0m\u001b[1;33m\u001b[0m\u001b[0m\n\u001b[1;32m      3\u001b[0m \u001b[1;31m# plotly.tools.set_credentials_file(username=\"DEMO\", api_key=\"KEY\")\u001b[0m\u001b[1;33m\u001b[0m\u001b[1;33m\u001b[0m\u001b[0m\n",
      "\u001b[0;31mImportError\u001b[0m: No module named plotly"
     ]
    }
   ],
   "source": [
    "import plotly\n",
    "import plotly.plotly as py\n",
    "# plotly.tools.set_credentials_file(username=\"DEMO\", api_key=\"KEY\")"
   ]
  },
  {
   "cell_type": "code",
   "execution_count": null,
   "metadata": {
    "collapsed": false
   },
   "outputs": [],
   "source": [
    "import matplotlib.pyplot as plt\n",
    "\n",
    "x = blue-red\n",
    "y = [0, 0, 0, 0, 0, 0, 0]\n",
    "\n",
    "fig, ax = plt.subplots()\n",
    "ax.scatter(x, y, c=x, cmap=plt.cm.RdBu)\n",
    "\n",
    "ax.set_title(\"How Red or Blue Are They?\")\n",
    "ax.set_xlabel(\"Score\")\n",
    "\n",
    "for i in range(len(new_text)):\n",
    "    xy=(x[i],y[i])\n",
    "    plt.annotate(new_text_ppl[i], xy)\n",
    "\n",
    "plot_url = py.plot_mpl(fig, filename=\"how-red-how-blue\")"
   ]
  },
  {
   "cell_type": "code",
   "execution_count": 64,
   "metadata": {
    "collapsed": false
   },
   "outputs": [
    {
     "data": {
      "text/plain": [
       "[1, 2]"
      ]
     },
     "execution_count": 64,
     "metadata": {},
     "output_type": "execute_result"
    }
   ],
   "source": [
    "range(1, 3)"
   ]
  },
  {
   "cell_type": "code",
   "execution_count": 61,
   "metadata": {
    "collapsed": false
   },
   "outputs": [
    {
     "data": {
      "image/png": "[encoded data removed]",
      "text/plain": [
       "<matplotlib.figure.Figure at 0xe9250b8>"
      ]
     },
     "metadata": {},
     "output_type": "display_data"
    }
   ],
   "source": [
    "\"\"# USING MATPLOTLIB\n",
    "\n",
    "plt.rcParams['figure.figsize'] = (18, 6)\n",
    "\n",
    "x = blue - red\n",
    "y = [0, 0, 0, 0, 0, 0, 0, 0]\n",
    "colors = x\n",
    "\n",
    "plt.subplots_adjust(bottom = 0.1)\n",
    "plt.scatter(x, y, marker = \"o\", c=colors, cmap=plt.cm.seismic_r, s=500, alpha=0.5)\n",
    "\n",
    "for label, x, y in zip(new_text_ppl, x, y):\n",
    "    if label == \"hitler\":\n",
    "        xytext = (-20, 30)\n",
    "    if label == \"lincoln\":\n",
    "        xytext = (20, 20)\n",
    "    if (label != \"lincoln\") & (label != \"hitler\"):\n",
    "        xytext = (-20, 20)\n",
    "    plt.annotate(\n",
    "        label,\n",
    "        xy=(x, y), xytext=xytext,\n",
    "        textcoords='offset points', ha='right', va='bottom',\n",
    "        bbox=dict(boxstyle='round, pad=0.2', fc=\"white\", alpha=0.5),\n",
    "        arrowprops=dict(arrowstyle = '-', connectionstyle='arc3, rad=0'))\n",
    "\n",
    "plt.title(\"How Red or Blue Are They?\")\n",
    "plt.show()"
   ]
  },
  {
   "cell_type": "markdown",
   "metadata": {},
   "source": [
    "Sources\n",
    "<br>\n",
    "<ol>\n",
    "    <li><a href=\"#fn1\">http://www.journalism.org/2016/07/07/pathways-to-news/</a></li>\n",
    "    <li>http://www.people-press.org/2016/06/22/partisanship-and-political-animosity-in-2016/</li>\n",
    "</ol>"
   ]
  }
 ],
 "metadata": {
  "anaconda-cloud": {},
  "kernelspec": {
   "display_name": "Python [default]",
   "language": "python",
   "name": "python2"
  },
  "language_info": {
   "codemirror_mode": {
    "name": "ipython",
    "version": 2
   },
   "file_extension": ".py",
   "mimetype": "text/x-python",
   "name": "python",
   "nbconvert_exporter": "python",
   "pygments_lexer": "ipython2",
   "version": "2.7.12"
  }
 },
 "nbformat": 4,
 "nbformat_minor": 2
}
